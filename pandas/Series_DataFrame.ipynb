{
 "cells": [
  {
   "cell_type": "markdown",
   "id": "7e7ef2d6",
   "metadata": {},
   "source": [
    "# About Series"
   ]
  },
  {
   "cell_type": "code",
   "execution_count": 1,
   "id": "579f4540",
   "metadata": {
    "ExecuteTime": {
     "end_time": "2023-03-08T14:01:33.053281Z",
     "start_time": "2023-03-08T14:01:32.636270Z"
    }
   },
   "outputs": [],
   "source": [
    "import pandas as pd"
   ]
  },
  {
   "cell_type": "code",
   "execution_count": 3,
   "id": "87a89c5e",
   "metadata": {
    "ExecuteTime": {
     "end_time": "2023-03-08T14:02:41.271533Z",
     "start_time": "2023-03-08T14:02:41.256489Z"
    }
   },
   "outputs": [
    {
     "data": {
      "text/plain": [
       "0    1\n",
       "1    2\n",
       "2    3\n",
       "3    4\n",
       "4    5\n",
       "5    6\n",
       "6    7\n",
       "7    8\n",
       "8    9\n",
       "dtype: int64"
      ]
     },
     "execution_count": 3,
     "metadata": {},
     "output_type": "execute_result"
    }
   ],
   "source": [
    "ls1 = [1,2,3,4,5,6,7,8,9]\n",
    "\n",
    "sr1 = pd.Series(ls1)\n",
    "sr1"
   ]
  },
  {
   "cell_type": "code",
   "execution_count": 5,
   "id": "8d597cd5",
   "metadata": {
    "ExecuteTime": {
     "end_time": "2023-03-08T14:03:33.766782Z",
     "start_time": "2023-03-08T14:03:33.755779Z"
    }
   },
   "outputs": [
    {
     "data": {
      "text/plain": [
       "0        1\n",
       "1        2\n",
       "2        3\n",
       "3    Apple\n",
       "4     play\n",
       "5        6\n",
       "6        7\n",
       "7        8\n",
       "8        9\n",
       "dtype: object"
      ]
     },
     "execution_count": 5,
     "metadata": {},
     "output_type": "execute_result"
    }
   ],
   "source": [
    "ls2 = [1,2,3,'Apple','play',6,7,8,9]\n",
    "\n",
    "sr2 = pd.Series(ls2)\n",
    "sr2"
   ]
  },
  {
   "cell_type": "markdown",
   "id": "39f91aa9",
   "metadata": {},
   "source": [
    "## Series에 Name설정"
   ]
  },
  {
   "cell_type": "code",
   "execution_count": null,
   "id": "a2f45bc4",
   "metadata": {},
   "outputs": [],
   "source": [
    "import pandas as pd\n",
    "\n",
    "path = 'C:/Users/kangg/Google Drive/Project_Mine/(Infrun)강의제작/금융데이터 분석을 위한 판다스/Code/삼성전자 종가.csv'\n",
    "\n",
    "a = pd.read_csv(path, index_col = 0, squeeze = True, header = 0)\n",
    "\n",
    "a"
   ]
  }
 ],
 "metadata": {
  "hide_input": false,
  "kernelspec": {
   "display_name": "Python 3 (ipykernel)",
   "language": "python",
   "name": "python3"
  },
  "language_info": {
   "codemirror_mode": {
    "name": "ipython",
    "version": 3
   },
   "file_extension": ".py",
   "mimetype": "text/x-python",
   "name": "python",
   "nbconvert_exporter": "python",
   "pygments_lexer": "ipython3",
   "version": "3.9.13"
  },
  "toc": {
   "base_numbering": 1,
   "nav_menu": {},
   "number_sections": true,
   "sideBar": true,
   "skip_h1_title": false,
   "title_cell": "Table of Contents",
   "title_sidebar": "Contents",
   "toc_cell": false,
   "toc_position": {},
   "toc_section_display": true,
   "toc_window_display": true
  },
  "varInspector": {
   "cols": {
    "lenName": 16,
    "lenType": 16,
    "lenVar": 40
   },
   "kernels_config": {
    "python": {
     "delete_cmd_postfix": "",
     "delete_cmd_prefix": "del ",
     "library": "var_list.py",
     "varRefreshCmd": "print(var_dic_list())"
    },
    "r": {
     "delete_cmd_postfix": ") ",
     "delete_cmd_prefix": "rm(",
     "library": "var_list.r",
     "varRefreshCmd": "cat(var_dic_list()) "
    }
   },
   "types_to_exclude": [
    "module",
    "function",
    "builtin_function_or_method",
    "instance",
    "_Feature"
   ],
   "window_display": false
  }
 },
 "nbformat": 4,
 "nbformat_minor": 5
}
