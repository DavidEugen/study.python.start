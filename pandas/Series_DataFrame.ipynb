{
 "cells": [
  {
   "cell_type": "markdown",
   "id": "7e7ef2d6",
   "metadata": {},
   "source": [
    "# About Series"
   ]
  },
  {
   "cell_type": "code",
   "execution_count": 1,
   "id": "579f4540",
   "metadata": {
    "ExecuteTime": {
     "end_time": "2023-03-08T14:01:33.053281Z",
     "start_time": "2023-03-08T14:01:32.636270Z"
    }
   },
   "outputs": [],
   "source": [
    "import pandas as pd"
   ]
  },
  {
   "cell_type": "code",
   "execution_count": null,
   "id": "bb9e86ce",
   "metadata": {
    "ExecuteTime": {
     "end_time": "2023-03-08T14:02:41.271533Z",
     "start_time": "2023-03-08T14:02:41.256489Z"
    }
   },
   "outputs": [],
   "source": [
    "ls1 = [1,2,3,4,5,6,7,8,9]\n",
    "\n",
    "sr1 = pd.Series(ls1)\n",
    "sr1"
   ]
  },
  {
   "cell_type": "code",
   "execution_count": 5,
   "id": "8d597cd5",
   "metadata": {
    "ExecuteTime": {
     "end_time": "2023-03-08T14:03:33.766782Z",
     "start_time": "2023-03-08T14:03:33.755779Z"
    }
   },
   "outputs": [
    {
     "data": {
      "text/plain": [
       "0        1\n",
       "1        2\n",
       "2        3\n",
       "3    Apple\n",
       "4     play\n",
       "5        6\n",
       "6        7\n",
       "7        8\n",
       "8        9\n",
       "dtype: object"
      ]
     },
     "execution_count": 5,
     "metadata": {},
     "output_type": "execute_result"
    }
   ],
   "source": [
    "ls2 = [1,2,3,'Apple','play',6,7,8,9]\n",
    "\n",
    "sr2 = pd.Series(ls2)\n",
    "sr2"
   ]
  },
  {
   "cell_type": "markdown",
   "id": "39f91aa9",
   "metadata": {},
   "source": [
    "## Series에 Name설정"
   ]
  },
  {
   "cell_type": "code",
   "execution_count": 47,
   "id": "05f586f3",
   "metadata": {
    "ExecuteTime": {
     "end_time": "2023-03-08T16:20:56.231110Z",
     "start_time": "2023-03-08T16:20:56.224129Z"
    }
   },
   "outputs": [],
   "source": [
    "import pandas as pd"
   ]
  },
  {
   "cell_type": "code",
   "execution_count": 49,
   "id": "a2f45bc4",
   "metadata": {
    "ExecuteTime": {
     "end_time": "2023-03-08T16:22:20.239102Z",
     "start_time": "2023-03-08T16:22:20.191915Z"
    }
   },
   "outputs": [
    {
     "data": {
      "text/html": [
       "<div>\n",
       "<style scoped>\n",
       "    .dataframe tbody tr th:only-of-type {\n",
       "        vertical-align: middle;\n",
       "    }\n",
       "\n",
       "    .dataframe tbody tr th {\n",
       "        vertical-align: top;\n",
       "    }\n",
       "\n",
       "    .dataframe thead th {\n",
       "        text-align: right;\n",
       "    }\n",
       "</style>\n",
       "<table border=\"1\" class=\"dataframe\">\n",
       "  <thead>\n",
       "    <tr style=\"text-align: right;\">\n",
       "      <th></th>\n",
       "      <th>Close</th>\n",
       "    </tr>\n",
       "    <tr>\n",
       "      <th>Date</th>\n",
       "      <th></th>\n",
       "    </tr>\n",
       "  </thead>\n",
       "  <tbody>\n",
       "    <tr>\n",
       "      <th>2018-01-02</th>\n",
       "      <td>51020</td>\n",
       "    </tr>\n",
       "    <tr>\n",
       "      <th>2018-01-03</th>\n",
       "      <td>51620</td>\n",
       "    </tr>\n",
       "    <tr>\n",
       "      <th>2018-01-04</th>\n",
       "      <td>51080</td>\n",
       "    </tr>\n",
       "    <tr>\n",
       "      <th>2018-01-05</th>\n",
       "      <td>52120</td>\n",
       "    </tr>\n",
       "    <tr>\n",
       "      <th>2018-01-08</th>\n",
       "      <td>52020</td>\n",
       "    </tr>\n",
       "    <tr>\n",
       "      <th>...</th>\n",
       "      <td>...</td>\n",
       "    </tr>\n",
       "    <tr>\n",
       "      <th>2021-12-13</th>\n",
       "      <td>76800</td>\n",
       "    </tr>\n",
       "    <tr>\n",
       "      <th>2021-12-14</th>\n",
       "      <td>77000</td>\n",
       "    </tr>\n",
       "    <tr>\n",
       "      <th>2021-12-15</th>\n",
       "      <td>77600</td>\n",
       "    </tr>\n",
       "    <tr>\n",
       "      <th>2021-12-16</th>\n",
       "      <td>77800</td>\n",
       "    </tr>\n",
       "    <tr>\n",
       "      <th>2021-12-17</th>\n",
       "      <td>78000</td>\n",
       "    </tr>\n",
       "  </tbody>\n",
       "</table>\n",
       "<p>977 rows × 1 columns</p>\n",
       "</div>"
      ],
      "text/plain": [
       "            Close\n",
       "Date             \n",
       "2018-01-02  51020\n",
       "2018-01-03  51620\n",
       "2018-01-04  51080\n",
       "2018-01-05  52120\n",
       "2018-01-08  52020\n",
       "...           ...\n",
       "2021-12-13  76800\n",
       "2021-12-14  77000\n",
       "2021-12-15  77600\n",
       "2021-12-16  77800\n",
       "2021-12-17  78000\n",
       "\n",
       "[977 rows x 1 columns]"
      ]
     },
     "execution_count": 49,
     "metadata": {},
     "output_type": "execute_result"
    }
   ],
   "source": [
    "\n",
    "path = 'C:/Users/proyj/workspace/python/pandas/삼성전자 종가.csv'\n",
    "\n",
    "seriess = pd.read_csv(path, index_col = 0, header = 0)\n",
    "seriess\n",
    "\n",
    "\n"
   ]
  },
  {
   "cell_type": "markdown",
   "id": "533e180e",
   "metadata": {},
   "source": [
    "```squeeze = True``` 추가 하지 않으면 DataFrame이 된다."
   ]
  },
  {
   "cell_type": "code",
   "execution_count": 50,
   "id": "f967f353",
   "metadata": {
    "ExecuteTime": {
     "end_time": "2023-03-08T16:23:09.227795Z",
     "start_time": "2023-03-08T16:23:09.199867Z"
    }
   },
   "outputs": [
    {
     "name": "stderr",
     "output_type": "stream",
     "text": [
      "C:\\Users\\proyj\\AppData\\Local\\Temp\\ipykernel_15960\\1169558850.py:1: FutureWarning: The squeeze argument has been deprecated and will be removed in a future version. Append .squeeze(\"columns\") to the call to squeeze.\n",
      "\n",
      "\n",
      "  a = pd.read_csv(path, index_col = 0, squeeze = True, header = 0)\n"
     ]
    },
    {
     "data": {
      "text/plain": [
       "Date\n",
       "2018-01-02    51020\n",
       "2018-01-03    51620\n",
       "2018-01-04    51080\n",
       "2018-01-05    52120\n",
       "2018-01-08    52020\n",
       "              ...  \n",
       "2021-12-13    76800\n",
       "2021-12-14    77000\n",
       "2021-12-15    77600\n",
       "2021-12-16    77800\n",
       "2021-12-17    78000\n",
       "Name: Close, Length: 977, dtype: int64"
      ]
     },
     "execution_count": 50,
     "metadata": {},
     "output_type": "execute_result"
    }
   ],
   "source": [
    "a = pd.read_csv(path, index_col = 0, squeeze = True, header = 0)\n",
    "\n",
    "a"
   ]
  },
  {
   "cell_type": "code",
   "execution_count": 13,
   "id": "af292f4c",
   "metadata": {
    "ExecuteTime": {
     "end_time": "2023-03-08T15:51:32.758197Z",
     "start_time": "2023-03-08T15:51:32.736256Z"
    }
   },
   "outputs": [
    {
     "data": {
      "text/plain": [
       "True"
      ]
     },
     "execution_count": 13,
     "metadata": {},
     "output_type": "execute_result"
    }
   ],
   "source": [
    "# Series의 index 포함 여부 확인\n",
    "'2018-01-02' in samsung_series.index"
   ]
  },
  {
   "cell_type": "code",
   "execution_count": 11,
   "id": "b5de55cf",
   "metadata": {
    "ExecuteTime": {
     "end_time": "2023-03-08T15:51:20.053244Z",
     "start_time": "2023-03-08T15:51:20.040279Z"
    }
   },
   "outputs": [
    {
     "data": {
      "text/plain": [
       "Index(['2018-01-02', '2018-01-03', '2018-01-04', '2018-01-05', '2018-01-08',\n",
       "       '2018-01-09', '2018-01-10', '2018-01-11', '2018-01-12', '2018-01-15',\n",
       "       ...\n",
       "       '2021-12-06', '2021-12-07', '2021-12-08', '2021-12-09', '2021-12-10',\n",
       "       '2021-12-13', '2021-12-14', '2021-12-15', '2021-12-16', '2021-12-17'],\n",
       "      dtype='object', name='Date', length=977)"
      ]
     },
     "execution_count": 11,
     "metadata": {},
     "output_type": "execute_result"
    }
   ],
   "source": [
    "samsung_series = a\n",
    "\n",
    "# Series의 index들 얻기\n",
    "samsung_series.index\n"
   ]
  },
  {
   "cell_type": "code",
   "execution_count": 14,
   "id": "6386dbef",
   "metadata": {
    "ExecuteTime": {
     "end_time": "2023-03-08T15:53:03.877001Z",
     "start_time": "2023-03-08T15:53:03.867993Z"
    }
   },
   "outputs": [
    {
     "data": {
      "text/plain": [
       "False"
      ]
     },
     "execution_count": 14,
     "metadata": {},
     "output_type": "execute_result"
    }
   ],
   "source": [
    "# Series의 index 포함 여부 확인\n",
    "'2018-01-01' in samsung_series.index"
   ]
  },
  {
   "cell_type": "code",
   "execution_count": 13,
   "id": "a89ea115",
   "metadata": {
    "ExecuteTime": {
     "end_time": "2023-03-08T15:51:32.758197Z",
     "start_time": "2023-03-08T15:51:32.736256Z"
    }
   },
   "outputs": [
    {
     "data": {
      "text/plain": [
       "True"
      ]
     },
     "execution_count": 13,
     "metadata": {},
     "output_type": "execute_result"
    }
   ],
   "source": [
    "# Series의 index 포함 여부 확인\n",
    "'2018-01-02' in samsung_series.index"
   ]
  },
  {
   "cell_type": "markdown",
   "id": "f5269373",
   "metadata": {},
   "source": [
    "## Series에서 찾기"
   ]
  },
  {
   "cell_type": "markdown",
   "id": "d13745ff",
   "metadata": {},
   "source": [
    "### 값으로 찾기"
   ]
  },
  {
   "cell_type": "code",
   "execution_count": 25,
   "id": "f9edb4b0",
   "metadata": {
    "ExecuteTime": {
     "end_time": "2023-03-08T15:59:38.118031Z",
     "start_time": "2023-03-08T15:59:38.074180Z"
    }
   },
   "outputs": [
    {
     "ename": "KeyError",
     "evalue": "'2018-01-01'",
     "output_type": "error",
     "traceback": [
      "\u001b[1;31m---------------------------------------------------------------------------\u001b[0m",
      "\u001b[1;31mKeyError\u001b[0m                                  Traceback (most recent call last)",
      "\u001b[1;32m~\\anaconda3\\lib\\site-packages\\pandas\\core\\indexes\\base.py\u001b[0m in \u001b[0;36mget_loc\u001b[1;34m(self, key, method, tolerance)\u001b[0m\n\u001b[0;32m   3628\u001b[0m             \u001b[1;32mtry\u001b[0m\u001b[1;33m:\u001b[0m\u001b[1;33m\u001b[0m\u001b[1;33m\u001b[0m\u001b[0m\n\u001b[1;32m-> 3629\u001b[1;33m                 \u001b[1;32mreturn\u001b[0m \u001b[0mself\u001b[0m\u001b[1;33m.\u001b[0m\u001b[0m_engine\u001b[0m\u001b[1;33m.\u001b[0m\u001b[0mget_loc\u001b[0m\u001b[1;33m(\u001b[0m\u001b[0mcasted_key\u001b[0m\u001b[1;33m)\u001b[0m\u001b[1;33m\u001b[0m\u001b[1;33m\u001b[0m\u001b[0m\n\u001b[0m\u001b[0;32m   3630\u001b[0m             \u001b[1;32mexcept\u001b[0m \u001b[0mKeyError\u001b[0m \u001b[1;32mas\u001b[0m \u001b[0merr\u001b[0m\u001b[1;33m:\u001b[0m\u001b[1;33m\u001b[0m\u001b[1;33m\u001b[0m\u001b[0m\n",
      "\u001b[1;32m~\\anaconda3\\lib\\site-packages\\pandas\\_libs\\index.pyx\u001b[0m in \u001b[0;36mpandas._libs.index.IndexEngine.get_loc\u001b[1;34m()\u001b[0m\n",
      "\u001b[1;32m~\\anaconda3\\lib\\site-packages\\pandas\\_libs\\index.pyx\u001b[0m in \u001b[0;36mpandas._libs.index.IndexEngine.get_loc\u001b[1;34m()\u001b[0m\n",
      "\u001b[1;32mpandas\\_libs\\hashtable_class_helper.pxi\u001b[0m in \u001b[0;36mpandas._libs.hashtable.PyObjectHashTable.get_item\u001b[1;34m()\u001b[0m\n",
      "\u001b[1;32mpandas\\_libs\\hashtable_class_helper.pxi\u001b[0m in \u001b[0;36mpandas._libs.hashtable.PyObjectHashTable.get_item\u001b[1;34m()\u001b[0m\n",
      "\u001b[1;31mKeyError\u001b[0m: '2018-01-01'",
      "\nThe above exception was the direct cause of the following exception:\n",
      "\u001b[1;31mKeyError\u001b[0m                                  Traceback (most recent call last)",
      "\u001b[1;32m~\\AppData\\Local\\Temp\\ipykernel_15960\\1465970948.py\u001b[0m in \u001b[0;36m<module>\u001b[1;34m\u001b[0m\n\u001b[0;32m      1\u001b[0m \u001b[1;31m# 값으로 찾기\u001b[0m\u001b[1;33m\u001b[0m\u001b[1;33m\u001b[0m\u001b[0m\n\u001b[1;32m----> 2\u001b[1;33m \u001b[0msamsung_series\u001b[0m\u001b[1;33m.\u001b[0m\u001b[0mloc\u001b[0m\u001b[1;33m[\u001b[0m\u001b[1;34m'2018-01-01'\u001b[0m\u001b[1;33m]\u001b[0m\u001b[1;33m\u001b[0m\u001b[1;33m\u001b[0m\u001b[0m\n\u001b[0m",
      "\u001b[1;32m~\\anaconda3\\lib\\site-packages\\pandas\\core\\indexing.py\u001b[0m in \u001b[0;36m__getitem__\u001b[1;34m(self, key)\u001b[0m\n\u001b[0;32m    965\u001b[0m \u001b[1;33m\u001b[0m\u001b[0m\n\u001b[0;32m    966\u001b[0m             \u001b[0mmaybe_callable\u001b[0m \u001b[1;33m=\u001b[0m \u001b[0mcom\u001b[0m\u001b[1;33m.\u001b[0m\u001b[0mapply_if_callable\u001b[0m\u001b[1;33m(\u001b[0m\u001b[0mkey\u001b[0m\u001b[1;33m,\u001b[0m \u001b[0mself\u001b[0m\u001b[1;33m.\u001b[0m\u001b[0mobj\u001b[0m\u001b[1;33m)\u001b[0m\u001b[1;33m\u001b[0m\u001b[1;33m\u001b[0m\u001b[0m\n\u001b[1;32m--> 967\u001b[1;33m             \u001b[1;32mreturn\u001b[0m \u001b[0mself\u001b[0m\u001b[1;33m.\u001b[0m\u001b[0m_getitem_axis\u001b[0m\u001b[1;33m(\u001b[0m\u001b[0mmaybe_callable\u001b[0m\u001b[1;33m,\u001b[0m \u001b[0maxis\u001b[0m\u001b[1;33m=\u001b[0m\u001b[0maxis\u001b[0m\u001b[1;33m)\u001b[0m\u001b[1;33m\u001b[0m\u001b[1;33m\u001b[0m\u001b[0m\n\u001b[0m\u001b[0;32m    968\u001b[0m \u001b[1;33m\u001b[0m\u001b[0m\n\u001b[0;32m    969\u001b[0m     \u001b[1;32mdef\u001b[0m \u001b[0m_is_scalar_access\u001b[0m\u001b[1;33m(\u001b[0m\u001b[0mself\u001b[0m\u001b[1;33m,\u001b[0m \u001b[0mkey\u001b[0m\u001b[1;33m:\u001b[0m \u001b[0mtuple\u001b[0m\u001b[1;33m)\u001b[0m\u001b[1;33m:\u001b[0m\u001b[1;33m\u001b[0m\u001b[1;33m\u001b[0m\u001b[0m\n",
      "\u001b[1;32m~\\anaconda3\\lib\\site-packages\\pandas\\core\\indexing.py\u001b[0m in \u001b[0;36m_getitem_axis\u001b[1;34m(self, key, axis)\u001b[0m\n\u001b[0;32m   1203\u001b[0m         \u001b[1;31m# fall thru to straight lookup\u001b[0m\u001b[1;33m\u001b[0m\u001b[1;33m\u001b[0m\u001b[0m\n\u001b[0;32m   1204\u001b[0m         \u001b[0mself\u001b[0m\u001b[1;33m.\u001b[0m\u001b[0m_validate_key\u001b[0m\u001b[1;33m(\u001b[0m\u001b[0mkey\u001b[0m\u001b[1;33m,\u001b[0m \u001b[0maxis\u001b[0m\u001b[1;33m)\u001b[0m\u001b[1;33m\u001b[0m\u001b[1;33m\u001b[0m\u001b[0m\n\u001b[1;32m-> 1205\u001b[1;33m         \u001b[1;32mreturn\u001b[0m \u001b[0mself\u001b[0m\u001b[1;33m.\u001b[0m\u001b[0m_get_label\u001b[0m\u001b[1;33m(\u001b[0m\u001b[0mkey\u001b[0m\u001b[1;33m,\u001b[0m \u001b[0maxis\u001b[0m\u001b[1;33m=\u001b[0m\u001b[0maxis\u001b[0m\u001b[1;33m)\u001b[0m\u001b[1;33m\u001b[0m\u001b[1;33m\u001b[0m\u001b[0m\n\u001b[0m\u001b[0;32m   1206\u001b[0m \u001b[1;33m\u001b[0m\u001b[0m\n\u001b[0;32m   1207\u001b[0m     \u001b[1;32mdef\u001b[0m \u001b[0m_get_slice_axis\u001b[0m\u001b[1;33m(\u001b[0m\u001b[0mself\u001b[0m\u001b[1;33m,\u001b[0m \u001b[0mslice_obj\u001b[0m\u001b[1;33m:\u001b[0m \u001b[0mslice\u001b[0m\u001b[1;33m,\u001b[0m \u001b[0maxis\u001b[0m\u001b[1;33m:\u001b[0m \u001b[0mint\u001b[0m\u001b[1;33m)\u001b[0m\u001b[1;33m:\u001b[0m\u001b[1;33m\u001b[0m\u001b[1;33m\u001b[0m\u001b[0m\n",
      "\u001b[1;32m~\\anaconda3\\lib\\site-packages\\pandas\\core\\indexing.py\u001b[0m in \u001b[0;36m_get_label\u001b[1;34m(self, label, axis)\u001b[0m\n\u001b[0;32m   1151\u001b[0m     \u001b[1;32mdef\u001b[0m \u001b[0m_get_label\u001b[0m\u001b[1;33m(\u001b[0m\u001b[0mself\u001b[0m\u001b[1;33m,\u001b[0m \u001b[0mlabel\u001b[0m\u001b[1;33m,\u001b[0m \u001b[0maxis\u001b[0m\u001b[1;33m:\u001b[0m \u001b[0mint\u001b[0m\u001b[1;33m)\u001b[0m\u001b[1;33m:\u001b[0m\u001b[1;33m\u001b[0m\u001b[1;33m\u001b[0m\u001b[0m\n\u001b[0;32m   1152\u001b[0m         \u001b[1;31m# GH#5667 this will fail if the label is not present in the axis.\u001b[0m\u001b[1;33m\u001b[0m\u001b[1;33m\u001b[0m\u001b[0m\n\u001b[1;32m-> 1153\u001b[1;33m         \u001b[1;32mreturn\u001b[0m \u001b[0mself\u001b[0m\u001b[1;33m.\u001b[0m\u001b[0mobj\u001b[0m\u001b[1;33m.\u001b[0m\u001b[0mxs\u001b[0m\u001b[1;33m(\u001b[0m\u001b[0mlabel\u001b[0m\u001b[1;33m,\u001b[0m \u001b[0maxis\u001b[0m\u001b[1;33m=\u001b[0m\u001b[0maxis\u001b[0m\u001b[1;33m)\u001b[0m\u001b[1;33m\u001b[0m\u001b[1;33m\u001b[0m\u001b[0m\n\u001b[0m\u001b[0;32m   1154\u001b[0m \u001b[1;33m\u001b[0m\u001b[0m\n\u001b[0;32m   1155\u001b[0m     \u001b[1;32mdef\u001b[0m \u001b[0m_handle_lowerdim_multi_index_axis0\u001b[0m\u001b[1;33m(\u001b[0m\u001b[0mself\u001b[0m\u001b[1;33m,\u001b[0m \u001b[0mtup\u001b[0m\u001b[1;33m:\u001b[0m \u001b[0mtuple\u001b[0m\u001b[1;33m)\u001b[0m\u001b[1;33m:\u001b[0m\u001b[1;33m\u001b[0m\u001b[1;33m\u001b[0m\u001b[0m\n",
      "\u001b[1;32m~\\anaconda3\\lib\\site-packages\\pandas\\core\\generic.py\u001b[0m in \u001b[0;36mxs\u001b[1;34m(self, key, axis, level, drop_level)\u001b[0m\n\u001b[0;32m   3862\u001b[0m                     \u001b[0mnew_index\u001b[0m \u001b[1;33m=\u001b[0m \u001b[0mindex\u001b[0m\u001b[1;33m[\u001b[0m\u001b[0mloc\u001b[0m\u001b[1;33m]\u001b[0m\u001b[1;33m\u001b[0m\u001b[1;33m\u001b[0m\u001b[0m\n\u001b[0;32m   3863\u001b[0m         \u001b[1;32melse\u001b[0m\u001b[1;33m:\u001b[0m\u001b[1;33m\u001b[0m\u001b[1;33m\u001b[0m\u001b[0m\n\u001b[1;32m-> 3864\u001b[1;33m             \u001b[0mloc\u001b[0m \u001b[1;33m=\u001b[0m \u001b[0mindex\u001b[0m\u001b[1;33m.\u001b[0m\u001b[0mget_loc\u001b[0m\u001b[1;33m(\u001b[0m\u001b[0mkey\u001b[0m\u001b[1;33m)\u001b[0m\u001b[1;33m\u001b[0m\u001b[1;33m\u001b[0m\u001b[0m\n\u001b[0m\u001b[0;32m   3865\u001b[0m \u001b[1;33m\u001b[0m\u001b[0m\n\u001b[0;32m   3866\u001b[0m             \u001b[1;32mif\u001b[0m \u001b[0misinstance\u001b[0m\u001b[1;33m(\u001b[0m\u001b[0mloc\u001b[0m\u001b[1;33m,\u001b[0m \u001b[0mnp\u001b[0m\u001b[1;33m.\u001b[0m\u001b[0mndarray\u001b[0m\u001b[1;33m)\u001b[0m\u001b[1;33m:\u001b[0m\u001b[1;33m\u001b[0m\u001b[1;33m\u001b[0m\u001b[0m\n",
      "\u001b[1;32m~\\anaconda3\\lib\\site-packages\\pandas\\core\\indexes\\base.py\u001b[0m in \u001b[0;36mget_loc\u001b[1;34m(self, key, method, tolerance)\u001b[0m\n\u001b[0;32m   3629\u001b[0m                 \u001b[1;32mreturn\u001b[0m \u001b[0mself\u001b[0m\u001b[1;33m.\u001b[0m\u001b[0m_engine\u001b[0m\u001b[1;33m.\u001b[0m\u001b[0mget_loc\u001b[0m\u001b[1;33m(\u001b[0m\u001b[0mcasted_key\u001b[0m\u001b[1;33m)\u001b[0m\u001b[1;33m\u001b[0m\u001b[1;33m\u001b[0m\u001b[0m\n\u001b[0;32m   3630\u001b[0m             \u001b[1;32mexcept\u001b[0m \u001b[0mKeyError\u001b[0m \u001b[1;32mas\u001b[0m \u001b[0merr\u001b[0m\u001b[1;33m:\u001b[0m\u001b[1;33m\u001b[0m\u001b[1;33m\u001b[0m\u001b[0m\n\u001b[1;32m-> 3631\u001b[1;33m                 \u001b[1;32mraise\u001b[0m \u001b[0mKeyError\u001b[0m\u001b[1;33m(\u001b[0m\u001b[0mkey\u001b[0m\u001b[1;33m)\u001b[0m \u001b[1;32mfrom\u001b[0m \u001b[0merr\u001b[0m\u001b[1;33m\u001b[0m\u001b[1;33m\u001b[0m\u001b[0m\n\u001b[0m\u001b[0;32m   3632\u001b[0m             \u001b[1;32mexcept\u001b[0m \u001b[0mTypeError\u001b[0m\u001b[1;33m:\u001b[0m\u001b[1;33m\u001b[0m\u001b[1;33m\u001b[0m\u001b[0m\n\u001b[0;32m   3633\u001b[0m                 \u001b[1;31m# If we have a listlike key, _check_indexing_error will raise\u001b[0m\u001b[1;33m\u001b[0m\u001b[1;33m\u001b[0m\u001b[0m\n",
      "\u001b[1;31mKeyError\u001b[0m: '2018-01-01'"
     ]
    }
   ],
   "source": [
    "# 값으로 찾기\n",
    "samsung_series.loc['2018-01-01']"
   ]
  },
  {
   "cell_type": "code",
   "execution_count": 17,
   "id": "85e30f74",
   "metadata": {
    "ExecuteTime": {
     "end_time": "2023-03-08T15:54:40.376738Z",
     "start_time": "2023-03-08T15:54:40.368782Z"
    },
    "scrolled": true
   },
   "outputs": [
    {
     "data": {
      "text/plain": [
       "51020"
      ]
     },
     "execution_count": 17,
     "metadata": {},
     "output_type": "execute_result"
    }
   ],
   "source": [
    "samsung_series.loc['2018-01-02']"
   ]
  },
  {
   "cell_type": "code",
   "execution_count": 24,
   "id": "39d1e7d9",
   "metadata": {
    "ExecuteTime": {
     "end_time": "2023-03-08T15:59:14.451892Z",
     "start_time": "2023-03-08T15:59:14.434943Z"
    }
   },
   "outputs": [
    {
     "name": "stdout",
     "output_type": "stream",
     "text": [
      "찾는 값이 없습니다.\n"
     ]
    }
   ],
   "source": [
    "# 예제\n",
    "\n",
    "date = '2018-01-01'\n",
    "if date in samsung_series.index:\n",
    "    print(samsung_series.loc[date])\n",
    "else:\n",
    "    print('찾는 값이 없습니다.')\n",
    "        "
   ]
  },
  {
   "cell_type": "markdown",
   "id": "5855820d",
   "metadata": {},
   "source": [
    "### 인덱스로 찾기"
   ]
  },
  {
   "cell_type": "code",
   "execution_count": 23,
   "id": "1e05223f",
   "metadata": {
    "ExecuteTime": {
     "end_time": "2023-03-08T15:58:24.035427Z",
     "start_time": "2023-03-08T15:58:24.015480Z"
    }
   },
   "outputs": [
    {
     "data": {
      "text/plain": [
       "51020"
      ]
     },
     "execution_count": 23,
     "metadata": {},
     "output_type": "execute_result"
    }
   ],
   "source": [
    "#index로 찾기\n",
    "samsung_series.iloc[0]"
   ]
  },
  {
   "cell_type": "markdown",
   "id": "3559dcc6",
   "metadata": {},
   "source": [
    "## Series의 크기"
   ]
  },
  {
   "cell_type": "markdown",
   "id": "ee69352c",
   "metadata": {},
   "source": [
    "***samsung_series.shape***"
   ]
  },
  {
   "cell_type": "code",
   "execution_count": 27,
   "id": "ce3b7eb4",
   "metadata": {
    "ExecuteTime": {
     "end_time": "2023-03-08T16:08:07.092904Z",
     "start_time": "2023-03-08T16:08:07.073980Z"
    }
   },
   "outputs": [
    {
     "data": {
      "text/plain": [
       "(977,)"
      ]
     },
     "execution_count": 27,
     "metadata": {},
     "output_type": "execute_result"
    }
   ],
   "source": [
    "samsung_series.shape"
   ]
  },
  {
   "cell_type": "markdown",
   "id": "19301cf7",
   "metadata": {},
   "source": [
    "그런데 형태가 좀 이상하다.."
   ]
  },
  {
   "cell_type": "code",
   "execution_count": 28,
   "id": "7829500e",
   "metadata": {
    "ExecuteTime": {
     "end_time": "2023-03-08T16:08:20.932905Z",
     "start_time": "2023-03-08T16:08:20.925922Z"
    }
   },
   "outputs": [
    {
     "data": {
      "text/plain": [
       "tuple"
      ]
     },
     "execution_count": 28,
     "metadata": {},
     "output_type": "execute_result"
    }
   ],
   "source": [
    "type(samsung_series.shape)"
   ]
  },
  {
   "cell_type": "markdown",
   "id": "2a054171",
   "metadata": {
    "ExecuteTime": {
     "end_time": "2023-03-08T16:09:06.550735Z",
     "start_time": "2023-03-08T16:09:06.529816Z"
    }
   },
   "source": [
    "마지막 인덱스 구하는 방법"
   ]
  },
  {
   "cell_type": "code",
   "execution_count": 29,
   "id": "f7097930",
   "metadata": {
    "ExecuteTime": {
     "end_time": "2023-03-08T16:08:44.386850Z",
     "start_time": "2023-03-08T16:08:44.369862Z"
    }
   },
   "outputs": [
    {
     "data": {
      "text/plain": [
       "976"
      ]
     },
     "execution_count": 29,
     "metadata": {},
     "output_type": "execute_result"
    }
   ],
   "source": [
    "samsung_series.shape[0]-1"
   ]
  },
  {
   "cell_type": "markdown",
   "id": "357b570b",
   "metadata": {},
   "source": [
    "다음 3가지로 쓴다  \n",
    "series.['2018-01-01'] (가능은 하지만 아래와 같이 명시적으로 써 주는게 좋다)  \n",
    "series.log['2018-01-01']   \n",
    "series.ilog[1]\n"
   ]
  },
  {
   "cell_type": "code",
   "execution_count": 34,
   "id": "3e68e294",
   "metadata": {
    "ExecuteTime": {
     "end_time": "2023-03-08T16:13:44.811447Z",
     "start_time": "2023-03-08T16:13:44.789188Z"
    }
   },
   "outputs": [
    {
     "data": {
      "text/plain": [
       "Date\n",
       "2018-01-02        0\n",
       "2018-01-03    51620\n",
       "2018-01-04    51080\n",
       "2018-01-05    52120\n",
       "2018-01-08    52020\n",
       "              ...  \n",
       "2021-12-13    76800\n",
       "2021-12-14    77000\n",
       "2021-12-15    77600\n",
       "2021-12-16    77800\n",
       "2021-12-17    78000\n",
       "Name: Close, Length: 977, dtype: int64"
      ]
     },
     "execution_count": 34,
     "metadata": {},
     "output_type": "execute_result"
    }
   ],
   "source": [
    "# 값 변경\n",
    "samsung_series.loc['2018-01-02'] = 0\n",
    "samsung_series"
   ]
  },
  {
   "cell_type": "code",
   "execution_count": 37,
   "id": "e6021bfa",
   "metadata": {
    "ExecuteTime": {
     "end_time": "2023-03-08T16:16:50.233686Z",
     "start_time": "2023-03-08T16:16:50.212709Z"
    }
   },
   "outputs": [
    {
     "ename": "SyntaxError",
     "evalue": "cannot assign to function call (773930455.py, line 2)",
     "output_type": "error",
     "traceback": [
      "\u001b[1;36m  File \u001b[1;32m\"C:\\Users\\proyj\\AppData\\Local\\Temp\\ipykernel_15960\\773930455.py\"\u001b[1;36m, line \u001b[1;32m2\u001b[0m\n\u001b[1;33m    samsung_series.iloc(samsung_series.shape[0]) = 77100\u001b[0m\n\u001b[1;37m    ^\u001b[0m\n\u001b[1;31mSyntaxError\u001b[0m\u001b[1;31m:\u001b[0m cannot assign to function call\n"
     ]
    }
   ],
   "source": [
    "## 값 추가\n",
    "samsung_series.iloc(samsung_series.shape[0]) = 77100"
   ]
  },
  {
   "cell_type": "code",
   "execution_count": 40,
   "id": "b9c8e732",
   "metadata": {
    "ExecuteTime": {
     "end_time": "2023-03-08T16:17:26.714551Z",
     "start_time": "2023-03-08T16:17:26.705575Z"
    }
   },
   "outputs": [
    {
     "data": {
      "text/plain": [
       "Date\n",
       "2018-01-02        0\n",
       "2018-01-03    51620\n",
       "2018-01-04    51080\n",
       "2018-01-05    52120\n",
       "2018-01-08    52020\n",
       "              ...  \n",
       "2021-12-14    77000\n",
       "2021-12-15    77600\n",
       "2021-12-16    77800\n",
       "2021-12-17    78000\n",
       "2021-12-18    77100\n",
       "Name: Close, Length: 978, dtype: int64"
      ]
     },
     "execution_count": 40,
     "metadata": {},
     "output_type": "execute_result"
    }
   ],
   "source": [
    "## 값 추가\n",
    "samsung_series['2021-12-18'] = 77100\n",
    "samsung_series"
   ]
  },
  {
   "cell_type": "code",
   "execution_count": 41,
   "id": "46e55d6f",
   "metadata": {
    "ExecuteTime": {
     "end_time": "2023-03-08T16:18:03.777518Z",
     "start_time": "2023-03-08T16:18:03.764578Z"
    }
   },
   "outputs": [
    {
     "data": {
      "text/plain": [
       "Date\n",
       "2018-01-02        0\n",
       "2018-01-03    51620\n",
       "2018-01-04    51080\n",
       "2018-01-05    52120\n",
       "2018-01-08    52020\n",
       "              ...  \n",
       "2021-12-15    77600\n",
       "2021-12-16    77800\n",
       "2021-12-17    78000\n",
       "2021-12-18    77100\n",
       "2021-12-19    77200\n",
       "Name: Close, Length: 979, dtype: int64"
      ]
     },
     "execution_count": 41,
     "metadata": {},
     "output_type": "execute_result"
    }
   ],
   "source": [
    "samsung_series.loc['2021-12-19'] = 77200\n",
    "samsung_series"
   ]
  },
  {
   "cell_type": "code",
   "execution_count": 46,
   "id": "0647637b",
   "metadata": {
    "ExecuteTime": {
     "end_time": "2023-03-08T16:19:18.019278Z",
     "start_time": "2023-03-08T16:19:17.996361Z"
    }
   },
   "outputs": [
    {
     "data": {
      "text/plain": [
       "Date\n",
       "2018-01-02        0\n",
       "2018-01-03    51620\n",
       "2018-01-04    51080\n",
       "2018-01-05    52120\n",
       "2018-01-08    52020\n",
       "              ...  \n",
       "2021-12-15    77600\n",
       "2021-12-16    77800\n",
       "2021-12-17    78000\n",
       "2021-12-18    77100\n",
       "2021-12-19    77300\n",
       "Name: Close, Length: 979, dtype: int64"
      ]
     },
     "execution_count": 46,
     "metadata": {},
     "output_type": "execute_result"
    }
   ],
   "source": [
    "samsung_series.iloc[978] = 77300\n",
    "samsung_series"
   ]
  },
  {
   "cell_type": "markdown",
   "id": "27602944",
   "metadata": {},
   "source": [
    "## 두개의 Series 연결\n",
    "\n"
   ]
  },
  {
   "cell_type": "code",
   "execution_count": 51,
   "id": "4a5f13f8",
   "metadata": {
    "ExecuteTime": {
     "end_time": "2023-03-08T23:54:11.936944Z",
     "start_time": "2023-03-08T23:54:11.924971Z"
    }
   },
   "outputs": [],
   "source": [
    "import pandas as pd\n",
    "#pd.set_option('display.max_rows', None)"
   ]
  },
  {
   "cell_type": "code",
   "execution_count": 52,
   "id": "c87eebb2",
   "metadata": {
    "ExecuteTime": {
     "end_time": "2023-03-08T23:54:15.327088Z",
     "start_time": "2023-03-08T23:54:13.876257Z"
    }
   },
   "outputs": [
    {
     "name": "stderr",
     "output_type": "stream",
     "text": [
      "C:\\Users\\proyj\\AppData\\Local\\Temp\\ipykernel_15960\\3120514832.py:1: FutureWarning: The squeeze argument has been deprecated and will be removed in a future version. Append .squeeze(\"columns\") to the call to squeeze.\n",
      "\n",
      "\n",
      "  series1_samsung = pd.read_excel('samsung_excel.xlsx', sheet_name = 'Sheet1', index_col = 0, squeeze = True)\n"
     ]
    },
    {
     "data": {
      "text/plain": [
       "Date\n",
       "2018-01-02    51020\n",
       "2018-01-03    51620\n",
       "2018-01-04    51080\n",
       "2018-01-05    52120\n",
       "2018-01-08    52020\n",
       "              ...  \n",
       "2019-12-23    55500\n",
       "2019-12-24    55000\n",
       "2019-12-26    55400\n",
       "2019-12-27    56500\n",
       "2019-12-30    55800\n",
       "Name: Close, Length: 490, dtype: int64"
      ]
     },
     "execution_count": 52,
     "metadata": {},
     "output_type": "execute_result"
    }
   ],
   "source": [
    "series1_samsung = pd.read_excel('samsung_excel.xlsx', sheet_name = 'Sheet1', index_col = 0, squeeze = True)\n",
    "series1_samsung"
   ]
  },
  {
   "cell_type": "markdown",
   "id": "4fdd81a6",
   "metadata": {},
   "source": [
    "```sheet_name = 0``` 이라고 할 수도 있음"
   ]
  },
  {
   "cell_type": "code",
   "execution_count": 59,
   "id": "39ee9fcc",
   "metadata": {
    "ExecuteTime": {
     "end_time": "2023-03-09T00:02:39.825442Z",
     "start_time": "2023-03-09T00:02:39.763465Z"
    }
   },
   "outputs": [
    {
     "name": "stderr",
     "output_type": "stream",
     "text": [
      "C:\\Users\\proyj\\AppData\\Local\\Temp\\ipykernel_15960\\969072097.py:1: FutureWarning: The squeeze argument has been deprecated and will be removed in a future version. Append .squeeze(\"columns\") to the call to squeeze.\n",
      "\n",
      "\n",
      "  series2_samsung = pd.read_excel('samsung_excel.xlsx', sheet_name = 'Sheet2', index_col = 0, squeeze = True)\n"
     ]
    },
    {
     "data": {
      "text/plain": [
       "Date\n",
       "2020-01-02    55200\n",
       "2020-01-03    55500\n",
       "2020-01-06    55500\n",
       "2020-01-07    55800\n",
       "2020-01-08    56800\n",
       "2020-01-09    58600\n",
       "2020-01-10    59500\n",
       "2020-01-13    60000\n",
       "2020-01-14    60000\n",
       "2020-01-15    59000\n",
       "2020-01-16    60700\n",
       "2020-01-17    61300\n",
       "2020-01-20    62400\n",
       "2020-01-21    61400\n",
       "2020-01-22    62300\n",
       "2020-01-23    60800\n",
       "2020-01-28    58800\n",
       "2020-01-29    59100\n",
       "2020-01-30    57200\n",
       "2020-01-31    56400\n",
       "2020-02-03    57200\n",
       "2020-02-04    58900\n",
       "2020-02-05    59500\n",
       "2020-02-06    61100\n",
       "2020-02-07    60400\n",
       "2020-02-10    59700\n",
       "2020-02-11    59900\n",
       "2020-02-12    60500\n",
       "2020-02-13    60700\n",
       "2020-02-14    61800\n",
       "2020-02-17    61500\n",
       "2020-02-18    59800\n",
       "2020-02-19    60200\n",
       "2020-02-20    60000\n",
       "2020-02-21    59200\n",
       "2020-02-24    56800\n",
       "2020-02-25    57900\n",
       "2020-02-26    56500\n",
       "2020-02-27    55900\n",
       "2020-02-28    54200\n",
       "2020-03-02    55000\n",
       "2020-03-03    55400\n",
       "2020-03-04    57400\n",
       "2020-03-05    57800\n",
       "2020-03-06    56500\n",
       "2020-03-09    54200\n",
       "2020-03-10    54600\n",
       "2020-03-11    52100\n",
       "2020-03-12    50800\n",
       "2020-03-13    49950\n",
       "2020-03-16    48900\n",
       "2020-03-17    47300\n",
       "2020-03-18    45600\n",
       "2020-03-19    42950\n",
       "2020-03-20    45400\n",
       "2020-03-23    42500\n",
       "2020-03-24    46950\n",
       "2020-03-25    48650\n",
       "2020-03-26    47800\n",
       "2020-03-27    48300\n",
       "2020-03-30    47850\n",
       "2020-03-31    47750\n",
       "2020-04-01    45800\n",
       "2020-04-02    46800\n",
       "2020-04-03    47000\n",
       "2020-04-06    48700\n",
       "2020-04-07    49600\n",
       "2020-04-08    48600\n",
       "2020-04-09    49100\n",
       "2020-04-10    49250\n",
       "2020-04-13    48300\n",
       "2020-04-14    49000\n",
       "2020-04-16    49000\n",
       "2020-04-17    51400\n",
       "2020-04-20    50100\n",
       "2020-04-21    49250\n",
       "2020-04-22    49850\n",
       "2020-04-23    49850\n",
       "2020-04-24    49350\n",
       "2020-04-27    49850\n",
       "2020-04-28    50100\n",
       "2020-04-29    50000\n",
       "2020-05-04    48500\n",
       "2020-05-06    49200\n",
       "2020-05-07    48800\n",
       "2020-05-08    48800\n",
       "2020-05-11    48400\n",
       "2020-05-12    47900\n",
       "2020-05-13    48550\n",
       "2020-05-14    48000\n",
       "2020-05-15    47850\n",
       "2020-05-18    48800\n",
       "2020-05-19    50300\n",
       "2020-05-20    50000\n",
       "2020-05-21    49950\n",
       "2020-05-22    48750\n",
       "2020-05-25    48850\n",
       "2020-05-26    49250\n",
       "2020-05-27    49900\n",
       "2020-05-28    50400\n",
       "2020-05-29    50700\n",
       "2020-06-01    51200\n",
       "2020-06-02    51400\n",
       "2020-06-03    54500\n",
       "2020-06-04    54600\n",
       "2020-06-05    55500\n",
       "2020-06-08    54900\n",
       "2020-06-09    55500\n",
       "2020-06-10    55400\n",
       "2020-06-11    54300\n",
       "2020-06-12    52300\n",
       "2020-06-15    49900\n",
       "2020-06-16    52100\n",
       "2020-06-17    52200\n",
       "2020-06-18    52300\n",
       "2020-06-19    52900\n",
       "2020-06-22    52000\n",
       "2020-06-23    51400\n",
       "2020-06-24    52900\n",
       "2020-06-25    51900\n",
       "2020-06-26    53300\n",
       "2020-06-29    52400\n",
       "2020-06-30    52800\n",
       "2020-07-01    52600\n",
       "2020-07-02    52900\n",
       "2020-07-03    53600\n",
       "2020-07-06    55000\n",
       "2020-07-07    53400\n",
       "2020-07-08    53000\n",
       "2020-07-09    52800\n",
       "2020-07-10    52700\n",
       "2020-07-13    53400\n",
       "2020-07-14    53800\n",
       "2020-07-15    54700\n",
       "2020-07-16    53800\n",
       "2020-07-17    54400\n",
       "2020-07-20    54200\n",
       "2020-07-21    55300\n",
       "2020-07-22    54700\n",
       "2020-07-23    54100\n",
       "2020-07-24    54200\n",
       "2020-07-27    55600\n",
       "2020-07-28    58600\n",
       "2020-07-29    59000\n",
       "2020-07-30    59000\n",
       "2020-07-31    57900\n",
       "2020-08-03    56800\n",
       "2020-08-04    57300\n",
       "2020-08-05    56900\n",
       "2020-08-06    58000\n",
       "2020-08-07    57500\n",
       "2020-08-10    57800\n",
       "2020-08-11    58200\n",
       "2020-08-12    59000\n",
       "2020-08-13    58700\n",
       "2020-08-14    58000\n",
       "2020-08-18    58400\n",
       "2020-08-19    57800\n",
       "2020-08-20    55400\n",
       "2020-08-21    55900\n",
       "2020-08-24    56100\n",
       "2020-08-25    56400\n",
       "2020-08-26    56400\n",
       "2020-08-27    55600\n",
       "2020-08-28    55400\n",
       "2020-08-31    54000\n",
       "2020-09-01    54200\n",
       "2020-09-02    54400\n",
       "2020-09-03    56400\n",
       "2020-09-04    55600\n",
       "2020-09-07    56500\n",
       "2020-09-08    58700\n",
       "2020-09-09    58400\n",
       "2020-09-10    59200\n",
       "2020-09-11    59000\n",
       "2020-09-14    60400\n",
       "2020-09-15    61000\n",
       "2020-09-16    61000\n",
       "2020-09-17    59500\n",
       "2020-09-18    59300\n",
       "2020-09-21    59200\n",
       "2020-09-22    58200\n",
       "2020-09-23    58600\n",
       "2020-09-24    57800\n",
       "2020-09-25    57900\n",
       "2020-09-28    58200\n",
       "2020-09-29    58200\n",
       "2020-10-05    58700\n",
       "2020-10-06    59000\n",
       "2020-10-07    59900\n",
       "2020-10-08    59700\n",
       "2020-10-12    60400\n",
       "2020-10-13    60900\n",
       "2020-10-14    60900\n",
       "2020-10-15    60000\n",
       "2020-10-16    59500\n",
       "2020-10-19    60000\n",
       "2020-10-20    60900\n",
       "2020-10-21    60900\n",
       "2020-10-22    60100\n",
       "2020-10-23    60200\n",
       "2020-10-26    60400\n",
       "2020-10-27    59800\n",
       "2020-10-28    59000\n",
       "2020-10-29    58100\n",
       "2020-10-30    56600\n",
       "2020-11-02    57400\n",
       "2020-11-03    58800\n",
       "2020-11-04    58500\n",
       "2020-11-05    60300\n",
       "2020-11-06    60100\n",
       "2020-11-09    60200\n",
       "2020-11-10    60200\n",
       "2020-11-11    61300\n",
       "2020-11-12    61000\n",
       "2020-11-13    63200\n",
       "2020-11-16    66300\n",
       "2020-11-17    65700\n",
       "2020-11-18    64800\n",
       "2020-11-19    64600\n",
       "2020-11-20    64700\n",
       "2020-11-23    67500\n",
       "2020-11-24    67700\n",
       "2020-11-25    66600\n",
       "2020-11-26    68000\n",
       "2020-11-27    68200\n",
       "2020-11-30    66700\n",
       "2020-12-01    67800\n",
       "2020-12-02    69500\n",
       "2020-12-03    69700\n",
       "2020-12-04    71500\n",
       "2020-12-07    72900\n",
       "2020-12-08    71700\n",
       "2020-12-09    73900\n",
       "2020-12-10    72900\n",
       "2020-12-11    73400\n",
       "2020-12-14    73800\n",
       "2020-12-15    73800\n",
       "2020-12-16    73800\n",
       "2020-12-17    73300\n",
       "2020-12-18    73000\n",
       "2020-12-21    73000\n",
       "2020-12-22    72300\n",
       "2020-12-23    73900\n",
       "2020-12-24    77800\n",
       "2020-12-28    78700\n",
       "2020-12-29    78300\n",
       "2020-12-30    81000\n",
       "2021-01-04    83000\n",
       "2021-01-05    83900\n",
       "2021-01-06    82200\n",
       "2021-01-07    82900\n",
       "2021-01-08    88800\n",
       "2021-01-11    91000\n",
       "2021-01-12    90600\n",
       "2021-01-13    89700\n",
       "2021-01-14    89700\n",
       "2021-01-15    88000\n",
       "2021-01-18    85000\n",
       "2021-01-19    87000\n",
       "2021-01-20    87200\n",
       "2021-01-21    88100\n",
       "2021-01-22    86800\n",
       "2021-01-25    89400\n",
       "2021-01-26    86700\n",
       "2021-01-27    85600\n",
       "2021-01-28    83700\n",
       "2021-01-29    82000\n",
       "2021-02-01    83000\n",
       "2021-02-02    84400\n",
       "2021-02-03    84600\n",
       "2021-02-04    82500\n",
       "2021-02-05    83500\n",
       "2021-02-08    83000\n",
       "2021-02-09    82700\n",
       "2021-02-10    81600\n",
       "2021-02-15    84200\n",
       "2021-02-16    84900\n",
       "2021-02-17    83200\n",
       "2021-02-18    82100\n",
       "2021-02-19    82600\n",
       "2021-02-22    82200\n",
       "2021-02-23    82000\n",
       "2021-02-24    82000\n",
       "2021-02-25    85300\n",
       "2021-02-26    82500\n",
       "2021-03-02    83600\n",
       "2021-03-03    84000\n",
       "2021-03-04    82400\n",
       "2021-03-05    82100\n",
       "2021-03-08    82000\n",
       "2021-03-09    81400\n",
       "2021-03-10    80900\n",
       "2021-03-11    82000\n",
       "2021-03-12    82800\n",
       "2021-03-15    81800\n",
       "2021-03-16    82800\n",
       "2021-03-17    82300\n",
       "2021-03-18    82900\n",
       "2021-03-19    81900\n",
       "2021-03-22    82000\n",
       "2021-03-23    81800\n",
       "2021-03-24    81000\n",
       "2021-03-25    81200\n",
       "2021-03-26    81500\n",
       "2021-03-29    81600\n",
       "2021-03-30    82200\n",
       "2021-03-31    81400\n",
       "2021-04-01    82900\n",
       "2021-04-02    84800\n",
       "2021-04-05    85400\n",
       "2021-04-06    86000\n",
       "2021-04-07    85600\n",
       "2021-04-08    84700\n",
       "2021-04-09    83600\n",
       "2021-04-12    83200\n",
       "2021-04-13    84000\n",
       "2021-04-14    84000\n",
       "2021-04-15    84100\n",
       "2021-04-16    83900\n",
       "2021-04-19    83300\n",
       "2021-04-20    83900\n",
       "2021-04-21    82600\n",
       "2021-04-22    82400\n",
       "2021-04-23    82800\n",
       "2021-04-26    83500\n",
       "2021-04-27    82900\n",
       "2021-04-28    82100\n",
       "2021-04-29    81700\n",
       "2021-04-30    81500\n",
       "2021-05-03    81700\n",
       "2021-05-04    82600\n",
       "2021-05-06    82300\n",
       "2021-05-07    81900\n",
       "2021-05-10    83200\n",
       "2021-05-11    81200\n",
       "2021-05-12    80000\n",
       "2021-05-13    78500\n",
       "2021-05-14    80100\n",
       "2021-05-17    79600\n",
       "2021-05-18    79600\n",
       "2021-05-20    79500\n",
       "2021-05-21    80100\n",
       "2021-05-24    79700\n",
       "2021-05-25    79900\n",
       "2021-05-26    79800\n",
       "2021-05-27    79600\n",
       "2021-05-28    80100\n",
       "2021-05-31    80500\n",
       "2021-06-01    80600\n",
       "2021-06-02    80800\n",
       "2021-06-03    82800\n",
       "2021-06-04    82200\n",
       "2021-06-07    81900\n",
       "2021-06-08    81900\n",
       "2021-06-09    81100\n",
       "2021-06-10    81000\n",
       "2021-06-11    81000\n",
       "2021-06-14    80500\n",
       "2021-06-15    80900\n",
       "2021-06-16    81800\n",
       "2021-06-17    80900\n",
       "2021-06-18    80500\n",
       "2021-06-21    79900\n",
       "2021-06-22    80000\n",
       "2021-06-23    80100\n",
       "2021-06-24    81200\n",
       "2021-06-25    81600\n",
       "2021-06-28    81900\n",
       "2021-06-29    81000\n",
       "2021-06-30    80700\n",
       "2021-07-01    80100\n",
       "2021-07-02    80000\n",
       "2021-07-05    80400\n",
       "2021-07-06    81200\n",
       "2021-07-07    80800\n",
       "2021-07-08    79900\n",
       "2021-07-09    79400\n",
       "2021-07-12    79700\n",
       "2021-07-13    79800\n",
       "2021-07-14    79500\n",
       "2021-07-15    80600\n",
       "2021-07-16    79800\n",
       "2021-07-19    79000\n",
       "2021-07-20    79000\n",
       "2021-07-21    78500\n",
       "2021-07-22    79700\n",
       "2021-07-23    79300\n",
       "2021-07-26    78800\n",
       "2021-07-27    78500\n",
       "2021-07-28    79200\n",
       "2021-07-29    79000\n",
       "2021-07-30    78500\n",
       "2021-08-02    79300\n",
       "2021-08-03    81400\n",
       "2021-08-04    82900\n",
       "2021-08-05    82100\n",
       "2021-08-06    81500\n",
       "2021-08-09    81500\n",
       "2021-08-10    80200\n",
       "2021-08-11    78500\n",
       "2021-08-12    77000\n",
       "2021-08-13    74400\n",
       "2021-08-17    74200\n",
       "2021-08-18    73900\n",
       "2021-08-19    73100\n",
       "2021-08-20    72700\n",
       "2021-08-23    73300\n",
       "2021-08-24    75600\n",
       "2021-08-25    75700\n",
       "2021-08-26    74600\n",
       "2021-08-27    74300\n",
       "2021-08-30    74600\n",
       "2021-08-31    76700\n",
       "2021-09-01    76800\n",
       "2021-09-02    76000\n",
       "2021-09-03    76600\n",
       "2021-09-06    77300\n",
       "2021-09-07    76100\n",
       "2021-09-08    76300\n",
       "2021-09-09    75300\n",
       "2021-09-10    75300\n",
       "2021-09-13    76300\n",
       "2021-09-14    76600\n",
       "2021-09-15    77000\n",
       "2021-09-16    76100\n",
       "2021-09-17    77200\n",
       "2021-09-23    77400\n",
       "2021-09-24    77300\n",
       "2021-09-27    77700\n",
       "2021-09-28    76300\n",
       "2021-09-29    74100\n",
       "2021-09-30    74100\n",
       "2021-10-01    73200\n",
       "2021-10-05    72200\n",
       "2021-10-06    71300\n",
       "2021-10-07    71600\n",
       "2021-10-08    71500\n",
       "2021-10-12    69000\n",
       "2021-10-13    68800\n",
       "2021-10-14    69400\n",
       "2021-10-15    70100\n",
       "2021-10-18    70200\n",
       "2021-10-19    70600\n",
       "2021-10-20    70300\n",
       "2021-10-21    70200\n",
       "2021-10-22    70400\n",
       "2021-10-25    70200\n",
       "2021-10-26    71100\n",
       "2021-10-27    70100\n",
       "2021-10-28    70700\n",
       "2021-10-29    69800\n",
       "2021-11-01    69900\n",
       "2021-11-02    71500\n",
       "2021-11-03    70400\n",
       "2021-11-04    70600\n",
       "2021-11-05    70200\n",
       "2021-11-08    70600\n",
       "2021-11-09    70500\n",
       "2021-11-10    70200\n",
       "2021-11-11    69900\n",
       "2021-11-12    70600\n",
       "2021-11-15    71400\n",
       "2021-11-16    71300\n",
       "2021-11-17    70700\n",
       "2021-11-18    70200\n",
       "2021-11-19    71200\n",
       "2021-11-22    74900\n",
       "2021-11-23    75300\n",
       "2021-11-24    74800\n",
       "2021-11-25    73700\n",
       "2021-11-26    72300\n",
       "2021-11-29    72300\n",
       "2021-11-30    71300\n",
       "2021-12-01    74400\n",
       "2021-12-02    75800\n",
       "2021-12-03    75600\n",
       "2021-12-06    76300\n",
       "2021-12-07    77400\n",
       "2021-12-08    77400\n",
       "2021-12-09    78200\n",
       "2021-12-10    76900\n",
       "2021-12-13    76800\n",
       "2021-12-14    77000\n",
       "2021-12-15    77600\n",
       "2021-12-16    77800\n",
       "2021-12-17    78000\n",
       "2021-12-20    77100\n",
       "2021-12-21    78100\n",
       "2021-12-22    79400\n",
       "2021-12-23    79900\n",
       "2021-12-24    80500\n",
       "Name: Close, dtype: int64"
      ]
     },
     "execution_count": 59,
     "metadata": {},
     "output_type": "execute_result"
    }
   ],
   "source": [
    "series2_samsung = pd.read_excel('samsung_excel.xlsx', sheet_name = 'Sheet2', index_col = 0, squeeze = True)\n",
    "series2_samsung"
   ]
  },
  {
   "cell_type": "code",
   "execution_count": 60,
   "id": "c72a2c8c",
   "metadata": {
    "ExecuteTime": {
     "end_time": "2023-03-09T00:02:48.722248Z",
     "start_time": "2023-03-09T00:02:48.707322Z"
    }
   },
   "outputs": [],
   "source": [
    "# output 을 전체 다 볼 수 있음\n",
    "pd.set_option('display.max_rows', None)"
   ]
  },
  {
   "cell_type": "code",
   "execution_count": 63,
   "id": "4aca243d",
   "metadata": {
    "ExecuteTime": {
     "end_time": "2023-03-09T00:03:24.262461Z",
     "start_time": "2023-03-09T00:03:24.220397Z"
    }
   },
   "outputs": [
    {
     "name": "stderr",
     "output_type": "stream",
     "text": [
      "C:\\Users\\proyj\\AppData\\Local\\Temp\\ipykernel_15960\\1297777962.py:1: FutureWarning: The series.append method is deprecated and will be removed from pandas in a future version. Use pandas.concat instead.\n",
      "  series_samsung = series1_samsung.append(series2_samsung, ignore_index = False)\n"
     ]
    },
    {
     "data": {
      "text/plain": [
       "Date\n",
       "2018-01-02    51020\n",
       "2018-01-03    51620\n",
       "2018-01-04    51080\n",
       "2018-01-05    52120\n",
       "2018-01-08    52020\n",
       "2018-01-09    50400\n",
       "2018-01-10    48840\n",
       "2018-01-11    48240\n",
       "2018-01-12    48200\n",
       "2018-01-15    48540\n",
       "2018-01-16    50000\n",
       "2018-01-17    49620\n",
       "2018-01-18    49900\n",
       "2018-01-19    49320\n",
       "2018-01-22    48240\n",
       "2018-01-23    49160\n",
       "2018-01-24    49340\n",
       "2018-01-25    50260\n",
       "2018-01-26    50780\n",
       "2018-01-29    51220\n",
       "2018-01-30    49800\n",
       "2018-01-31    49900\n",
       "2018-02-01    49820\n",
       "2018-02-02    47700\n",
       "2018-02-05    47920\n",
       "2018-02-06    47420\n",
       "2018-02-07    45800\n",
       "2018-02-08    46000\n",
       "2018-02-09    44700\n",
       "2018-02-12    45720\n",
       "2018-02-13    47540\n",
       "2018-02-14    49000\n",
       "2018-02-19    48380\n",
       "2018-02-20    47400\n",
       "2018-02-21    47280\n",
       "2018-02-22    46760\n",
       "2018-02-23    47220\n",
       "2018-02-26    47380\n",
       "2018-02-27    47380\n",
       "2018-02-28    47060\n",
       "2018-03-02    46020\n",
       "2018-03-05    45200\n",
       "2018-03-06    47020\n",
       "2018-03-07    48620\n",
       "2018-03-08    49200\n",
       "2018-03-09    49740\n",
       "2018-03-12    49740\n",
       "2018-03-13    51660\n",
       "2018-03-14    51760\n",
       "2018-03-15    51540\n",
       "2018-03-16    51140\n",
       "2018-03-19    50740\n",
       "2018-03-20    51200\n",
       "2018-03-21    51060\n",
       "2018-03-22    51780\n",
       "2018-03-23    49720\n",
       "2018-03-26    50280\n",
       "2018-03-27    49980\n",
       "2018-03-28    48700\n",
       "2018-03-29    49040\n",
       "2018-03-30    49220\n",
       "2018-04-02    48540\n",
       "2018-04-03    48120\n",
       "2018-04-04    46920\n",
       "2018-04-05    48740\n",
       "2018-04-06    48400\n",
       "2018-04-09    49200\n",
       "2018-04-10    48880\n",
       "2018-04-11    48860\n",
       "2018-04-12    49000\n",
       "2018-04-13    49800\n",
       "2018-04-16    50340\n",
       "2018-04-17    49980\n",
       "2018-04-18    51360\n",
       "2018-04-19    52780\n",
       "2018-04-20    51620\n",
       "2018-04-23    51900\n",
       "2018-04-24    50460\n",
       "2018-04-25    50400\n",
       "2018-04-26    52140\n",
       "2018-04-27    53000\n",
       "2018-04-30    53000\n",
       "2018-05-02    53000\n",
       "2018-05-03    53000\n",
       "2018-05-04    51900\n",
       "2018-05-08    52600\n",
       "2018-05-09    50900\n",
       "2018-05-10    51600\n",
       "2018-05-11    51300\n",
       "2018-05-14    50100\n",
       "2018-05-15    49200\n",
       "2018-05-16    49850\n",
       "2018-05-17    49400\n",
       "2018-05-18    49500\n",
       "2018-05-21    50000\n",
       "2018-05-23    51800\n",
       "2018-05-24    51400\n",
       "2018-05-25    52700\n",
       "2018-05-28    52300\n",
       "2018-05-29    51300\n",
       "2018-05-30    49500\n",
       "2018-05-31    50700\n",
       "2018-06-01    51300\n",
       "2018-06-04    51100\n",
       "2018-06-05    51300\n",
       "2018-06-07    50600\n",
       "2018-06-08    49650\n",
       "2018-06-11    49900\n",
       "2018-06-12    49400\n",
       "2018-06-14    48200\n",
       "2018-06-15    47650\n",
       "2018-06-18    46600\n",
       "2018-06-19    47000\n",
       "2018-06-20    47000\n",
       "2018-06-21    47050\n",
       "2018-06-22    47250\n",
       "2018-06-25    46650\n",
       "2018-06-26    47000\n",
       "2018-06-27    47950\n",
       "2018-06-28    46800\n",
       "2018-06-29    46650\n",
       "2018-07-02    45550\n",
       "2018-07-03    46150\n",
       "2018-07-04    46250\n",
       "2018-07-05    45950\n",
       "2018-07-06    44900\n",
       "2018-07-09    45600\n",
       "2018-07-10    46300\n",
       "2018-07-11    46000\n",
       "2018-07-12    45500\n",
       "2018-07-13    46500\n",
       "2018-07-16    46050\n",
       "2018-07-17    45850\n",
       "2018-07-18    46550\n",
       "2018-07-19    46900\n",
       "2018-07-20    47450\n",
       "2018-07-23    46500\n",
       "2018-07-24    46150\n",
       "2018-07-25    46150\n",
       "2018-07-26    46900\n",
       "2018-07-27    46900\n",
       "2018-07-30    46500\n",
       "2018-07-31    46250\n",
       "2018-08-01    46550\n",
       "2018-08-02    45550\n",
       "2018-08-03    45750\n",
       "2018-08-06    45800\n",
       "2018-08-07    46700\n",
       "2018-08-08    46800\n",
       "2018-08-09    46900\n",
       "2018-08-10    45400\n",
       "2018-08-13    45050\n",
       "2018-08-14    45150\n",
       "2018-08-16    44250\n",
       "2018-08-17    44100\n",
       "2018-08-20    43850\n",
       "2018-08-21    44800\n",
       "2018-08-22    46100\n",
       "2018-08-23    46200\n",
       "2018-08-24    46150\n",
       "2018-08-27    46300\n",
       "2018-08-28    46550\n",
       "2018-08-29    46800\n",
       "2018-08-30    47650\n",
       "2018-08-31    48450\n",
       "2018-09-03    47450\n",
       "2018-09-04    47650\n",
       "2018-09-05    46600\n",
       "2018-09-06    46100\n",
       "2018-09-07    44900\n",
       "2018-09-10    45500\n",
       "2018-09-11    45050\n",
       "2018-09-12    44550\n",
       "2018-09-13    44050\n",
       "2018-09-14    45850\n",
       "2018-09-17    45150\n",
       "2018-09-18    45500\n",
       "2018-09-19    46150\n",
       "2018-09-20    47250\n",
       "2018-09-21    47400\n",
       "2018-09-27    47500\n",
       "2018-09-28    46450\n",
       "2018-10-01    46350\n",
       "2018-10-02    45700\n",
       "2018-10-04    44700\n",
       "2018-10-05    44700\n",
       "2018-10-08    44950\n",
       "2018-10-10    45300\n",
       "2018-10-11    43100\n",
       "2018-10-12    44000\n",
       "2018-10-15    43800\n",
       "2018-10-16    43600\n",
       "2018-10-17    44150\n",
       "2018-10-18    44050\n",
       "2018-10-19    43900\n",
       "2018-10-22    43550\n",
       "2018-10-23    43050\n",
       "2018-10-24    42550\n",
       "2018-10-25    41000\n",
       "2018-10-26    41000\n",
       "2018-10-29    41400\n",
       "2018-10-30    42350\n",
       "2018-10-31    42400\n",
       "2018-11-01    42150\n",
       "2018-11-02    44150\n",
       "2018-11-05    43800\n",
       "2018-11-06    43750\n",
       "2018-11-07    44000\n",
       "2018-11-08    44050\n",
       "2018-11-09    44300\n",
       "2018-11-12    45200\n",
       "2018-11-13    44500\n",
       "2018-11-14    44100\n",
       "2018-11-15    44250\n",
       "2018-11-16    44000\n",
       "2018-11-19    43650\n",
       "2018-11-20    42800\n",
       "2018-11-21    42100\n",
       "2018-11-22    42450\n",
       "2018-11-23    42400\n",
       "2018-11-26    42600\n",
       "2018-11-27    43050\n",
       "2018-11-28    43150\n",
       "2018-11-29    43150\n",
       "2018-11-30    41850\n",
       "2018-12-03    43250\n",
       "2018-12-04    42150\n",
       "2018-12-05    41450\n",
       "2018-12-06    40500\n",
       "2018-12-07    40950\n",
       "2018-12-10    40200\n",
       "2018-12-11    40250\n",
       "2018-12-12    40450\n",
       "2018-12-13    40000\n",
       "2018-12-14    38950\n",
       "2018-12-17    39150\n",
       "2018-12-18    38900\n",
       "2018-12-19    39100\n",
       "2018-12-20    38650\n",
       "2018-12-21    38650\n",
       "2018-12-24    38800\n",
       "2018-12-26    38350\n",
       "2018-12-27    38250\n",
       "2018-12-28    38700\n",
       "2019-01-02    38750\n",
       "2019-01-03    37600\n",
       "2019-01-04    37450\n",
       "2019-01-07    38750\n",
       "2019-01-08    38100\n",
       "2019-01-09    39600\n",
       "2019-01-10    39800\n",
       "2019-01-11    40500\n",
       "2019-01-14    40050\n",
       "2019-01-15    41100\n",
       "2019-01-16    41450\n",
       "2019-01-17    41950\n",
       "2019-01-18    42300\n",
       "2019-01-21    42750\n",
       "2019-01-22    42150\n",
       "2019-01-23    42000\n",
       "2019-01-24    43050\n",
       "2019-01-25    44750\n",
       "2019-01-28    45050\n",
       "2019-01-29    45500\n",
       "2019-01-30    46400\n",
       "2019-01-31    46150\n",
       "2019-02-01    46350\n",
       "2019-02-07    46200\n",
       "2019-02-08    44800\n",
       "2019-02-11    45000\n",
       "2019-02-12    46050\n",
       "2019-02-13    46200\n",
       "2019-02-14    47500\n",
       "2019-02-15    46050\n",
       "2019-02-18    46200\n",
       "2019-02-19    45950\n",
       "2019-02-20    46900\n",
       "2019-02-21    46950\n",
       "2019-02-22    47150\n",
       "2019-02-25    47350\n",
       "2019-02-26    46750\n",
       "2019-02-27    46750\n",
       "2019-02-28    45100\n",
       "2019-03-04    44850\n",
       "2019-03-05    44250\n",
       "2019-03-06    44000\n",
       "2019-03-07    44450\n",
       "2019-03-08    43800\n",
       "2019-03-11    43650\n",
       "2019-03-12    44650\n",
       "2019-03-13    43850\n",
       "2019-03-14    43850\n",
       "2019-03-15    44200\n",
       "2019-03-18    43700\n",
       "2019-03-19    43900\n",
       "2019-03-20    44050\n",
       "2019-03-21    45850\n",
       "2019-03-22    46550\n",
       "2019-03-25    45500\n",
       "2019-03-26    45250\n",
       "2019-03-27    45350\n",
       "2019-03-28    44850\n",
       "2019-03-29    44650\n",
       "2019-04-01    45050\n",
       "2019-04-02    45750\n",
       "2019-04-03    46600\n",
       "2019-04-04    46950\n",
       "2019-04-05    46850\n",
       "2019-04-08    46650\n",
       "2019-04-09    46650\n",
       "2019-04-10    46700\n",
       "2019-04-11    46250\n",
       "2019-04-12    46850\n",
       "2019-04-15    47050\n",
       "2019-04-16    47250\n",
       "2019-04-17    47050\n",
       "2019-04-18    45600\n",
       "2019-04-19    45300\n",
       "2019-04-22    45350\n",
       "2019-04-23    45200\n",
       "2019-04-24    44750\n",
       "2019-04-25    44650\n",
       "2019-04-26    44850\n",
       "2019-04-29    46150\n",
       "2019-04-30    45850\n",
       "2019-05-02    45900\n",
       "2019-05-03    45300\n",
       "2019-05-07    44850\n",
       "2019-05-08    44250\n",
       "2019-05-09    42450\n",
       "2019-05-10    42900\n",
       "2019-05-13    42650\n",
       "2019-05-14    42650\n",
       "2019-05-15    42550\n",
       "2019-05-16    41550\n",
       "2019-05-17    41200\n",
       "2019-05-20    42000\n",
       "2019-05-21    43150\n",
       "2019-05-22    43500\n",
       "2019-05-23    43850\n",
       "2019-05-24    42700\n",
       "2019-05-27    42650\n",
       "2019-05-28    42550\n",
       "2019-05-29    41800\n",
       "2019-05-30    42550\n",
       "2019-05-31    42500\n",
       "2019-06-03    43800\n",
       "2019-06-04    43450\n",
       "2019-06-05    43900\n",
       "2019-06-07    44200\n",
       "2019-06-10    44800\n",
       "2019-06-11    44850\n",
       "2019-06-12    44600\n",
       "2019-06-13    43750\n",
       "2019-06-14    44000\n",
       "2019-06-17    43900\n",
       "2019-06-18    44350\n",
       "2019-06-19    45350\n",
       "2019-06-20    45500\n",
       "2019-06-21    45700\n",
       "2019-06-24    45500\n",
       "2019-06-25    45600\n",
       "2019-06-26    45700\n",
       "2019-06-27    46500\n",
       "2019-06-28    47000\n",
       "2019-07-01    46600\n",
       "2019-07-02    46250\n",
       "2019-07-03    45400\n",
       "2019-07-04    46000\n",
       "2019-07-05    45650\n",
       "2019-07-08    44400\n",
       "2019-07-09    45100\n",
       "2019-07-10    45550\n",
       "2019-07-11    46200\n",
       "2019-07-12    46300\n",
       "2019-07-15    46450\n",
       "2019-07-16    46850\n",
       "2019-07-17    46050\n",
       "2019-07-18    46100\n",
       "2019-07-19    46800\n",
       "2019-07-22    47200\n",
       "2019-07-23    47300\n",
       "2019-07-24    46400\n",
       "2019-07-25    47200\n",
       "2019-07-26    47150\n",
       "2019-07-29    46100\n",
       "2019-07-30    46550\n",
       "2019-07-31    45350\n",
       "2019-08-01    45200\n",
       "2019-08-02    44950\n",
       "2019-08-05    43950\n",
       "2019-08-06    43500\n",
       "2019-08-07    43200\n",
       "2019-08-08    42650\n",
       "2019-08-09    43150\n",
       "2019-08-12    43700\n",
       "2019-08-13    43000\n",
       "2019-08-14    43700\n",
       "2019-08-16    43900\n",
       "2019-08-19    43600\n",
       "2019-08-20    44450\n",
       "2019-08-21    44500\n",
       "2019-08-22    44050\n",
       "2019-08-23    43950\n",
       "2019-08-26    43600\n",
       "2019-08-27    44050\n",
       "2019-08-28    44150\n",
       "2019-08-29    43400\n",
       "2019-08-30    44000\n",
       "2019-09-02    43800\n",
       "2019-09-03    43250\n",
       "2019-09-04    44100\n",
       "2019-09-05    45700\n",
       "2019-09-06    46300\n",
       "2019-09-09    46900\n",
       "2019-09-10    47000\n",
       "2019-09-11    47150\n",
       "2019-09-16    47100\n",
       "2019-09-17    46900\n",
       "2019-09-18    47700\n",
       "2019-09-19    49150\n",
       "2019-09-20    49200\n",
       "2019-09-23    49300\n",
       "2019-09-24    49500\n",
       "2019-09-25    48900\n",
       "2019-09-26    49200\n",
       "2019-09-27    48400\n",
       "2019-09-30    49050\n",
       "2019-10-01    48850\n",
       "2019-10-02    47600\n",
       "2019-10-04    48000\n",
       "2019-10-07    47750\n",
       "2019-10-08    48900\n",
       "2019-10-10    48550\n",
       "2019-10-11    49150\n",
       "2019-10-14    50000\n",
       "2019-10-15    50100\n",
       "2019-10-16    50700\n",
       "2019-10-17    50500\n",
       "2019-10-18    49900\n",
       "2019-10-21    50300\n",
       "2019-10-22    51200\n",
       "2019-10-23    51200\n",
       "2019-10-24    50700\n",
       "2019-10-25    50900\n",
       "2019-10-28    51300\n",
       "2019-10-29    51100\n",
       "2019-10-30    50400\n",
       "2019-10-31    50400\n",
       "2019-11-01    51200\n",
       "2019-11-04    52300\n",
       "2019-11-05    52700\n",
       "2019-11-06    53300\n",
       "2019-11-07    52900\n",
       "2019-11-08    52100\n",
       "2019-11-11    51600\n",
       "2019-11-12    52600\n",
       "2019-11-13    52500\n",
       "2019-11-14    52800\n",
       "2019-11-15    53700\n",
       "2019-11-18    53500\n",
       "2019-11-19    53500\n",
       "2019-11-20    52000\n",
       "2019-11-21    51000\n",
       "2019-11-22    51600\n",
       "2019-11-25    51800\n",
       "2019-11-26    51800\n",
       "2019-11-27    52200\n",
       "2019-11-28    51300\n",
       "2019-11-29    50300\n",
       "2019-12-02    50400\n",
       "2019-12-03    49900\n",
       "2019-12-04    49450\n",
       "2019-12-05    49500\n",
       "2019-12-06    50400\n",
       "2019-12-09    51200\n",
       "2019-12-10    51500\n",
       "2019-12-11    51900\n",
       "2019-12-12    53300\n",
       "2019-12-13    54700\n",
       "2019-12-16    54700\n",
       "2019-12-17    56700\n",
       "2019-12-18    56300\n",
       "2019-12-19    56000\n",
       "2019-12-20    56000\n",
       "2019-12-23    55500\n",
       "2019-12-24    55000\n",
       "2019-12-26    55400\n",
       "2019-12-27    56500\n",
       "2019-12-30    55800\n",
       "2020-01-02    55200\n",
       "2020-01-03    55500\n",
       "2020-01-06    55500\n",
       "2020-01-07    55800\n",
       "2020-01-08    56800\n",
       "2020-01-09    58600\n",
       "2020-01-10    59500\n",
       "2020-01-13    60000\n",
       "2020-01-14    60000\n",
       "2020-01-15    59000\n",
       "2020-01-16    60700\n",
       "2020-01-17    61300\n",
       "2020-01-20    62400\n",
       "2020-01-21    61400\n",
       "2020-01-22    62300\n",
       "2020-01-23    60800\n",
       "2020-01-28    58800\n",
       "2020-01-29    59100\n",
       "2020-01-30    57200\n",
       "2020-01-31    56400\n",
       "2020-02-03    57200\n",
       "2020-02-04    58900\n",
       "2020-02-05    59500\n",
       "2020-02-06    61100\n",
       "2020-02-07    60400\n",
       "2020-02-10    59700\n",
       "2020-02-11    59900\n",
       "2020-02-12    60500\n",
       "2020-02-13    60700\n",
       "2020-02-14    61800\n",
       "2020-02-17    61500\n",
       "2020-02-18    59800\n",
       "2020-02-19    60200\n",
       "2020-02-20    60000\n",
       "2020-02-21    59200\n",
       "2020-02-24    56800\n",
       "2020-02-25    57900\n",
       "2020-02-26    56500\n",
       "2020-02-27    55900\n",
       "2020-02-28    54200\n",
       "2020-03-02    55000\n",
       "2020-03-03    55400\n",
       "2020-03-04    57400\n",
       "2020-03-05    57800\n",
       "2020-03-06    56500\n",
       "2020-03-09    54200\n",
       "2020-03-10    54600\n",
       "2020-03-11    52100\n",
       "2020-03-12    50800\n",
       "2020-03-13    49950\n",
       "2020-03-16    48900\n",
       "2020-03-17    47300\n",
       "2020-03-18    45600\n",
       "2020-03-19    42950\n",
       "2020-03-20    45400\n",
       "2020-03-23    42500\n",
       "2020-03-24    46950\n",
       "2020-03-25    48650\n",
       "2020-03-26    47800\n",
       "2020-03-27    48300\n",
       "2020-03-30    47850\n",
       "2020-03-31    47750\n",
       "2020-04-01    45800\n",
       "2020-04-02    46800\n",
       "2020-04-03    47000\n",
       "2020-04-06    48700\n",
       "2020-04-07    49600\n",
       "2020-04-08    48600\n",
       "2020-04-09    49100\n",
       "2020-04-10    49250\n",
       "2020-04-13    48300\n",
       "2020-04-14    49000\n",
       "2020-04-16    49000\n",
       "2020-04-17    51400\n",
       "2020-04-20    50100\n",
       "2020-04-21    49250\n",
       "2020-04-22    49850\n",
       "2020-04-23    49850\n",
       "2020-04-24    49350\n",
       "2020-04-27    49850\n",
       "2020-04-28    50100\n",
       "2020-04-29    50000\n",
       "2020-05-04    48500\n",
       "2020-05-06    49200\n",
       "2020-05-07    48800\n",
       "2020-05-08    48800\n",
       "2020-05-11    48400\n",
       "2020-05-12    47900\n",
       "2020-05-13    48550\n",
       "2020-05-14    48000\n",
       "2020-05-15    47850\n",
       "2020-05-18    48800\n",
       "2020-05-19    50300\n",
       "2020-05-20    50000\n",
       "2020-05-21    49950\n",
       "2020-05-22    48750\n",
       "2020-05-25    48850\n",
       "2020-05-26    49250\n",
       "2020-05-27    49900\n",
       "2020-05-28    50400\n",
       "2020-05-29    50700\n",
       "2020-06-01    51200\n",
       "2020-06-02    51400\n",
       "2020-06-03    54500\n",
       "2020-06-04    54600\n",
       "2020-06-05    55500\n",
       "2020-06-08    54900\n",
       "2020-06-09    55500\n",
       "2020-06-10    55400\n",
       "2020-06-11    54300\n",
       "2020-06-12    52300\n",
       "2020-06-15    49900\n",
       "2020-06-16    52100\n",
       "2020-06-17    52200\n",
       "2020-06-18    52300\n",
       "2020-06-19    52900\n",
       "2020-06-22    52000\n",
       "2020-06-23    51400\n",
       "2020-06-24    52900\n",
       "2020-06-25    51900\n",
       "2020-06-26    53300\n",
       "2020-06-29    52400\n",
       "2020-06-30    52800\n",
       "2020-07-01    52600\n",
       "2020-07-02    52900\n",
       "2020-07-03    53600\n",
       "2020-07-06    55000\n",
       "2020-07-07    53400\n",
       "2020-07-08    53000\n",
       "2020-07-09    52800\n",
       "2020-07-10    52700\n",
       "2020-07-13    53400\n",
       "2020-07-14    53800\n",
       "2020-07-15    54700\n",
       "2020-07-16    53800\n",
       "2020-07-17    54400\n",
       "2020-07-20    54200\n",
       "2020-07-21    55300\n",
       "2020-07-22    54700\n",
       "2020-07-23    54100\n",
       "2020-07-24    54200\n",
       "2020-07-27    55600\n",
       "2020-07-28    58600\n",
       "2020-07-29    59000\n",
       "2020-07-30    59000\n",
       "2020-07-31    57900\n",
       "2020-08-03    56800\n",
       "2020-08-04    57300\n",
       "2020-08-05    56900\n",
       "2020-08-06    58000\n",
       "2020-08-07    57500\n",
       "2020-08-10    57800\n",
       "2020-08-11    58200\n",
       "2020-08-12    59000\n",
       "2020-08-13    58700\n",
       "2020-08-14    58000\n",
       "2020-08-18    58400\n",
       "2020-08-19    57800\n",
       "2020-08-20    55400\n",
       "2020-08-21    55900\n",
       "2020-08-24    56100\n",
       "2020-08-25    56400\n",
       "2020-08-26    56400\n",
       "2020-08-27    55600\n",
       "2020-08-28    55400\n",
       "2020-08-31    54000\n",
       "2020-09-01    54200\n",
       "2020-09-02    54400\n",
       "2020-09-03    56400\n",
       "2020-09-04    55600\n",
       "2020-09-07    56500\n",
       "2020-09-08    58700\n",
       "2020-09-09    58400\n",
       "2020-09-10    59200\n",
       "2020-09-11    59000\n",
       "2020-09-14    60400\n",
       "2020-09-15    61000\n",
       "2020-09-16    61000\n",
       "2020-09-17    59500\n",
       "2020-09-18    59300\n",
       "2020-09-21    59200\n",
       "2020-09-22    58200\n",
       "2020-09-23    58600\n",
       "2020-09-24    57800\n",
       "2020-09-25    57900\n",
       "2020-09-28    58200\n",
       "2020-09-29    58200\n",
       "2020-10-05    58700\n",
       "2020-10-06    59000\n",
       "2020-10-07    59900\n",
       "2020-10-08    59700\n",
       "2020-10-12    60400\n",
       "2020-10-13    60900\n",
       "2020-10-14    60900\n",
       "2020-10-15    60000\n",
       "2020-10-16    59500\n",
       "2020-10-19    60000\n",
       "2020-10-20    60900\n",
       "2020-10-21    60900\n",
       "2020-10-22    60100\n",
       "2020-10-23    60200\n",
       "2020-10-26    60400\n",
       "2020-10-27    59800\n",
       "2020-10-28    59000\n",
       "2020-10-29    58100\n",
       "2020-10-30    56600\n",
       "2020-11-02    57400\n",
       "2020-11-03    58800\n",
       "2020-11-04    58500\n",
       "2020-11-05    60300\n",
       "2020-11-06    60100\n",
       "2020-11-09    60200\n",
       "2020-11-10    60200\n",
       "2020-11-11    61300\n",
       "2020-11-12    61000\n",
       "2020-11-13    63200\n",
       "2020-11-16    66300\n",
       "2020-11-17    65700\n",
       "2020-11-18    64800\n",
       "2020-11-19    64600\n",
       "2020-11-20    64700\n",
       "2020-11-23    67500\n",
       "2020-11-24    67700\n",
       "2020-11-25    66600\n",
       "2020-11-26    68000\n",
       "2020-11-27    68200\n",
       "2020-11-30    66700\n",
       "2020-12-01    67800\n",
       "2020-12-02    69500\n",
       "2020-12-03    69700\n",
       "2020-12-04    71500\n",
       "2020-12-07    72900\n",
       "2020-12-08    71700\n",
       "2020-12-09    73900\n",
       "2020-12-10    72900\n",
       "2020-12-11    73400\n",
       "2020-12-14    73800\n",
       "2020-12-15    73800\n",
       "2020-12-16    73800\n",
       "2020-12-17    73300\n",
       "2020-12-18    73000\n",
       "2020-12-21    73000\n",
       "2020-12-22    72300\n",
       "2020-12-23    73900\n",
       "2020-12-24    77800\n",
       "2020-12-28    78700\n",
       "2020-12-29    78300\n",
       "2020-12-30    81000\n",
       "2021-01-04    83000\n",
       "2021-01-05    83900\n",
       "2021-01-06    82200\n",
       "2021-01-07    82900\n",
       "2021-01-08    88800\n",
       "2021-01-11    91000\n",
       "2021-01-12    90600\n",
       "2021-01-13    89700\n",
       "2021-01-14    89700\n",
       "2021-01-15    88000\n",
       "2021-01-18    85000\n",
       "2021-01-19    87000\n",
       "2021-01-20    87200\n",
       "2021-01-21    88100\n",
       "2021-01-22    86800\n",
       "2021-01-25    89400\n",
       "2021-01-26    86700\n",
       "2021-01-27    85600\n",
       "2021-01-28    83700\n",
       "2021-01-29    82000\n",
       "2021-02-01    83000\n",
       "2021-02-02    84400\n",
       "2021-02-03    84600\n",
       "2021-02-04    82500\n",
       "2021-02-05    83500\n",
       "2021-02-08    83000\n",
       "2021-02-09    82700\n",
       "2021-02-10    81600\n",
       "2021-02-15    84200\n",
       "2021-02-16    84900\n",
       "2021-02-17    83200\n",
       "2021-02-18    82100\n",
       "2021-02-19    82600\n",
       "2021-02-22    82200\n",
       "2021-02-23    82000\n",
       "2021-02-24    82000\n",
       "2021-02-25    85300\n",
       "2021-02-26    82500\n",
       "2021-03-02    83600\n",
       "2021-03-03    84000\n",
       "2021-03-04    82400\n",
       "2021-03-05    82100\n",
       "2021-03-08    82000\n",
       "2021-03-09    81400\n",
       "2021-03-10    80900\n",
       "2021-03-11    82000\n",
       "2021-03-12    82800\n",
       "2021-03-15    81800\n",
       "2021-03-16    82800\n",
       "2021-03-17    82300\n",
       "2021-03-18    82900\n",
       "2021-03-19    81900\n",
       "2021-03-22    82000\n",
       "2021-03-23    81800\n",
       "2021-03-24    81000\n",
       "2021-03-25    81200\n",
       "2021-03-26    81500\n",
       "2021-03-29    81600\n",
       "2021-03-30    82200\n",
       "2021-03-31    81400\n",
       "2021-04-01    82900\n",
       "2021-04-02    84800\n",
       "2021-04-05    85400\n",
       "2021-04-06    86000\n",
       "2021-04-07    85600\n",
       "2021-04-08    84700\n",
       "2021-04-09    83600\n",
       "2021-04-12    83200\n",
       "2021-04-13    84000\n",
       "2021-04-14    84000\n",
       "2021-04-15    84100\n",
       "2021-04-16    83900\n",
       "2021-04-19    83300\n",
       "2021-04-20    83900\n",
       "2021-04-21    82600\n",
       "2021-04-22    82400\n",
       "2021-04-23    82800\n",
       "2021-04-26    83500\n",
       "2021-04-27    82900\n",
       "2021-04-28    82100\n",
       "2021-04-29    81700\n",
       "2021-04-30    81500\n",
       "2021-05-03    81700\n",
       "2021-05-04    82600\n",
       "2021-05-06    82300\n",
       "2021-05-07    81900\n",
       "2021-05-10    83200\n",
       "2021-05-11    81200\n",
       "2021-05-12    80000\n",
       "2021-05-13    78500\n",
       "2021-05-14    80100\n",
       "2021-05-17    79600\n",
       "2021-05-18    79600\n",
       "2021-05-20    79500\n",
       "2021-05-21    80100\n",
       "2021-05-24    79700\n",
       "2021-05-25    79900\n",
       "2021-05-26    79800\n",
       "2021-05-27    79600\n",
       "2021-05-28    80100\n",
       "2021-05-31    80500\n",
       "2021-06-01    80600\n",
       "2021-06-02    80800\n",
       "2021-06-03    82800\n",
       "2021-06-04    82200\n",
       "2021-06-07    81900\n",
       "2021-06-08    81900\n",
       "2021-06-09    81100\n",
       "2021-06-10    81000\n",
       "2021-06-11    81000\n",
       "2021-06-14    80500\n",
       "2021-06-15    80900\n",
       "2021-06-16    81800\n",
       "2021-06-17    80900\n",
       "2021-06-18    80500\n",
       "2021-06-21    79900\n",
       "2021-06-22    80000\n",
       "2021-06-23    80100\n",
       "2021-06-24    81200\n",
       "2021-06-25    81600\n",
       "2021-06-28    81900\n",
       "2021-06-29    81000\n",
       "2021-06-30    80700\n",
       "2021-07-01    80100\n",
       "2021-07-02    80000\n",
       "2021-07-05    80400\n",
       "2021-07-06    81200\n",
       "2021-07-07    80800\n",
       "2021-07-08    79900\n",
       "2021-07-09    79400\n",
       "2021-07-12    79700\n",
       "2021-07-13    79800\n",
       "2021-07-14    79500\n",
       "2021-07-15    80600\n",
       "2021-07-16    79800\n",
       "2021-07-19    79000\n",
       "2021-07-20    79000\n",
       "2021-07-21    78500\n",
       "2021-07-22    79700\n",
       "2021-07-23    79300\n",
       "2021-07-26    78800\n",
       "2021-07-27    78500\n",
       "2021-07-28    79200\n",
       "2021-07-29    79000\n",
       "2021-07-30    78500\n",
       "2021-08-02    79300\n",
       "2021-08-03    81400\n",
       "2021-08-04    82900\n",
       "2021-08-05    82100\n",
       "2021-08-06    81500\n",
       "2021-08-09    81500\n",
       "2021-08-10    80200\n",
       "2021-08-11    78500\n",
       "2021-08-12    77000\n",
       "2021-08-13    74400\n",
       "2021-08-17    74200\n",
       "2021-08-18    73900\n",
       "2021-08-19    73100\n",
       "2021-08-20    72700\n",
       "2021-08-23    73300\n",
       "2021-08-24    75600\n",
       "2021-08-25    75700\n",
       "2021-08-26    74600\n",
       "2021-08-27    74300\n",
       "2021-08-30    74600\n",
       "2021-08-31    76700\n",
       "2021-09-01    76800\n",
       "2021-09-02    76000\n",
       "2021-09-03    76600\n",
       "2021-09-06    77300\n",
       "2021-09-07    76100\n",
       "2021-09-08    76300\n",
       "2021-09-09    75300\n",
       "2021-09-10    75300\n",
       "2021-09-13    76300\n",
       "2021-09-14    76600\n",
       "2021-09-15    77000\n",
       "2021-09-16    76100\n",
       "2021-09-17    77200\n",
       "2021-09-23    77400\n",
       "2021-09-24    77300\n",
       "2021-09-27    77700\n",
       "2021-09-28    76300\n",
       "2021-09-29    74100\n",
       "2021-09-30    74100\n",
       "2021-10-01    73200\n",
       "2021-10-05    72200\n",
       "2021-10-06    71300\n",
       "2021-10-07    71600\n",
       "2021-10-08    71500\n",
       "2021-10-12    69000\n",
       "2021-10-13    68800\n",
       "2021-10-14    69400\n",
       "2021-10-15    70100\n",
       "2021-10-18    70200\n",
       "2021-10-19    70600\n",
       "2021-10-20    70300\n",
       "2021-10-21    70200\n",
       "2021-10-22    70400\n",
       "2021-10-25    70200\n",
       "2021-10-26    71100\n",
       "2021-10-27    70100\n",
       "2021-10-28    70700\n",
       "2021-10-29    69800\n",
       "2021-11-01    69900\n",
       "2021-11-02    71500\n",
       "2021-11-03    70400\n",
       "2021-11-04    70600\n",
       "2021-11-05    70200\n",
       "2021-11-08    70600\n",
       "2021-11-09    70500\n",
       "2021-11-10    70200\n",
       "2021-11-11    69900\n",
       "2021-11-12    70600\n",
       "2021-11-15    71400\n",
       "2021-11-16    71300\n",
       "2021-11-17    70700\n",
       "2021-11-18    70200\n",
       "2021-11-19    71200\n",
       "2021-11-22    74900\n",
       "2021-11-23    75300\n",
       "2021-11-24    74800\n",
       "2021-11-25    73700\n",
       "2021-11-26    72300\n",
       "2021-11-29    72300\n",
       "2021-11-30    71300\n",
       "2021-12-01    74400\n",
       "2021-12-02    75800\n",
       "2021-12-03    75600\n",
       "2021-12-06    76300\n",
       "2021-12-07    77400\n",
       "2021-12-08    77400\n",
       "2021-12-09    78200\n",
       "2021-12-10    76900\n",
       "2021-12-13    76800\n",
       "2021-12-14    77000\n",
       "2021-12-15    77600\n",
       "2021-12-16    77800\n",
       "2021-12-17    78000\n",
       "2021-12-20    77100\n",
       "2021-12-21    78100\n",
       "2021-12-22    79400\n",
       "2021-12-23    79900\n",
       "2021-12-24    80500\n",
       "Name: Close, dtype: int64"
      ]
     },
     "execution_count": 63,
     "metadata": {},
     "output_type": "execute_result"
    }
   ],
   "source": [
    "series_samsung = series1_samsung.append(series2_samsung, ignore_index = False)\n",
    "series_samsung"
   ]
  },
  {
   "cell_type": "markdown",
   "id": "0ebdf7d3",
   "metadata": {},
   "source": [
    "```ignore_index = False``` # False: 기존 index 유지, True: 기존 index 무시"
   ]
  },
  {
   "cell_type": "markdown",
   "id": "f1fb517b",
   "metadata": {},
   "source": [
    "## Series 기본 통계치 구하기"
   ]
  },
  {
   "cell_type": "code",
   "execution_count": 65,
   "id": "20cde5e9",
   "metadata": {
    "ExecuteTime": {
     "end_time": "2023-03-09T00:13:32.216335Z",
     "start_time": "2023-03-09T00:13:32.200642Z"
    }
   },
   "outputs": [],
   "source": [
    "# option default로 변경\n",
    "pd.reset_option(\"display.max_rows\")"
   ]
  },
  {
   "cell_type": "code",
   "execution_count": 66,
   "id": "dbf0c930",
   "metadata": {
    "ExecuteTime": {
     "end_time": "2023-03-09T00:13:34.425995Z",
     "start_time": "2023-03-09T00:13:34.405693Z"
    }
   },
   "outputs": [
    {
     "name": "stderr",
     "output_type": "stream",
     "text": [
      "C:\\Users\\proyj\\AppData\\Local\\Temp\\ipykernel_15960\\3135519495.py:1: FutureWarning: The squeeze argument has been deprecated and will be removed in a future version. Append .squeeze(\"columns\") to the call to squeeze.\n",
      "\n",
      "\n",
      "  samsung_price = pd.read_csv('삼성전자 종가.csv', index_col = 0, squeeze = True, header = 0)\n"
     ]
    },
    {
     "data": {
      "text/plain": [
       "Date\n",
       "2018-01-02    51020\n",
       "2018-01-03    51620\n",
       "2018-01-04    51080\n",
       "2018-01-05    52120\n",
       "2018-01-08    52020\n",
       "              ...  \n",
       "2021-12-13    76800\n",
       "2021-12-14    77000\n",
       "2021-12-15    77600\n",
       "2021-12-16    77800\n",
       "2021-12-17    78000\n",
       "Name: Close, Length: 977, dtype: int64"
      ]
     },
     "execution_count": 66,
     "metadata": {},
     "output_type": "execute_result"
    }
   ],
   "source": [
    "samsung_price = pd.read_csv('삼성전자 종가.csv', index_col = 0, squeeze = True, header = 0)\n",
    "samsung_price"
   ]
  },
  {
   "cell_type": "code",
   "execution_count": 67,
   "id": "f9b122c4",
   "metadata": {
    "ExecuteTime": {
     "end_time": "2023-03-09T00:14:22.740940Z",
     "start_time": "2023-03-09T00:14:22.722210Z"
    }
   },
   "outputs": [
    {
     "data": {
      "text/plain": [
       "91000"
      ]
     },
     "execution_count": 67,
     "metadata": {},
     "output_type": "execute_result"
    }
   ],
   "source": [
    "# 최고값\n",
    "samsung_price.max()"
   ]
  },
  {
   "cell_type": "code",
   "execution_count": 68,
   "id": "ab48f110",
   "metadata": {
    "ExecuteTime": {
     "end_time": "2023-03-09T00:14:58.255976Z",
     "start_time": "2023-03-09T00:14:58.234661Z"
    }
   },
   "outputs": [
    {
     "data": {
      "text/plain": [
       "37450"
      ]
     },
     "execution_count": 68,
     "metadata": {},
     "output_type": "execute_result"
    }
   ],
   "source": [
    "# 최저값\n",
    "samsung_price.min()"
   ]
  },
  {
   "cell_type": "code",
   "execution_count": 69,
   "id": "9ebcb0c1",
   "metadata": {
    "ExecuteTime": {
     "end_time": "2023-03-09T00:15:44.775715Z",
     "start_time": "2023-03-09T00:15:44.750052Z"
    }
   },
   "outputs": [
    {
     "data": {
      "text/plain": [
       "count      977.000000\n",
       "mean     57295.854657\n",
       "std      14084.402274\n",
       "min      37450.000000\n",
       "25%      46300.000000\n",
       "50%      51300.000000\n",
       "75%      70200.000000\n",
       "max      91000.000000\n",
       "Name: Close, dtype: float64"
      ]
     },
     "execution_count": 69,
     "metadata": {},
     "output_type": "execute_result"
    }
   ],
   "source": [
    "# 기본 통계치\n",
    "samsung_price.describe()\n"
   ]
  },
  {
   "cell_type": "markdown",
   "id": "750f8b68",
   "metadata": {},
   "source": [
    "### 최고값일때의 날짜는 언제일까?"
   ]
  },
  {
   "cell_type": "markdown",
   "id": "d863f96f",
   "metadata": {},
   "source": [
    "***생각의 과정***  \n",
    "처음에는 배열을 비교하여 최고값의 개수를"
   ]
  },
  {
   "cell_type": "code",
   "execution_count": 73,
   "id": "650f3fc7",
   "metadata": {
    "ExecuteTime": {
     "end_time": "2023-03-09T00:18:23.588078Z",
     "start_time": "2023-03-09T00:18:23.573049Z"
    }
   },
   "outputs": [
    {
     "data": {
      "text/plain": [
       "array([51020, 51620, 51080, 52120, 52020, 50400, 48840, 48240, 48200,\n",
       "       48540, 50000, 49620, 49900, 49320, 48240, 49160, 49340, 50260,\n",
       "       50780, 51220, 49800, 49900, 49820, 47700, 47920, 47420, 45800,\n",
       "       46000, 44700, 45720, 47540, 49000, 48380, 47400, 47280, 46760,\n",
       "       47220, 47380, 47380, 47060, 46020, 45200, 47020, 48620, 49200,\n",
       "       49740, 49740, 51660, 51760, 51540, 51140, 50740, 51200, 51060,\n",
       "       51780, 49720, 50280, 49980, 48700, 49040, 49220, 48540, 48120,\n",
       "       46920, 48740, 48400, 49200, 48880, 48860, 49000, 49800, 50340,\n",
       "       49980, 51360, 52780, 51620, 51900, 50460, 50400, 52140, 53000,\n",
       "       53000, 53000, 53000, 51900, 52600, 50900, 51600, 51300, 50100,\n",
       "       49200, 49850, 49400, 49500, 50000, 51800, 51400, 52700, 52300,\n",
       "       51300, 49500, 50700, 51300, 51100, 51300, 50600, 49650, 49900,\n",
       "       49400, 48200, 47650, 46600, 47000, 47000, 47050, 47250, 46650,\n",
       "       47000, 47950, 46800, 46650, 45550, 46150, 46250, 45950, 44900,\n",
       "       45600, 46300, 46000, 45500, 46500, 46050, 45850, 46550, 46900,\n",
       "       47450, 46500, 46150, 46150, 46900, 46900, 46500, 46250, 46550,\n",
       "       45550, 45750, 45800, 46700, 46800, 46900, 45400, 45050, 45150,\n",
       "       44250, 44100, 43850, 44800, 46100, 46200, 46150, 46300, 46550,\n",
       "       46800, 47650, 48450, 47450, 47650, 46600, 46100, 44900, 45500,\n",
       "       45050, 44550, 44050, 45850, 45150, 45500, 46150, 47250, 47400,\n",
       "       47500, 46450, 46350, 45700, 44700, 44700, 44950, 45300, 43100,\n",
       "       44000, 43800, 43600, 44150, 44050, 43900, 43550, 43050, 42550,\n",
       "       41000, 41000, 41400, 42350, 42400, 42150, 44150, 43800, 43750,\n",
       "       44000, 44050, 44300, 45200, 44500, 44100, 44250, 44000, 43650,\n",
       "       42800, 42100, 42450, 42400, 42600, 43050, 43150, 43150, 41850,\n",
       "       43250, 42150, 41450, 40500, 40950, 40200, 40250, 40450, 40000,\n",
       "       38950, 39150, 38900, 39100, 38650, 38650, 38800, 38350, 38250,\n",
       "       38700, 38750, 37600, 37450, 38750, 38100, 39600, 39800, 40500,\n",
       "       40050, 41100, 41450, 41950, 42300, 42750, 42150, 42000, 43050,\n",
       "       44750, 45050, 45500, 46400, 46150, 46350, 46200, 44800, 45000,\n",
       "       46050, 46200, 47500, 46050, 46200, 45950, 46900, 46950, 47150,\n",
       "       47350, 46750, 46750, 45100, 44850, 44250, 44000, 44450, 43800,\n",
       "       43650, 44650, 43850, 43850, 44200, 43700, 43900, 44050, 45850,\n",
       "       46550, 45500, 45250, 45350, 44850, 44650, 45050, 45750, 46600,\n",
       "       46950, 46850, 46650, 46650, 46700, 46250, 46850, 47050, 47250,\n",
       "       47050, 45600, 45300, 45350, 45200, 44750, 44650, 44850, 46150,\n",
       "       45850, 45900, 45300, 44850, 44250, 42450, 42900, 42650, 42650,\n",
       "       42550, 41550, 41200, 42000, 43150, 43500, 43850, 42700, 42650,\n",
       "       42550, 41800, 42550, 42500, 43800, 43450, 43900, 44200, 44800,\n",
       "       44850, 44600, 43750, 44000, 43900, 44350, 45350, 45500, 45700,\n",
       "       45500, 45600, 45700, 46500, 47000, 46600, 46250, 45400, 46000,\n",
       "       45650, 44400, 45100, 45550, 46200, 46300, 46450, 46850, 46050,\n",
       "       46100, 46800, 47200, 47300, 46400, 47200, 47150, 46100, 46550,\n",
       "       45350, 45200, 44950, 43950, 43500, 43200, 42650, 43150, 43700,\n",
       "       43000, 43700, 43900, 43600, 44450, 44500, 44050, 43950, 43600,\n",
       "       44050, 44150, 43400, 44000, 43800, 43250, 44100, 45700, 46300,\n",
       "       46900, 47000, 47150, 47100, 46900, 47700, 49150, 49200, 49300,\n",
       "       49500, 48900, 49200, 48400, 49050, 48850, 47600, 48000, 47750,\n",
       "       48900, 48550, 49150, 50000, 50100, 50700, 50500, 49900, 50300,\n",
       "       51200, 51200, 50700, 50900, 51300, 51100, 50400, 50400, 51200,\n",
       "       52300, 52700, 53300, 52900, 52100, 51600, 52600, 52500, 52800,\n",
       "       53700, 53500, 53500, 52000, 51000, 51600, 51800, 51800, 52200,\n",
       "       51300, 50300, 50400, 49900, 49450, 49500, 50400, 51200, 51500,\n",
       "       51900, 53300, 54700, 54700, 56700, 56300, 56000, 56000, 55500,\n",
       "       55000, 55400, 56500, 55800, 55200, 55500, 55500, 55800, 56800,\n",
       "       58600, 59500, 60000, 60000, 59000, 60700, 61300, 62400, 61400,\n",
       "       62300, 60800, 58800, 59100, 57200, 56400, 57200, 58900, 59500,\n",
       "       61100, 60400, 59700, 59900, 60500, 60700, 61800, 61500, 59800,\n",
       "       60200, 60000, 59200, 56800, 57900, 56500, 55900, 54200, 55000,\n",
       "       55400, 57400, 57800, 56500, 54200, 54600, 52100, 50800, 49950,\n",
       "       48900, 47300, 45600, 42950, 45400, 42500, 46950, 48650, 47800,\n",
       "       48300, 47850, 47750, 45800, 46800, 47000, 48700, 49600, 48600,\n",
       "       49100, 49250, 48300, 49000, 49000, 51400, 50100, 49250, 49850,\n",
       "       49850, 49350, 49850, 50100, 50000, 48500, 49200, 48800, 48800,\n",
       "       48400, 47900, 48550, 48000, 47850, 48800, 50300, 50000, 49950,\n",
       "       48750, 48850, 49250, 49900, 50400, 50700, 51200, 51400, 54500,\n",
       "       54600, 55500, 54900, 55500, 55400, 54300, 52300, 49900, 52100,\n",
       "       52200, 52300, 52900, 52000, 51400, 52900, 51900, 53300, 52400,\n",
       "       52800, 52600, 52900, 53600, 55000, 53400, 53000, 52800, 52700,\n",
       "       53400, 53800, 54700, 53800, 54400, 54200, 55300, 54700, 54100,\n",
       "       54200, 55600, 58600, 59000, 59000, 57900, 56800, 57300, 56900,\n",
       "       58000, 57500, 57800, 58200, 59000, 58700, 58000, 58400, 57800,\n",
       "       55400, 55900, 56100, 56400, 56400, 55600, 55400, 54000, 54200,\n",
       "       54400, 56400, 55600, 56500, 58700, 58400, 59200, 59000, 60400,\n",
       "       61000, 61000, 59500, 59300, 59200, 58200, 58600, 57800, 57900,\n",
       "       58200, 58200, 58700, 59000, 59900, 59700, 60400, 60900, 60900,\n",
       "       60000, 59500, 60000, 60900, 60900, 60100, 60200, 60400, 59800,\n",
       "       59000, 58100, 56600, 57400, 58800, 58500, 60300, 60100, 60200,\n",
       "       60200, 61300, 61000, 63200, 66300, 65700, 64800, 64600, 64700,\n",
       "       67500, 67700, 66600, 68000, 68200, 66700, 67800, 69500, 69700,\n",
       "       71500, 72900, 71700, 73900, 72900, 73400, 73800, 73800, 73800,\n",
       "       73300, 73000, 73000, 72300, 73900, 77800, 78700, 78300, 81000,\n",
       "       83000, 83900, 82200, 82900, 88800, 91000, 90600, 89700, 89700,\n",
       "       88000, 85000, 87000, 87200, 88100, 86800, 89400, 86700, 85600,\n",
       "       83700, 82000, 83000, 84400, 84600, 82500, 83500, 83000, 82700,\n",
       "       81600, 84200, 84900, 83200, 82100, 82600, 82200, 82000, 82000,\n",
       "       85300, 82500, 83600, 84000, 82400, 82100, 82000, 81400, 80900,\n",
       "       82000, 82800, 81800, 82800, 82300, 82900, 81900, 82000, 81800,\n",
       "       81000, 81200, 81500, 81600, 82200, 81400, 82900, 84800, 85400,\n",
       "       86000, 85600, 84700, 83600, 83200, 84000, 84000, 84100, 83900,\n",
       "       83300, 83900, 82600, 82400, 82800, 83500, 82900, 82100, 81700,\n",
       "       81500, 81700, 82600, 82300, 81900, 83200, 81200, 80000, 78500,\n",
       "       80100, 79600, 79600, 79500, 80100, 79700, 79900, 79800, 79600,\n",
       "       80100, 80500, 80600, 80800, 82800, 82200, 81900, 81900, 81100,\n",
       "       81000, 81000, 80500, 80900, 81800, 80900, 80500, 79900, 80000,\n",
       "       80100, 81200, 81600, 81900, 81000, 80700, 80100, 80000, 80400,\n",
       "       81200, 80800, 79900, 79400, 79700, 79800, 79500, 80600, 79800,\n",
       "       79000, 79000, 78500, 79700, 79300, 78800, 78500, 79200, 79000,\n",
       "       78500, 79300, 81400, 82900, 82100, 81500, 81500, 80200, 78500,\n",
       "       77000, 74400, 74200, 73900, 73100, 72700, 73300, 75600, 75700,\n",
       "       74600, 74300, 74600, 76700, 76800, 76000, 76600, 77300, 76100,\n",
       "       76300, 75300, 75300, 76300, 76600, 77000, 76100, 77200, 77400,\n",
       "       77300, 77700, 76300, 74100, 74100, 73200, 72200, 71300, 71600,\n",
       "       71500, 69000, 68800, 69400, 70100, 70200, 70600, 70300, 70200,\n",
       "       70400, 70200, 71100, 70100, 70700, 69800, 69900, 71500, 70400,\n",
       "       70600, 70200, 70600, 70500, 70200, 69900, 70600, 71400, 71300,\n",
       "       70700, 70200, 71200, 74900, 75300, 74800, 73700, 72300, 72300,\n",
       "       71300, 74400, 75800, 75600, 76300, 77400, 77400, 78200, 76900,\n",
       "       76800, 77000, 77600, 77800, 78000], dtype=int64)"
      ]
     },
     "execution_count": 73,
     "metadata": {},
     "output_type": "execute_result"
    }
   ],
   "source": [
    "samsung_price.values"
   ]
  },
  {
   "cell_type": "code",
   "execution_count": 75,
   "id": "05f27723",
   "metadata": {
    "ExecuteTime": {
     "end_time": "2023-03-09T00:19:10.700454Z",
     "start_time": "2023-03-09T00:19:10.684799Z"
    }
   },
   "outputs": [
    {
     "data": {
      "text/plain": [
       "numpy.ndarray"
      ]
     },
     "execution_count": 75,
     "metadata": {},
     "output_type": "execute_result"
    }
   ],
   "source": [
    "type(samsung_price.values)"
   ]
  },
  {
   "cell_type": "code",
   "execution_count": 74,
   "id": "59b69ee2",
   "metadata": {
    "ExecuteTime": {
     "end_time": "2023-03-09T00:18:45.508666Z",
     "start_time": "2023-03-09T00:18:45.490408Z"
    }
   },
   "outputs": [
    {
     "data": {
      "text/plain": [
       "array([False, False, False, False, False, False, False, False, False,\n",
       "       False, False, False, False, False, False, False, False, False,\n",
       "       False, False, False, False, False, False, False, False, False,\n",
       "       False, False, False, False, False, False, False, False, False,\n",
       "       False, False, False, False, False, False, False, False, False,\n",
       "       False, False, False, False, False, False, False, False, False,\n",
       "       False, False, False, False, False, False, False, False, False,\n",
       "       False, False, False, False, False, False, False, False, False,\n",
       "       False, False, False, False, False, False, False, False, False,\n",
       "       False, False, False, False, False, False, False, False, False,\n",
       "       False, False, False, False, False, False, False, False, False,\n",
       "       False, False, False, False, False, False, False, False, False,\n",
       "       False, False, False, False, False, False, False, False, False,\n",
       "       False, False, False, False, False, False, False, False, False,\n",
       "       False, False, False, False, False, False, False, False, False,\n",
       "       False, False, False, False, False, False, False, False, False,\n",
       "       False, False, False, False, False, False, False, False, False,\n",
       "       False, False, False, False, False, False, False, False, False,\n",
       "       False, False, False, False, False, False, False, False, False,\n",
       "       False, False, False, False, False, False, False, False, False,\n",
       "       False, False, False, False, False, False, False, False, False,\n",
       "       False, False, False, False, False, False, False, False, False,\n",
       "       False, False, False, False, False, False, False, False, False,\n",
       "       False, False, False, False, False, False, False, False, False,\n",
       "       False, False, False, False, False, False, False, False, False,\n",
       "       False, False, False, False, False, False, False, False, False,\n",
       "       False, False, False, False, False, False, False, False, False,\n",
       "       False, False, False, False, False, False, False, False, False,\n",
       "       False, False, False, False, False, False, False, False, False,\n",
       "       False, False, False, False, False, False, False, False, False,\n",
       "       False, False, False, False, False, False, False, False, False,\n",
       "       False, False, False, False, False, False, False, False, False,\n",
       "       False, False, False, False, False, False, False, False, False,\n",
       "       False, False, False, False, False, False, False, False, False,\n",
       "       False, False, False, False, False, False, False, False, False,\n",
       "       False, False, False, False, False, False, False, False, False,\n",
       "       False, False, False, False, False, False, False, False, False,\n",
       "       False, False, False, False, False, False, False, False, False,\n",
       "       False, False, False, False, False, False, False, False, False,\n",
       "       False, False, False, False, False, False, False, False, False,\n",
       "       False, False, False, False, False, False, False, False, False,\n",
       "       False, False, False, False, False, False, False, False, False,\n",
       "       False, False, False, False, False, False, False, False, False,\n",
       "       False, False, False, False, False, False, False, False, False,\n",
       "       False, False, False, False, False, False, False, False, False,\n",
       "       False, False, False, False, False, False, False, False, False,\n",
       "       False, False, False, False, False, False, False, False, False,\n",
       "       False, False, False, False, False, False, False, False, False,\n",
       "       False, False, False, False, False, False, False, False, False,\n",
       "       False, False, False, False, False, False, False, False, False,\n",
       "       False, False, False, False, False, False, False, False, False,\n",
       "       False, False, False, False, False, False, False, False, False,\n",
       "       False, False, False, False, False, False, False, False, False,\n",
       "       False, False, False, False, False, False, False, False, False,\n",
       "       False, False, False, False, False, False, False, False, False,\n",
       "       False, False, False, False, False, False, False, False, False,\n",
       "       False, False, False, False, False, False, False, False, False,\n",
       "       False, False, False, False, False, False, False, False, False,\n",
       "       False, False, False, False, False, False, False, False, False,\n",
       "       False, False, False, False, False, False, False, False, False,\n",
       "       False, False, False, False, False, False, False, False, False,\n",
       "       False, False, False, False, False, False, False, False, False,\n",
       "       False, False, False, False, False, False, False, False, False,\n",
       "       False, False, False, False, False, False, False, False, False,\n",
       "       False, False, False, False, False, False, False, False, False,\n",
       "       False, False, False, False, False, False, False, False, False,\n",
       "       False, False, False, False, False, False, False, False, False,\n",
       "       False, False, False, False, False, False, False, False, False,\n",
       "       False, False, False, False, False, False, False, False, False,\n",
       "       False, False, False, False, False, False, False, False, False,\n",
       "       False, False, False, False, False, False, False, False, False,\n",
       "       False, False, False, False, False, False, False, False, False,\n",
       "       False, False, False, False, False, False, False, False, False,\n",
       "       False, False, False, False, False, False, False, False, False,\n",
       "       False, False, False, False, False, False, False, False, False,\n",
       "       False, False, False, False, False, False, False, False, False,\n",
       "       False, False, False, False, False, False, False, False, False,\n",
       "       False, False, False, False, False, False, False, False, False,\n",
       "       False, False, False, False, False, False, False, False, False,\n",
       "       False, False, False, False, False, False, False, False, False,\n",
       "       False, False, False, False, False, False, False, False, False,\n",
       "       False, False, False, False, False, False, False, False, False,\n",
       "       False, False, False, False, False,  True, False, False, False,\n",
       "       False, False, False, False, False, False, False, False, False,\n",
       "       False, False, False, False, False, False, False, False, False,\n",
       "       False, False, False, False, False, False, False, False, False,\n",
       "       False, False, False, False, False, False, False, False, False,\n",
       "       False, False, False, False, False, False, False, False, False,\n",
       "       False, False, False, False, False, False, False, False, False,\n",
       "       False, False, False, False, False, False, False, False, False,\n",
       "       False, False, False, False, False, False, False, False, False,\n",
       "       False, False, False, False, False, False, False, False, False,\n",
       "       False, False, False, False, False, False, False, False, False,\n",
       "       False, False, False, False, False, False, False, False, False,\n",
       "       False, False, False, False, False, False, False, False, False,\n",
       "       False, False, False, False, False, False, False, False, False,\n",
       "       False, False, False, False, False, False, False, False, False,\n",
       "       False, False, False, False, False, False, False, False, False,\n",
       "       False, False, False, False, False, False, False, False, False,\n",
       "       False, False, False, False, False, False, False, False, False,\n",
       "       False, False, False, False, False, False, False, False, False,\n",
       "       False, False, False, False, False, False, False, False, False,\n",
       "       False, False, False, False, False, False, False, False, False,\n",
       "       False, False, False, False, False, False, False, False, False,\n",
       "       False, False, False, False, False, False, False, False, False,\n",
       "       False, False, False, False, False, False, False, False, False,\n",
       "       False, False, False, False, False, False, False, False, False,\n",
       "       False, False, False, False, False, False, False, False, False,\n",
       "       False, False, False, False, False])"
      ]
     },
     "execution_count": 74,
     "metadata": {},
     "output_type": "execute_result"
    }
   ],
   "source": [
    "samsung_price.values == samsung_price.max()"
   ]
  },
  {
   "cell_type": "code",
   "execution_count": 76,
   "id": "aae5bd2b",
   "metadata": {
    "ExecuteTime": {
     "end_time": "2023-03-09T00:22:03.295704Z",
     "start_time": "2023-03-09T00:22:03.285730Z"
    }
   },
   "outputs": [
    {
     "data": {
      "text/plain": [
       "Index(['2021-01-11'], dtype='object', name='Date')"
      ]
     },
     "execution_count": 76,
     "metadata": {},
     "output_type": "execute_result"
    }
   ],
   "source": [
    "samsung_price.index[samsung_price.values == samsung_price.max()]"
   ]
  },
  {
   "cell_type": "markdown",
   "id": "8254432a",
   "metadata": {},
   "source": [
    "해당하는 인덱스 배열을 리턴해 준다."
   ]
  },
  {
   "cell_type": "code",
   "execution_count": 79,
   "id": "262aeeb3",
   "metadata": {
    "ExecuteTime": {
     "end_time": "2023-03-09T00:24:07.280114Z",
     "start_time": "2023-03-09T00:24:07.260726Z"
    }
   },
   "outputs": [
    {
     "data": {
      "text/plain": [
       "array([False, False, False, False, False, False, False, False, False,\n",
       "       False, False, False, False, False, False, False, False, False,\n",
       "       False, False, False, False, False, False, False, False, False,\n",
       "       False, False, False, False, False, False, False, False, False,\n",
       "       False, False, False, False, False, False, False, False, False,\n",
       "       False, False, False, False, False, False, False, False, False,\n",
       "       False, False, False, False, False, False, False, False, False,\n",
       "       False, False, False, False, False, False, False, False, False,\n",
       "       False, False, False, False, False, False, False, False, False,\n",
       "       False, False, False, False, False, False, False, False, False,\n",
       "       False, False, False, False, False, False, False, False, False,\n",
       "       False, False, False, False, False, False, False, False, False,\n",
       "       False, False, False, False, False, False, False, False, False,\n",
       "       False, False, False, False, False, False, False, False, False,\n",
       "       False, False, False, False, False, False, False, False, False,\n",
       "       False, False, False, False, False, False, False, False, False,\n",
       "       False, False, False, False, False, False, False, False, False,\n",
       "       False, False, False, False, False, False, False, False, False,\n",
       "       False, False, False, False, False, False, False, False, False,\n",
       "       False, False, False, False, False, False, False, False, False,\n",
       "       False, False, False, False, False, False, False, False, False,\n",
       "       False, False, False, False, False, False, False, False, False,\n",
       "        True,  True, False, False, False, False, False, False, False,\n",
       "       False, False, False, False, False, False, False, False, False,\n",
       "       False, False, False, False, False, False, False, False, False,\n",
       "       False, False, False, False, False, False, False, False, False,\n",
       "       False, False, False, False, False, False, False, False, False,\n",
       "       False, False, False, False, False, False, False, False, False,\n",
       "       False, False, False, False, False, False, False, False, False,\n",
       "       False, False, False, False, False, False, False, False, False,\n",
       "       False, False, False, False, False, False, False, False, False,\n",
       "       False, False, False, False, False, False, False, False, False,\n",
       "       False, False, False, False, False, False, False, False, False,\n",
       "       False, False, False, False, False, False, False, False, False,\n",
       "       False, False, False, False, False, False, False, False, False,\n",
       "       False, False, False, False, False, False, False, False, False,\n",
       "       False, False, False, False, False, False, False, False, False,\n",
       "       False, False, False, False, False, False, False, False, False,\n",
       "       False, False, False, False, False, False, False, False, False,\n",
       "       False, False, False, False, False, False, False, False, False,\n",
       "       False, False, False, False, False, False, False, False, False,\n",
       "       False, False, False, False, False, False, False, False, False,\n",
       "       False, False, False, False, False, False, False, False, False,\n",
       "       False, False, False, False, False, False, False, False, False,\n",
       "       False, False, False, False, False, False, False, False, False,\n",
       "       False, False, False, False, False, False, False, False, False,\n",
       "       False, False, False, False, False, False, False, False, False,\n",
       "       False, False, False, False, False, False, False, False, False,\n",
       "       False, False, False, False, False, False, False, False, False,\n",
       "       False, False, False, False, False, False, False, False, False,\n",
       "       False, False, False, False, False, False, False, False, False,\n",
       "       False, False, False, False, False, False, False, False, False,\n",
       "       False, False, False, False, False, False, False, False, False,\n",
       "       False, False, False, False, False, False, False, False, False,\n",
       "       False, False, False, False, False, False, False, False, False,\n",
       "       False, False, False, False, False, False, False, False, False,\n",
       "       False, False, False, False, False, False, False, False, False,\n",
       "       False, False, False, False, False, False, False, False, False,\n",
       "       False, False, False, False, False, False, False, False, False,\n",
       "       False, False, False, False, False, False, False, False, False,\n",
       "       False, False, False, False, False, False, False, False, False,\n",
       "       False, False, False, False, False, False, False, False, False,\n",
       "       False, False, False, False, False, False, False, False, False,\n",
       "       False, False, False, False, False, False, False, False, False,\n",
       "       False, False, False, False, False, False, False, False, False,\n",
       "       False, False, False, False, False, False, False, False, False,\n",
       "       False, False, False, False, False, False, False, False, False,\n",
       "       False, False, False, False, False, False, False, False, False,\n",
       "       False, False, False, False, False, False, False, False, False,\n",
       "       False, False, False, False, False, False, False, False, False,\n",
       "       False, False, False, False, False, False, False, False, False,\n",
       "       False, False, False, False, False, False, False, False, False,\n",
       "       False, False, False, False, False, False, False, False, False,\n",
       "       False, False, False, False, False, False, False, False, False,\n",
       "       False, False, False, False, False, False, False, False, False,\n",
       "       False, False, False, False, False, False, False, False, False,\n",
       "       False, False, False, False, False, False, False, False, False,\n",
       "       False, False, False, False, False, False, False, False, False,\n",
       "       False, False, False, False, False, False, False, False, False,\n",
       "       False, False, False, False, False, False, False, False, False,\n",
       "       False, False, False, False, False, False, False, False, False,\n",
       "       False, False, False, False, False, False, False, False, False,\n",
       "       False, False, False, False, False, False, False, False, False,\n",
       "       False, False, False, False, False, False, False, False, False,\n",
       "       False, False, False, False, False, False, False, False, False,\n",
       "       False, False, False, False, False, False, False, False, False,\n",
       "       False, False, False, False, False, False, False, False, False,\n",
       "       False, False, False, False, False, False, False, False, False,\n",
       "       False, False, False, False, False, False, False, False, False,\n",
       "       False, False, False, False, False, False, False, False, False,\n",
       "       False, False, False, False, False, False, False, False, False,\n",
       "       False, False, False, False, False, False, False, False, False,\n",
       "       False, False, False, False, False, False, False, False, False,\n",
       "       False, False, False, False, False, False, False, False, False,\n",
       "       False, False, False, False, False, False, False, False, False,\n",
       "       False, False, False, False, False, False, False, False, False,\n",
       "       False, False, False, False, False, False, False, False, False,\n",
       "       False, False, False, False, False, False, False, False, False,\n",
       "       False, False, False, False, False, False, False, False, False,\n",
       "       False, False, False, False, False, False, False, False, False,\n",
       "       False, False, False, False, False, False, False, False, False,\n",
       "       False, False, False, False, False, False, False, False, False,\n",
       "       False, False, False, False, False, False, False, False, False,\n",
       "       False, False, False, False, False, False, False, False, False,\n",
       "       False, False, False, False, False, False, False, False, False,\n",
       "       False, False, False, False, False, False, False, False, False,\n",
       "       False, False, False, False, False, False, False, False, False,\n",
       "       False, False, False, False, False, False, False, False, False,\n",
       "       False, False, False, False, False])"
      ]
     },
     "execution_count": 79,
     "metadata": {},
     "output_type": "execute_result"
    }
   ],
   "source": [
    "samsung_price.values == 41000"
   ]
  },
  {
   "cell_type": "code",
   "execution_count": 78,
   "id": "be80eb55",
   "metadata": {
    "ExecuteTime": {
     "end_time": "2023-03-09T00:23:49.486674Z",
     "start_time": "2023-03-09T00:23:49.465759Z"
    }
   },
   "outputs": [
    {
     "data": {
      "text/plain": [
       "Index(['2018-10-25', '2018-10-26'], dtype='object', name='Date')"
      ]
     },
     "execution_count": 78,
     "metadata": {},
     "output_type": "execute_result"
    }
   ],
   "source": [
    "samsung_price.index[samsung_price.values == 41000]"
   ]
  },
  {
   "cell_type": "markdown",
   "id": "611aff15",
   "metadata": {},
   "source": [
    "### 인덱스 리턴"
   ]
  },
  {
   "cell_type": "code",
   "execution_count": 81,
   "id": "0fd4ae17",
   "metadata": {
    "ExecuteTime": {
     "end_time": "2023-03-09T00:24:36.040873Z",
     "start_time": "2023-03-09T00:24:36.025910Z"
    }
   },
   "outputs": [
    {
     "data": {
      "text/plain": [
       "246"
      ]
     },
     "execution_count": 81,
     "metadata": {},
     "output_type": "execute_result"
    }
   ],
   "source": [
    "## 해당하는 인덱스 값 리턴\n",
    "samsung_price.argmin()"
   ]
  },
  {
   "cell_type": "markdown",
   "id": "6cff5962",
   "metadata": {},
   "source": [
    "cf. samsung_price.min() => 최소값, samsung_price.argmin() => 최소값의 인덱스"
   ]
  },
  {
   "cell_type": "code",
   "execution_count": 83,
   "id": "02b01bba",
   "metadata": {
    "ExecuteTime": {
     "end_time": "2023-03-09T00:26:42.355929Z",
     "start_time": "2023-03-09T00:26:42.339942Z"
    }
   },
   "outputs": [
    {
     "data": {
      "text/plain": [
       "37450"
      ]
     },
     "execution_count": 83,
     "metadata": {},
     "output_type": "execute_result"
    }
   ],
   "source": [
    "samsung_price.iloc[samsung_price.argmin()]"
   ]
  },
  {
   "cell_type": "code",
   "execution_count": 84,
   "id": "f98afd72",
   "metadata": {
    "ExecuteTime": {
     "end_time": "2023-03-09T00:26:49.474520Z",
     "start_time": "2023-03-09T00:26:49.452611Z"
    }
   },
   "outputs": [
    {
     "data": {
      "text/plain": [
       "'2019-01-04'"
      ]
     },
     "execution_count": 84,
     "metadata": {},
     "output_type": "execute_result"
    }
   ],
   "source": [
    "samsung_price.index[samsung_price.argmin()]"
   ]
  },
  {
   "cell_type": "code",
   "execution_count": 85,
   "id": "b959a260",
   "metadata": {
    "ExecuteTime": {
     "end_time": "2023-03-09T00:27:25.341930Z",
     "start_time": "2023-03-09T00:27:25.324944Z"
    }
   },
   "outputs": [
    {
     "data": {
      "text/plain": [
       "'2021-01-11'"
      ]
     },
     "execution_count": 85,
     "metadata": {},
     "output_type": "execute_result"
    }
   ],
   "source": [
    "samsung_price.iloc[samsung_price.argmax()]\n",
    "samsung_price.index[samsung_price.argmax()]"
   ]
  }
 ],
 "metadata": {
  "hide_input": false,
  "kernelspec": {
   "display_name": "Python 3 (ipykernel)",
   "language": "python",
   "name": "python3"
  },
  "language_info": {
   "codemirror_mode": {
    "name": "ipython",
    "version": 3
   },
   "file_extension": ".py",
   "mimetype": "text/x-python",
   "name": "python",
   "nbconvert_exporter": "python",
   "pygments_lexer": "ipython3",
   "version": "3.9.13"
  },
  "toc": {
   "base_numbering": 1,
   "nav_menu": {},
   "number_sections": true,
   "sideBar": true,
   "skip_h1_title": false,
   "title_cell": "Table of Contents",
   "title_sidebar": "Contents",
   "toc_cell": false,
   "toc_position": {
    "height": "572px",
    "left": "70px",
    "top": "110.525px",
    "width": "232px"
   },
   "toc_section_display": true,
   "toc_window_display": true
  },
  "varInspector": {
   "cols": {
    "lenName": 16,
    "lenType": 16,
    "lenVar": 40
   },
   "kernels_config": {
    "python": {
     "delete_cmd_postfix": "",
     "delete_cmd_prefix": "del ",
     "library": "var_list.py",
     "varRefreshCmd": "print(var_dic_list())"
    },
    "r": {
     "delete_cmd_postfix": ") ",
     "delete_cmd_prefix": "rm(",
     "library": "var_list.r",
     "varRefreshCmd": "cat(var_dic_list()) "
    }
   },
   "types_to_exclude": [
    "module",
    "function",
    "builtin_function_or_method",
    "instance",
    "_Feature"
   ],
   "window_display": false
  }
 },
 "nbformat": 4,
 "nbformat_minor": 5
}
