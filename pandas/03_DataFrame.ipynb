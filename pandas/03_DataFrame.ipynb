{
 "cells": [
  {
   "cell_type": "markdown",
   "id": "f3401f44",
   "metadata": {},
   "source": [
    "# DataFrame"
   ]
  },
  {
   "cell_type": "markdown",
   "id": "c60e6f87",
   "metadata": {},
   "source": [
    "## DataFrame 만들기"
   ]
  },
  {
   "cell_type": "markdown",
   "id": "b4e7a06e",
   "metadata": {},
   "source": [
    "기본 형태 : pd.DataFrame(data, index, cloums)  \n",
    "- index와 columns는 변수를 리스트로 받음\n",
    "- data는 list, dictionary, Series 될 수 있음\n",
    "- dictionary로 생성시 index 혹은 col값 설정 주의"
   ]
  },
  {
   "cell_type": "code",
   "execution_count": 1,
   "id": "0b22f833",
   "metadata": {
    "ExecuteTime": {
     "end_time": "2023-03-12T14:16:38.476880Z",
     "start_time": "2023-03-12T14:16:36.447916Z"
    }
   },
   "outputs": [],
   "source": [
    " import pandas as pd"
   ]
  },
  {
   "cell_type": "markdown",
   "id": "5222431f",
   "metadata": {},
   "source": [
    "### list로 DataFrame 만들기"
   ]
  },
  {
   "cell_type": "code",
   "execution_count": 2,
   "id": "b749cddb",
   "metadata": {
    "ExecuteTime": {
     "end_time": "2023-03-12T14:16:44.248814Z",
     "start_time": "2023-03-12T14:16:44.180779Z"
    }
   },
   "outputs": [
    {
     "data": {
      "text/html": [
       "<div>\n",
       "<style scoped>\n",
       "    .dataframe tbody tr th:only-of-type {\n",
       "        vertical-align: middle;\n",
       "    }\n",
       "\n",
       "    .dataframe tbody tr th {\n",
       "        vertical-align: top;\n",
       "    }\n",
       "\n",
       "    .dataframe thead th {\n",
       "        text-align: right;\n",
       "    }\n",
       "</style>\n",
       "<table border=\"1\" class=\"dataframe\">\n",
       "  <thead>\n",
       "    <tr style=\"text-align: right;\">\n",
       "      <th></th>\n",
       "      <th>성적</th>\n",
       "    </tr>\n",
       "  </thead>\n",
       "  <tbody>\n",
       "    <tr>\n",
       "      <th>영수</th>\n",
       "      <td>a</td>\n",
       "    </tr>\n",
       "    <tr>\n",
       "      <th>영철</th>\n",
       "      <td>b</td>\n",
       "    </tr>\n",
       "    <tr>\n",
       "      <th>영자</th>\n",
       "      <td>c</td>\n",
       "    </tr>\n",
       "    <tr>\n",
       "      <th>영희</th>\n",
       "      <td>d</td>\n",
       "    </tr>\n",
       "    <tr>\n",
       "      <th>영삼</th>\n",
       "      <td>e</td>\n",
       "    </tr>\n",
       "  </tbody>\n",
       "</table>\n",
       "</div>"
      ],
      "text/plain": [
       "   성적\n",
       "영수  a\n",
       "영철  b\n",
       "영자  c\n",
       "영희  d\n",
       "영삼  e"
      ]
     },
     "execution_count": 2,
     "metadata": {},
     "output_type": "execute_result"
    }
   ],
   "source": [
    "ls = [\"a\", \"b\", \"c\", \"d\", \"e\"]\n",
    "\n",
    "ls_df = pd.DataFrame(ls, index=['영수','영철','영자','영희','영삼'], columns=[\"성적\"])\n",
    "ls_df\n"
   ]
  },
  {
   "cell_type": "markdown",
   "id": "707f6608",
   "metadata": {},
   "source": [
    "#### index 와 Column 생성 방법"
   ]
  },
  {
   "cell_type": "markdown",
   "id": "ac9eac58",
   "metadata": {},
   "source": [
    "상기와 같이 작성 하기도 하지만, 리스트 생성뒤 index, columns 설정 하는 방법도 잘 쓰인다"
   ]
  },
  {
   "cell_type": "code",
   "execution_count": 5,
   "id": "c1361921",
   "metadata": {
    "ExecuteTime": {
     "end_time": "2023-03-12T14:30:03.624233Z",
     "start_time": "2023-03-12T14:30:03.606276Z"
    },
    "scrolled": true
   },
   "outputs": [
    {
     "data": {
      "text/html": [
       "<div>\n",
       "<style scoped>\n",
       "    .dataframe tbody tr th:only-of-type {\n",
       "        vertical-align: middle;\n",
       "    }\n",
       "\n",
       "    .dataframe tbody tr th {\n",
       "        vertical-align: top;\n",
       "    }\n",
       "\n",
       "    .dataframe thead th {\n",
       "        text-align: right;\n",
       "    }\n",
       "</style>\n",
       "<table border=\"1\" class=\"dataframe\">\n",
       "  <thead>\n",
       "    <tr style=\"text-align: right;\">\n",
       "      <th></th>\n",
       "      <th>성적</th>\n",
       "    </tr>\n",
       "  </thead>\n",
       "  <tbody>\n",
       "    <tr>\n",
       "      <th>영수</th>\n",
       "      <td>a</td>\n",
       "    </tr>\n",
       "    <tr>\n",
       "      <th>영철</th>\n",
       "      <td>b</td>\n",
       "    </tr>\n",
       "    <tr>\n",
       "      <th>영자</th>\n",
       "      <td>c</td>\n",
       "    </tr>\n",
       "    <tr>\n",
       "      <th>영희</th>\n",
       "      <td>d</td>\n",
       "    </tr>\n",
       "    <tr>\n",
       "      <th>영삼</th>\n",
       "      <td>e</td>\n",
       "    </tr>\n",
       "  </tbody>\n",
       "</table>\n",
       "</div>"
      ],
      "text/plain": [
       "   성적\n",
       "영수  a\n",
       "영철  b\n",
       "영자  c\n",
       "영희  d\n",
       "영삼  e"
      ]
     },
     "execution_count": 5,
     "metadata": {},
     "output_type": "execute_result"
    }
   ],
   "source": [
    "ls_df = pd.DataFrame(ls)\n",
    "ls_df.index = ['영수','영철','영자','영희','영삼']\n",
    "ls_df.columns = [\"성적\"] \n",
    "ls_df"
   ]
  },
  {
   "cell_type": "markdown",
   "id": "51fe9697",
   "metadata": {},
   "source": [
    "colums 의 형태는 list인 점 주의"
   ]
  },
  {
   "cell_type": "markdown",
   "id": "18e08bce",
   "metadata": {},
   "source": [
    "### dictionary로 생성\n"
   ]
  },
  {
   "cell_type": "code",
   "execution_count": 6,
   "id": "01d4c218",
   "metadata": {
    "ExecuteTime": {
     "end_time": "2023-03-12T14:30:39.021268Z",
     "start_time": "2023-03-12T14:30:38.966356Z"
    },
    "scrolled": true
   },
   "outputs": [
    {
     "ename": "ValueError",
     "evalue": "If using all scalar values, you must pass an index",
     "output_type": "error",
     "traceback": [
      "\u001b[1;31m---------------------------------------------------------------------------\u001b[0m",
      "\u001b[1;31mValueError\u001b[0m                                Traceback (most recent call last)",
      "\u001b[1;32m~\\AppData\\Local\\Temp\\ipykernel_2380\\199721173.py\u001b[0m in \u001b[0;36m<module>\u001b[1;34m\u001b[0m\n\u001b[0;32m      1\u001b[0m \u001b[0mdic\u001b[0m \u001b[1;33m=\u001b[0m \u001b[1;33m{\u001b[0m\u001b[1;34m\"영수\"\u001b[0m\u001b[1;33m:\u001b[0m \u001b[1;36m101\u001b[0m\u001b[1;33m,\u001b[0m \u001b[1;34m\"영철\"\u001b[0m\u001b[1;33m:\u001b[0m \u001b[1;36m102\u001b[0m\u001b[1;33m,\u001b[0m \u001b[1;34m\"영삼\"\u001b[0m\u001b[1;33m:\u001b[0m \u001b[1;36m103\u001b[0m\u001b[1;33m,\u001b[0m \u001b[1;34m\"영자\"\u001b[0m\u001b[1;33m:\u001b[0m \u001b[1;36m104\u001b[0m\u001b[1;33m,\u001b[0m \u001b[1;34m\"영호\"\u001b[0m\u001b[1;33m:\u001b[0m \u001b[1;36m105\u001b[0m\u001b[1;33m}\u001b[0m\u001b[1;33m\u001b[0m\u001b[1;33m\u001b[0m\u001b[0m\n\u001b[0;32m      2\u001b[0m \u001b[1;33m\u001b[0m\u001b[0m\n\u001b[1;32m----> 3\u001b[1;33m \u001b[0mdic_df\u001b[0m \u001b[1;33m=\u001b[0m \u001b[0mpd\u001b[0m\u001b[1;33m.\u001b[0m\u001b[0mDataFrame\u001b[0m\u001b[1;33m(\u001b[0m\u001b[0mdic\u001b[0m\u001b[1;33m)\u001b[0m\u001b[1;33m\u001b[0m\u001b[1;33m\u001b[0m\u001b[0m\n\u001b[0m\u001b[0;32m      4\u001b[0m \u001b[0mdic_df\u001b[0m\u001b[1;33m\u001b[0m\u001b[1;33m\u001b[0m\u001b[0m\n",
      "\u001b[1;32m~\\anaconda3\\lib\\site-packages\\pandas\\core\\frame.py\u001b[0m in \u001b[0;36m__init__\u001b[1;34m(self, data, index, columns, dtype, copy)\u001b[0m\n\u001b[0;32m    634\u001b[0m         \u001b[1;32melif\u001b[0m \u001b[0misinstance\u001b[0m\u001b[1;33m(\u001b[0m\u001b[0mdata\u001b[0m\u001b[1;33m,\u001b[0m \u001b[0mdict\u001b[0m\u001b[1;33m)\u001b[0m\u001b[1;33m:\u001b[0m\u001b[1;33m\u001b[0m\u001b[1;33m\u001b[0m\u001b[0m\n\u001b[0;32m    635\u001b[0m             \u001b[1;31m# GH#38939 de facto copy defaults to False only in non-dict cases\u001b[0m\u001b[1;33m\u001b[0m\u001b[1;33m\u001b[0m\u001b[0m\n\u001b[1;32m--> 636\u001b[1;33m             \u001b[0mmgr\u001b[0m \u001b[1;33m=\u001b[0m \u001b[0mdict_to_mgr\u001b[0m\u001b[1;33m(\u001b[0m\u001b[0mdata\u001b[0m\u001b[1;33m,\u001b[0m \u001b[0mindex\u001b[0m\u001b[1;33m,\u001b[0m \u001b[0mcolumns\u001b[0m\u001b[1;33m,\u001b[0m \u001b[0mdtype\u001b[0m\u001b[1;33m=\u001b[0m\u001b[0mdtype\u001b[0m\u001b[1;33m,\u001b[0m \u001b[0mcopy\u001b[0m\u001b[1;33m=\u001b[0m\u001b[0mcopy\u001b[0m\u001b[1;33m,\u001b[0m \u001b[0mtyp\u001b[0m\u001b[1;33m=\u001b[0m\u001b[0mmanager\u001b[0m\u001b[1;33m)\u001b[0m\u001b[1;33m\u001b[0m\u001b[1;33m\u001b[0m\u001b[0m\n\u001b[0m\u001b[0;32m    637\u001b[0m         \u001b[1;32melif\u001b[0m \u001b[0misinstance\u001b[0m\u001b[1;33m(\u001b[0m\u001b[0mdata\u001b[0m\u001b[1;33m,\u001b[0m \u001b[0mma\u001b[0m\u001b[1;33m.\u001b[0m\u001b[0mMaskedArray\u001b[0m\u001b[1;33m)\u001b[0m\u001b[1;33m:\u001b[0m\u001b[1;33m\u001b[0m\u001b[1;33m\u001b[0m\u001b[0m\n\u001b[0;32m    638\u001b[0m             \u001b[1;32mimport\u001b[0m \u001b[0mnumpy\u001b[0m\u001b[1;33m.\u001b[0m\u001b[0mma\u001b[0m\u001b[1;33m.\u001b[0m\u001b[0mmrecords\u001b[0m \u001b[1;32mas\u001b[0m \u001b[0mmrecords\u001b[0m\u001b[1;33m\u001b[0m\u001b[1;33m\u001b[0m\u001b[0m\n",
      "\u001b[1;32m~\\anaconda3\\lib\\site-packages\\pandas\\core\\internals\\construction.py\u001b[0m in \u001b[0;36mdict_to_mgr\u001b[1;34m(data, index, columns, dtype, typ, copy)\u001b[0m\n\u001b[0;32m    500\u001b[0m         \u001b[1;31m# TODO: can we get rid of the dt64tz special case above?\u001b[0m\u001b[1;33m\u001b[0m\u001b[1;33m\u001b[0m\u001b[0m\n\u001b[0;32m    501\u001b[0m \u001b[1;33m\u001b[0m\u001b[0m\n\u001b[1;32m--> 502\u001b[1;33m     \u001b[1;32mreturn\u001b[0m \u001b[0marrays_to_mgr\u001b[0m\u001b[1;33m(\u001b[0m\u001b[0marrays\u001b[0m\u001b[1;33m,\u001b[0m \u001b[0mcolumns\u001b[0m\u001b[1;33m,\u001b[0m \u001b[0mindex\u001b[0m\u001b[1;33m,\u001b[0m \u001b[0mdtype\u001b[0m\u001b[1;33m=\u001b[0m\u001b[0mdtype\u001b[0m\u001b[1;33m,\u001b[0m \u001b[0mtyp\u001b[0m\u001b[1;33m=\u001b[0m\u001b[0mtyp\u001b[0m\u001b[1;33m,\u001b[0m \u001b[0mconsolidate\u001b[0m\u001b[1;33m=\u001b[0m\u001b[0mcopy\u001b[0m\u001b[1;33m)\u001b[0m\u001b[1;33m\u001b[0m\u001b[1;33m\u001b[0m\u001b[0m\n\u001b[0m\u001b[0;32m    503\u001b[0m \u001b[1;33m\u001b[0m\u001b[0m\n\u001b[0;32m    504\u001b[0m \u001b[1;33m\u001b[0m\u001b[0m\n",
      "\u001b[1;32m~\\anaconda3\\lib\\site-packages\\pandas\\core\\internals\\construction.py\u001b[0m in \u001b[0;36marrays_to_mgr\u001b[1;34m(arrays, columns, index, dtype, verify_integrity, typ, consolidate)\u001b[0m\n\u001b[0;32m    118\u001b[0m         \u001b[1;31m# figure out the index, if necessary\u001b[0m\u001b[1;33m\u001b[0m\u001b[1;33m\u001b[0m\u001b[0m\n\u001b[0;32m    119\u001b[0m         \u001b[1;32mif\u001b[0m \u001b[0mindex\u001b[0m \u001b[1;32mis\u001b[0m \u001b[1;32mNone\u001b[0m\u001b[1;33m:\u001b[0m\u001b[1;33m\u001b[0m\u001b[1;33m\u001b[0m\u001b[0m\n\u001b[1;32m--> 120\u001b[1;33m             \u001b[0mindex\u001b[0m \u001b[1;33m=\u001b[0m \u001b[0m_extract_index\u001b[0m\u001b[1;33m(\u001b[0m\u001b[0marrays\u001b[0m\u001b[1;33m)\u001b[0m\u001b[1;33m\u001b[0m\u001b[1;33m\u001b[0m\u001b[0m\n\u001b[0m\u001b[0;32m    121\u001b[0m         \u001b[1;32melse\u001b[0m\u001b[1;33m:\u001b[0m\u001b[1;33m\u001b[0m\u001b[1;33m\u001b[0m\u001b[0m\n\u001b[0;32m    122\u001b[0m             \u001b[0mindex\u001b[0m \u001b[1;33m=\u001b[0m \u001b[0mensure_index\u001b[0m\u001b[1;33m(\u001b[0m\u001b[0mindex\u001b[0m\u001b[1;33m)\u001b[0m\u001b[1;33m\u001b[0m\u001b[1;33m\u001b[0m\u001b[0m\n",
      "\u001b[1;32m~\\anaconda3\\lib\\site-packages\\pandas\\core\\internals\\construction.py\u001b[0m in \u001b[0;36m_extract_index\u001b[1;34m(data)\u001b[0m\n\u001b[0;32m    662\u001b[0m \u001b[1;33m\u001b[0m\u001b[0m\n\u001b[0;32m    663\u001b[0m         \u001b[1;32mif\u001b[0m \u001b[1;32mnot\u001b[0m \u001b[0mindexes\u001b[0m \u001b[1;32mand\u001b[0m \u001b[1;32mnot\u001b[0m \u001b[0mraw_lengths\u001b[0m\u001b[1;33m:\u001b[0m\u001b[1;33m\u001b[0m\u001b[1;33m\u001b[0m\u001b[0m\n\u001b[1;32m--> 664\u001b[1;33m             \u001b[1;32mraise\u001b[0m \u001b[0mValueError\u001b[0m\u001b[1;33m(\u001b[0m\u001b[1;34m\"If using all scalar values, you must pass an index\"\u001b[0m\u001b[1;33m)\u001b[0m\u001b[1;33m\u001b[0m\u001b[1;33m\u001b[0m\u001b[0m\n\u001b[0m\u001b[0;32m    665\u001b[0m \u001b[1;33m\u001b[0m\u001b[0m\n\u001b[0;32m    666\u001b[0m         \u001b[1;32melif\u001b[0m \u001b[0mhave_series\u001b[0m\u001b[1;33m:\u001b[0m\u001b[1;33m\u001b[0m\u001b[1;33m\u001b[0m\u001b[0m\n",
      "\u001b[1;31mValueError\u001b[0m: If using all scalar values, you must pass an index"
     ]
    }
   ],
   "source": [
    "dic = {\"영수\": 101, \"영철\": 102, \"영삼\": 103, \"영자\": 104, \"영호\": 105}\n",
    "\n",
    "dic_df = pd.DataFrame(dic)\n",
    "dic_df"
   ]
  },
  {
   "cell_type": "markdown",
   "id": "ba51625b",
   "metadata": {},
   "source": [
    "dictionary로 생성시 인덱스 지정 하지 않으면 문법적 오류 생성...\n"
   ]
  },
  {
   "cell_type": "code",
   "execution_count": 18,
   "id": "5db3cfe3",
   "metadata": {
    "ExecuteTime": {
     "end_time": "2023-03-12T14:38:55.605294Z",
     "start_time": "2023-03-12T14:38:55.591280Z"
    }
   },
   "outputs": [
    {
     "data": {
      "text/plain": [
       "Int64Index([0], dtype='int64')"
      ]
     },
     "execution_count": 18,
     "metadata": {},
     "output_type": "execute_result"
    }
   ],
   "source": [
    "dic_df = pd.DataFrame(dic, index = [0])  \n",
    "dic_df"
   ]
  },
  {
   "cell_type": "code",
   "execution_count": 19,
   "id": "f9f31ce3",
   "metadata": {
    "ExecuteTime": {
     "end_time": "2023-03-12T14:40:00.630530Z",
     "start_time": "2023-03-12T14:40:00.591324Z"
    }
   },
   "outputs": [
    {
     "ename": "ValueError",
     "evalue": "Length mismatch: Expected axis has 5 elements, new values have 1 elements",
     "output_type": "error",
     "traceback": [
      "\u001b[1;31m---------------------------------------------------------------------------\u001b[0m",
      "\u001b[1;31mValueError\u001b[0m                                Traceback (most recent call last)",
      "\u001b[1;32m~\\AppData\\Local\\Temp\\ipykernel_2380\\2588718834.py\u001b[0m in \u001b[0;36m<module>\u001b[1;34m\u001b[0m\n\u001b[1;32m----> 1\u001b[1;33m \u001b[0mdic_df\u001b[0m\u001b[1;33m.\u001b[0m\u001b[0mcolumns\u001b[0m \u001b[1;33m=\u001b[0m \u001b[1;33m[\u001b[0m\u001b[1;34m\"성적\"\u001b[0m\u001b[1;33m]\u001b[0m\u001b[1;33m\u001b[0m\u001b[1;33m\u001b[0m\u001b[0m\n\u001b[0m\u001b[0;32m      2\u001b[0m \u001b[0mdic_df\u001b[0m\u001b[1;33m\u001b[0m\u001b[1;33m\u001b[0m\u001b[0m\n",
      "\u001b[1;32m~\\anaconda3\\lib\\site-packages\\pandas\\core\\generic.py\u001b[0m in \u001b[0;36m__setattr__\u001b[1;34m(self, name, value)\u001b[0m\n\u001b[0;32m   5586\u001b[0m         \u001b[1;32mtry\u001b[0m\u001b[1;33m:\u001b[0m\u001b[1;33m\u001b[0m\u001b[1;33m\u001b[0m\u001b[0m\n\u001b[0;32m   5587\u001b[0m             \u001b[0mobject\u001b[0m\u001b[1;33m.\u001b[0m\u001b[0m__getattribute__\u001b[0m\u001b[1;33m(\u001b[0m\u001b[0mself\u001b[0m\u001b[1;33m,\u001b[0m \u001b[0mname\u001b[0m\u001b[1;33m)\u001b[0m\u001b[1;33m\u001b[0m\u001b[1;33m\u001b[0m\u001b[0m\n\u001b[1;32m-> 5588\u001b[1;33m             \u001b[1;32mreturn\u001b[0m \u001b[0mobject\u001b[0m\u001b[1;33m.\u001b[0m\u001b[0m__setattr__\u001b[0m\u001b[1;33m(\u001b[0m\u001b[0mself\u001b[0m\u001b[1;33m,\u001b[0m \u001b[0mname\u001b[0m\u001b[1;33m,\u001b[0m \u001b[0mvalue\u001b[0m\u001b[1;33m)\u001b[0m\u001b[1;33m\u001b[0m\u001b[1;33m\u001b[0m\u001b[0m\n\u001b[0m\u001b[0;32m   5589\u001b[0m         \u001b[1;32mexcept\u001b[0m \u001b[0mAttributeError\u001b[0m\u001b[1;33m:\u001b[0m\u001b[1;33m\u001b[0m\u001b[1;33m\u001b[0m\u001b[0m\n\u001b[0;32m   5590\u001b[0m             \u001b[1;32mpass\u001b[0m\u001b[1;33m\u001b[0m\u001b[1;33m\u001b[0m\u001b[0m\n",
      "\u001b[1;32m~\\anaconda3\\lib\\site-packages\\pandas\\_libs\\properties.pyx\u001b[0m in \u001b[0;36mpandas._libs.properties.AxisProperty.__set__\u001b[1;34m()\u001b[0m\n",
      "\u001b[1;32m~\\anaconda3\\lib\\site-packages\\pandas\\core\\generic.py\u001b[0m in \u001b[0;36m_set_axis\u001b[1;34m(self, axis, labels)\u001b[0m\n\u001b[0;32m    767\u001b[0m     \u001b[1;32mdef\u001b[0m \u001b[0m_set_axis\u001b[0m\u001b[1;33m(\u001b[0m\u001b[0mself\u001b[0m\u001b[1;33m,\u001b[0m \u001b[0maxis\u001b[0m\u001b[1;33m:\u001b[0m \u001b[0mint\u001b[0m\u001b[1;33m,\u001b[0m \u001b[0mlabels\u001b[0m\u001b[1;33m:\u001b[0m \u001b[0mIndex\u001b[0m\u001b[1;33m)\u001b[0m \u001b[1;33m->\u001b[0m \u001b[1;32mNone\u001b[0m\u001b[1;33m:\u001b[0m\u001b[1;33m\u001b[0m\u001b[1;33m\u001b[0m\u001b[0m\n\u001b[0;32m    768\u001b[0m         \u001b[0mlabels\u001b[0m \u001b[1;33m=\u001b[0m \u001b[0mensure_index\u001b[0m\u001b[1;33m(\u001b[0m\u001b[0mlabels\u001b[0m\u001b[1;33m)\u001b[0m\u001b[1;33m\u001b[0m\u001b[1;33m\u001b[0m\u001b[0m\n\u001b[1;32m--> 769\u001b[1;33m         \u001b[0mself\u001b[0m\u001b[1;33m.\u001b[0m\u001b[0m_mgr\u001b[0m\u001b[1;33m.\u001b[0m\u001b[0mset_axis\u001b[0m\u001b[1;33m(\u001b[0m\u001b[0maxis\u001b[0m\u001b[1;33m,\u001b[0m \u001b[0mlabels\u001b[0m\u001b[1;33m)\u001b[0m\u001b[1;33m\u001b[0m\u001b[1;33m\u001b[0m\u001b[0m\n\u001b[0m\u001b[0;32m    770\u001b[0m         \u001b[0mself\u001b[0m\u001b[1;33m.\u001b[0m\u001b[0m_clear_item_cache\u001b[0m\u001b[1;33m(\u001b[0m\u001b[1;33m)\u001b[0m\u001b[1;33m\u001b[0m\u001b[1;33m\u001b[0m\u001b[0m\n\u001b[0;32m    771\u001b[0m \u001b[1;33m\u001b[0m\u001b[0m\n",
      "\u001b[1;32m~\\anaconda3\\lib\\site-packages\\pandas\\core\\internals\\managers.py\u001b[0m in \u001b[0;36mset_axis\u001b[1;34m(self, axis, new_labels)\u001b[0m\n\u001b[0;32m    212\u001b[0m     \u001b[1;32mdef\u001b[0m \u001b[0mset_axis\u001b[0m\u001b[1;33m(\u001b[0m\u001b[0mself\u001b[0m\u001b[1;33m,\u001b[0m \u001b[0maxis\u001b[0m\u001b[1;33m:\u001b[0m \u001b[0mint\u001b[0m\u001b[1;33m,\u001b[0m \u001b[0mnew_labels\u001b[0m\u001b[1;33m:\u001b[0m \u001b[0mIndex\u001b[0m\u001b[1;33m)\u001b[0m \u001b[1;33m->\u001b[0m \u001b[1;32mNone\u001b[0m\u001b[1;33m:\u001b[0m\u001b[1;33m\u001b[0m\u001b[1;33m\u001b[0m\u001b[0m\n\u001b[0;32m    213\u001b[0m         \u001b[1;31m# Caller is responsible for ensuring we have an Index object.\u001b[0m\u001b[1;33m\u001b[0m\u001b[1;33m\u001b[0m\u001b[0m\n\u001b[1;32m--> 214\u001b[1;33m         \u001b[0mself\u001b[0m\u001b[1;33m.\u001b[0m\u001b[0m_validate_set_axis\u001b[0m\u001b[1;33m(\u001b[0m\u001b[0maxis\u001b[0m\u001b[1;33m,\u001b[0m \u001b[0mnew_labels\u001b[0m\u001b[1;33m)\u001b[0m\u001b[1;33m\u001b[0m\u001b[1;33m\u001b[0m\u001b[0m\n\u001b[0m\u001b[0;32m    215\u001b[0m         \u001b[0mself\u001b[0m\u001b[1;33m.\u001b[0m\u001b[0maxes\u001b[0m\u001b[1;33m[\u001b[0m\u001b[0maxis\u001b[0m\u001b[1;33m]\u001b[0m \u001b[1;33m=\u001b[0m \u001b[0mnew_labels\u001b[0m\u001b[1;33m\u001b[0m\u001b[1;33m\u001b[0m\u001b[0m\n\u001b[0;32m    216\u001b[0m \u001b[1;33m\u001b[0m\u001b[0m\n",
      "\u001b[1;32m~\\anaconda3\\lib\\site-packages\\pandas\\core\\internals\\base.py\u001b[0m in \u001b[0;36m_validate_set_axis\u001b[1;34m(self, axis, new_labels)\u001b[0m\n\u001b[0;32m     67\u001b[0m \u001b[1;33m\u001b[0m\u001b[0m\n\u001b[0;32m     68\u001b[0m         \u001b[1;32melif\u001b[0m \u001b[0mnew_len\u001b[0m \u001b[1;33m!=\u001b[0m \u001b[0mold_len\u001b[0m\u001b[1;33m:\u001b[0m\u001b[1;33m\u001b[0m\u001b[1;33m\u001b[0m\u001b[0m\n\u001b[1;32m---> 69\u001b[1;33m             raise ValueError(\n\u001b[0m\u001b[0;32m     70\u001b[0m                 \u001b[1;34mf\"Length mismatch: Expected axis has {old_len} elements, new \"\u001b[0m\u001b[1;33m\u001b[0m\u001b[1;33m\u001b[0m\u001b[0m\n\u001b[0;32m     71\u001b[0m                 \u001b[1;34mf\"values have {new_len} elements\"\u001b[0m\u001b[1;33m\u001b[0m\u001b[1;33m\u001b[0m\u001b[0m\n",
      "\u001b[1;31mValueError\u001b[0m: Length mismatch: Expected axis has 5 elements, new values have 1 elements"
     ]
    }
   ],
   "source": [
    "dic_df.columns = [\"성적\"]\n",
    "dic_df"
   ]
  },
  {
   "cell_type": "code",
   "execution_count": 25,
   "id": "dbc1f6cf",
   "metadata": {
    "ExecuteTime": {
     "end_time": "2023-03-12T14:41:03.854782Z",
     "start_time": "2023-03-12T14:41:03.843794Z"
    }
   },
   "outputs": [
    {
     "data": {
      "text/plain": [
       "dict_values"
      ]
     },
     "execution_count": 25,
     "metadata": {},
     "output_type": "execute_result"
    }
   ],
   "source": [
    "type(dic.values())"
   ]
  },
  {
   "cell_type": "code",
   "execution_count": 26,
   "id": "f0c84250",
   "metadata": {
    "ExecuteTime": {
     "end_time": "2023-03-12T14:41:24.456854Z",
     "start_time": "2023-03-12T14:41:24.442934Z"
    }
   },
   "outputs": [
    {
     "data": {
      "text/plain": [
       "dict_values([101, 102, 103, 104, 105])"
      ]
     },
     "execution_count": 26,
     "metadata": {},
     "output_type": "execute_result"
    }
   ],
   "source": [
    "dic.values()"
   ]
  },
  {
   "cell_type": "code",
   "execution_count": 27,
   "id": "d439c5ae",
   "metadata": {
    "ExecuteTime": {
     "end_time": "2023-03-12T14:41:36.456767Z",
     "start_time": "2023-03-12T14:41:36.434828Z"
    }
   },
   "outputs": [
    {
     "data": {
      "text/html": [
       "<div>\n",
       "<style scoped>\n",
       "    .dataframe tbody tr th:only-of-type {\n",
       "        vertical-align: middle;\n",
       "    }\n",
       "\n",
       "    .dataframe tbody tr th {\n",
       "        vertical-align: top;\n",
       "    }\n",
       "\n",
       "    .dataframe thead th {\n",
       "        text-align: right;\n",
       "    }\n",
       "</style>\n",
       "<table border=\"1\" class=\"dataframe\">\n",
       "  <thead>\n",
       "    <tr style=\"text-align: right;\">\n",
       "      <th></th>\n",
       "      <th>0</th>\n",
       "    </tr>\n",
       "  </thead>\n",
       "  <tbody>\n",
       "    <tr>\n",
       "      <th>0</th>\n",
       "      <td>101</td>\n",
       "    </tr>\n",
       "    <tr>\n",
       "      <th>1</th>\n",
       "      <td>102</td>\n",
       "    </tr>\n",
       "    <tr>\n",
       "      <th>2</th>\n",
       "      <td>103</td>\n",
       "    </tr>\n",
       "    <tr>\n",
       "      <th>3</th>\n",
       "      <td>104</td>\n",
       "    </tr>\n",
       "    <tr>\n",
       "      <th>4</th>\n",
       "      <td>105</td>\n",
       "    </tr>\n",
       "  </tbody>\n",
       "</table>\n",
       "</div>"
      ],
      "text/plain": [
       "     0\n",
       "0  101\n",
       "1  102\n",
       "2  103\n",
       "3  104\n",
       "4  105"
      ]
     },
     "execution_count": 27,
     "metadata": {},
     "output_type": "execute_result"
    }
   ],
   "source": [
    "dic_df = pd.DataFrame(dic.values())\n",
    "dic_df"
   ]
  },
  {
   "cell_type": "code",
   "execution_count": 29,
   "id": "2778057b",
   "metadata": {
    "ExecuteTime": {
     "end_time": "2023-03-12T14:42:02.325471Z",
     "start_time": "2023-03-12T14:42:02.309813Z"
    }
   },
   "outputs": [
    {
     "data": {
      "text/html": [
       "<div>\n",
       "<style scoped>\n",
       "    .dataframe tbody tr th:only-of-type {\n",
       "        vertical-align: middle;\n",
       "    }\n",
       "\n",
       "    .dataframe tbody tr th {\n",
       "        vertical-align: top;\n",
       "    }\n",
       "\n",
       "    .dataframe thead th {\n",
       "        text-align: right;\n",
       "    }\n",
       "</style>\n",
       "<table border=\"1\" class=\"dataframe\">\n",
       "  <thead>\n",
       "    <tr style=\"text-align: right;\">\n",
       "      <th></th>\n",
       "      <th>성적</th>\n",
       "    </tr>\n",
       "  </thead>\n",
       "  <tbody>\n",
       "    <tr>\n",
       "      <th>영수</th>\n",
       "      <td>101</td>\n",
       "    </tr>\n",
       "    <tr>\n",
       "      <th>영철</th>\n",
       "      <td>102</td>\n",
       "    </tr>\n",
       "    <tr>\n",
       "      <th>영삼</th>\n",
       "      <td>103</td>\n",
       "    </tr>\n",
       "    <tr>\n",
       "      <th>영자</th>\n",
       "      <td>104</td>\n",
       "    </tr>\n",
       "    <tr>\n",
       "      <th>영호</th>\n",
       "      <td>105</td>\n",
       "    </tr>\n",
       "  </tbody>\n",
       "</table>\n",
       "</div>"
      ],
      "text/plain": [
       "     성적\n",
       "영수  101\n",
       "영철  102\n",
       "영삼  103\n",
       "영자  104\n",
       "영호  105"
      ]
     },
     "execution_count": 29,
     "metadata": {},
     "output_type": "execute_result"
    }
   ],
   "source": [
    "dic_df.index = dic.keys()\n",
    "dic_df.columns = ['성적']\n",
    "dic_df"
   ]
  },
  {
   "cell_type": "markdown",
   "id": "283e3bcb",
   "metadata": {},
   "source": [
    "### Series로 생성하기"
   ]
  },
  {
   "cell_type": "code",
   "execution_count": 32,
   "id": "385b4dea",
   "metadata": {
    "ExecuteTime": {
     "end_time": "2023-03-12T14:42:49.651792Z",
     "start_time": "2023-03-12T14:42:49.623867Z"
    }
   },
   "outputs": [
    {
     "name": "stderr",
     "output_type": "stream",
     "text": [
      "C:\\Users\\proyj\\AppData\\Local\\Temp\\ipykernel_2380\\4061878558.py:1: FutureWarning: The squeeze argument has been deprecated and will be removed in a future version. Append .squeeze(\"columns\") to the call to squeeze.\n",
      "\n",
      "\n",
      "  samsung = pd.read_csv('삼성전자 종가.csv', index_col = 0, squeeze = True, header = 0)\n"
     ]
    },
    {
     "data": {
      "text/html": [
       "<div>\n",
       "<style scoped>\n",
       "    .dataframe tbody tr th:only-of-type {\n",
       "        vertical-align: middle;\n",
       "    }\n",
       "\n",
       "    .dataframe tbody tr th {\n",
       "        vertical-align: top;\n",
       "    }\n",
       "\n",
       "    .dataframe thead th {\n",
       "        text-align: right;\n",
       "    }\n",
       "</style>\n",
       "<table border=\"1\" class=\"dataframe\">\n",
       "  <thead>\n",
       "    <tr style=\"text-align: right;\">\n",
       "      <th></th>\n",
       "      <th>Close</th>\n",
       "    </tr>\n",
       "    <tr>\n",
       "      <th>Date</th>\n",
       "      <th></th>\n",
       "    </tr>\n",
       "  </thead>\n",
       "  <tbody>\n",
       "    <tr>\n",
       "      <th>2018-01-02</th>\n",
       "      <td>51020</td>\n",
       "    </tr>\n",
       "    <tr>\n",
       "      <th>2018-01-03</th>\n",
       "      <td>51620</td>\n",
       "    </tr>\n",
       "    <tr>\n",
       "      <th>2018-01-04</th>\n",
       "      <td>51080</td>\n",
       "    </tr>\n",
       "    <tr>\n",
       "      <th>2018-01-05</th>\n",
       "      <td>52120</td>\n",
       "    </tr>\n",
       "    <tr>\n",
       "      <th>2018-01-08</th>\n",
       "      <td>52020</td>\n",
       "    </tr>\n",
       "    <tr>\n",
       "      <th>...</th>\n",
       "      <td>...</td>\n",
       "    </tr>\n",
       "    <tr>\n",
       "      <th>2021-12-13</th>\n",
       "      <td>76800</td>\n",
       "    </tr>\n",
       "    <tr>\n",
       "      <th>2021-12-14</th>\n",
       "      <td>77000</td>\n",
       "    </tr>\n",
       "    <tr>\n",
       "      <th>2021-12-15</th>\n",
       "      <td>77600</td>\n",
       "    </tr>\n",
       "    <tr>\n",
       "      <th>2021-12-16</th>\n",
       "      <td>77800</td>\n",
       "    </tr>\n",
       "    <tr>\n",
       "      <th>2021-12-17</th>\n",
       "      <td>78000</td>\n",
       "    </tr>\n",
       "  </tbody>\n",
       "</table>\n",
       "<p>977 rows × 1 columns</p>\n",
       "</div>"
      ],
      "text/plain": [
       "            Close\n",
       "Date             \n",
       "2018-01-02  51020\n",
       "2018-01-03  51620\n",
       "2018-01-04  51080\n",
       "2018-01-05  52120\n",
       "2018-01-08  52020\n",
       "...           ...\n",
       "2021-12-13  76800\n",
       "2021-12-14  77000\n",
       "2021-12-15  77600\n",
       "2021-12-16  77800\n",
       "2021-12-17  78000\n",
       "\n",
       "[977 rows x 1 columns]"
      ]
     },
     "execution_count": 32,
     "metadata": {},
     "output_type": "execute_result"
    }
   ],
   "source": [
    "samsung = pd.read_csv('삼성전자 종가.csv', index_col = 0, squeeze = True, header = 0)\n",
    "samsung_df = pd.DataFrame(samsung)\n",
    "samsung_df"
   ]
  },
  {
   "cell_type": "code",
   "execution_count": 33,
   "id": "5d2c5d4e",
   "metadata": {
    "ExecuteTime": {
     "end_time": "2023-03-12T14:43:01.115141Z",
     "start_time": "2023-03-12T14:43:01.103142Z"
    }
   },
   "outputs": [
    {
     "data": {
      "text/plain": [
       "pandas.core.frame.DataFrame"
      ]
     },
     "execution_count": 33,
     "metadata": {},
     "output_type": "execute_result"
    }
   ],
   "source": [
    "type(samsung_df)"
   ]
  },
  {
   "cell_type": "code",
   "execution_count": 34,
   "id": "7d40d070",
   "metadata": {
    "ExecuteTime": {
     "end_time": "2023-03-12T14:43:13.798443Z",
     "start_time": "2023-03-12T14:43:13.782970Z"
    }
   },
   "outputs": [
    {
     "data": {
      "text/plain": [
       "Index(['2018-01-02', '2018-01-03', '2018-01-04', '2018-01-05', '2018-01-08',\n",
       "       '2018-01-09', '2018-01-10', '2018-01-11', '2018-01-12', '2018-01-15',\n",
       "       ...\n",
       "       '2021-12-06', '2021-12-07', '2021-12-08', '2021-12-09', '2021-12-10',\n",
       "       '2021-12-13', '2021-12-14', '2021-12-15', '2021-12-16', '2021-12-17'],\n",
       "      dtype='object', name='Date', length=977)"
      ]
     },
     "execution_count": 34,
     "metadata": {},
     "output_type": "execute_result"
    }
   ],
   "source": [
    "samsung_df.index"
   ]
  },
  {
   "cell_type": "code",
   "execution_count": 35,
   "id": "8ddec1c1",
   "metadata": {
    "ExecuteTime": {
     "end_time": "2023-03-12T14:43:23.545159Z",
     "start_time": "2023-03-12T14:43:23.531216Z"
    },
    "scrolled": true
   },
   "outputs": [
    {
     "data": {
      "text/plain": [
       "Index(['Close'], dtype='object')"
      ]
     },
     "execution_count": 35,
     "metadata": {},
     "output_type": "execute_result"
    }
   ],
   "source": [
    "samsung_df.columns"
   ]
  },
  {
   "cell_type": "markdown",
   "id": "24746497",
   "metadata": {},
   "source": [
    "## 외부 데이터에서 가져오기"
   ]
  },
  {
   "cell_type": "code",
   "execution_count": 43,
   "id": "4c5782f9",
   "metadata": {
    "ExecuteTime": {
     "end_time": "2023-03-12T14:52:37.911545Z",
     "start_time": "2023-03-12T14:52:37.895920Z"
    }
   },
   "outputs": [],
   "source": [
    "import pandas as pd"
   ]
  },
  {
   "cell_type": "markdown",
   "id": "c4529c08",
   "metadata": {},
   "source": [
    "cf.  \n",
    "Series :   \n",
    "pd.read_csv(path, index_col, header, squeeze = True)\n",
    "\n",
    "DataFrame :  \n",
    "pd.read_csv(path, index_col, header, squeeze = False)  \n",
    "pd.read_csv(path, index_col, header)  "
   ]
  },
  {
   "cell_type": "code",
   "execution_count": 42,
   "id": "40712d37",
   "metadata": {
    "ExecuteTime": {
     "end_time": "2023-03-12T14:52:14.378847Z",
     "start_time": "2023-03-12T14:52:14.356939Z"
    }
   },
   "outputs": [
    {
     "data": {
      "text/html": [
       "<div>\n",
       "<style scoped>\n",
       "    .dataframe tbody tr th:only-of-type {\n",
       "        vertical-align: middle;\n",
       "    }\n",
       "\n",
       "    .dataframe tbody tr th {\n",
       "        vertical-align: top;\n",
       "    }\n",
       "\n",
       "    .dataframe thead th {\n",
       "        text-align: right;\n",
       "    }\n",
       "</style>\n",
       "<table border=\"1\" class=\"dataframe\">\n",
       "  <thead>\n",
       "    <tr style=\"text-align: right;\">\n",
       "      <th></th>\n",
       "      <th>Open</th>\n",
       "      <th>High</th>\n",
       "      <th>Low</th>\n",
       "      <th>Close</th>\n",
       "      <th>Volume</th>\n",
       "      <th>Change</th>\n",
       "    </tr>\n",
       "    <tr>\n",
       "      <th>Date</th>\n",
       "      <th></th>\n",
       "      <th></th>\n",
       "      <th></th>\n",
       "      <th></th>\n",
       "      <th></th>\n",
       "      <th></th>\n",
       "    </tr>\n",
       "  </thead>\n",
       "  <tbody>\n",
       "    <tr>\n",
       "      <th>2018-01-02</th>\n",
       "      <td>368000</td>\n",
       "      <td>370000</td>\n",
       "      <td>360500</td>\n",
       "      <td>360500</td>\n",
       "      <td>92533</td>\n",
       "      <td>-0.020380</td>\n",
       "    </tr>\n",
       "    <tr>\n",
       "      <th>2018-01-03</th>\n",
       "      <td>360000</td>\n",
       "      <td>368500</td>\n",
       "      <td>360000</td>\n",
       "      <td>363000</td>\n",
       "      <td>81340</td>\n",
       "      <td>0.006935</td>\n",
       "    </tr>\n",
       "    <tr>\n",
       "      <th>2018-01-04</th>\n",
       "      <td>367500</td>\n",
       "      <td>367500</td>\n",
       "      <td>349000</td>\n",
       "      <td>349000</td>\n",
       "      <td>190391</td>\n",
       "      <td>-0.038567</td>\n",
       "    </tr>\n",
       "    <tr>\n",
       "      <th>2018-01-05</th>\n",
       "      <td>351000</td>\n",
       "      <td>352000</td>\n",
       "      <td>348000</td>\n",
       "      <td>351500</td>\n",
       "      <td>99268</td>\n",
       "      <td>0.007163</td>\n",
       "    </tr>\n",
       "    <tr>\n",
       "      <th>2018-01-08</th>\n",
       "      <td>359000</td>\n",
       "      <td>383500</td>\n",
       "      <td>358000</td>\n",
       "      <td>383500</td>\n",
       "      <td>490208</td>\n",
       "      <td>0.091038</td>\n",
       "    </tr>\n",
       "    <tr>\n",
       "      <th>...</th>\n",
       "      <td>...</td>\n",
       "      <td>...</td>\n",
       "      <td>...</td>\n",
       "      <td>...</td>\n",
       "      <td>...</td>\n",
       "      <td>...</td>\n",
       "    </tr>\n",
       "    <tr>\n",
       "      <th>2021-12-16</th>\n",
       "      <td>233000</td>\n",
       "      <td>234000</td>\n",
       "      <td>224500</td>\n",
       "      <td>228000</td>\n",
       "      <td>144647</td>\n",
       "      <td>-0.012987</td>\n",
       "    </tr>\n",
       "    <tr>\n",
       "      <th>2021-12-17</th>\n",
       "      <td>227000</td>\n",
       "      <td>235000</td>\n",
       "      <td>226500</td>\n",
       "      <td>234500</td>\n",
       "      <td>138945</td>\n",
       "      <td>0.028509</td>\n",
       "    </tr>\n",
       "    <tr>\n",
       "      <th>2021-12-20</th>\n",
       "      <td>232000</td>\n",
       "      <td>233500</td>\n",
       "      <td>228000</td>\n",
       "      <td>229500</td>\n",
       "      <td>90630</td>\n",
       "      <td>-0.021322</td>\n",
       "    </tr>\n",
       "    <tr>\n",
       "      <th>2021-12-21</th>\n",
       "      <td>232000</td>\n",
       "      <td>232500</td>\n",
       "      <td>227000</td>\n",
       "      <td>229500</td>\n",
       "      <td>98669</td>\n",
       "      <td>0.000000</td>\n",
       "    </tr>\n",
       "    <tr>\n",
       "      <th>2021-12-22</th>\n",
       "      <td>229000</td>\n",
       "      <td>230000</td>\n",
       "      <td>225000</td>\n",
       "      <td>225000</td>\n",
       "      <td>99419</td>\n",
       "      <td>-0.019608</td>\n",
       "    </tr>\n",
       "  </tbody>\n",
       "</table>\n",
       "<p>980 rows × 6 columns</p>\n",
       "</div>"
      ],
      "text/plain": [
       "              Open    High     Low   Close  Volume    Change\n",
       "Date                                                        \n",
       "2018-01-02  368000  370000  360500  360500   92533 -0.020380\n",
       "2018-01-03  360000  368500  360000  363000   81340  0.006935\n",
       "2018-01-04  367500  367500  349000  349000  190391 -0.038567\n",
       "2018-01-05  351000  352000  348000  351500   99268  0.007163\n",
       "2018-01-08  359000  383500  358000  383500  490208  0.091038\n",
       "...            ...     ...     ...     ...     ...       ...\n",
       "2021-12-16  233000  234000  224500  228000  144647 -0.012987\n",
       "2021-12-17  227000  235000  226500  234500  138945  0.028509\n",
       "2021-12-20  232000  233500  228000  229500   90630 -0.021322\n",
       "2021-12-21  232000  232500  227000  229500   98669  0.000000\n",
       "2021-12-22  229000  230000  225000  225000   99419 -0.019608\n",
       "\n",
       "[980 rows x 6 columns]"
      ]
     },
     "execution_count": 42,
     "metadata": {},
     "output_type": "execute_result"
    }
   ],
   "source": [
    "lotte_che = pd.read_csv('롯데케미칼.csv', index_col = 'Date')\n",
    "lotte_che"
   ]
  },
  {
   "cell_type": "code",
   "execution_count": 44,
   "id": "364f88f0",
   "metadata": {
    "ExecuteTime": {
     "end_time": "2023-03-12T14:52:52.495640Z",
     "start_time": "2023-03-12T14:52:52.435517Z"
    }
   },
   "outputs": [
    {
     "data": {
      "text/html": [
       "<div>\n",
       "<style scoped>\n",
       "    .dataframe tbody tr th:only-of-type {\n",
       "        vertical-align: middle;\n",
       "    }\n",
       "\n",
       "    .dataframe tbody tr th {\n",
       "        vertical-align: top;\n",
       "    }\n",
       "\n",
       "    .dataframe thead th {\n",
       "        text-align: right;\n",
       "    }\n",
       "</style>\n",
       "<table border=\"1\" class=\"dataframe\">\n",
       "  <thead>\n",
       "    <tr style=\"text-align: right;\">\n",
       "      <th></th>\n",
       "      <th>Date</th>\n",
       "      <th>Open</th>\n",
       "      <th>Low</th>\n",
       "      <th>Close</th>\n",
       "      <th>Volume</th>\n",
       "      <th>Change</th>\n",
       "    </tr>\n",
       "    <tr>\n",
       "      <th>High</th>\n",
       "      <th></th>\n",
       "      <th></th>\n",
       "      <th></th>\n",
       "      <th></th>\n",
       "      <th></th>\n",
       "      <th></th>\n",
       "    </tr>\n",
       "  </thead>\n",
       "  <tbody>\n",
       "    <tr>\n",
       "      <th>370000</th>\n",
       "      <td>2018-01-02</td>\n",
       "      <td>368000</td>\n",
       "      <td>360500</td>\n",
       "      <td>360500</td>\n",
       "      <td>92533</td>\n",
       "      <td>-0.020380</td>\n",
       "    </tr>\n",
       "    <tr>\n",
       "      <th>368500</th>\n",
       "      <td>2018-01-03</td>\n",
       "      <td>360000</td>\n",
       "      <td>360000</td>\n",
       "      <td>363000</td>\n",
       "      <td>81340</td>\n",
       "      <td>0.006935</td>\n",
       "    </tr>\n",
       "    <tr>\n",
       "      <th>367500</th>\n",
       "      <td>2018-01-04</td>\n",
       "      <td>367500</td>\n",
       "      <td>349000</td>\n",
       "      <td>349000</td>\n",
       "      <td>190391</td>\n",
       "      <td>-0.038567</td>\n",
       "    </tr>\n",
       "    <tr>\n",
       "      <th>352000</th>\n",
       "      <td>2018-01-05</td>\n",
       "      <td>351000</td>\n",
       "      <td>348000</td>\n",
       "      <td>351500</td>\n",
       "      <td>99268</td>\n",
       "      <td>0.007163</td>\n",
       "    </tr>\n",
       "    <tr>\n",
       "      <th>383500</th>\n",
       "      <td>2018-01-08</td>\n",
       "      <td>359000</td>\n",
       "      <td>358000</td>\n",
       "      <td>383500</td>\n",
       "      <td>490208</td>\n",
       "      <td>0.091038</td>\n",
       "    </tr>\n",
       "    <tr>\n",
       "      <th>...</th>\n",
       "      <td>...</td>\n",
       "      <td>...</td>\n",
       "      <td>...</td>\n",
       "      <td>...</td>\n",
       "      <td>...</td>\n",
       "      <td>...</td>\n",
       "    </tr>\n",
       "    <tr>\n",
       "      <th>234000</th>\n",
       "      <td>2021-12-16</td>\n",
       "      <td>233000</td>\n",
       "      <td>224500</td>\n",
       "      <td>228000</td>\n",
       "      <td>144647</td>\n",
       "      <td>-0.012987</td>\n",
       "    </tr>\n",
       "    <tr>\n",
       "      <th>235000</th>\n",
       "      <td>2021-12-17</td>\n",
       "      <td>227000</td>\n",
       "      <td>226500</td>\n",
       "      <td>234500</td>\n",
       "      <td>138945</td>\n",
       "      <td>0.028509</td>\n",
       "    </tr>\n",
       "    <tr>\n",
       "      <th>233500</th>\n",
       "      <td>2021-12-20</td>\n",
       "      <td>232000</td>\n",
       "      <td>228000</td>\n",
       "      <td>229500</td>\n",
       "      <td>90630</td>\n",
       "      <td>-0.021322</td>\n",
       "    </tr>\n",
       "    <tr>\n",
       "      <th>232500</th>\n",
       "      <td>2021-12-21</td>\n",
       "      <td>232000</td>\n",
       "      <td>227000</td>\n",
       "      <td>229500</td>\n",
       "      <td>98669</td>\n",
       "      <td>0.000000</td>\n",
       "    </tr>\n",
       "    <tr>\n",
       "      <th>230000</th>\n",
       "      <td>2021-12-22</td>\n",
       "      <td>229000</td>\n",
       "      <td>225000</td>\n",
       "      <td>225000</td>\n",
       "      <td>99419</td>\n",
       "      <td>-0.019608</td>\n",
       "    </tr>\n",
       "  </tbody>\n",
       "</table>\n",
       "<p>980 rows × 6 columns</p>\n",
       "</div>"
      ],
      "text/plain": [
       "              Date    Open     Low   Close  Volume    Change\n",
       "High                                                        \n",
       "370000  2018-01-02  368000  360500  360500   92533 -0.020380\n",
       "368500  2018-01-03  360000  360000  363000   81340  0.006935\n",
       "367500  2018-01-04  367500  349000  349000  190391 -0.038567\n",
       "352000  2018-01-05  351000  348000  351500   99268  0.007163\n",
       "383500  2018-01-08  359000  358000  383500  490208  0.091038\n",
       "...            ...     ...     ...     ...     ...       ...\n",
       "234000  2021-12-16  233000  224500  228000  144647 -0.012987\n",
       "235000  2021-12-17  227000  226500  234500  138945  0.028509\n",
       "233500  2021-12-20  232000  228000  229500   90630 -0.021322\n",
       "232500  2021-12-21  232000  227000  229500   98669  0.000000\n",
       "230000  2021-12-22  229000  225000  225000   99419 -0.019608\n",
       "\n",
       "[980 rows x 6 columns]"
      ]
     },
     "execution_count": 44,
     "metadata": {},
     "output_type": "execute_result"
    }
   ],
   "source": [
    "lotte_che = pd.read_csv('롯데케미칼.csv', index_col = 'High')\n",
    "lotte_che"
   ]
  },
  {
   "cell_type": "code",
   "execution_count": 38,
   "id": "0215fb6b",
   "metadata": {
    "ExecuteTime": {
     "end_time": "2023-03-12T14:51:36.002354Z",
     "start_time": "2023-03-12T14:51:35.972693Z"
    }
   },
   "outputs": [
    {
     "data": {
      "text/html": [
       "<div>\n",
       "<style scoped>\n",
       "    .dataframe tbody tr th:only-of-type {\n",
       "        vertical-align: middle;\n",
       "    }\n",
       "\n",
       "    .dataframe tbody tr th {\n",
       "        vertical-align: top;\n",
       "    }\n",
       "\n",
       "    .dataframe thead th {\n",
       "        text-align: right;\n",
       "    }\n",
       "</style>\n",
       "<table border=\"1\" class=\"dataframe\">\n",
       "  <thead>\n",
       "    <tr style=\"text-align: right;\">\n",
       "      <th></th>\n",
       "      <th>Open</th>\n",
       "      <th>High</th>\n",
       "      <th>Low</th>\n",
       "      <th>Close</th>\n",
       "      <th>Volume</th>\n",
       "      <th>Change</th>\n",
       "    </tr>\n",
       "    <tr>\n",
       "      <th>Date</th>\n",
       "      <th></th>\n",
       "      <th></th>\n",
       "      <th></th>\n",
       "      <th></th>\n",
       "      <th></th>\n",
       "      <th></th>\n",
       "    </tr>\n",
       "  </thead>\n",
       "  <tbody>\n",
       "    <tr>\n",
       "      <th>2018-01-02</th>\n",
       "      <td>368000</td>\n",
       "      <td>370000</td>\n",
       "      <td>360500</td>\n",
       "      <td>360500</td>\n",
       "      <td>92533</td>\n",
       "      <td>-0.020380</td>\n",
       "    </tr>\n",
       "    <tr>\n",
       "      <th>2018-01-03</th>\n",
       "      <td>360000</td>\n",
       "      <td>368500</td>\n",
       "      <td>360000</td>\n",
       "      <td>363000</td>\n",
       "      <td>81340</td>\n",
       "      <td>0.006935</td>\n",
       "    </tr>\n",
       "    <tr>\n",
       "      <th>2018-01-04</th>\n",
       "      <td>367500</td>\n",
       "      <td>367500</td>\n",
       "      <td>349000</td>\n",
       "      <td>349000</td>\n",
       "      <td>190391</td>\n",
       "      <td>-0.038567</td>\n",
       "    </tr>\n",
       "    <tr>\n",
       "      <th>2018-01-05</th>\n",
       "      <td>351000</td>\n",
       "      <td>352000</td>\n",
       "      <td>348000</td>\n",
       "      <td>351500</td>\n",
       "      <td>99268</td>\n",
       "      <td>0.007163</td>\n",
       "    </tr>\n",
       "    <tr>\n",
       "      <th>2018-01-08</th>\n",
       "      <td>359000</td>\n",
       "      <td>383500</td>\n",
       "      <td>358000</td>\n",
       "      <td>383500</td>\n",
       "      <td>490208</td>\n",
       "      <td>0.091038</td>\n",
       "    </tr>\n",
       "    <tr>\n",
       "      <th>...</th>\n",
       "      <td>...</td>\n",
       "      <td>...</td>\n",
       "      <td>...</td>\n",
       "      <td>...</td>\n",
       "      <td>...</td>\n",
       "      <td>...</td>\n",
       "    </tr>\n",
       "    <tr>\n",
       "      <th>2021-12-16</th>\n",
       "      <td>233000</td>\n",
       "      <td>234000</td>\n",
       "      <td>224500</td>\n",
       "      <td>228000</td>\n",
       "      <td>144647</td>\n",
       "      <td>-0.012987</td>\n",
       "    </tr>\n",
       "    <tr>\n",
       "      <th>2021-12-17</th>\n",
       "      <td>227000</td>\n",
       "      <td>235000</td>\n",
       "      <td>226500</td>\n",
       "      <td>234500</td>\n",
       "      <td>138945</td>\n",
       "      <td>0.028509</td>\n",
       "    </tr>\n",
       "    <tr>\n",
       "      <th>2021-12-20</th>\n",
       "      <td>232000</td>\n",
       "      <td>233500</td>\n",
       "      <td>228000</td>\n",
       "      <td>229500</td>\n",
       "      <td>90630</td>\n",
       "      <td>-0.021322</td>\n",
       "    </tr>\n",
       "    <tr>\n",
       "      <th>2021-12-21</th>\n",
       "      <td>232000</td>\n",
       "      <td>232500</td>\n",
       "      <td>227000</td>\n",
       "      <td>229500</td>\n",
       "      <td>98669</td>\n",
       "      <td>0.000000</td>\n",
       "    </tr>\n",
       "    <tr>\n",
       "      <th>2021-12-22</th>\n",
       "      <td>229000</td>\n",
       "      <td>230000</td>\n",
       "      <td>225000</td>\n",
       "      <td>225000</td>\n",
       "      <td>99419</td>\n",
       "      <td>-0.019608</td>\n",
       "    </tr>\n",
       "  </tbody>\n",
       "</table>\n",
       "<p>980 rows × 6 columns</p>\n",
       "</div>"
      ],
      "text/plain": [
       "              Open    High     Low   Close  Volume    Change\n",
       "Date                                                        \n",
       "2018-01-02  368000  370000  360500  360500   92533 -0.020380\n",
       "2018-01-03  360000  368500  360000  363000   81340  0.006935\n",
       "2018-01-04  367500  367500  349000  349000  190391 -0.038567\n",
       "2018-01-05  351000  352000  348000  351500   99268  0.007163\n",
       "2018-01-08  359000  383500  358000  383500  490208  0.091038\n",
       "...            ...     ...     ...     ...     ...       ...\n",
       "2021-12-16  233000  234000  224500  228000  144647 -0.012987\n",
       "2021-12-17  227000  235000  226500  234500  138945  0.028509\n",
       "2021-12-20  232000  233500  228000  229500   90630 -0.021322\n",
       "2021-12-21  232000  232500  227000  229500   98669  0.000000\n",
       "2021-12-22  229000  230000  225000  225000   99419 -0.019608\n",
       "\n",
       "[980 rows x 6 columns]"
      ]
     },
     "execution_count": 38,
     "metadata": {},
     "output_type": "execute_result"
    }
   ],
   "source": [
    "lotte_che = pd.read_csv('롯데케미칼.csv', index_col = 0,header = 0)\n",
    "lotte_che"
   ]
  }
 ],
 "metadata": {
  "hide_input": false,
  "kernelspec": {
   "display_name": "Python 3 (ipykernel)",
   "language": "python",
   "name": "python3"
  },
  "language_info": {
   "codemirror_mode": {
    "name": "ipython",
    "version": 3
   },
   "file_extension": ".py",
   "mimetype": "text/x-python",
   "name": "python",
   "nbconvert_exporter": "python",
   "pygments_lexer": "ipython3",
   "version": "3.9.13"
  },
  "toc": {
   "base_numbering": 1,
   "nav_menu": {},
   "number_sections": true,
   "sideBar": true,
   "skip_h1_title": false,
   "title_cell": "Table of Contents",
   "title_sidebar": "Contents",
   "toc_cell": false,
   "toc_position": {
    "height": "calc(100% - 180px)",
    "left": "10px",
    "top": "150px",
    "width": "300.8px"
   },
   "toc_section_display": true,
   "toc_window_display": true
  },
  "varInspector": {
   "cols": {
    "lenName": 16,
    "lenType": 16,
    "lenVar": 40
   },
   "kernels_config": {
    "python": {
     "delete_cmd_postfix": "",
     "delete_cmd_prefix": "del ",
     "library": "var_list.py",
     "varRefreshCmd": "print(var_dic_list())"
    },
    "r": {
     "delete_cmd_postfix": ") ",
     "delete_cmd_prefix": "rm(",
     "library": "var_list.r",
     "varRefreshCmd": "cat(var_dic_list()) "
    }
   },
   "types_to_exclude": [
    "module",
    "function",
    "builtin_function_or_method",
    "instance",
    "_Feature"
   ],
   "window_display": false
  }
 },
 "nbformat": 4,
 "nbformat_minor": 5
}
