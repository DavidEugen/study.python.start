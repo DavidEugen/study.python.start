{
 "cells": [
  {
   "cell_type": "markdown",
   "id": "7e7ef2d6",
   "metadata": {},
   "source": [
    "# About Series"
   ]
  },
  {
   "cell_type": "markdown",
   "id": "26ce733e",
   "metadata": {},
   "source": [
    "## Series 만들기"
   ]
  },
  {
   "cell_type": "markdown",
   "id": "d3947210",
   "metadata": {},
   "source": [
    "### Series란?  \n",
    "\n",
    "- Data의 컬럼이 1개인 자료구조이며, 인덱스와 1개의 열로 구성되어 있음"
   ]
  },
  {
   "cell_type": "markdown",
   "id": "67c1a737",
   "metadata": {},
   "source": [
    "### Series 생성 가능 타입  \n",
    "- pd.Series(리스트)  \n",
    "    - index 기본 부여, value 생성 \n",
    "- pd.Series(딕셔너리)  \n",
    "    - index 생성, value 생성"
   ]
  },
  {
   "cell_type": "code",
   "execution_count": 4,
   "id": "579f4540",
   "metadata": {
    "ExecuteTime": {
     "end_time": "2023-03-10T02:39:39.025286Z",
     "start_time": "2023-03-10T02:39:37.506604Z"
    }
   },
   "outputs": [],
   "source": [
    "import pandas as pd"
   ]
  },
  {
   "cell_type": "markdown",
   "id": "a33b3b90",
   "metadata": {},
   "source": [
    "#### List Type의 생성"
   ]
  },
  {
   "cell_type": "code",
   "execution_count": 5,
   "id": "bb9e86ce",
   "metadata": {
    "ExecuteTime": {
     "end_time": "2023-03-10T02:39:44.009941Z",
     "start_time": "2023-03-10T02:39:43.986004Z"
    }
   },
   "outputs": [
    {
     "data": {
      "text/plain": [
       "0    1\n",
       "1    2\n",
       "2    3\n",
       "3    4\n",
       "4    5\n",
       "5    6\n",
       "6    7\n",
       "7    8\n",
       "8    9\n",
       "dtype: int64"
      ]
     },
     "execution_count": 5,
     "metadata": {},
     "output_type": "execute_result"
    }
   ],
   "source": [
    "ls1 = [1,2,3,4,5,6,7,8,9]\n",
    "\n",
    "sr1 = pd.Series(ls1)\n",
    "sr1"
   ]
  },
  {
   "cell_type": "code",
   "execution_count": 6,
   "id": "8d597cd5",
   "metadata": {
    "ExecuteTime": {
     "end_time": "2023-03-10T02:39:58.208837Z",
     "start_time": "2023-03-10T02:39:58.199846Z"
    }
   },
   "outputs": [
    {
     "data": {
      "text/plain": [
       "0        1\n",
       "1        2\n",
       "2        3\n",
       "3    Apple\n",
       "4     play\n",
       "5        6\n",
       "6        7\n",
       "7        8\n",
       "8        9\n",
       "dtype: object"
      ]
     },
     "execution_count": 6,
     "metadata": {},
     "output_type": "execute_result"
    }
   ],
   "source": [
    "ls2 = [1,2,3,'Apple','play',6,7,8,9]\n",
    "\n",
    "sr2 = pd.Series(ls2)\n",
    "sr2"
   ]
  },
  {
   "cell_type": "markdown",
   "id": "01f7ec76",
   "metadata": {},
   "source": [
    "#### 딕셔너리 Type 생성"
   ]
  },
  {
   "cell_type": "code",
   "execution_count": 9,
   "id": "a969bc8c",
   "metadata": {
    "ExecuteTime": {
     "end_time": "2023-03-10T02:45:29.213202Z",
     "start_time": "2023-03-10T02:45:29.197812Z"
    },
    "scrolled": true
   },
   "outputs": [
    {
     "data": {
      "text/plain": [
       "a    1\n",
       "b    2\n",
       "c    3\n",
       "d    4\n",
       "dtype: int64"
      ]
     },
     "execution_count": 9,
     "metadata": {},
     "output_type": "execute_result"
    }
   ],
   "source": [
    "dic1 = {\"a\":1, 'b':2, \"c\":3, \"d\":4}\n",
    "\n",
    "sr3 = pd.Series(dic1)\n",
    "sr3"
   ]
  },
  {
   "cell_type": "markdown",
   "id": "7224ec95",
   "metadata": {},
   "source": [
    "### Value의 Name 지정   \n",
    "Value 열에 대한 이름을 지정 할 수 있다."
   ]
  },
  {
   "cell_type": "code",
   "execution_count": 7,
   "id": "d2b2f7a8",
   "metadata": {
    "ExecuteTime": {
     "end_time": "2023-03-10T02:40:02.183535Z",
     "start_time": "2023-03-10T02:40:02.175549Z"
    }
   },
   "outputs": [
    {
     "data": {
      "text/plain": [
       "0        1\n",
       "1        2\n",
       "2        3\n",
       "3    Apple\n",
       "4     play\n",
       "5        6\n",
       "6        7\n",
       "7        8\n",
       "8        9\n",
       "Name: Word, dtype: object"
      ]
     },
     "execution_count": 7,
     "metadata": {},
     "output_type": "execute_result"
    }
   ],
   "source": [
    "sr1.name =\"Number\"\n",
    "sr2.name = \"Word\"\n",
    "sr2"
   ]
  },
  {
   "cell_type": "code",
   "execution_count": 10,
   "id": "7ab999f1",
   "metadata": {
    "ExecuteTime": {
     "end_time": "2023-03-10T02:45:33.729407Z",
     "start_time": "2023-03-10T02:45:33.711448Z"
    }
   },
   "outputs": [
    {
     "data": {
      "text/plain": [
       "a    1\n",
       "b    2\n",
       "c    3\n",
       "d    4\n",
       "Name: Number, dtype: int64"
      ]
     },
     "execution_count": 10,
     "metadata": {},
     "output_type": "execute_result"
    }
   ],
   "source": [
    "sr3.name = \"Number\"\n",
    "sr3"
   ]
  },
  {
   "cell_type": "markdown",
   "id": "a7edac90",
   "metadata": {},
   "source": [
    "## 외부 파일 읽어오기  \n",
    "- read_csv()\n",
    "    - path\n",
    "    - index_col  \n",
    "        인덱스로 사용할 열 설정\n",
    "    - header  \n",
    "        header의 row 인덱스\n",
    "    - squeeze  \n",
    "        default = false  \n",
    "        ```squeeze = True```  => Series  \n",
    "        ```squeeze = False``` => DataFrame"
   ]
  },
  {
   "cell_type": "code",
   "execution_count": 13,
   "id": "d6fb7e41",
   "metadata": {
    "ExecuteTime": {
     "end_time": "2023-03-10T03:01:37.408628Z",
     "start_time": "2023-03-10T03:01:37.397625Z"
    }
   },
   "outputs": [],
   "source": [
    "import pandas as pd"
   ]
  },
  {
   "cell_type": "markdown",
   "id": "4773d951",
   "metadata": {},
   "source": [
    "* Tip  \n",
    "```pd.read_``` 다음에 ```Tab```을 누르면 Assistant가 뜬다."
   ]
  },
  {
   "cell_type": "code",
   "execution_count": 28,
   "id": "424cfeea",
   "metadata": {
    "ExecuteTime": {
     "end_time": "2023-03-10T03:18:47.078969Z",
     "start_time": "2023-03-10T03:18:47.057991Z"
    }
   },
   "outputs": [
    {
     "data": {
      "text/html": [
       "<div>\n",
       "<style scoped>\n",
       "    .dataframe tbody tr th:only-of-type {\n",
       "        vertical-align: middle;\n",
       "    }\n",
       "\n",
       "    .dataframe tbody tr th {\n",
       "        vertical-align: top;\n",
       "    }\n",
       "\n",
       "    .dataframe thead th {\n",
       "        text-align: right;\n",
       "    }\n",
       "</style>\n",
       "<table border=\"1\" class=\"dataframe\">\n",
       "  <thead>\n",
       "    <tr style=\"text-align: right;\">\n",
       "      <th></th>\n",
       "      <th>Date</th>\n",
       "      <th>Close</th>\n",
       "    </tr>\n",
       "  </thead>\n",
       "  <tbody>\n",
       "    <tr>\n",
       "      <th>0</th>\n",
       "      <td>2018-01-02</td>\n",
       "      <td>51020</td>\n",
       "    </tr>\n",
       "    <tr>\n",
       "      <th>1</th>\n",
       "      <td>2018-01-03</td>\n",
       "      <td>51620</td>\n",
       "    </tr>\n",
       "    <tr>\n",
       "      <th>2</th>\n",
       "      <td>2018-01-04</td>\n",
       "      <td>51080</td>\n",
       "    </tr>\n",
       "    <tr>\n",
       "      <th>3</th>\n",
       "      <td>2018-01-05</td>\n",
       "      <td>52120</td>\n",
       "    </tr>\n",
       "    <tr>\n",
       "      <th>4</th>\n",
       "      <td>2018-01-08</td>\n",
       "      <td>52020</td>\n",
       "    </tr>\n",
       "    <tr>\n",
       "      <th>...</th>\n",
       "      <td>...</td>\n",
       "      <td>...</td>\n",
       "    </tr>\n",
       "    <tr>\n",
       "      <th>972</th>\n",
       "      <td>2021-12-13</td>\n",
       "      <td>76800</td>\n",
       "    </tr>\n",
       "    <tr>\n",
       "      <th>973</th>\n",
       "      <td>2021-12-14</td>\n",
       "      <td>77000</td>\n",
       "    </tr>\n",
       "    <tr>\n",
       "      <th>974</th>\n",
       "      <td>2021-12-15</td>\n",
       "      <td>77600</td>\n",
       "    </tr>\n",
       "    <tr>\n",
       "      <th>975</th>\n",
       "      <td>2021-12-16</td>\n",
       "      <td>77800</td>\n",
       "    </tr>\n",
       "    <tr>\n",
       "      <th>976</th>\n",
       "      <td>2021-12-17</td>\n",
       "      <td>78000</td>\n",
       "    </tr>\n",
       "  </tbody>\n",
       "</table>\n",
       "<p>977 rows × 2 columns</p>\n",
       "</div>"
      ],
      "text/plain": [
       "           Date  Close\n",
       "0    2018-01-02  51020\n",
       "1    2018-01-03  51620\n",
       "2    2018-01-04  51080\n",
       "3    2018-01-05  52120\n",
       "4    2018-01-08  52020\n",
       "..          ...    ...\n",
       "972  2021-12-13  76800\n",
       "973  2021-12-14  77000\n",
       "974  2021-12-15  77600\n",
       "975  2021-12-16  77800\n",
       "976  2021-12-17  78000\n",
       "\n",
       "[977 rows x 2 columns]"
      ]
     },
     "execution_count": 28,
     "metadata": {},
     "output_type": "execute_result"
    }
   ],
   "source": [
    "path = 'C:/Users/proyj/workspace/python/pandas/삼성전자 종가.csv'\n",
    "dataFrame = pd.read_csv(path)\n",
    "dataFrame"
   ]
  },
  {
   "cell_type": "code",
   "execution_count": 29,
   "id": "a2f45bc4",
   "metadata": {
    "ExecuteTime": {
     "end_time": "2023-03-10T03:18:53.353475Z",
     "start_time": "2023-03-10T03:18:53.321524Z"
    }
   },
   "outputs": [
    {
     "data": {
      "text/html": [
       "<div>\n",
       "<style scoped>\n",
       "    .dataframe tbody tr th:only-of-type {\n",
       "        vertical-align: middle;\n",
       "    }\n",
       "\n",
       "    .dataframe tbody tr th {\n",
       "        vertical-align: top;\n",
       "    }\n",
       "\n",
       "    .dataframe thead th {\n",
       "        text-align: right;\n",
       "    }\n",
       "</style>\n",
       "<table border=\"1\" class=\"dataframe\">\n",
       "  <thead>\n",
       "    <tr style=\"text-align: right;\">\n",
       "      <th></th>\n",
       "      <th>Date</th>\n",
       "    </tr>\n",
       "    <tr>\n",
       "      <th>Close</th>\n",
       "      <th></th>\n",
       "    </tr>\n",
       "  </thead>\n",
       "  <tbody>\n",
       "    <tr>\n",
       "      <th>51020</th>\n",
       "      <td>2018-01-02</td>\n",
       "    </tr>\n",
       "    <tr>\n",
       "      <th>51620</th>\n",
       "      <td>2018-01-03</td>\n",
       "    </tr>\n",
       "    <tr>\n",
       "      <th>51080</th>\n",
       "      <td>2018-01-04</td>\n",
       "    </tr>\n",
       "    <tr>\n",
       "      <th>52120</th>\n",
       "      <td>2018-01-05</td>\n",
       "    </tr>\n",
       "    <tr>\n",
       "      <th>52020</th>\n",
       "      <td>2018-01-08</td>\n",
       "    </tr>\n",
       "    <tr>\n",
       "      <th>...</th>\n",
       "      <td>...</td>\n",
       "    </tr>\n",
       "    <tr>\n",
       "      <th>76800</th>\n",
       "      <td>2021-12-13</td>\n",
       "    </tr>\n",
       "    <tr>\n",
       "      <th>77000</th>\n",
       "      <td>2021-12-14</td>\n",
       "    </tr>\n",
       "    <tr>\n",
       "      <th>77600</th>\n",
       "      <td>2021-12-15</td>\n",
       "    </tr>\n",
       "    <tr>\n",
       "      <th>77800</th>\n",
       "      <td>2021-12-16</td>\n",
       "    </tr>\n",
       "    <tr>\n",
       "      <th>78000</th>\n",
       "      <td>2021-12-17</td>\n",
       "    </tr>\n",
       "  </tbody>\n",
       "</table>\n",
       "<p>977 rows × 1 columns</p>\n",
       "</div>"
      ],
      "text/plain": [
       "             Date\n",
       "Close            \n",
       "51020  2018-01-02\n",
       "51620  2018-01-03\n",
       "51080  2018-01-04\n",
       "52120  2018-01-05\n",
       "52020  2018-01-08\n",
       "...           ...\n",
       "76800  2021-12-13\n",
       "77000  2021-12-14\n",
       "77600  2021-12-15\n",
       "77800  2021-12-16\n",
       "78000  2021-12-17\n",
       "\n",
       "[977 rows x 1 columns]"
      ]
     },
     "execution_count": 29,
     "metadata": {},
     "output_type": "execute_result"
    }
   ],
   "source": [
    "dataFrame = pd.read_csv(path, index_col = 1) # 2번째 열이 인덱스로 쓰임\n",
    "dataFrame"
   ]
  },
  {
   "cell_type": "code",
   "execution_count": 30,
   "id": "300de4b4",
   "metadata": {
    "ExecuteTime": {
     "end_time": "2023-03-10T03:18:59.056326Z",
     "start_time": "2023-03-10T03:18:59.033387Z"
    },
    "scrolled": true
   },
   "outputs": [
    {
     "data": {
      "text/html": [
       "<div>\n",
       "<style scoped>\n",
       "    .dataframe tbody tr th:only-of-type {\n",
       "        vertical-align: middle;\n",
       "    }\n",
       "\n",
       "    .dataframe tbody tr th {\n",
       "        vertical-align: top;\n",
       "    }\n",
       "\n",
       "    .dataframe thead th {\n",
       "        text-align: right;\n",
       "    }\n",
       "</style>\n",
       "<table border=\"1\" class=\"dataframe\">\n",
       "  <thead>\n",
       "    <tr style=\"text-align: right;\">\n",
       "      <th></th>\n",
       "      <th>2018-01-02</th>\n",
       "      <th>51020</th>\n",
       "    </tr>\n",
       "  </thead>\n",
       "  <tbody>\n",
       "    <tr>\n",
       "      <th>0</th>\n",
       "      <td>2018-01-03</td>\n",
       "      <td>51620</td>\n",
       "    </tr>\n",
       "    <tr>\n",
       "      <th>1</th>\n",
       "      <td>2018-01-04</td>\n",
       "      <td>51080</td>\n",
       "    </tr>\n",
       "    <tr>\n",
       "      <th>2</th>\n",
       "      <td>2018-01-05</td>\n",
       "      <td>52120</td>\n",
       "    </tr>\n",
       "    <tr>\n",
       "      <th>3</th>\n",
       "      <td>2018-01-08</td>\n",
       "      <td>52020</td>\n",
       "    </tr>\n",
       "    <tr>\n",
       "      <th>4</th>\n",
       "      <td>2018-01-09</td>\n",
       "      <td>50400</td>\n",
       "    </tr>\n",
       "    <tr>\n",
       "      <th>...</th>\n",
       "      <td>...</td>\n",
       "      <td>...</td>\n",
       "    </tr>\n",
       "    <tr>\n",
       "      <th>971</th>\n",
       "      <td>2021-12-13</td>\n",
       "      <td>76800</td>\n",
       "    </tr>\n",
       "    <tr>\n",
       "      <th>972</th>\n",
       "      <td>2021-12-14</td>\n",
       "      <td>77000</td>\n",
       "    </tr>\n",
       "    <tr>\n",
       "      <th>973</th>\n",
       "      <td>2021-12-15</td>\n",
       "      <td>77600</td>\n",
       "    </tr>\n",
       "    <tr>\n",
       "      <th>974</th>\n",
       "      <td>2021-12-16</td>\n",
       "      <td>77800</td>\n",
       "    </tr>\n",
       "    <tr>\n",
       "      <th>975</th>\n",
       "      <td>2021-12-17</td>\n",
       "      <td>78000</td>\n",
       "    </tr>\n",
       "  </tbody>\n",
       "</table>\n",
       "<p>976 rows × 2 columns</p>\n",
       "</div>"
      ],
      "text/plain": [
       "     2018-01-02  51020\n",
       "0    2018-01-03  51620\n",
       "1    2018-01-04  51080\n",
       "2    2018-01-05  52120\n",
       "3    2018-01-08  52020\n",
       "4    2018-01-09  50400\n",
       "..          ...    ...\n",
       "971  2021-12-13  76800\n",
       "972  2021-12-14  77000\n",
       "973  2021-12-15  77600\n",
       "974  2021-12-16  77800\n",
       "975  2021-12-17  78000\n",
       "\n",
       "[976 rows x 2 columns]"
      ]
     },
     "execution_count": 30,
     "metadata": {},
     "output_type": "execute_result"
    }
   ],
   "source": [
    "dataFrame = pd.read_csv(path, header = 1) # 2번째 행이 Header로 쓰임\n",
    "dataFrame"
   ]
  },
  {
   "cell_type": "code",
   "execution_count": 33,
   "id": "6425a108",
   "metadata": {
    "ExecuteTime": {
     "end_time": "2023-03-10T03:20:07.621542Z",
     "start_time": "2023-03-10T03:20:07.605551Z"
    }
   },
   "outputs": [
    {
     "data": {
      "text/plain": [
       "pandas.core.frame.DataFrame"
      ]
     },
     "execution_count": 33,
     "metadata": {},
     "output_type": "execute_result"
    }
   ],
   "source": [
    "type(dataFrame) # squeeze 없으면 DataFrame"
   ]
  },
  {
   "cell_type": "code",
   "execution_count": 31,
   "id": "f967f353",
   "metadata": {
    "ExecuteTime": {
     "end_time": "2023-03-10T03:19:20.670835Z",
     "start_time": "2023-03-10T03:19:20.644889Z"
    },
    "scrolled": true
   },
   "outputs": [
    {
     "name": "stderr",
     "output_type": "stream",
     "text": [
      "C:\\Users\\proyj\\AppData\\Local\\Temp\\ipykernel_9764\\1006839771.py:1: FutureWarning: The squeeze argument has been deprecated and will be removed in a future version. Append .squeeze(\"columns\") to the call to squeeze.\n",
      "\n",
      "\n",
      "  series = pd.read_csv(path, index_col = 0, header = 0 , squeeze = True)\n"
     ]
    },
    {
     "data": {
      "text/plain": [
       "Date\n",
       "2018-01-02    51020\n",
       "2018-01-03    51620\n",
       "2018-01-04    51080\n",
       "2018-01-05    52120\n",
       "2018-01-08    52020\n",
       "              ...  \n",
       "2021-12-13    76800\n",
       "2021-12-14    77000\n",
       "2021-12-15    77600\n",
       "2021-12-16    77800\n",
       "2021-12-17    78000\n",
       "Name: Close, Length: 977, dtype: int64"
      ]
     },
     "execution_count": 31,
     "metadata": {},
     "output_type": "execute_result"
    }
   ],
   "source": [
    "series = pd.read_csv(path, index_col = 0, header = 0 , squeeze = True)\n",
    "series"
   ]
  },
  {
   "cell_type": "code",
   "execution_count": 32,
   "id": "85fd40b9",
   "metadata": {
    "ExecuteTime": {
     "end_time": "2023-03-10T03:19:38.452662Z",
     "start_time": "2023-03-10T03:19:38.444684Z"
    }
   },
   "outputs": [
    {
     "data": {
      "text/plain": [
       "pandas.core.series.Series"
      ]
     },
     "execution_count": 32,
     "metadata": {},
     "output_type": "execute_result"
    }
   ],
   "source": [
    "type(series)"
   ]
  },
  {
   "cell_type": "markdown",
   "id": "72ab5d03",
   "metadata": {},
   "source": [
    "### Tip : pd.set_option('display.max_rows', None) / pd.reset_option(\"display.max_rows\")\n",
    "    - 미리보기에 생략된 데이터를 다 보려면  \n",
    "    ```pd.set_option('display.max_rows', None)```\n",
    "    - 해제 하려면  \n",
    "    ```pd.reset_option(\"display.max_rows\")```"
   ]
  },
  {
   "cell_type": "markdown",
   "id": "a2bec780",
   "metadata": {},
   "source": [
    "## Series의 Index와 value"
   ]
  },
  {
   "cell_type": "markdown",
   "id": "517533ec",
   "metadata": {},
   "source": [
    "### Index"
   ]
  },
  {
   "cell_type": "code",
   "execution_count": 35,
   "id": "9df72543",
   "metadata": {
    "ExecuteTime": {
     "end_time": "2023-03-10T03:25:27.058776Z",
     "start_time": "2023-03-10T03:25:27.047822Z"
    }
   },
   "outputs": [
    {
     "data": {
      "text/plain": [
       "Index(['2018-01-02', '2018-01-03', '2018-01-04', '2018-01-05', '2018-01-08',\n",
       "       '2018-01-09', '2018-01-10', '2018-01-11', '2018-01-12', '2018-01-15',\n",
       "       ...\n",
       "       '2021-12-06', '2021-12-07', '2021-12-08', '2021-12-09', '2021-12-10',\n",
       "       '2021-12-13', '2021-12-14', '2021-12-15', '2021-12-16', '2021-12-17'],\n",
       "      dtype='object', name='Date', length=977)"
      ]
     },
     "execution_count": 35,
     "metadata": {},
     "output_type": "execute_result"
    }
   ],
   "source": [
    "samsung_series = a\n",
    "samsung_series.index"
   ]
  },
  {
   "cell_type": "code",
   "execution_count": 36,
   "id": "f5c6e713",
   "metadata": {
    "ExecuteTime": {
     "end_time": "2023-03-10T03:25:41.959044Z",
     "start_time": "2023-03-10T03:25:41.938063Z"
    },
    "scrolled": true
   },
   "outputs": [
    {
     "data": {
      "text/plain": [
       "pandas.core.indexes.base.Index"
      ]
     },
     "execution_count": 36,
     "metadata": {},
     "output_type": "execute_result"
    }
   ],
   "source": [
    "type(samsung_series.index)"
   ]
  },
  {
   "cell_type": "markdown",
   "id": "de34fd3f",
   "metadata": {},
   "source": [
    "#### 해당 인덱스가 포함 여부 확인"
   ]
  },
  {
   "cell_type": "code",
   "execution_count": 38,
   "id": "f81ca50e",
   "metadata": {
    "ExecuteTime": {
     "end_time": "2023-03-10T03:26:43.610517Z",
     "start_time": "2023-03-10T03:26:43.600544Z"
    }
   },
   "outputs": [
    {
     "data": {
      "text/plain": [
       "False"
      ]
     },
     "execution_count": 38,
     "metadata": {},
     "output_type": "execute_result"
    }
   ],
   "source": [
    "# # 해당 index가 포함 되지 않은 경우\n",
    "'2018-01-01' in samsung_series.index"
   ]
  },
  {
   "cell_type": "code",
   "execution_count": 37,
   "id": "af292f4c",
   "metadata": {
    "ExecuteTime": {
     "end_time": "2023-03-10T03:26:19.851040Z",
     "start_time": "2023-03-10T03:26:19.833088Z"
    }
   },
   "outputs": [
    {
     "data": {
      "text/plain": [
       "True"
      ]
     },
     "execution_count": 37,
     "metadata": {},
     "output_type": "execute_result"
    }
   ],
   "source": [
    "# 해당 index가 포함 된 경우\n",
    "'2018-01-02' in samsung_series.index"
   ]
  },
  {
   "cell_type": "code",
   "execution_count": 13,
   "id": "a89ea115",
   "metadata": {
    "ExecuteTime": {
     "end_time": "2023-03-08T15:51:32.758197Z",
     "start_time": "2023-03-08T15:51:32.736256Z"
    }
   },
   "outputs": [
    {
     "data": {
      "text/plain": [
       "True"
      ]
     },
     "execution_count": 13,
     "metadata": {},
     "output_type": "execute_result"
    }
   ],
   "source": [
    "# Series의 index 포함 여부 확인\n",
    "'2018-01-02' in samsung_series.index"
   ]
  },
  {
   "cell_type": "markdown",
   "id": "d13745ff",
   "metadata": {},
   "source": [
    "### loc 와 iloc\n",
    "- series.loc()  \n",
    "    - 데이터프레임의 행이나 컬럼에 **label**이나 boolean array로 접근.  \n",
    "    - location의 약어로, 인간이 읽을 수 있는 label 값으로 데이터에 접근하는 것이다.   \n",
    "- series.iloc()  \n",
    "    - 데이터프레임의 행이나 컬럼에 **인덱스 값**으로 접근.  \n",
    "    - integer location의 약어로, 컴퓨터가 읽을 수 있는 indexing 값으로 데이터에 접근하는 것이다.\n"
   ]
  },
  {
   "cell_type": "markdown",
   "id": "4adff4f9",
   "metadata": {},
   "source": [
    "#### loc[ ]\n",
    "해당 레이블이 존재하지 않으면 에러 발생"
   ]
  },
  {
   "cell_type": "code",
   "execution_count": 40,
   "id": "f9edb4b0",
   "metadata": {
    "ExecuteTime": {
     "end_time": "2023-03-10T03:38:50.433431Z",
     "start_time": "2023-03-10T03:38:50.371978Z"
    }
   },
   "outputs": [
    {
     "ename": "KeyError",
     "evalue": "'2018-01-01'",
     "output_type": "error",
     "traceback": [
      "\u001b[1;31m---------------------------------------------------------------------------\u001b[0m",
      "\u001b[1;31mKeyError\u001b[0m                                  Traceback (most recent call last)",
      "\u001b[1;32m~\\anaconda3\\lib\\site-packages\\pandas\\core\\indexes\\base.py\u001b[0m in \u001b[0;36mget_loc\u001b[1;34m(self, key, method, tolerance)\u001b[0m\n\u001b[0;32m   3628\u001b[0m             \u001b[1;32mtry\u001b[0m\u001b[1;33m:\u001b[0m\u001b[1;33m\u001b[0m\u001b[1;33m\u001b[0m\u001b[0m\n\u001b[1;32m-> 3629\u001b[1;33m                 \u001b[1;32mreturn\u001b[0m \u001b[0mself\u001b[0m\u001b[1;33m.\u001b[0m\u001b[0m_engine\u001b[0m\u001b[1;33m.\u001b[0m\u001b[0mget_loc\u001b[0m\u001b[1;33m(\u001b[0m\u001b[0mcasted_key\u001b[0m\u001b[1;33m)\u001b[0m\u001b[1;33m\u001b[0m\u001b[1;33m\u001b[0m\u001b[0m\n\u001b[0m\u001b[0;32m   3630\u001b[0m             \u001b[1;32mexcept\u001b[0m \u001b[0mKeyError\u001b[0m \u001b[1;32mas\u001b[0m \u001b[0merr\u001b[0m\u001b[1;33m:\u001b[0m\u001b[1;33m\u001b[0m\u001b[1;33m\u001b[0m\u001b[0m\n",
      "\u001b[1;32m~\\anaconda3\\lib\\site-packages\\pandas\\_libs\\index.pyx\u001b[0m in \u001b[0;36mpandas._libs.index.IndexEngine.get_loc\u001b[1;34m()\u001b[0m\n",
      "\u001b[1;32m~\\anaconda3\\lib\\site-packages\\pandas\\_libs\\index.pyx\u001b[0m in \u001b[0;36mpandas._libs.index.IndexEngine.get_loc\u001b[1;34m()\u001b[0m\n",
      "\u001b[1;32mpandas\\_libs\\hashtable_class_helper.pxi\u001b[0m in \u001b[0;36mpandas._libs.hashtable.PyObjectHashTable.get_item\u001b[1;34m()\u001b[0m\n",
      "\u001b[1;32mpandas\\_libs\\hashtable_class_helper.pxi\u001b[0m in \u001b[0;36mpandas._libs.hashtable.PyObjectHashTable.get_item\u001b[1;34m()\u001b[0m\n",
      "\u001b[1;31mKeyError\u001b[0m: '2018-01-01'",
      "\nThe above exception was the direct cause of the following exception:\n",
      "\u001b[1;31mKeyError\u001b[0m                                  Traceback (most recent call last)",
      "\u001b[1;32m~\\AppData\\Local\\Temp\\ipykernel_9764\\1828767095.py\u001b[0m in \u001b[0;36m<module>\u001b[1;34m\u001b[0m\n\u001b[1;32m----> 1\u001b[1;33m \u001b[0msamsung_series\u001b[0m\u001b[1;33m.\u001b[0m\u001b[0mloc\u001b[0m\u001b[1;33m[\u001b[0m\u001b[1;34m'2018-01-01'\u001b[0m\u001b[1;33m]\u001b[0m\u001b[1;33m\u001b[0m\u001b[1;33m\u001b[0m\u001b[0m\n\u001b[0m",
      "\u001b[1;32m~\\anaconda3\\lib\\site-packages\\pandas\\core\\indexing.py\u001b[0m in \u001b[0;36m__getitem__\u001b[1;34m(self, key)\u001b[0m\n\u001b[0;32m    965\u001b[0m \u001b[1;33m\u001b[0m\u001b[0m\n\u001b[0;32m    966\u001b[0m             \u001b[0mmaybe_callable\u001b[0m \u001b[1;33m=\u001b[0m \u001b[0mcom\u001b[0m\u001b[1;33m.\u001b[0m\u001b[0mapply_if_callable\u001b[0m\u001b[1;33m(\u001b[0m\u001b[0mkey\u001b[0m\u001b[1;33m,\u001b[0m \u001b[0mself\u001b[0m\u001b[1;33m.\u001b[0m\u001b[0mobj\u001b[0m\u001b[1;33m)\u001b[0m\u001b[1;33m\u001b[0m\u001b[1;33m\u001b[0m\u001b[0m\n\u001b[1;32m--> 967\u001b[1;33m             \u001b[1;32mreturn\u001b[0m \u001b[0mself\u001b[0m\u001b[1;33m.\u001b[0m\u001b[0m_getitem_axis\u001b[0m\u001b[1;33m(\u001b[0m\u001b[0mmaybe_callable\u001b[0m\u001b[1;33m,\u001b[0m \u001b[0maxis\u001b[0m\u001b[1;33m=\u001b[0m\u001b[0maxis\u001b[0m\u001b[1;33m)\u001b[0m\u001b[1;33m\u001b[0m\u001b[1;33m\u001b[0m\u001b[0m\n\u001b[0m\u001b[0;32m    968\u001b[0m \u001b[1;33m\u001b[0m\u001b[0m\n\u001b[0;32m    969\u001b[0m     \u001b[1;32mdef\u001b[0m \u001b[0m_is_scalar_access\u001b[0m\u001b[1;33m(\u001b[0m\u001b[0mself\u001b[0m\u001b[1;33m,\u001b[0m \u001b[0mkey\u001b[0m\u001b[1;33m:\u001b[0m \u001b[0mtuple\u001b[0m\u001b[1;33m)\u001b[0m\u001b[1;33m:\u001b[0m\u001b[1;33m\u001b[0m\u001b[1;33m\u001b[0m\u001b[0m\n",
      "\u001b[1;32m~\\anaconda3\\lib\\site-packages\\pandas\\core\\indexing.py\u001b[0m in \u001b[0;36m_getitem_axis\u001b[1;34m(self, key, axis)\u001b[0m\n\u001b[0;32m   1203\u001b[0m         \u001b[1;31m# fall thru to straight lookup\u001b[0m\u001b[1;33m\u001b[0m\u001b[1;33m\u001b[0m\u001b[0m\n\u001b[0;32m   1204\u001b[0m         \u001b[0mself\u001b[0m\u001b[1;33m.\u001b[0m\u001b[0m_validate_key\u001b[0m\u001b[1;33m(\u001b[0m\u001b[0mkey\u001b[0m\u001b[1;33m,\u001b[0m \u001b[0maxis\u001b[0m\u001b[1;33m)\u001b[0m\u001b[1;33m\u001b[0m\u001b[1;33m\u001b[0m\u001b[0m\n\u001b[1;32m-> 1205\u001b[1;33m         \u001b[1;32mreturn\u001b[0m \u001b[0mself\u001b[0m\u001b[1;33m.\u001b[0m\u001b[0m_get_label\u001b[0m\u001b[1;33m(\u001b[0m\u001b[0mkey\u001b[0m\u001b[1;33m,\u001b[0m \u001b[0maxis\u001b[0m\u001b[1;33m=\u001b[0m\u001b[0maxis\u001b[0m\u001b[1;33m)\u001b[0m\u001b[1;33m\u001b[0m\u001b[1;33m\u001b[0m\u001b[0m\n\u001b[0m\u001b[0;32m   1206\u001b[0m \u001b[1;33m\u001b[0m\u001b[0m\n\u001b[0;32m   1207\u001b[0m     \u001b[1;32mdef\u001b[0m \u001b[0m_get_slice_axis\u001b[0m\u001b[1;33m(\u001b[0m\u001b[0mself\u001b[0m\u001b[1;33m,\u001b[0m \u001b[0mslice_obj\u001b[0m\u001b[1;33m:\u001b[0m \u001b[0mslice\u001b[0m\u001b[1;33m,\u001b[0m \u001b[0maxis\u001b[0m\u001b[1;33m:\u001b[0m \u001b[0mint\u001b[0m\u001b[1;33m)\u001b[0m\u001b[1;33m:\u001b[0m\u001b[1;33m\u001b[0m\u001b[1;33m\u001b[0m\u001b[0m\n",
      "\u001b[1;32m~\\anaconda3\\lib\\site-packages\\pandas\\core\\indexing.py\u001b[0m in \u001b[0;36m_get_label\u001b[1;34m(self, label, axis)\u001b[0m\n\u001b[0;32m   1151\u001b[0m     \u001b[1;32mdef\u001b[0m \u001b[0m_get_label\u001b[0m\u001b[1;33m(\u001b[0m\u001b[0mself\u001b[0m\u001b[1;33m,\u001b[0m \u001b[0mlabel\u001b[0m\u001b[1;33m,\u001b[0m \u001b[0maxis\u001b[0m\u001b[1;33m:\u001b[0m \u001b[0mint\u001b[0m\u001b[1;33m)\u001b[0m\u001b[1;33m:\u001b[0m\u001b[1;33m\u001b[0m\u001b[1;33m\u001b[0m\u001b[0m\n\u001b[0;32m   1152\u001b[0m         \u001b[1;31m# GH#5667 this will fail if the label is not present in the axis.\u001b[0m\u001b[1;33m\u001b[0m\u001b[1;33m\u001b[0m\u001b[0m\n\u001b[1;32m-> 1153\u001b[1;33m         \u001b[1;32mreturn\u001b[0m \u001b[0mself\u001b[0m\u001b[1;33m.\u001b[0m\u001b[0mobj\u001b[0m\u001b[1;33m.\u001b[0m\u001b[0mxs\u001b[0m\u001b[1;33m(\u001b[0m\u001b[0mlabel\u001b[0m\u001b[1;33m,\u001b[0m \u001b[0maxis\u001b[0m\u001b[1;33m=\u001b[0m\u001b[0maxis\u001b[0m\u001b[1;33m)\u001b[0m\u001b[1;33m\u001b[0m\u001b[1;33m\u001b[0m\u001b[0m\n\u001b[0m\u001b[0;32m   1154\u001b[0m \u001b[1;33m\u001b[0m\u001b[0m\n\u001b[0;32m   1155\u001b[0m     \u001b[1;32mdef\u001b[0m \u001b[0m_handle_lowerdim_multi_index_axis0\u001b[0m\u001b[1;33m(\u001b[0m\u001b[0mself\u001b[0m\u001b[1;33m,\u001b[0m \u001b[0mtup\u001b[0m\u001b[1;33m:\u001b[0m \u001b[0mtuple\u001b[0m\u001b[1;33m)\u001b[0m\u001b[1;33m:\u001b[0m\u001b[1;33m\u001b[0m\u001b[1;33m\u001b[0m\u001b[0m\n",
      "\u001b[1;32m~\\anaconda3\\lib\\site-packages\\pandas\\core\\generic.py\u001b[0m in \u001b[0;36mxs\u001b[1;34m(self, key, axis, level, drop_level)\u001b[0m\n\u001b[0;32m   3862\u001b[0m                     \u001b[0mnew_index\u001b[0m \u001b[1;33m=\u001b[0m \u001b[0mindex\u001b[0m\u001b[1;33m[\u001b[0m\u001b[0mloc\u001b[0m\u001b[1;33m]\u001b[0m\u001b[1;33m\u001b[0m\u001b[1;33m\u001b[0m\u001b[0m\n\u001b[0;32m   3863\u001b[0m         \u001b[1;32melse\u001b[0m\u001b[1;33m:\u001b[0m\u001b[1;33m\u001b[0m\u001b[1;33m\u001b[0m\u001b[0m\n\u001b[1;32m-> 3864\u001b[1;33m             \u001b[0mloc\u001b[0m \u001b[1;33m=\u001b[0m \u001b[0mindex\u001b[0m\u001b[1;33m.\u001b[0m\u001b[0mget_loc\u001b[0m\u001b[1;33m(\u001b[0m\u001b[0mkey\u001b[0m\u001b[1;33m)\u001b[0m\u001b[1;33m\u001b[0m\u001b[1;33m\u001b[0m\u001b[0m\n\u001b[0m\u001b[0;32m   3865\u001b[0m \u001b[1;33m\u001b[0m\u001b[0m\n\u001b[0;32m   3866\u001b[0m             \u001b[1;32mif\u001b[0m \u001b[0misinstance\u001b[0m\u001b[1;33m(\u001b[0m\u001b[0mloc\u001b[0m\u001b[1;33m,\u001b[0m \u001b[0mnp\u001b[0m\u001b[1;33m.\u001b[0m\u001b[0mndarray\u001b[0m\u001b[1;33m)\u001b[0m\u001b[1;33m:\u001b[0m\u001b[1;33m\u001b[0m\u001b[1;33m\u001b[0m\u001b[0m\n",
      "\u001b[1;32m~\\anaconda3\\lib\\site-packages\\pandas\\core\\indexes\\base.py\u001b[0m in \u001b[0;36mget_loc\u001b[1;34m(self, key, method, tolerance)\u001b[0m\n\u001b[0;32m   3629\u001b[0m                 \u001b[1;32mreturn\u001b[0m \u001b[0mself\u001b[0m\u001b[1;33m.\u001b[0m\u001b[0m_engine\u001b[0m\u001b[1;33m.\u001b[0m\u001b[0mget_loc\u001b[0m\u001b[1;33m(\u001b[0m\u001b[0mcasted_key\u001b[0m\u001b[1;33m)\u001b[0m\u001b[1;33m\u001b[0m\u001b[1;33m\u001b[0m\u001b[0m\n\u001b[0;32m   3630\u001b[0m             \u001b[1;32mexcept\u001b[0m \u001b[0mKeyError\u001b[0m \u001b[1;32mas\u001b[0m \u001b[0merr\u001b[0m\u001b[1;33m:\u001b[0m\u001b[1;33m\u001b[0m\u001b[1;33m\u001b[0m\u001b[0m\n\u001b[1;32m-> 3631\u001b[1;33m                 \u001b[1;32mraise\u001b[0m \u001b[0mKeyError\u001b[0m\u001b[1;33m(\u001b[0m\u001b[0mkey\u001b[0m\u001b[1;33m)\u001b[0m \u001b[1;32mfrom\u001b[0m \u001b[0merr\u001b[0m\u001b[1;33m\u001b[0m\u001b[1;33m\u001b[0m\u001b[0m\n\u001b[0m\u001b[0;32m   3632\u001b[0m             \u001b[1;32mexcept\u001b[0m \u001b[0mTypeError\u001b[0m\u001b[1;33m:\u001b[0m\u001b[1;33m\u001b[0m\u001b[1;33m\u001b[0m\u001b[0m\n\u001b[0;32m   3633\u001b[0m                 \u001b[1;31m# If we have a listlike key, _check_indexing_error will raise\u001b[0m\u001b[1;33m\u001b[0m\u001b[1;33m\u001b[0m\u001b[0m\n",
      "\u001b[1;31mKeyError\u001b[0m: '2018-01-01'"
     ]
    }
   ],
   "source": [
    "samsung_series.loc['2018-01-01']"
   ]
  },
  {
   "cell_type": "code",
   "execution_count": 17,
   "id": "85e30f74",
   "metadata": {
    "ExecuteTime": {
     "end_time": "2023-03-08T15:54:40.376738Z",
     "start_time": "2023-03-08T15:54:40.368782Z"
    },
    "scrolled": true
   },
   "outputs": [
    {
     "data": {
      "text/plain": [
       "51020"
      ]
     },
     "execution_count": 17,
     "metadata": {},
     "output_type": "execute_result"
    }
   ],
   "source": [
    "samsung_series.loc['2018-01-02']"
   ]
  },
  {
   "cell_type": "markdown",
   "id": "4a2c3866",
   "metadata": {},
   "source": [
    "#### 레이블로 값 찾는 예제"
   ]
  },
  {
   "cell_type": "code",
   "execution_count": 24,
   "id": "39d1e7d9",
   "metadata": {
    "ExecuteTime": {
     "end_time": "2023-03-08T15:59:14.451892Z",
     "start_time": "2023-03-08T15:59:14.434943Z"
    }
   },
   "outputs": [
    {
     "name": "stdout",
     "output_type": "stream",
     "text": [
      "찾는 값이 없습니다.\n"
     ]
    }
   ],
   "source": [
    "# 레이블로 값찾는 예제 \n",
    "date = '2018-01-01'\n",
    "if date in samsung_series.index:\n",
    "    print(samsung_series.loc[date])\n",
    "else:\n",
    "    print('찾는 값이 없습니다.')\n",
    "        "
   ]
  },
  {
   "cell_type": "markdown",
   "id": "5855820d",
   "metadata": {},
   "source": [
    "#### iloc[ ]"
   ]
  },
  {
   "cell_type": "code",
   "execution_count": 23,
   "id": "1e05223f",
   "metadata": {
    "ExecuteTime": {
     "end_time": "2023-03-08T15:58:24.035427Z",
     "start_time": "2023-03-08T15:58:24.015480Z"
    }
   },
   "outputs": [
    {
     "data": {
      "text/plain": [
       "51020"
      ]
     },
     "execution_count": 23,
     "metadata": {},
     "output_type": "execute_result"
    }
   ],
   "source": [
    "#index로 찾기\n",
    "samsung_series.iloc[0]"
   ]
  },
  {
   "cell_type": "markdown",
   "id": "3559dcc6",
   "metadata": {},
   "source": [
    "### Series의 크기"
   ]
  },
  {
   "cell_type": "markdown",
   "id": "ee69352c",
   "metadata": {},
   "source": [
    "#### 크기 series.shape[0]"
   ]
  },
  {
   "cell_type": "code",
   "execution_count": 27,
   "id": "ce3b7eb4",
   "metadata": {
    "ExecuteTime": {
     "end_time": "2023-03-08T16:08:07.092904Z",
     "start_time": "2023-03-08T16:08:07.073980Z"
    }
   },
   "outputs": [
    {
     "data": {
      "text/plain": [
       "(977,)"
      ]
     },
     "execution_count": 27,
     "metadata": {},
     "output_type": "execute_result"
    }
   ],
   "source": [
    "samsung_series.shape"
   ]
  },
  {
   "cell_type": "markdown",
   "id": "19301cf7",
   "metadata": {},
   "source": [
    "그런데 형태가 좀 이상하다.."
   ]
  },
  {
   "cell_type": "code",
   "execution_count": 28,
   "id": "7829500e",
   "metadata": {
    "ExecuteTime": {
     "end_time": "2023-03-08T16:08:20.932905Z",
     "start_time": "2023-03-08T16:08:20.925922Z"
    }
   },
   "outputs": [
    {
     "data": {
      "text/plain": [
       "tuple"
      ]
     },
     "execution_count": 28,
     "metadata": {},
     "output_type": "execute_result"
    }
   ],
   "source": [
    "type(samsung_series.shape)"
   ]
  },
  {
   "cell_type": "markdown",
   "id": "2a054171",
   "metadata": {
    "ExecuteTime": {
     "end_time": "2023-03-08T16:09:06.550735Z",
     "start_time": "2023-03-08T16:09:06.529816Z"
    }
   },
   "source": [
    "#### 마지막 인덱스 series.shape[0]-1"
   ]
  },
  {
   "cell_type": "code",
   "execution_count": 29,
   "id": "f7097930",
   "metadata": {
    "ExecuteTime": {
     "end_time": "2023-03-08T16:08:44.386850Z",
     "start_time": "2023-03-08T16:08:44.369862Z"
    }
   },
   "outputs": [
    {
     "data": {
      "text/plain": [
       "976"
      ]
     },
     "execution_count": 29,
     "metadata": {},
     "output_type": "execute_result"
    }
   ],
   "source": [
    "samsung_series.shape[0]-1"
   ]
  },
  {
   "cell_type": "markdown",
   "id": "774665ea",
   "metadata": {},
   "source": [
    "### value의 변경"
   ]
  },
  {
   "cell_type": "markdown",
   "id": "dea91fcc",
   "metadata": {},
   "source": [
    "#### value를 나타내는 방법  \n",
    "- 다음 3가지로 쓴다  \n",
    "series.['2018-01-01'] (가능은 하지만 아래와 같이 명시적으로 써 주는게 좋다)  \n",
    "series.loc['2018-01-01']   \n",
    "series.iloc[1]"
   ]
  },
  {
   "cell_type": "code",
   "execution_count": 41,
   "id": "3e68e294",
   "metadata": {
    "ExecuteTime": {
     "end_time": "2023-03-10T09:26:52.285297Z",
     "start_time": "2023-03-10T09:26:52.261329Z"
    }
   },
   "outputs": [
    {
     "data": {
      "text/plain": [
       "Date\n",
       "2018-01-02        0\n",
       "2018-01-03    51620\n",
       "2018-01-04    51080\n",
       "2018-01-05    52120\n",
       "2018-01-08    52020\n",
       "              ...  \n",
       "2021-12-13    76800\n",
       "2021-12-14    77000\n",
       "2021-12-15    77600\n",
       "2021-12-16    77800\n",
       "2021-12-17    78000\n",
       "Name: Close, Length: 977, dtype: int64"
      ]
     },
     "execution_count": 41,
     "metadata": {},
     "output_type": "execute_result"
    }
   ],
   "source": [
    "# 값 변경\n",
    "samsung_series.loc['2018-01-02'] = 0\n",
    "samsung_series"
   ]
  },
  {
   "cell_type": "markdown",
   "id": "7c6cbfce",
   "metadata": {},
   "source": [
    "#### Series의 마지막에 값 추가"
   ]
  },
  {
   "cell_type": "code",
   "execution_count": 43,
   "id": "e6021bfa",
   "metadata": {
    "ExecuteTime": {
     "end_time": "2023-03-10T09:29:39.934207Z",
     "start_time": "2023-03-10T09:29:39.917281Z"
    }
   },
   "outputs": [
    {
     "ename": "IndexError",
     "evalue": "iloc cannot enlarge its target object",
     "output_type": "error",
     "traceback": [
      "\u001b[1;31m---------------------------------------------------------------------------\u001b[0m",
      "\u001b[1;31mIndexError\u001b[0m                                Traceback (most recent call last)",
      "\u001b[1;32m~\\AppData\\Local\\Temp\\ipykernel_9764\\1881564363.py\u001b[0m in \u001b[0;36m<module>\u001b[1;34m\u001b[0m\n\u001b[0;32m      1\u001b[0m \u001b[1;31m## 추가될 인덱스에 값을 할당하는 방식 => 에러\u001b[0m\u001b[1;33m\u001b[0m\u001b[1;33m\u001b[0m\u001b[0m\n\u001b[1;32m----> 2\u001b[1;33m \u001b[0msamsung_series\u001b[0m\u001b[1;33m.\u001b[0m\u001b[0miloc\u001b[0m\u001b[1;33m[\u001b[0m\u001b[0msamsung_series\u001b[0m\u001b[1;33m.\u001b[0m\u001b[0mshape\u001b[0m\u001b[1;33m[\u001b[0m\u001b[1;36m0\u001b[0m\u001b[1;33m]\u001b[0m\u001b[1;33m]\u001b[0m \u001b[1;33m=\u001b[0m \u001b[1;36m77100\u001b[0m\u001b[1;33m\u001b[0m\u001b[1;33m\u001b[0m\u001b[0m\n\u001b[0m",
      "\u001b[1;32m~\\anaconda3\\lib\\site-packages\\pandas\\core\\indexing.py\u001b[0m in \u001b[0;36m__setitem__\u001b[1;34m(self, key, value)\u001b[0m\n\u001b[0;32m    711\u001b[0m             \u001b[0mkey\u001b[0m \u001b[1;33m=\u001b[0m \u001b[0mcom\u001b[0m\u001b[1;33m.\u001b[0m\u001b[0mapply_if_callable\u001b[0m\u001b[1;33m(\u001b[0m\u001b[0mkey\u001b[0m\u001b[1;33m,\u001b[0m \u001b[0mself\u001b[0m\u001b[1;33m.\u001b[0m\u001b[0mobj\u001b[0m\u001b[1;33m)\u001b[0m\u001b[1;33m\u001b[0m\u001b[1;33m\u001b[0m\u001b[0m\n\u001b[0;32m    712\u001b[0m         \u001b[0mindexer\u001b[0m \u001b[1;33m=\u001b[0m \u001b[0mself\u001b[0m\u001b[1;33m.\u001b[0m\u001b[0m_get_setitem_indexer\u001b[0m\u001b[1;33m(\u001b[0m\u001b[0mkey\u001b[0m\u001b[1;33m)\u001b[0m\u001b[1;33m\u001b[0m\u001b[1;33m\u001b[0m\u001b[0m\n\u001b[1;32m--> 713\u001b[1;33m         \u001b[0mself\u001b[0m\u001b[1;33m.\u001b[0m\u001b[0m_has_valid_setitem_indexer\u001b[0m\u001b[1;33m(\u001b[0m\u001b[0mkey\u001b[0m\u001b[1;33m)\u001b[0m\u001b[1;33m\u001b[0m\u001b[1;33m\u001b[0m\u001b[0m\n\u001b[0m\u001b[0;32m    714\u001b[0m \u001b[1;33m\u001b[0m\u001b[0m\n\u001b[0;32m    715\u001b[0m         \u001b[0miloc\u001b[0m \u001b[1;33m=\u001b[0m \u001b[0mself\u001b[0m \u001b[1;32mif\u001b[0m \u001b[0mself\u001b[0m\u001b[1;33m.\u001b[0m\u001b[0mname\u001b[0m \u001b[1;33m==\u001b[0m \u001b[1;34m\"iloc\"\u001b[0m \u001b[1;32melse\u001b[0m \u001b[0mself\u001b[0m\u001b[1;33m.\u001b[0m\u001b[0mobj\u001b[0m\u001b[1;33m.\u001b[0m\u001b[0miloc\u001b[0m\u001b[1;33m\u001b[0m\u001b[1;33m\u001b[0m\u001b[0m\n",
      "\u001b[1;32m~\\anaconda3\\lib\\site-packages\\pandas\\core\\indexing.py\u001b[0m in \u001b[0;36m_has_valid_setitem_indexer\u001b[1;34m(self, indexer)\u001b[0m\n\u001b[0;32m   1414\u001b[0m             \u001b[1;32melif\u001b[0m \u001b[0mis_integer\u001b[0m\u001b[1;33m(\u001b[0m\u001b[0mi\u001b[0m\u001b[1;33m)\u001b[0m\u001b[1;33m:\u001b[0m\u001b[1;33m\u001b[0m\u001b[1;33m\u001b[0m\u001b[0m\n\u001b[0;32m   1415\u001b[0m                 \u001b[1;32mif\u001b[0m \u001b[0mi\u001b[0m \u001b[1;33m>=\u001b[0m \u001b[0mlen\u001b[0m\u001b[1;33m(\u001b[0m\u001b[0max\u001b[0m\u001b[1;33m)\u001b[0m\u001b[1;33m:\u001b[0m\u001b[1;33m\u001b[0m\u001b[1;33m\u001b[0m\u001b[0m\n\u001b[1;32m-> 1416\u001b[1;33m                     \u001b[1;32mraise\u001b[0m \u001b[0mIndexError\u001b[0m\u001b[1;33m(\u001b[0m\u001b[1;34m\"iloc cannot enlarge its target object\"\u001b[0m\u001b[1;33m)\u001b[0m\u001b[1;33m\u001b[0m\u001b[1;33m\u001b[0m\u001b[0m\n\u001b[0m\u001b[0;32m   1417\u001b[0m             \u001b[1;32melif\u001b[0m \u001b[0misinstance\u001b[0m\u001b[1;33m(\u001b[0m\u001b[0mi\u001b[0m\u001b[1;33m,\u001b[0m \u001b[0mdict\u001b[0m\u001b[1;33m)\u001b[0m\u001b[1;33m:\u001b[0m\u001b[1;33m\u001b[0m\u001b[1;33m\u001b[0m\u001b[0m\n\u001b[0;32m   1418\u001b[0m                 \u001b[1;32mraise\u001b[0m \u001b[0mIndexError\u001b[0m\u001b[1;33m(\u001b[0m\u001b[1;34m\"iloc cannot enlarge its target object\"\u001b[0m\u001b[1;33m)\u001b[0m\u001b[1;33m\u001b[0m\u001b[1;33m\u001b[0m\u001b[0m\n",
      "\u001b[1;31mIndexError\u001b[0m: iloc cannot enlarge its target object"
     ]
    }
   ],
   "source": [
    "## 추가될 인덱스에 값을 할당하는 방식 => 에러\n",
    "samsung_series.iloc[samsung_series.shape[0]] = 77100"
   ]
  },
  {
   "cell_type": "code",
   "execution_count": 46,
   "id": "b9c8e732",
   "metadata": {
    "ExecuteTime": {
     "end_time": "2023-03-10T09:30:49.214961Z",
     "start_time": "2023-03-10T09:30:49.193024Z"
    }
   },
   "outputs": [
    {
     "data": {
      "text/plain": [
       "Date\n",
       "2018-01-02        0\n",
       "2018-01-03    51620\n",
       "2018-01-04    51080\n",
       "2018-01-05    52120\n",
       "2018-01-08    52020\n",
       "              ...  \n",
       "2021-12-15    77600\n",
       "2021-12-16    77800\n",
       "2021-12-17    78000\n",
       "2021-12-18    77100\n",
       "2021-12-19    77200\n",
       "Name: Close, Length: 979, dtype: int64"
      ]
     },
     "execution_count": 46,
     "metadata": {},
     "output_type": "execute_result"
    }
   ],
   "source": [
    "## 값 추가\n",
    "samsung_series['2021-12-18'] = 77100\n",
    "samsung_series"
   ]
  },
  {
   "cell_type": "code",
   "execution_count": 47,
   "id": "46e55d6f",
   "metadata": {
    "ExecuteTime": {
     "end_time": "2023-03-10T09:30:55.501032Z",
     "start_time": "2023-03-10T09:30:55.490032Z"
    }
   },
   "outputs": [
    {
     "data": {
      "text/plain": [
       "979"
      ]
     },
     "execution_count": 47,
     "metadata": {},
     "output_type": "execute_result"
    }
   ],
   "source": [
    "samsung_series.loc['2021-12-19'] = 77200\n",
    "samsung_series.shape[0]"
   ]
  },
  {
   "cell_type": "code",
   "execution_count": 46,
   "id": "0647637b",
   "metadata": {
    "ExecuteTime": {
     "end_time": "2023-03-08T16:19:18.019278Z",
     "start_time": "2023-03-08T16:19:17.996361Z"
    }
   },
   "outputs": [
    {
     "data": {
      "text/plain": [
       "Date\n",
       "2018-01-02        0\n",
       "2018-01-03    51620\n",
       "2018-01-04    51080\n",
       "2018-01-05    52120\n",
       "2018-01-08    52020\n",
       "              ...  \n",
       "2021-12-15    77600\n",
       "2021-12-16    77800\n",
       "2021-12-17    78000\n",
       "2021-12-18    77100\n",
       "2021-12-19    77300\n",
       "Name: Close, Length: 979, dtype: int64"
      ]
     },
     "execution_count": 46,
     "metadata": {},
     "output_type": "execute_result"
    }
   ],
   "source": [
    "samsung_series.iloc[978] = 77300\n",
    "samsung_series"
   ]
  },
  {
   "cell_type": "markdown",
   "id": "27602944",
   "metadata": {},
   "source": [
    "## 두개의 Series 연결\n",
    "\n"
   ]
  },
  {
   "cell_type": "markdown",
   "id": "04f17d71",
   "metadata": {},
   "source": [
    "### series.append(other_series, )"
   ]
  },
  {
   "cell_type": "code",
   "execution_count": 51,
   "id": "4a5f13f8",
   "metadata": {
    "ExecuteTime": {
     "end_time": "2023-03-08T23:54:11.936944Z",
     "start_time": "2023-03-08T23:54:11.924971Z"
    }
   },
   "outputs": [],
   "source": [
    "import pandas as pd\n",
    "#pd.set_option('display.max_rows', None)"
   ]
  },
  {
   "cell_type": "code",
   "execution_count": 49,
   "id": "c87eebb2",
   "metadata": {
    "ExecuteTime": {
     "end_time": "2023-03-10T09:38:30.209818Z",
     "start_time": "2023-03-10T09:38:28.817291Z"
    }
   },
   "outputs": [
    {
     "name": "stderr",
     "output_type": "stream",
     "text": [
      "C:\\Users\\proyj\\AppData\\Local\\Temp\\ipykernel_9764\\3120514832.py:1: FutureWarning: The squeeze argument has been deprecated and will be removed in a future version. Append .squeeze(\"columns\") to the call to squeeze.\n",
      "\n",
      "\n",
      "  series1_samsung = pd.read_excel('samsung_excel.xlsx', sheet_name = 'Sheet1', index_col = 0, squeeze = True)\n"
     ]
    },
    {
     "data": {
      "text/plain": [
       "Date\n",
       "2018-01-02    51020\n",
       "2018-01-03    51620\n",
       "2018-01-04    51080\n",
       "2018-01-05    52120\n",
       "2018-01-08    52020\n",
       "              ...  \n",
       "2019-12-23    55500\n",
       "2019-12-24    55000\n",
       "2019-12-26    55400\n",
       "2019-12-27    56500\n",
       "2019-12-30    55800\n",
       "Name: Close, Length: 490, dtype: int64"
      ]
     },
     "execution_count": 49,
     "metadata": {},
     "output_type": "execute_result"
    }
   ],
   "source": [
    "series1_samsung = pd.read_excel('samsung_excel.xlsx', sheet_name = 'Sheet1', index_col = 0, squeeze = True)\n",
    "series1_samsung"
   ]
  },
  {
   "cell_type": "markdown",
   "id": "4fdd81a6",
   "metadata": {},
   "source": [
    "```sheet_name = 0``` 이라고 할 수도 있음"
   ]
  },
  {
   "cell_type": "code",
   "execution_count": 50,
   "id": "39ee9fcc",
   "metadata": {
    "ExecuteTime": {
     "end_time": "2023-03-10T09:38:33.146693Z",
     "start_time": "2023-03-10T09:38:33.069334Z"
    }
   },
   "outputs": [
    {
     "name": "stderr",
     "output_type": "stream",
     "text": [
      "C:\\Users\\proyj\\AppData\\Local\\Temp\\ipykernel_9764\\969072097.py:1: FutureWarning: The squeeze argument has been deprecated and will be removed in a future version. Append .squeeze(\"columns\") to the call to squeeze.\n",
      "\n",
      "\n",
      "  series2_samsung = pd.read_excel('samsung_excel.xlsx', sheet_name = 'Sheet2', index_col = 0, squeeze = True)\n"
     ]
    },
    {
     "data": {
      "text/plain": [
       "Date\n",
       "2020-01-02    55200\n",
       "2020-01-03    55500\n",
       "2020-01-06    55500\n",
       "2020-01-07    55800\n",
       "2020-01-08    56800\n",
       "              ...  \n",
       "2021-12-20    77100\n",
       "2021-12-21    78100\n",
       "2021-12-22    79400\n",
       "2021-12-23    79900\n",
       "2021-12-24    80500\n",
       "Name: Close, Length: 492, dtype: int64"
      ]
     },
     "execution_count": 50,
     "metadata": {},
     "output_type": "execute_result"
    }
   ],
   "source": [
    "series2_samsung = pd.read_excel('samsung_excel.xlsx', sheet_name = 'Sheet2', index_col = 0, squeeze = True)\n",
    "series2_samsung"
   ]
  },
  {
   "cell_type": "code",
   "execution_count": 52,
   "id": "c72a2c8c",
   "metadata": {
    "ExecuteTime": {
     "end_time": "2023-03-10T09:38:45.207922Z",
     "start_time": "2023-03-10T09:38:45.188973Z"
    }
   },
   "outputs": [],
   "source": [
    "# output 을 전체 다 볼 수 있음\n",
    "pd.set_option('display.max_rows', None)"
   ]
  },
  {
   "cell_type": "markdown",
   "id": "ccd9fb0b",
   "metadata": {},
   "source": [
    "### ignore_index = False  \n",
    "ref) https://wikidocs.net/154051  \n",
    "기존의 인덱스 유지하고자 할때"
   ]
  },
  {
   "cell_type": "markdown",
   "id": "72153244",
   "metadata": {},
   "source": [
    "```ignore_index = False``` # False: 기존 index 유지, True: 기존 index 무시"
   ]
  },
  {
   "cell_type": "code",
   "execution_count": 66,
   "id": "4aca243d",
   "metadata": {
    "ExecuteTime": {
     "end_time": "2023-03-10T10:18:02.472307Z",
     "start_time": "2023-03-10T10:18:02.459349Z"
    }
   },
   "outputs": [
    {
     "name": "stderr",
     "output_type": "stream",
     "text": [
      "C:\\Users\\proyj\\AppData\\Local\\Temp\\ipykernel_9764\\1466658145.py:2: FutureWarning: The series.append method is deprecated and will be removed from pandas in a future version. Use pandas.concat instead.\n",
      "  series_samsung = series1_samsung.append(series2_samsung, ignore_index = True)\n"
     ]
    },
    {
     "data": {
      "text/plain": [
       "0      51020\n",
       "1      51620\n",
       "2      51080\n",
       "3      52120\n",
       "4      52020\n",
       "       ...  \n",
       "977    77100\n",
       "978    78100\n",
       "979    79400\n",
       "980    79900\n",
       "981    80500\n",
       "Name: Close, Length: 982, dtype: int64"
      ]
     },
     "execution_count": 66,
     "metadata": {},
     "output_type": "execute_result"
    }
   ],
   "source": [
    "# ignore_index = True 시 기존 인덱스 무시\n",
    "series_samsung = series1_samsung.append(series2_samsung, ignore_index = True)\n",
    "series_samsung"
   ]
  },
  {
   "cell_type": "code",
   "execution_count": 67,
   "id": "a602c075",
   "metadata": {
    "ExecuteTime": {
     "end_time": "2023-03-10T10:18:45.971760Z",
     "start_time": "2023-03-10T10:18:45.959786Z"
    },
    "scrolled": true
   },
   "outputs": [
    {
     "name": "stderr",
     "output_type": "stream",
     "text": [
      "C:\\Users\\proyj\\AppData\\Local\\Temp\\ipykernel_9764\\1297777962.py:1: FutureWarning: The series.append method is deprecated and will be removed from pandas in a future version. Use pandas.concat instead.\n",
      "  series_samsung = series1_samsung.append(series2_samsung, ignore_index = False)\n"
     ]
    },
    {
     "data": {
      "text/plain": [
       "Date\n",
       "2018-01-02    51020\n",
       "2018-01-03    51620\n",
       "2018-01-04    51080\n",
       "2018-01-05    52120\n",
       "2018-01-08    52020\n",
       "              ...  \n",
       "2021-12-20    77100\n",
       "2021-12-21    78100\n",
       "2021-12-22    79400\n",
       "2021-12-23    79900\n",
       "2021-12-24    80500\n",
       "Name: Close, Length: 982, dtype: int64"
      ]
     },
     "execution_count": 67,
     "metadata": {},
     "output_type": "execute_result"
    }
   ],
   "source": [
    "series_samsung = series1_samsung.append(series2_samsung, ignore_index = False)\n",
    "series_samsung"
   ]
  },
  {
   "cell_type": "markdown",
   "id": "f1fb517b",
   "metadata": {},
   "source": [
    "## Series 기본 통계치 구하기"
   ]
  },
  {
   "cell_type": "markdown",
   "id": "b6087747",
   "metadata": {},
   "source": [
    "### 기본 통계치 series.dscribe()"
   ]
  },
  {
   "cell_type": "code",
   "execution_count": 61,
   "id": "e7561750",
   "metadata": {
    "ExecuteTime": {
     "end_time": "2023-03-10T09:43:50.287729Z",
     "start_time": "2023-03-10T09:43:50.256763Z"
    }
   },
   "outputs": [
    {
     "data": {
      "text/plain": [
       "count      977.000000\n",
       "mean     57295.854657\n",
       "std      14084.402274\n",
       "min      37450.000000\n",
       "25%      46300.000000\n",
       "50%      51300.000000\n",
       "75%      70200.000000\n",
       "max      91000.000000\n",
       "Name: Close, dtype: float64"
      ]
     },
     "execution_count": 61,
     "metadata": {},
     "output_type": "execute_result"
    }
   ],
   "source": [
    "# 기본 통계치\n",
    "samsung_price.describe()\n"
   ]
  },
  {
   "cell_type": "markdown",
   "id": "e6420b25",
   "metadata": {},
   "source": [
    "#### 분위값 percentiles  \n",
    "- 기본값 [.25, .5, .75]  \n",
    "ref) https://pandas.pydata.org/docs/reference/api/pandas.Series.describe.html"
   ]
  },
  {
   "cell_type": "code",
   "execution_count": 69,
   "id": "9da5cc95",
   "metadata": {
    "ExecuteTime": {
     "end_time": "2023-03-10T10:23:20.346617Z",
     "start_time": "2023-03-10T10:23:20.327677Z"
    }
   },
   "outputs": [
    {
     "data": {
      "text/plain": [
       "count      977.000000\n",
       "mean     57295.854657\n",
       "std      14084.402274\n",
       "min      37450.000000\n",
       "20%      45600.000000\n",
       "30%      46950.000000\n",
       "40%      49176.000000\n",
       "50%      51300.000000\n",
       "60%      55460.000000\n",
       "70%      60400.000000\n",
       "80%      74400.000000\n",
       "max      91000.000000\n",
       "Name: Close, dtype: float64"
      ]
     },
     "execution_count": 69,
     "metadata": {},
     "output_type": "execute_result"
    }
   ],
   "source": [
    "samsung_price.describe(percentiles=[.2,.3,.4,.5,.6,.7,.8])"
   ]
  },
  {
   "cell_type": "markdown",
   "id": "e09b87d0",
   "metadata": {},
   "source": [
    "### series.max()"
   ]
  },
  {
   "cell_type": "code",
   "execution_count": 57,
   "id": "20cde5e9",
   "metadata": {
    "ExecuteTime": {
     "end_time": "2023-03-10T09:43:37.994091Z",
     "start_time": "2023-03-10T09:43:37.981129Z"
    }
   },
   "outputs": [],
   "source": [
    "# option default로 변경\n",
    "pd.reset_option(\"display.max_rows\")"
   ]
  },
  {
   "cell_type": "code",
   "execution_count": 58,
   "id": "dbf0c930",
   "metadata": {
    "ExecuteTime": {
     "end_time": "2023-03-10T09:43:39.745644Z",
     "start_time": "2023-03-10T09:43:39.717685Z"
    }
   },
   "outputs": [
    {
     "name": "stderr",
     "output_type": "stream",
     "text": [
      "C:\\Users\\proyj\\AppData\\Local\\Temp\\ipykernel_9764\\3135519495.py:1: FutureWarning: The squeeze argument has been deprecated and will be removed in a future version. Append .squeeze(\"columns\") to the call to squeeze.\n",
      "\n",
      "\n",
      "  samsung_price = pd.read_csv('삼성전자 종가.csv', index_col = 0, squeeze = True, header = 0)\n"
     ]
    },
    {
     "data": {
      "text/plain": [
       "Date\n",
       "2018-01-02    51020\n",
       "2018-01-03    51620\n",
       "2018-01-04    51080\n",
       "2018-01-05    52120\n",
       "2018-01-08    52020\n",
       "              ...  \n",
       "2021-12-13    76800\n",
       "2021-12-14    77000\n",
       "2021-12-15    77600\n",
       "2021-12-16    77800\n",
       "2021-12-17    78000\n",
       "Name: Close, Length: 977, dtype: int64"
      ]
     },
     "execution_count": 58,
     "metadata": {},
     "output_type": "execute_result"
    }
   ],
   "source": [
    "samsung_price = pd.read_csv('삼성전자 종가.csv', index_col = 0, squeeze = True, header = 0)\n",
    "samsung_price"
   ]
  },
  {
   "cell_type": "code",
   "execution_count": 59,
   "id": "f9b122c4",
   "metadata": {
    "ExecuteTime": {
     "end_time": "2023-03-10T09:43:45.869719Z",
     "start_time": "2023-03-10T09:43:45.856716Z"
    }
   },
   "outputs": [
    {
     "data": {
      "text/plain": [
       "91000"
      ]
     },
     "execution_count": 59,
     "metadata": {},
     "output_type": "execute_result"
    }
   ],
   "source": [
    "# 최고값\n",
    "samsung_price.max()"
   ]
  },
  {
   "cell_type": "markdown",
   "id": "556d3d86",
   "metadata": {},
   "source": [
    "### series.min()"
   ]
  },
  {
   "cell_type": "code",
   "execution_count": 60,
   "id": "ee277b87",
   "metadata": {
    "ExecuteTime": {
     "end_time": "2023-03-10T09:43:47.942758Z",
     "start_time": "2023-03-10T09:43:47.928827Z"
    },
    "scrolled": false
   },
   "outputs": [
    {
     "data": {
      "text/plain": [
       "37450"
      ]
     },
     "execution_count": 60,
     "metadata": {},
     "output_type": "execute_result"
    }
   ],
   "source": [
    "# 최저값\n",
    "samsung_price.min()"
   ]
  },
  {
   "cell_type": "markdown",
   "id": "23078b28",
   "metadata": {},
   "source": [
    "### series.count()"
   ]
  },
  {
   "cell_type": "code",
   "execution_count": 68,
   "id": "3bac1423",
   "metadata": {
    "ExecuteTime": {
     "end_time": "2023-03-10T10:21:07.700463Z",
     "start_time": "2023-03-10T10:21:07.678489Z"
    }
   },
   "outputs": [
    {
     "data": {
      "text/plain": [
       "977"
      ]
     },
     "execution_count": 68,
     "metadata": {},
     "output_type": "execute_result"
    }
   ],
   "source": [
    "samsung_price.count()"
   ]
  },
  {
   "cell_type": "markdown",
   "id": "750f8b68",
   "metadata": {},
   "source": [
    "## 최고값일때의 value와 날짜는 언제일까?"
   ]
  },
  {
   "cell_type": "markdown",
   "id": "b233900e",
   "metadata": {},
   "source": [
    "### Numpy의 Broadcasting  \n",
    "*** v. broadcast ***  \n",
    "\n",
    "to spread widely; disseminate:  \n",
    "\n",
    "차원이 다른 행렬의 연산을 가능하게 한다.  \n"
   ]
  },
  {
   "cell_type": "markdown",
   "id": "93d2b90a",
   "metadata": {},
   "source": [
    "#### broadcasting의 조건\n",
    "브로드캐스팅이 일어날 수 있는 조건은 다음과 같다.  \n",
    "- 차원의 크기가 1일때 가능하다  \n",
    "    두 배열 간의 연산에서 최소한 하나의 배열의 차원이 1이라면 가능하다.  \n",
    "- 차원의 짝이 맞을 때 가능하다  \n",
    "    차원에 대해 축의 길이가 동일하면 브로드캐스팅이 가능하다."
   ]
  },
  {
   "cell_type": "markdown",
   "id": "bdf26044",
   "metadata": {},
   "source": [
    "- 1X3 + 1X1 => 1X3 + 1X3  \n",
    "ex) [0,1,2] + 5 = [0,1,2] + [5,5,5] = [5,6,7] \n",
    "\n",
    "- 3X3 + 1X3 => 3X3 + 3X3  \n",
    "ex) [[1,1,1], [1,1,1], [1,1,1]] + [0,1,2]  \n",
    "    =>  \n",
    "    [[1,1,1], [1,1,1], [1,1,1]] + [[0,1,2],[0,1,2],[0,1,2]] = [[1,2,3], [1,2,3], [1,2,3]]  \n",
    "   \n",
    "- 3X1 + 1X3 => 3X3 + 3X3  \n",
    "ex) [[0],[1],[2]] + [0,1,2]  \n",
    "    =>\n",
    "    [[0,0,0],[1,1,1],[2,2,2]] + [[0,1,2],[0,1,2],[0,1,2]] = [[0,1,2],[1,2,3],[2,3,4]]  \n",
    "\n",
    "ref) https://sacko.tistory.com/16  "
   ]
  },
  {
   "cell_type": "markdown",
   "id": "7213e558",
   "metadata": {},
   "source": [
    "### max 값 비교로 찾을 것인가?"
   ]
  },
  {
   "cell_type": "markdown",
   "id": "c975eed2",
   "metadata": {},
   "source": [
    "***생각의 과정***  \n",
    "처음에는 배열을 비교하여 최고값의 개수를"
   ]
  },
  {
   "cell_type": "code",
   "execution_count": 62,
   "id": "650f3fc7",
   "metadata": {
    "ExecuteTime": {
     "end_time": "2023-03-10T09:46:01.103850Z",
     "start_time": "2023-03-10T09:46:01.081923Z"
    }
   },
   "outputs": [
    {
     "data": {
      "text/plain": [
       "array([51020, 51620, 51080, 52120, 52020, 50400, 48840, 48240, 48200,\n",
       "       48540, 50000, 49620, 49900, 49320, 48240, 49160, 49340, 50260,\n",
       "       50780, 51220, 49800, 49900, 49820, 47700, 47920, 47420, 45800,\n",
       "       46000, 44700, 45720, 47540, 49000, 48380, 47400, 47280, 46760,\n",
       "       47220, 47380, 47380, 47060, 46020, 45200, 47020, 48620, 49200,\n",
       "       49740, 49740, 51660, 51760, 51540, 51140, 50740, 51200, 51060,\n",
       "       51780, 49720, 50280, 49980, 48700, 49040, 49220, 48540, 48120,\n",
       "       46920, 48740, 48400, 49200, 48880, 48860, 49000, 49800, 50340,\n",
       "       49980, 51360, 52780, 51620, 51900, 50460, 50400, 52140, 53000,\n",
       "       53000, 53000, 53000, 51900, 52600, 50900, 51600, 51300, 50100,\n",
       "       49200, 49850, 49400, 49500, 50000, 51800, 51400, 52700, 52300,\n",
       "       51300, 49500, 50700, 51300, 51100, 51300, 50600, 49650, 49900,\n",
       "       49400, 48200, 47650, 46600, 47000, 47000, 47050, 47250, 46650,\n",
       "       47000, 47950, 46800, 46650, 45550, 46150, 46250, 45950, 44900,\n",
       "       45600, 46300, 46000, 45500, 46500, 46050, 45850, 46550, 46900,\n",
       "       47450, 46500, 46150, 46150, 46900, 46900, 46500, 46250, 46550,\n",
       "       45550, 45750, 45800, 46700, 46800, 46900, 45400, 45050, 45150,\n",
       "       44250, 44100, 43850, 44800, 46100, 46200, 46150, 46300, 46550,\n",
       "       46800, 47650, 48450, 47450, 47650, 46600, 46100, 44900, 45500,\n",
       "       45050, 44550, 44050, 45850, 45150, 45500, 46150, 47250, 47400,\n",
       "       47500, 46450, 46350, 45700, 44700, 44700, 44950, 45300, 43100,\n",
       "       44000, 43800, 43600, 44150, 44050, 43900, 43550, 43050, 42550,\n",
       "       41000, 41000, 41400, 42350, 42400, 42150, 44150, 43800, 43750,\n",
       "       44000, 44050, 44300, 45200, 44500, 44100, 44250, 44000, 43650,\n",
       "       42800, 42100, 42450, 42400, 42600, 43050, 43150, 43150, 41850,\n",
       "       43250, 42150, 41450, 40500, 40950, 40200, 40250, 40450, 40000,\n",
       "       38950, 39150, 38900, 39100, 38650, 38650, 38800, 38350, 38250,\n",
       "       38700, 38750, 37600, 37450, 38750, 38100, 39600, 39800, 40500,\n",
       "       40050, 41100, 41450, 41950, 42300, 42750, 42150, 42000, 43050,\n",
       "       44750, 45050, 45500, 46400, 46150, 46350, 46200, 44800, 45000,\n",
       "       46050, 46200, 47500, 46050, 46200, 45950, 46900, 46950, 47150,\n",
       "       47350, 46750, 46750, 45100, 44850, 44250, 44000, 44450, 43800,\n",
       "       43650, 44650, 43850, 43850, 44200, 43700, 43900, 44050, 45850,\n",
       "       46550, 45500, 45250, 45350, 44850, 44650, 45050, 45750, 46600,\n",
       "       46950, 46850, 46650, 46650, 46700, 46250, 46850, 47050, 47250,\n",
       "       47050, 45600, 45300, 45350, 45200, 44750, 44650, 44850, 46150,\n",
       "       45850, 45900, 45300, 44850, 44250, 42450, 42900, 42650, 42650,\n",
       "       42550, 41550, 41200, 42000, 43150, 43500, 43850, 42700, 42650,\n",
       "       42550, 41800, 42550, 42500, 43800, 43450, 43900, 44200, 44800,\n",
       "       44850, 44600, 43750, 44000, 43900, 44350, 45350, 45500, 45700,\n",
       "       45500, 45600, 45700, 46500, 47000, 46600, 46250, 45400, 46000,\n",
       "       45650, 44400, 45100, 45550, 46200, 46300, 46450, 46850, 46050,\n",
       "       46100, 46800, 47200, 47300, 46400, 47200, 47150, 46100, 46550,\n",
       "       45350, 45200, 44950, 43950, 43500, 43200, 42650, 43150, 43700,\n",
       "       43000, 43700, 43900, 43600, 44450, 44500, 44050, 43950, 43600,\n",
       "       44050, 44150, 43400, 44000, 43800, 43250, 44100, 45700, 46300,\n",
       "       46900, 47000, 47150, 47100, 46900, 47700, 49150, 49200, 49300,\n",
       "       49500, 48900, 49200, 48400, 49050, 48850, 47600, 48000, 47750,\n",
       "       48900, 48550, 49150, 50000, 50100, 50700, 50500, 49900, 50300,\n",
       "       51200, 51200, 50700, 50900, 51300, 51100, 50400, 50400, 51200,\n",
       "       52300, 52700, 53300, 52900, 52100, 51600, 52600, 52500, 52800,\n",
       "       53700, 53500, 53500, 52000, 51000, 51600, 51800, 51800, 52200,\n",
       "       51300, 50300, 50400, 49900, 49450, 49500, 50400, 51200, 51500,\n",
       "       51900, 53300, 54700, 54700, 56700, 56300, 56000, 56000, 55500,\n",
       "       55000, 55400, 56500, 55800, 55200, 55500, 55500, 55800, 56800,\n",
       "       58600, 59500, 60000, 60000, 59000, 60700, 61300, 62400, 61400,\n",
       "       62300, 60800, 58800, 59100, 57200, 56400, 57200, 58900, 59500,\n",
       "       61100, 60400, 59700, 59900, 60500, 60700, 61800, 61500, 59800,\n",
       "       60200, 60000, 59200, 56800, 57900, 56500, 55900, 54200, 55000,\n",
       "       55400, 57400, 57800, 56500, 54200, 54600, 52100, 50800, 49950,\n",
       "       48900, 47300, 45600, 42950, 45400, 42500, 46950, 48650, 47800,\n",
       "       48300, 47850, 47750, 45800, 46800, 47000, 48700, 49600, 48600,\n",
       "       49100, 49250, 48300, 49000, 49000, 51400, 50100, 49250, 49850,\n",
       "       49850, 49350, 49850, 50100, 50000, 48500, 49200, 48800, 48800,\n",
       "       48400, 47900, 48550, 48000, 47850, 48800, 50300, 50000, 49950,\n",
       "       48750, 48850, 49250, 49900, 50400, 50700, 51200, 51400, 54500,\n",
       "       54600, 55500, 54900, 55500, 55400, 54300, 52300, 49900, 52100,\n",
       "       52200, 52300, 52900, 52000, 51400, 52900, 51900, 53300, 52400,\n",
       "       52800, 52600, 52900, 53600, 55000, 53400, 53000, 52800, 52700,\n",
       "       53400, 53800, 54700, 53800, 54400, 54200, 55300, 54700, 54100,\n",
       "       54200, 55600, 58600, 59000, 59000, 57900, 56800, 57300, 56900,\n",
       "       58000, 57500, 57800, 58200, 59000, 58700, 58000, 58400, 57800,\n",
       "       55400, 55900, 56100, 56400, 56400, 55600, 55400, 54000, 54200,\n",
       "       54400, 56400, 55600, 56500, 58700, 58400, 59200, 59000, 60400,\n",
       "       61000, 61000, 59500, 59300, 59200, 58200, 58600, 57800, 57900,\n",
       "       58200, 58200, 58700, 59000, 59900, 59700, 60400, 60900, 60900,\n",
       "       60000, 59500, 60000, 60900, 60900, 60100, 60200, 60400, 59800,\n",
       "       59000, 58100, 56600, 57400, 58800, 58500, 60300, 60100, 60200,\n",
       "       60200, 61300, 61000, 63200, 66300, 65700, 64800, 64600, 64700,\n",
       "       67500, 67700, 66600, 68000, 68200, 66700, 67800, 69500, 69700,\n",
       "       71500, 72900, 71700, 73900, 72900, 73400, 73800, 73800, 73800,\n",
       "       73300, 73000, 73000, 72300, 73900, 77800, 78700, 78300, 81000,\n",
       "       83000, 83900, 82200, 82900, 88800, 91000, 90600, 89700, 89700,\n",
       "       88000, 85000, 87000, 87200, 88100, 86800, 89400, 86700, 85600,\n",
       "       83700, 82000, 83000, 84400, 84600, 82500, 83500, 83000, 82700,\n",
       "       81600, 84200, 84900, 83200, 82100, 82600, 82200, 82000, 82000,\n",
       "       85300, 82500, 83600, 84000, 82400, 82100, 82000, 81400, 80900,\n",
       "       82000, 82800, 81800, 82800, 82300, 82900, 81900, 82000, 81800,\n",
       "       81000, 81200, 81500, 81600, 82200, 81400, 82900, 84800, 85400,\n",
       "       86000, 85600, 84700, 83600, 83200, 84000, 84000, 84100, 83900,\n",
       "       83300, 83900, 82600, 82400, 82800, 83500, 82900, 82100, 81700,\n",
       "       81500, 81700, 82600, 82300, 81900, 83200, 81200, 80000, 78500,\n",
       "       80100, 79600, 79600, 79500, 80100, 79700, 79900, 79800, 79600,\n",
       "       80100, 80500, 80600, 80800, 82800, 82200, 81900, 81900, 81100,\n",
       "       81000, 81000, 80500, 80900, 81800, 80900, 80500, 79900, 80000,\n",
       "       80100, 81200, 81600, 81900, 81000, 80700, 80100, 80000, 80400,\n",
       "       81200, 80800, 79900, 79400, 79700, 79800, 79500, 80600, 79800,\n",
       "       79000, 79000, 78500, 79700, 79300, 78800, 78500, 79200, 79000,\n",
       "       78500, 79300, 81400, 82900, 82100, 81500, 81500, 80200, 78500,\n",
       "       77000, 74400, 74200, 73900, 73100, 72700, 73300, 75600, 75700,\n",
       "       74600, 74300, 74600, 76700, 76800, 76000, 76600, 77300, 76100,\n",
       "       76300, 75300, 75300, 76300, 76600, 77000, 76100, 77200, 77400,\n",
       "       77300, 77700, 76300, 74100, 74100, 73200, 72200, 71300, 71600,\n",
       "       71500, 69000, 68800, 69400, 70100, 70200, 70600, 70300, 70200,\n",
       "       70400, 70200, 71100, 70100, 70700, 69800, 69900, 71500, 70400,\n",
       "       70600, 70200, 70600, 70500, 70200, 69900, 70600, 71400, 71300,\n",
       "       70700, 70200, 71200, 74900, 75300, 74800, 73700, 72300, 72300,\n",
       "       71300, 74400, 75800, 75600, 76300, 77400, 77400, 78200, 76900,\n",
       "       76800, 77000, 77600, 77800, 78000], dtype=int64)"
      ]
     },
     "execution_count": 62,
     "metadata": {},
     "output_type": "execute_result"
    }
   ],
   "source": [
    "samsung_price.values"
   ]
  },
  {
   "cell_type": "code",
   "execution_count": 63,
   "id": "05f27723",
   "metadata": {
    "ExecuteTime": {
     "end_time": "2023-03-10T09:46:15.136750Z",
     "start_time": "2023-03-10T09:46:15.128779Z"
    }
   },
   "outputs": [
    {
     "data": {
      "text/plain": [
       "numpy.ndarray"
      ]
     },
     "execution_count": 63,
     "metadata": {},
     "output_type": "execute_result"
    }
   ],
   "source": [
    "type(samsung_price.values)"
   ]
  },
  {
   "cell_type": "code",
   "execution_count": 74,
   "id": "59b69ee2",
   "metadata": {
    "ExecuteTime": {
     "end_time": "2023-03-09T00:18:45.508666Z",
     "start_time": "2023-03-09T00:18:45.490408Z"
    }
   },
   "outputs": [
    {
     "data": {
      "text/plain": [
       "array([False, False, False, False, False, False, False, False, False,\n",
       "       False, False, False, False, False, False, False, False, False,\n",
       "       False, False, False, False, False, False, False, False, False,\n",
       "       False, False, False, False, False, False, False, False, False,\n",
       "       False, False, False, False, False, False, False, False, False,\n",
       "       False, False, False, False, False, False, False, False, False,\n",
       "       False, False, False, False, False, False, False, False, False,\n",
       "       False, False, False, False, False, False, False, False, False,\n",
       "       False, False, False, False, False, False, False, False, False,\n",
       "       False, False, False, False, False, False, False, False, False,\n",
       "       False, False, False, False, False, False, False, False, False,\n",
       "       False, False, False, False, False, False, False, False, False,\n",
       "       False, False, False, False, False, False, False, False, False,\n",
       "       False, False, False, False, False, False, False, False, False,\n",
       "       False, False, False, False, False, False, False, False, False,\n",
       "       False, False, False, False, False, False, False, False, False,\n",
       "       False, False, False, False, False, False, False, False, False,\n",
       "       False, False, False, False, False, False, False, False, False,\n",
       "       False, False, False, False, False, False, False, False, False,\n",
       "       False, False, False, False, False, False, False, False, False,\n",
       "       False, False, False, False, False, False, False, False, False,\n",
       "       False, False, False, False, False, False, False, False, False,\n",
       "       False, False, False, False, False, False, False, False, False,\n",
       "       False, False, False, False, False, False, False, False, False,\n",
       "       False, False, False, False, False, False, False, False, False,\n",
       "       False, False, False, False, False, False, False, False, False,\n",
       "       False, False, False, False, False, False, False, False, False,\n",
       "       False, False, False, False, False, False, False, False, False,\n",
       "       False, False, False, False, False, False, False, False, False,\n",
       "       False, False, False, False, False, False, False, False, False,\n",
       "       False, False, False, False, False, False, False, False, False,\n",
       "       False, False, False, False, False, False, False, False, False,\n",
       "       False, False, False, False, False, False, False, False, False,\n",
       "       False, False, False, False, False, False, False, False, False,\n",
       "       False, False, False, False, False, False, False, False, False,\n",
       "       False, False, False, False, False, False, False, False, False,\n",
       "       False, False, False, False, False, False, False, False, False,\n",
       "       False, False, False, False, False, False, False, False, False,\n",
       "       False, False, False, False, False, False, False, False, False,\n",
       "       False, False, False, False, False, False, False, False, False,\n",
       "       False, False, False, False, False, False, False, False, False,\n",
       "       False, False, False, False, False, False, False, False, False,\n",
       "       False, False, False, False, False, False, False, False, False,\n",
       "       False, False, False, False, False, False, False, False, False,\n",
       "       False, False, False, False, False, False, False, False, False,\n",
       "       False, False, False, False, False, False, False, False, False,\n",
       "       False, False, False, False, False, False, False, False, False,\n",
       "       False, False, False, False, False, False, False, False, False,\n",
       "       False, False, False, False, False, False, False, False, False,\n",
       "       False, False, False, False, False, False, False, False, False,\n",
       "       False, False, False, False, False, False, False, False, False,\n",
       "       False, False, False, False, False, False, False, False, False,\n",
       "       False, False, False, False, False, False, False, False, False,\n",
       "       False, False, False, False, False, False, False, False, False,\n",
       "       False, False, False, False, False, False, False, False, False,\n",
       "       False, False, False, False, False, False, False, False, False,\n",
       "       False, False, False, False, False, False, False, False, False,\n",
       "       False, False, False, False, False, False, False, False, False,\n",
       "       False, False, False, False, False, False, False, False, False,\n",
       "       False, False, False, False, False, False, False, False, False,\n",
       "       False, False, False, False, False, False, False, False, False,\n",
       "       False, False, False, False, False, False, False, False, False,\n",
       "       False, False, False, False, False, False, False, False, False,\n",
       "       False, False, False, False, False, False, False, False, False,\n",
       "       False, False, False, False, False, False, False, False, False,\n",
       "       False, False, False, False, False, False, False, False, False,\n",
       "       False, False, False, False, False, False, False, False, False,\n",
       "       False, False, False, False, False, False, False, False, False,\n",
       "       False, False, False, False, False, False, False, False, False,\n",
       "       False, False, False, False, False, False, False, False, False,\n",
       "       False, False, False, False, False, False, False, False, False,\n",
       "       False, False, False, False, False, False, False, False, False,\n",
       "       False, False, False, False, False, False, False, False, False,\n",
       "       False, False, False, False, False, False, False, False, False,\n",
       "       False, False, False, False, False, False, False, False, False,\n",
       "       False, False, False, False, False, False, False, False, False,\n",
       "       False, False, False, False, False, False, False, False, False,\n",
       "       False, False, False, False, False, False, False, False, False,\n",
       "       False, False, False, False, False, False, False, False, False,\n",
       "       False, False, False, False, False, False, False, False, False,\n",
       "       False, False, False, False, False, False, False, False, False,\n",
       "       False, False, False, False, False, False, False, False, False,\n",
       "       False, False, False, False, False,  True, False, False, False,\n",
       "       False, False, False, False, False, False, False, False, False,\n",
       "       False, False, False, False, False, False, False, False, False,\n",
       "       False, False, False, False, False, False, False, False, False,\n",
       "       False, False, False, False, False, False, False, False, False,\n",
       "       False, False, False, False, False, False, False, False, False,\n",
       "       False, False, False, False, False, False, False, False, False,\n",
       "       False, False, False, False, False, False, False, False, False,\n",
       "       False, False, False, False, False, False, False, False, False,\n",
       "       False, False, False, False, False, False, False, False, False,\n",
       "       False, False, False, False, False, False, False, False, False,\n",
       "       False, False, False, False, False, False, False, False, False,\n",
       "       False, False, False, False, False, False, False, False, False,\n",
       "       False, False, False, False, False, False, False, False, False,\n",
       "       False, False, False, False, False, False, False, False, False,\n",
       "       False, False, False, False, False, False, False, False, False,\n",
       "       False, False, False, False, False, False, False, False, False,\n",
       "       False, False, False, False, False, False, False, False, False,\n",
       "       False, False, False, False, False, False, False, False, False,\n",
       "       False, False, False, False, False, False, False, False, False,\n",
       "       False, False, False, False, False, False, False, False, False,\n",
       "       False, False, False, False, False, False, False, False, False,\n",
       "       False, False, False, False, False, False, False, False, False,\n",
       "       False, False, False, False, False, False, False, False, False,\n",
       "       False, False, False, False, False, False, False, False, False,\n",
       "       False, False, False, False, False, False, False, False, False,\n",
       "       False, False, False, False, False])"
      ]
     },
     "execution_count": 74,
     "metadata": {},
     "output_type": "execute_result"
    }
   ],
   "source": [
    "samsung_price.values == samsung_price.max()"
   ]
  },
  {
   "cell_type": "markdown",
   "id": "0b725e43",
   "metadata": {},
   "source": [
    "### 최고값과 그 날짜  \n",
    "- 최고값  \n",
    "    samsung_price.max()  \n",
    "- 최고값인 날짜  \n",
    "    samsung_price.index[samsung_price.values == samsung_price.max()]  \n"
   ]
  },
  {
   "cell_type": "code",
   "execution_count": 76,
   "id": "aae5bd2b",
   "metadata": {
    "ExecuteTime": {
     "end_time": "2023-03-09T00:22:03.295704Z",
     "start_time": "2023-03-09T00:22:03.285730Z"
    }
   },
   "outputs": [
    {
     "data": {
      "text/plain": [
       "Index(['2021-01-11'], dtype='object', name='Date')"
      ]
     },
     "execution_count": 76,
     "metadata": {},
     "output_type": "execute_result"
    }
   ],
   "source": [
    "samsung_price.index[samsung_price.values == samsung_price.max()]"
   ]
  },
  {
   "cell_type": "code",
   "execution_count": 79,
   "id": "262aeeb3",
   "metadata": {
    "ExecuteTime": {
     "end_time": "2023-03-09T00:24:07.280114Z",
     "start_time": "2023-03-09T00:24:07.260726Z"
    }
   },
   "outputs": [
    {
     "data": {
      "text/plain": [
       "array([False, False, False, False, False, False, False, False, False,\n",
       "       False, False, False, False, False, False, False, False, False,\n",
       "       False, False, False, False, False, False, False, False, False,\n",
       "       False, False, False, False, False, False, False, False, False,\n",
       "       False, False, False, False, False, False, False, False, False,\n",
       "       False, False, False, False, False, False, False, False, False,\n",
       "       False, False, False, False, False, False, False, False, False,\n",
       "       False, False, False, False, False, False, False, False, False,\n",
       "       False, False, False, False, False, False, False, False, False,\n",
       "       False, False, False, False, False, False, False, False, False,\n",
       "       False, False, False, False, False, False, False, False, False,\n",
       "       False, False, False, False, False, False, False, False, False,\n",
       "       False, False, False, False, False, False, False, False, False,\n",
       "       False, False, False, False, False, False, False, False, False,\n",
       "       False, False, False, False, False, False, False, False, False,\n",
       "       False, False, False, False, False, False, False, False, False,\n",
       "       False, False, False, False, False, False, False, False, False,\n",
       "       False, False, False, False, False, False, False, False, False,\n",
       "       False, False, False, False, False, False, False, False, False,\n",
       "       False, False, False, False, False, False, False, False, False,\n",
       "       False, False, False, False, False, False, False, False, False,\n",
       "       False, False, False, False, False, False, False, False, False,\n",
       "        True,  True, False, False, False, False, False, False, False,\n",
       "       False, False, False, False, False, False, False, False, False,\n",
       "       False, False, False, False, False, False, False, False, False,\n",
       "       False, False, False, False, False, False, False, False, False,\n",
       "       False, False, False, False, False, False, False, False, False,\n",
       "       False, False, False, False, False, False, False, False, False,\n",
       "       False, False, False, False, False, False, False, False, False,\n",
       "       False, False, False, False, False, False, False, False, False,\n",
       "       False, False, False, False, False, False, False, False, False,\n",
       "       False, False, False, False, False, False, False, False, False,\n",
       "       False, False, False, False, False, False, False, False, False,\n",
       "       False, False, False, False, False, False, False, False, False,\n",
       "       False, False, False, False, False, False, False, False, False,\n",
       "       False, False, False, False, False, False, False, False, False,\n",
       "       False, False, False, False, False, False, False, False, False,\n",
       "       False, False, False, False, False, False, False, False, False,\n",
       "       False, False, False, False, False, False, False, False, False,\n",
       "       False, False, False, False, False, False, False, False, False,\n",
       "       False, False, False, False, False, False, False, False, False,\n",
       "       False, False, False, False, False, False, False, False, False,\n",
       "       False, False, False, False, False, False, False, False, False,\n",
       "       False, False, False, False, False, False, False, False, False,\n",
       "       False, False, False, False, False, False, False, False, False,\n",
       "       False, False, False, False, False, False, False, False, False,\n",
       "       False, False, False, False, False, False, False, False, False,\n",
       "       False, False, False, False, False, False, False, False, False,\n",
       "       False, False, False, False, False, False, False, False, False,\n",
       "       False, False, False, False, False, False, False, False, False,\n",
       "       False, False, False, False, False, False, False, False, False,\n",
       "       False, False, False, False, False, False, False, False, False,\n",
       "       False, False, False, False, False, False, False, False, False,\n",
       "       False, False, False, False, False, False, False, False, False,\n",
       "       False, False, False, False, False, False, False, False, False,\n",
       "       False, False, False, False, False, False, False, False, False,\n",
       "       False, False, False, False, False, False, False, False, False,\n",
       "       False, False, False, False, False, False, False, False, False,\n",
       "       False, False, False, False, False, False, False, False, False,\n",
       "       False, False, False, False, False, False, False, False, False,\n",
       "       False, False, False, False, False, False, False, False, False,\n",
       "       False, False, False, False, False, False, False, False, False,\n",
       "       False, False, False, False, False, False, False, False, False,\n",
       "       False, False, False, False, False, False, False, False, False,\n",
       "       False, False, False, False, False, False, False, False, False,\n",
       "       False, False, False, False, False, False, False, False, False,\n",
       "       False, False, False, False, False, False, False, False, False,\n",
       "       False, False, False, False, False, False, False, False, False,\n",
       "       False, False, False, False, False, False, False, False, False,\n",
       "       False, False, False, False, False, False, False, False, False,\n",
       "       False, False, False, False, False, False, False, False, False,\n",
       "       False, False, False, False, False, False, False, False, False,\n",
       "       False, False, False, False, False, False, False, False, False,\n",
       "       False, False, False, False, False, False, False, False, False,\n",
       "       False, False, False, False, False, False, False, False, False,\n",
       "       False, False, False, False, False, False, False, False, False,\n",
       "       False, False, False, False, False, False, False, False, False,\n",
       "       False, False, False, False, False, False, False, False, False,\n",
       "       False, False, False, False, False, False, False, False, False,\n",
       "       False, False, False, False, False, False, False, False, False,\n",
       "       False, False, False, False, False, False, False, False, False,\n",
       "       False, False, False, False, False, False, False, False, False,\n",
       "       False, False, False, False, False, False, False, False, False,\n",
       "       False, False, False, False, False, False, False, False, False,\n",
       "       False, False, False, False, False, False, False, False, False,\n",
       "       False, False, False, False, False, False, False, False, False,\n",
       "       False, False, False, False, False, False, False, False, False,\n",
       "       False, False, False, False, False, False, False, False, False,\n",
       "       False, False, False, False, False, False, False, False, False,\n",
       "       False, False, False, False, False, False, False, False, False,\n",
       "       False, False, False, False, False, False, False, False, False,\n",
       "       False, False, False, False, False, False, False, False, False,\n",
       "       False, False, False, False, False, False, False, False, False,\n",
       "       False, False, False, False, False, False, False, False, False,\n",
       "       False, False, False, False, False, False, False, False, False,\n",
       "       False, False, False, False, False, False, False, False, False,\n",
       "       False, False, False, False, False, False, False, False, False,\n",
       "       False, False, False, False, False, False, False, False, False,\n",
       "       False, False, False, False, False, False, False, False, False,\n",
       "       False, False, False, False, False, False, False, False, False,\n",
       "       False, False, False, False, False, False, False, False, False,\n",
       "       False, False, False, False, False, False, False, False, False,\n",
       "       False, False, False, False, False, False, False, False, False,\n",
       "       False, False, False, False, False, False, False, False, False,\n",
       "       False, False, False, False, False, False, False, False, False,\n",
       "       False, False, False, False, False, False, False, False, False,\n",
       "       False, False, False, False, False, False, False, False, False,\n",
       "       False, False, False, False, False, False, False, False, False,\n",
       "       False, False, False, False, False])"
      ]
     },
     "execution_count": 79,
     "metadata": {},
     "output_type": "execute_result"
    }
   ],
   "source": [
    "samsung_price.values == 41000"
   ]
  },
  {
   "cell_type": "code",
   "execution_count": 78,
   "id": "be80eb55",
   "metadata": {
    "ExecuteTime": {
     "end_time": "2023-03-09T00:23:49.486674Z",
     "start_time": "2023-03-09T00:23:49.465759Z"
    }
   },
   "outputs": [
    {
     "data": {
      "text/plain": [
       "Index(['2018-10-25', '2018-10-26'], dtype='object', name='Date')"
      ]
     },
     "execution_count": 78,
     "metadata": {},
     "output_type": "execute_result"
    }
   ],
   "source": [
    "samsung_price.index[samsung_price.values == 41000]"
   ]
  },
  {
   "cell_type": "markdown",
   "id": "611aff15",
   "metadata": {},
   "source": [
    "### 최고값과 최소값의 인덱스 리턴하는 argmin(), argmax()"
   ]
  },
  {
   "cell_type": "markdown",
   "id": "f5e1a449",
   "metadata": {},
   "source": [
    "* 최소값의 인덱스, 최대값의 인덱스  \n",
    "```argmin()```, ```argmax()```"
   ]
  },
  {
   "cell_type": "code",
   "execution_count": 81,
   "id": "0fd4ae17",
   "metadata": {
    "ExecuteTime": {
     "end_time": "2023-03-09T00:24:36.040873Z",
     "start_time": "2023-03-09T00:24:36.025910Z"
    }
   },
   "outputs": [
    {
     "data": {
      "text/plain": [
       "246"
      ]
     },
     "execution_count": 81,
     "metadata": {},
     "output_type": "execute_result"
    }
   ],
   "source": [
    "## 해당하는 인덱스 값 리턴\n",
    "samsung_price.argmin()"
   ]
  },
  {
   "cell_type": "markdown",
   "id": "6cff5962",
   "metadata": {},
   "source": [
    "cf. samsung_price.min() => 최소값, samsung_price.argmin() => 최소값의 인덱스"
   ]
  },
  {
   "cell_type": "code",
   "execution_count": 83,
   "id": "02b01bba",
   "metadata": {
    "ExecuteTime": {
     "end_time": "2023-03-09T00:26:42.355929Z",
     "start_time": "2023-03-09T00:26:42.339942Z"
    }
   },
   "outputs": [
    {
     "data": {
      "text/plain": [
       "37450"
      ]
     },
     "execution_count": 83,
     "metadata": {},
     "output_type": "execute_result"
    }
   ],
   "source": [
    "samsung_price.iloc[samsung_price.argmin()]"
   ]
  },
  {
   "cell_type": "code",
   "execution_count": 84,
   "id": "f98afd72",
   "metadata": {
    "ExecuteTime": {
     "end_time": "2023-03-09T00:26:49.474520Z",
     "start_time": "2023-03-09T00:26:49.452611Z"
    }
   },
   "outputs": [
    {
     "data": {
      "text/plain": [
       "'2019-01-04'"
      ]
     },
     "execution_count": 84,
     "metadata": {},
     "output_type": "execute_result"
    }
   ],
   "source": [
    "samsung_price.index[samsung_price.argmin()]"
   ]
  },
  {
   "cell_type": "code",
   "execution_count": 85,
   "id": "b959a260",
   "metadata": {
    "ExecuteTime": {
     "end_time": "2023-03-09T00:27:25.341930Z",
     "start_time": "2023-03-09T00:27:25.324944Z"
    }
   },
   "outputs": [
    {
     "data": {
      "text/plain": [
       "'2021-01-11'"
      ]
     },
     "execution_count": 85,
     "metadata": {},
     "output_type": "execute_result"
    }
   ],
   "source": [
    "samsung_price.iloc[samsung_price.argmax()]\n",
    "samsung_price.index[samsung_price.argmax()]"
   ]
  },
  {
   "cell_type": "markdown",
   "id": "cf84db47",
   "metadata": {},
   "source": [
    "#### series.index[series.argmax()] vs series.index[series.values == series.max()] "
   ]
  },
  {
   "cell_type": "code",
   "execution_count": 73,
   "id": "ebae79c4",
   "metadata": {
    "ExecuteTime": {
     "end_time": "2023-03-10T10:55:25.552617Z",
     "start_time": "2023-03-10T10:55:25.535830Z"
    }
   },
   "outputs": [
    {
     "data": {
      "text/plain": [
       "Index(['2021-01-11'], dtype='object', name='Date')"
      ]
     },
     "execution_count": 73,
     "metadata": {},
     "output_type": "execute_result"
    }
   ],
   "source": [
    "# 배열이다 \n",
    "samsung_price.index[samsung_price.values == samsung_price.max()]"
   ]
  },
  {
   "cell_type": "code",
   "execution_count": null,
   "id": "f7fe1050",
   "metadata": {
    "ExecuteTime": {
     "end_time": "2023-03-10T11:00:18.467619Z",
     "start_time": "2023-03-10T11:00:18.456656Z"
    }
   },
   "outputs": [],
   "source": [
    "# 값이다\n",
    "samsung_price.max()\n",
    "samsung_price.loc['2021-12-18'] = 91000\n",
    "samsung_price"
   ]
  },
  {
   "cell_type": "code",
   "execution_count": 81,
   "id": "d700a762",
   "metadata": {
    "ExecuteTime": {
     "end_time": "2023-03-10T11:00:18.467619Z",
     "start_time": "2023-03-10T11:00:18.456656Z"
    }
   },
   "outputs": [
    {
     "data": {
      "text/plain": [
       "'2021-01-11'"
      ]
     },
     "execution_count": 81,
     "metadata": {},
     "output_type": "execute_result"
    }
   ],
   "source": [
    "samsung_price.index[samsung_price.argmax()]"
   ]
  },
  {
   "cell_type": "code",
   "execution_count": 82,
   "id": "1292658c",
   "metadata": {
    "ExecuteTime": {
     "end_time": "2023-03-10T11:00:59.296513Z",
     "start_time": "2023-03-10T11:00:59.276583Z"
    }
   },
   "outputs": [
    {
     "data": {
      "text/plain": [
       "Index(['2021-01-11', '2021-12-18'], dtype='object', name='Date')"
      ]
     },
     "execution_count": 82,
     "metadata": {},
     "output_type": "execute_result"
    }
   ],
   "source": [
    "samsung_price.index[samsung_price.values == samsung_price.max()]"
   ]
  },
  {
   "cell_type": "code",
   "execution_count": 83,
   "id": "2e6880bf",
   "metadata": {
    "ExecuteTime": {
     "end_time": "2023-03-10T11:02:09.813808Z",
     "start_time": "2023-03-10T11:02:09.791866Z"
    }
   },
   "outputs": [
    {
     "data": {
      "text/plain": [
       "'2021-01-11'"
      ]
     },
     "execution_count": 83,
     "metadata": {},
     "output_type": "execute_result"
    }
   ],
   "source": [
    "samsung_price.index[samsung_price.values == samsung_price.max()][0]"
   ]
  },
  {
   "cell_type": "markdown",
   "id": "fbfc0b10",
   "metadata": {},
   "source": [
    "## Series 연산"
   ]
  },
  {
   "cell_type": "markdown",
   "id": "3fde79f3",
   "metadata": {},
   "source": [
    "ref) markdown 수식 작성 방법  \n",
    "\n",
    "https://velog.io/@d2h10s/LaTex-Markdown-%EC%88%98%EC%8B%9D-%EC%9E%91%EC%84%B1%EB%B2%95"
   ]
  },
  {
   "cell_type": "markdown",
   "id": "0e26da54",
   "metadata": {},
   "source": [
    "### 수익률 식대로 구하기"
   ]
  },
  {
   "cell_type": "markdown",
   "id": "53ba3392",
   "metadata": {
    "ExecuteTime": {
     "end_time": "2023-03-10T11:04:53.185056Z",
     "start_time": "2023-03-10T11:04:53.163116Z"
    }
   },
   "source": [
    " 수익률 구하는 식  \n",
    " $$ r_t = \\frac{ P_t - P_{t-1} }{ P_{t-1}} = \\frac{ P_t}{P_{t-1}} -1 $$ "
   ]
  },
  {
   "cell_type": "code",
   "execution_count": 87,
   "id": "148c0725",
   "metadata": {
    "ExecuteTime": {
     "end_time": "2023-03-10T11:14:45.447264Z",
     "start_time": "2023-03-10T11:14:45.429344Z"
    }
   },
   "outputs": [
    {
     "name": "stderr",
     "output_type": "stream",
     "text": [
      "C:\\Users\\proyj\\AppData\\Local\\Temp\\ipykernel_9764\\377234668.py:3: FutureWarning: The squeeze argument has been deprecated and will be removed in a future version. Append .squeeze(\"columns\") to the call to squeeze.\n",
      "\n",
      "\n",
      "  samsung_price = pd.read_csv('삼성전자 종가.csv', index_col = 0, squeeze = True, header = 0)\n"
     ]
    },
    {
     "data": {
      "text/plain": [
       "Date\n",
       "2018-01-02    51020\n",
       "2018-01-03    51620\n",
       "2018-01-04    51080\n",
       "2018-01-05    52120\n",
       "2018-01-08    52020\n",
       "              ...  \n",
       "2021-12-13    76800\n",
       "2021-12-14    77000\n",
       "2021-12-15    77600\n",
       "2021-12-16    77800\n",
       "2021-12-17    78000\n",
       "Name: Close, Length: 977, dtype: int64"
      ]
     },
     "execution_count": 87,
     "metadata": {},
     "output_type": "execute_result"
    }
   ],
   "source": [
    "import pandas as pd\n",
    "\n",
    "samsung_price = pd.read_csv('삼성전자 종가.csv', index_col = 0, squeeze = True, header = 0)\n",
    "samsung_price"
   ]
  },
  {
   "cell_type": "code",
   "execution_count": 89,
   "id": "a3f2a218",
   "metadata": {
    "ExecuteTime": {
     "end_time": "2023-03-10T11:15:00.540922Z",
     "start_time": "2023-03-10T11:15:00.529951Z"
    }
   },
   "outputs": [
    {
     "data": {
      "text/plain": [
       "Date\n",
       "2018-01-02        NaN\n",
       "2018-01-03    51020.0\n",
       "2018-01-04    51620.0\n",
       "2018-01-05    51080.0\n",
       "2018-01-08    52120.0\n",
       "               ...   \n",
       "2021-12-13    76900.0\n",
       "2021-12-14    76800.0\n",
       "2021-12-15    77000.0\n",
       "2021-12-16    77600.0\n",
       "2021-12-17    77800.0\n",
       "Name: Close, Length: 977, dtype: float64"
      ]
     },
     "execution_count": 89,
     "metadata": {},
     "output_type": "execute_result"
    }
   ],
   "source": [
    "samsung_price.shift(1)"
   ]
  },
  {
   "cell_type": "code",
   "execution_count": 90,
   "id": "b834ae4e",
   "metadata": {
    "ExecuteTime": {
     "end_time": "2023-03-10T11:15:03.334608Z",
     "start_time": "2023-03-10T11:15:03.321644Z"
    }
   },
   "outputs": [
    {
     "data": {
      "text/plain": [
       "Date\n",
       "2018-01-02       NaN\n",
       "2018-01-03     600.0\n",
       "2018-01-04    -540.0\n",
       "2018-01-05    1040.0\n",
       "2018-01-08    -100.0\n",
       "               ...  \n",
       "2021-12-13    -100.0\n",
       "2021-12-14     200.0\n",
       "2021-12-15     600.0\n",
       "2021-12-16     200.0\n",
       "2021-12-17     200.0\n",
       "Name: Close, Length: 977, dtype: float64"
      ]
     },
     "execution_count": 90,
     "metadata": {},
     "output_type": "execute_result"
    }
   ],
   "source": [
    "samsung_price - samsung_price.shift(1)"
   ]
  },
  {
   "cell_type": "code",
   "execution_count": 91,
   "id": "0f95c1ee",
   "metadata": {
    "ExecuteTime": {
     "end_time": "2023-03-10T11:15:13.061015Z",
     "start_time": "2023-03-10T11:15:13.042073Z"
    }
   },
   "outputs": [
    {
     "data": {
      "text/plain": [
       "Date\n",
       "2018-01-02         NaN\n",
       "2018-01-03    0.011760\n",
       "2018-01-04   -0.010461\n",
       "2018-01-05    0.020360\n",
       "2018-01-08   -0.001919\n",
       "                ...   \n",
       "2021-12-13   -0.001300\n",
       "2021-12-14    0.002604\n",
       "2021-12-15    0.007792\n",
       "2021-12-16    0.002577\n",
       "2021-12-17    0.002571\n",
       "Name: Close, Length: 977, dtype: float64"
      ]
     },
     "execution_count": 91,
     "metadata": {},
     "output_type": "execute_result"
    }
   ],
   "source": [
    "samsung_return = (samsung_price - samsung_price.shift(1))/samsung_price.shift(1)\n",
    "samsung_return"
   ]
  },
  {
   "cell_type": "markdown",
   "id": "4e30523d",
   "metadata": {},
   "source": [
    "### 수익률 구하기 함수 series.pct_change()"
   ]
  },
  {
   "cell_type": "code",
   "execution_count": 94,
   "id": "6a9e4021",
   "metadata": {
    "ExecuteTime": {
     "end_time": "2023-03-10T11:19:12.024393Z",
     "start_time": "2023-03-10T11:19:12.009397Z"
    }
   },
   "outputs": [
    {
     "data": {
      "text/plain": [
       "Date\n",
       "2018-01-02         NaN\n",
       "2018-01-03    0.011760\n",
       "2018-01-04   -0.010461\n",
       "2018-01-05    0.020360\n",
       "2018-01-08   -0.001919\n",
       "                ...   \n",
       "2021-12-13   -0.001300\n",
       "2021-12-14    0.002604\n",
       "2021-12-15    0.007792\n",
       "2021-12-16    0.002577\n",
       "2021-12-17    0.002571\n",
       "Name: Close, Length: 977, dtype: float64"
      ]
     },
     "execution_count": 94,
     "metadata": {},
     "output_type": "execute_result"
    }
   ],
   "source": [
    "pct_change = samsung_price.pct_change()\n",
    "pct_change"
   ]
  },
  {
   "cell_type": "markdown",
   "id": "25649b59",
   "metadata": {},
   "source": [
    "### 수익률이 최대였던 때와 최대 수익율"
   ]
  },
  {
   "cell_type": "code",
   "execution_count": 96,
   "id": "8e650659",
   "metadata": {
    "ExecuteTime": {
     "end_time": "2023-03-10T11:20:03.561878Z",
     "start_time": "2023-03-10T11:20:03.549937Z"
    }
   },
   "outputs": [
    {
     "data": {
      "text/plain": [
       "0.10470588235294118"
      ]
     },
     "execution_count": 96,
     "metadata": {},
     "output_type": "execute_result"
    }
   ],
   "source": [
    "samsung_return.max()"
   ]
  },
  {
   "cell_type": "code",
   "execution_count": 97,
   "id": "d10b2540",
   "metadata": {
    "ExecuteTime": {
     "end_time": "2023-03-10T11:20:19.248593Z",
     "start_time": "2023-03-10T11:20:19.233634Z"
    }
   },
   "outputs": [
    {
     "data": {
      "text/plain": [
       "'2020-03-24'"
      ]
     },
     "execution_count": 97,
     "metadata": {},
     "output_type": "execute_result"
    }
   ],
   "source": [
    "samsung_return.index[samsung_return.argmax()]"
   ]
  },
  {
   "cell_type": "markdown",
   "id": "18cd6573",
   "metadata": {},
   "source": [
    "#### Nan값 연산  \n",
    "- samsung_return.dropna()  \n",
    "    Nan값 제외  \n",
    "- samsung_return.fillna()  \n",
    "    Nan값 채우기, 입력값 없으면 에러"
   ]
  },
  {
   "cell_type": "code",
   "execution_count": 105,
   "id": "4edd9068",
   "metadata": {
    "ExecuteTime": {
     "end_time": "2023-03-10T11:24:05.544762Z",
     "start_time": "2023-03-10T11:24:05.521826Z"
    }
   },
   "outputs": [
    {
     "data": {
      "text/plain": [
       "Date\n",
       "2018-01-03    0.011760\n",
       "2018-01-04   -0.010461\n",
       "2018-01-05    0.020360\n",
       "2018-01-08   -0.001919\n",
       "2018-01-09   -0.031142\n",
       "                ...   \n",
       "2021-12-13   -0.001300\n",
       "2021-12-14    0.002604\n",
       "2021-12-15    0.007792\n",
       "2021-12-16    0.002577\n",
       "2021-12-17    0.002571\n",
       "Name: Close, Length: 976, dtype: float64"
      ]
     },
     "execution_count": 105,
     "metadata": {},
     "output_type": "execute_result"
    }
   ],
   "source": [
    "samsung_return.dropna()"
   ]
  },
  {
   "cell_type": "code",
   "execution_count": 106,
   "id": "95923429",
   "metadata": {
    "ExecuteTime": {
     "end_time": "2023-03-10T11:24:16.330968Z",
     "start_time": "2023-03-10T11:24:16.314014Z"
    }
   },
   "outputs": [
    {
     "data": {
      "text/plain": [
       "Date\n",
       "2018-01-02    1.000000\n",
       "2018-01-03    0.011760\n",
       "2018-01-04   -0.010461\n",
       "2018-01-05    0.020360\n",
       "2018-01-08   -0.001919\n",
       "                ...   \n",
       "2021-12-13   -0.001300\n",
       "2021-12-14    0.002604\n",
       "2021-12-15    0.007792\n",
       "2021-12-16    0.002577\n",
       "2021-12-17    0.002571\n",
       "Name: Close, Length: 977, dtype: float64"
      ]
     },
     "execution_count": 106,
     "metadata": {},
     "output_type": "execute_result"
    }
   ],
   "source": [
    "samsung_return.fillna(1)"
   ]
  },
  {
   "cell_type": "code",
   "execution_count": 108,
   "id": "2a88a43f",
   "metadata": {
    "ExecuteTime": {
     "end_time": "2023-03-10T11:25:35.742253Z",
     "start_time": "2023-03-10T11:25:35.721314Z"
    }
   },
   "outputs": [
    {
     "data": {
      "text/plain": [
       "Date\n",
       "2018-01-02          없음\n",
       "2018-01-03     0.01176\n",
       "2018-01-04   -0.010461\n",
       "2018-01-05     0.02036\n",
       "2018-01-08   -0.001919\n",
       "                ...   \n",
       "2021-12-13     -0.0013\n",
       "2021-12-14    0.002604\n",
       "2021-12-15    0.007792\n",
       "2021-12-16    0.002577\n",
       "2021-12-17    0.002571\n",
       "Name: Close, Length: 977, dtype: object"
      ]
     },
     "execution_count": 108,
     "metadata": {},
     "output_type": "execute_result"
    }
   ],
   "source": [
    "samsung_return.fillna('없음')"
   ]
  },
  {
   "cell_type": "code",
   "execution_count": 107,
   "id": "db1f7c4d",
   "metadata": {
    "ExecuteTime": {
     "end_time": "2023-03-10T11:24:18.963020Z",
     "start_time": "2023-03-10T11:24:18.937090Z"
    }
   },
   "outputs": [
    {
     "ename": "ValueError",
     "evalue": "Must specify a fill 'value' or 'method'.",
     "output_type": "error",
     "traceback": [
      "\u001b[1;31m---------------------------------------------------------------------------\u001b[0m",
      "\u001b[1;31mValueError\u001b[0m                                Traceback (most recent call last)",
      "\u001b[1;32m~\\AppData\\Local\\Temp\\ipykernel_9764\\3086883977.py\u001b[0m in \u001b[0;36m<module>\u001b[1;34m\u001b[0m\n\u001b[1;32m----> 1\u001b[1;33m \u001b[0msamsung_return\u001b[0m\u001b[1;33m.\u001b[0m\u001b[0mfillna\u001b[0m\u001b[1;33m(\u001b[0m\u001b[1;33m)\u001b[0m\u001b[1;33m\u001b[0m\u001b[1;33m\u001b[0m\u001b[0m\n\u001b[0m",
      "\u001b[1;32m~\\anaconda3\\lib\\site-packages\\pandas\\util\\_decorators.py\u001b[0m in \u001b[0;36mwrapper\u001b[1;34m(*args, **kwargs)\u001b[0m\n\u001b[0;32m    309\u001b[0m                     \u001b[0mstacklevel\u001b[0m\u001b[1;33m=\u001b[0m\u001b[0mstacklevel\u001b[0m\u001b[1;33m,\u001b[0m\u001b[1;33m\u001b[0m\u001b[1;33m\u001b[0m\u001b[0m\n\u001b[0;32m    310\u001b[0m                 )\n\u001b[1;32m--> 311\u001b[1;33m             \u001b[1;32mreturn\u001b[0m \u001b[0mfunc\u001b[0m\u001b[1;33m(\u001b[0m\u001b[1;33m*\u001b[0m\u001b[0margs\u001b[0m\u001b[1;33m,\u001b[0m \u001b[1;33m**\u001b[0m\u001b[0mkwargs\u001b[0m\u001b[1;33m)\u001b[0m\u001b[1;33m\u001b[0m\u001b[1;33m\u001b[0m\u001b[0m\n\u001b[0m\u001b[0;32m    312\u001b[0m \u001b[1;33m\u001b[0m\u001b[0m\n\u001b[0;32m    313\u001b[0m         \u001b[1;32mreturn\u001b[0m \u001b[0mwrapper\u001b[0m\u001b[1;33m\u001b[0m\u001b[1;33m\u001b[0m\u001b[0m\n",
      "\u001b[1;32m~\\anaconda3\\lib\\site-packages\\pandas\\core\\series.py\u001b[0m in \u001b[0;36mfillna\u001b[1;34m(self, value, method, axis, inplace, limit, downcast)\u001b[0m\n\u001b[0;32m   4906\u001b[0m         \u001b[0mdowncast\u001b[0m\u001b[1;33m=\u001b[0m\u001b[1;32mNone\u001b[0m\u001b[1;33m,\u001b[0m\u001b[1;33m\u001b[0m\u001b[1;33m\u001b[0m\u001b[0m\n\u001b[0;32m   4907\u001b[0m     ) -> Series | None:\n\u001b[1;32m-> 4908\u001b[1;33m         return super().fillna(\n\u001b[0m\u001b[0;32m   4909\u001b[0m             \u001b[0mvalue\u001b[0m\u001b[1;33m=\u001b[0m\u001b[0mvalue\u001b[0m\u001b[1;33m,\u001b[0m\u001b[1;33m\u001b[0m\u001b[1;33m\u001b[0m\u001b[0m\n\u001b[0;32m   4910\u001b[0m             \u001b[0mmethod\u001b[0m\u001b[1;33m=\u001b[0m\u001b[0mmethod\u001b[0m\u001b[1;33m,\u001b[0m\u001b[1;33m\u001b[0m\u001b[1;33m\u001b[0m\u001b[0m\n",
      "\u001b[1;32m~\\anaconda3\\lib\\site-packages\\pandas\\core\\generic.py\u001b[0m in \u001b[0;36mfillna\u001b[1;34m(self, value, method, axis, inplace, limit, downcast)\u001b[0m\n\u001b[0;32m   6417\u001b[0m         \"\"\"\n\u001b[0;32m   6418\u001b[0m         \u001b[0minplace\u001b[0m \u001b[1;33m=\u001b[0m \u001b[0mvalidate_bool_kwarg\u001b[0m\u001b[1;33m(\u001b[0m\u001b[0minplace\u001b[0m\u001b[1;33m,\u001b[0m \u001b[1;34m\"inplace\"\u001b[0m\u001b[1;33m)\u001b[0m\u001b[1;33m\u001b[0m\u001b[1;33m\u001b[0m\u001b[0m\n\u001b[1;32m-> 6419\u001b[1;33m         \u001b[0mvalue\u001b[0m\u001b[1;33m,\u001b[0m \u001b[0mmethod\u001b[0m \u001b[1;33m=\u001b[0m \u001b[0mvalidate_fillna_kwargs\u001b[0m\u001b[1;33m(\u001b[0m\u001b[0mvalue\u001b[0m\u001b[1;33m,\u001b[0m \u001b[0mmethod\u001b[0m\u001b[1;33m)\u001b[0m\u001b[1;33m\u001b[0m\u001b[1;33m\u001b[0m\u001b[0m\n\u001b[0m\u001b[0;32m   6420\u001b[0m \u001b[1;33m\u001b[0m\u001b[0m\n\u001b[0;32m   6421\u001b[0m         \u001b[0mself\u001b[0m\u001b[1;33m.\u001b[0m\u001b[0m_consolidate_inplace\u001b[0m\u001b[1;33m(\u001b[0m\u001b[1;33m)\u001b[0m\u001b[1;33m\u001b[0m\u001b[1;33m\u001b[0m\u001b[0m\n",
      "\u001b[1;32m~\\anaconda3\\lib\\site-packages\\pandas\\util\\_validators.py\u001b[0m in \u001b[0;36mvalidate_fillna_kwargs\u001b[1;34m(value, method, validate_scalar_dict_value)\u001b[0m\n\u001b[0;32m    374\u001b[0m \u001b[1;33m\u001b[0m\u001b[0m\n\u001b[0;32m    375\u001b[0m     \u001b[1;32mif\u001b[0m \u001b[0mvalue\u001b[0m \u001b[1;32mis\u001b[0m \u001b[1;32mNone\u001b[0m \u001b[1;32mand\u001b[0m \u001b[0mmethod\u001b[0m \u001b[1;32mis\u001b[0m \u001b[1;32mNone\u001b[0m\u001b[1;33m:\u001b[0m\u001b[1;33m\u001b[0m\u001b[1;33m\u001b[0m\u001b[0m\n\u001b[1;32m--> 376\u001b[1;33m         \u001b[1;32mraise\u001b[0m \u001b[0mValueError\u001b[0m\u001b[1;33m(\u001b[0m\u001b[1;34m\"Must specify a fill 'value' or 'method'.\"\u001b[0m\u001b[1;33m)\u001b[0m\u001b[1;33m\u001b[0m\u001b[1;33m\u001b[0m\u001b[0m\n\u001b[0m\u001b[0;32m    377\u001b[0m     \u001b[1;32melif\u001b[0m \u001b[0mvalue\u001b[0m \u001b[1;32mis\u001b[0m \u001b[1;32mNone\u001b[0m \u001b[1;32mand\u001b[0m \u001b[0mmethod\u001b[0m \u001b[1;32mis\u001b[0m \u001b[1;32mnot\u001b[0m \u001b[1;32mNone\u001b[0m\u001b[1;33m:\u001b[0m\u001b[1;33m\u001b[0m\u001b[1;33m\u001b[0m\u001b[0m\n\u001b[0;32m    378\u001b[0m         \u001b[0mmethod\u001b[0m \u001b[1;33m=\u001b[0m \u001b[0mclean_fill_method\u001b[0m\u001b[1;33m(\u001b[0m\u001b[0mmethod\u001b[0m\u001b[1;33m)\u001b[0m\u001b[1;33m\u001b[0m\u001b[1;33m\u001b[0m\u001b[0m\n",
      "\u001b[1;31mValueError\u001b[0m: Must specify a fill 'value' or 'method'."
     ]
    }
   ],
   "source": [
    "samsung_return.fillna()"
   ]
  },
  {
   "cell_type": "markdown",
   "id": "dcdb1b88",
   "metadata": {},
   "source": [
    "## Series 정렬"
   ]
  },
  {
   "cell_type": "markdown",
   "id": "d6beb600",
   "metadata": {},
   "source": [
    "- 레이블 순 정렬  \n",
    "    series.sort_index(ascending = True or False)  \n",
    "- 값 순 정렬  \n",
    "    series.sort_index(ascending = True or False)  \n",
    "    "
   ]
  },
  {
   "cell_type": "markdown",
   "id": "78514f09",
   "metadata": {},
   "source": [
    "### 레이블 순 정렬  \n",
    "series.sort_index(ascending = True or False)"
   ]
  },
  {
   "cell_type": "code",
   "execution_count": 109,
   "id": "783d1535",
   "metadata": {
    "ExecuteTime": {
     "end_time": "2023-03-10T11:33:33.325264Z",
     "start_time": "2023-03-10T11:33:33.309323Z"
    },
    "scrolled": true
   },
   "outputs": [
    {
     "data": {
      "text/plain": [
       "Date\n",
       "2018-01-02    51020\n",
       "2018-01-03    51620\n",
       "2018-01-04    51080\n",
       "2018-01-05    52120\n",
       "2018-01-08    52020\n",
       "              ...  \n",
       "2021-12-13    76800\n",
       "2021-12-14    77000\n",
       "2021-12-15    77600\n",
       "2021-12-16    77800\n",
       "2021-12-17    78000\n",
       "Name: Close, Length: 977, dtype: int64"
      ]
     },
     "execution_count": 109,
     "metadata": {},
     "output_type": "execute_result"
    }
   ],
   "source": [
    "samsung_price.sort_index(ascending = True)"
   ]
  },
  {
   "cell_type": "markdown",
   "id": "4ed46f94",
   "metadata": {},
   "source": [
    "### 값 순 정렬  \n",
    "series.sort_value(ascending = True or False)"
   ]
  },
  {
   "cell_type": "code",
   "execution_count": 112,
   "id": "d7ee86e5",
   "metadata": {
    "ExecuteTime": {
     "end_time": "2023-03-10T11:33:57.315740Z",
     "start_time": "2023-03-10T11:33:57.298753Z"
    },
    "scrolled": true
   },
   "outputs": [
    {
     "data": {
      "text/plain": [
       "Date\n",
       "2019-01-04    37450\n",
       "2019-01-03    37600\n",
       "2019-01-08    38100\n",
       "2018-12-27    38250\n",
       "2018-12-26    38350\n",
       "              ...  \n",
       "2021-01-25    89400\n",
       "2021-01-13    89700\n",
       "2021-01-14    89700\n",
       "2021-01-12    90600\n",
       "2021-01-11    91000\n",
       "Name: Close, Length: 977, dtype: int64"
      ]
     },
     "execution_count": 112,
     "metadata": {},
     "output_type": "execute_result"
    }
   ],
   "source": [
    "samsung_price.sort_values(ascending = True)"
   ]
  },
  {
   "cell_type": "markdown",
   "id": "afcf46f9",
   "metadata": {},
   "source": [
    "### head()\n",
    "series.sort_value(ascending = True or False)"
   ]
  },
  {
   "cell_type": "code",
   "execution_count": 113,
   "id": "e98ba7a8",
   "metadata": {
    "ExecuteTime": {
     "end_time": "2023-03-10T11:34:10.902855Z",
     "start_time": "2023-03-10T11:34:10.893845Z"
    }
   },
   "outputs": [
    {
     "data": {
      "text/plain": [
       "Date\n",
       "2021-01-11    91000\n",
       "2021-01-12    90600\n",
       "2021-01-14    89700\n",
       "2021-01-13    89700\n",
       "2021-01-25    89400\n",
       "2021-01-08    88800\n",
       "2021-01-21    88100\n",
       "2021-01-15    88000\n",
       "2021-01-20    87200\n",
       "2021-01-19    87000\n",
       "2021-01-22    86800\n",
       "2021-01-26    86700\n",
       "2021-04-06    86000\n",
       "2021-01-27    85600\n",
       "2021-04-07    85600\n",
       "2021-04-05    85400\n",
       "2021-02-25    85300\n",
       "2021-01-18    85000\n",
       "2021-02-16    84900\n",
       "2021-04-02    84800\n",
       "2021-04-08    84700\n",
       "2021-02-03    84600\n",
       "2021-02-02    84400\n",
       "2021-02-15    84200\n",
       "2021-04-15    84100\n",
       "2021-04-13    84000\n",
       "2021-04-14    84000\n",
       "2021-03-03    84000\n",
       "2021-04-16    83900\n",
       "2021-04-20    83900\n",
       "Name: Close, dtype: int64"
      ]
     },
     "execution_count": 113,
     "metadata": {},
     "output_type": "execute_result"
    }
   ],
   "source": [
    "samsung_price.sort_values(ascending = False).head(30)"
   ]
  },
  {
   "cell_type": "markdown",
   "id": "f22b6904",
   "metadata": {},
   "source": [
    "## Series 조건설정"
   ]
  },
  {
   "cell_type": "markdown",
   "id": "0e55ef8f",
   "metadata": {},
   "source": [
    "### series[조건문] , series.index[조건문], series.values[조건문]"
   ]
  },
  {
   "cell_type": "markdown",
   "id": "7641df64",
   "metadata": {},
   "source": [
    "#### Q) 삼성전자 수익률이 4% 이상일때의 빈도수 구하기"
   ]
  },
  {
   "cell_type": "code",
   "execution_count": 124,
   "id": "4d21b1f5",
   "metadata": {
    "ExecuteTime": {
     "end_time": "2023-03-10T11:49:53.923793Z",
     "start_time": "2023-03-10T11:49:53.898830Z"
    }
   },
   "outputs": [
    {
     "name": "stderr",
     "output_type": "stream",
     "text": [
      "C:\\Users\\proyj\\AppData\\Local\\Temp\\ipykernel_9764\\1004301668.py:3: FutureWarning: The squeeze argument has been deprecated and will be removed in a future version. Append .squeeze(\"columns\") to the call to squeeze.\n",
      "\n",
      "\n",
      "  samsung_price = pd.read_csv('삼성전자 종가.csv', index_col = 0, squeeze = True, header = 0)\n"
     ]
    },
    {
     "data": {
      "text/plain": [
       "Date\n",
       "2018-01-02         NaN\n",
       "2018-01-03    0.011760\n",
       "2018-01-04   -0.010461\n",
       "2018-01-05    0.020360\n",
       "2018-01-08   -0.001919\n",
       "                ...   \n",
       "2021-12-13   -0.001300\n",
       "2021-12-14    0.002604\n",
       "2021-12-15    0.007792\n",
       "2021-12-16    0.002577\n",
       "2021-12-17    0.002571\n",
       "Name: Close, Length: 977, dtype: float64"
      ]
     },
     "execution_count": 124,
     "metadata": {},
     "output_type": "execute_result"
    }
   ],
   "source": [
    "import pandas as pd\n",
    "\n",
    "samsung_price = pd.read_csv('삼성전자 종가.csv', index_col = 0, squeeze = True, header = 0)\n",
    "samsung_price\n",
    "samsung_return = (samsung_price - samsung_price.shift(1))/samsung_price.shift(1)\n",
    "samsung_return"
   ]
  },
  {
   "cell_type": "code",
   "execution_count": 125,
   "id": "ec6547bb",
   "metadata": {
    "ExecuteTime": {
     "end_time": "2023-03-10T11:49:58.345066Z",
     "start_time": "2023-03-10T11:49:58.323096Z"
    }
   },
   "outputs": [
    {
     "data": {
      "text/plain": [
       "Date\n",
       "2018-01-02         NaN\n",
       "2018-01-03    1.176009\n",
       "2018-01-04   -1.046106\n",
       "2018-01-05    2.036022\n",
       "2018-01-08   -0.191865\n",
       "                ...   \n",
       "2021-12-13   -0.130039\n",
       "2021-12-14    0.260417\n",
       "2021-12-15    0.779221\n",
       "2021-12-16    0.257732\n",
       "2021-12-17    0.257069\n",
       "Name: Close, Length: 977, dtype: float64"
      ]
     },
     "execution_count": 125,
     "metadata": {},
     "output_type": "execute_result"
    }
   ],
   "source": [
    "samsung_return = samsung_return*100\n",
    "samsung_return"
   ]
  },
  {
   "cell_type": "code",
   "execution_count": 127,
   "id": "d978eae7",
   "metadata": {
    "ExecuteTime": {
     "end_time": "2023-03-10T11:54:17.128094Z",
     "start_time": "2023-03-10T11:54:17.107151Z"
    }
   },
   "outputs": [
    {
     "data": {
      "text/plain": [
       "Date\n",
       "2018-01-02    False\n",
       "2018-01-03    False\n",
       "2018-01-04    False\n",
       "2018-01-05    False\n",
       "2018-01-08    False\n",
       "              ...  \n",
       "2021-12-13    False\n",
       "2021-12-14    False\n",
       "2021-12-15    False\n",
       "2021-12-16    False\n",
       "2021-12-17    False\n",
       "Name: Close, Length: 977, dtype: bool"
      ]
     },
     "execution_count": 127,
     "metadata": {},
     "output_type": "execute_result"
    }
   ],
   "source": [
    "samsung_return > 4"
   ]
  },
  {
   "cell_type": "code",
   "execution_count": 128,
   "id": "f964be38",
   "metadata": {
    "ExecuteTime": {
     "end_time": "2023-03-10T11:54:29.382552Z",
     "start_time": "2023-03-10T11:54:29.366900Z"
    }
   },
   "outputs": [
    {
     "data": {
      "text/plain": [
       "pandas.core.series.Series"
      ]
     },
     "execution_count": 128,
     "metadata": {},
     "output_type": "execute_result"
    }
   ],
   "source": [
    "type(samsung_return > 4)"
   ]
  },
  {
   "cell_type": "code",
   "execution_count": 130,
   "id": "32f1e94d",
   "metadata": {
    "ExecuteTime": {
     "end_time": "2023-03-10T11:55:05.949500Z",
     "start_time": "2023-03-10T11:55:05.930520Z"
    }
   },
   "outputs": [
    {
     "data": {
      "text/plain": [
       "array([False, False, False, False, False, False, False, False, False,\n",
       "       False, False, False, False, False, False, False, False, False,\n",
       "       False, False, False, False, False, False, False, False, False,\n",
       "       False, False, False, False, False, False, False, False, False,\n",
       "       False, False, False, False, False, False,  True, False, False,\n",
       "       False, False, False, False, False, False, False, False, False,\n",
       "       False, False, False, False, False, False, False, False, False,\n",
       "       False, False, False, False, False, False, False, False, False,\n",
       "       False, False, False, False, False, False, False, False, False,\n",
       "       False, False, False, False, False, False, False, False, False,\n",
       "       False, False, False, False, False, False, False, False, False,\n",
       "       False, False, False, False, False, False, False, False, False,\n",
       "       False, False, False, False, False, False, False, False, False,\n",
       "       False, False, False, False, False, False, False, False, False,\n",
       "       False, False, False, False, False, False, False, False, False,\n",
       "       False, False, False, False, False, False, False, False, False,\n",
       "       False, False, False, False, False, False, False, False, False,\n",
       "       False, False, False, False, False, False, False, False, False,\n",
       "       False, False, False, False, False, False, False, False, False,\n",
       "       False, False, False,  True, False, False, False, False, False,\n",
       "       False, False, False, False, False, False, False, False, False,\n",
       "       False, False, False, False, False, False, False, False, False,\n",
       "       False, False, False, False, False, False,  True, False, False,\n",
       "       False, False, False, False, False, False, False, False, False,\n",
       "       False, False, False, False, False, False, False, False, False,\n",
       "       False, False, False, False, False, False, False, False, False,\n",
       "       False, False, False, False, False, False, False, False, False,\n",
       "       False, False, False, False, False, False, False, False, False,\n",
       "       False, False, False, False, False, False, False, False, False,\n",
       "       False, False, False, False, False, False, False, False, False,\n",
       "       False, False, False, False, False, False, False, False, False,\n",
       "       False, False, False, False, False, False, False, False, False,\n",
       "       False, False, False, False, False, False, False, False,  True,\n",
       "       False, False, False, False, False, False, False, False, False,\n",
       "       False, False, False, False, False, False, False, False, False,\n",
       "       False, False, False, False, False, False, False, False, False,\n",
       "       False, False, False, False, False, False, False, False, False,\n",
       "       False, False, False, False, False, False, False, False, False,\n",
       "       False, False, False, False, False, False, False, False, False,\n",
       "       False, False, False, False, False, False, False, False, False,\n",
       "       False, False, False, False, False, False, False, False, False,\n",
       "       False, False, False, False, False, False, False, False, False,\n",
       "       False, False, False, False, False, False, False, False, False,\n",
       "       False, False, False, False, False, False, False, False, False,\n",
       "       False, False, False, False, False, False, False, False, False,\n",
       "       False, False, False, False, False, False, False, False, False,\n",
       "       False, False, False, False, False, False, False, False, False,\n",
       "       False, False, False, False, False, False, False, False, False,\n",
       "       False, False, False, False, False, False, False, False, False,\n",
       "       False, False, False, False, False, False, False, False, False,\n",
       "       False, False, False, False, False, False, False, False, False,\n",
       "       False, False, False, False, False, False, False, False, False,\n",
       "       False, False, False, False, False, False, False, False, False,\n",
       "       False, False, False, False, False, False, False, False, False,\n",
       "       False, False, False, False, False, False, False, False, False,\n",
       "       False, False, False, False, False, False, False, False, False,\n",
       "       False, False, False, False, False, False, False, False, False,\n",
       "       False, False, False, False, False, False, False, False, False,\n",
       "       False, False, False, False, False, False, False, False, False,\n",
       "       False, False, False, False, False, False, False, False, False,\n",
       "       False, False, False, False,  True, False,  True, False, False,\n",
       "       False, False, False, False, False, False, False, False, False,\n",
       "       False, False, False, False, False,  True, False, False, False,\n",
       "       False, False, False, False, False, False, False, False, False,\n",
       "       False, False, False, False, False, False, False, False, False,\n",
       "       False, False, False, False, False, False, False, False,  True,\n",
       "       False, False, False, False, False, False, False, False,  True,\n",
       "       False, False, False, False, False, False, False, False, False,\n",
       "       False, False, False, False, False, False, False, False, False,\n",
       "       False, False, False, False, False, False, False, False, False,\n",
       "       False, False,  True, False, False, False, False, False, False,\n",
       "       False, False, False, False, False, False, False, False, False,\n",
       "       False, False, False, False, False, False, False, False, False,\n",
       "       False, False, False, False, False, False, False, False, False,\n",
       "       False, False, False, False, False, False, False, False, False,\n",
       "       False, False, False, False, False, False, False, False, False,\n",
       "       False, False, False, False, False, False, False, False, False,\n",
       "       False, False, False, False, False, False, False, False, False,\n",
       "       False, False, False, False,  True, False, False, False, False,\n",
       "        True, False, False, False, False, False, False, False, False,\n",
       "       False, False, False, False, False, False, False, False, False,\n",
       "       False, False, False, False, False,  True, False, False, False,\n",
       "       False, False, False, False,  True, False, False, False, False,\n",
       "       False, False, False, False, False, False, False, False, False,\n",
       "       False, False, False, False, False, False, False, False, False,\n",
       "       False, False, False, False, False, False, False, False, False,\n",
       "        True, False, False, False, False, False, False, False, False,\n",
       "       False, False, False, False, False, False, False, False, False,\n",
       "       False, False, False, False, False, False, False, False, False,\n",
       "       False, False, False, False, False, False, False, False, False,\n",
       "       False, False, False, False, False, False, False, False, False,\n",
       "       False, False, False, False, False, False, False, False, False,\n",
       "       False, False, False, False, False, False, False, False, False,\n",
       "       False, False, False, False, False, False, False, False, False,\n",
       "       False, False, False, False, False, False, False, False, False,\n",
       "       False, False, False, False, False, False, False, False, False,\n",
       "       False, False, False, False, False, False, False, False, False,\n",
       "       False, False, False, False, False, False, False, False, False,\n",
       "       False, False, False, False, False, False, False, False, False,\n",
       "       False, False, False, False, False, False, False, False, False,\n",
       "       False, False, False, False, False, False, False, False, False,\n",
       "       False, False, False, False, False, False, False, False, False,\n",
       "       False, False, False, False, False, False, False, False, False,\n",
       "       False, False, False, False, False, False, False, False, False,\n",
       "       False, False, False, False, False, False, False, False, False,\n",
       "       False, False, False, False, False, False, False, False, False,\n",
       "       False, False, False,  True, False, False, False, False, False,\n",
       "       False,  True, False, False, False, False, False, False, False,\n",
       "       False, False, False, False, False])"
      ]
     },
     "execution_count": 130,
     "metadata": {},
     "output_type": "execute_result"
    }
   ],
   "source": [
    "samsung_return.values > 4"
   ]
  },
  {
   "cell_type": "code",
   "execution_count": 134,
   "id": "043941e1",
   "metadata": {
    "ExecuteTime": {
     "end_time": "2023-03-10T11:56:08.566985Z",
     "start_time": "2023-03-10T11:56:08.547006Z"
    },
    "scrolled": true
   },
   "outputs": [
    {
     "data": {
      "text/plain": [
       "numpy.ndarray"
      ]
     },
     "execution_count": 134,
     "metadata": {},
     "output_type": "execute_result"
    }
   ],
   "source": [
    "type(samsung_return.values > 4)"
   ]
  },
  {
   "cell_type": "code",
   "execution_count": 136,
   "id": "b905f574",
   "metadata": {
    "ExecuteTime": {
     "end_time": "2023-03-10T11:56:55.190790Z",
     "start_time": "2023-03-10T11:56:55.182823Z"
    },
    "scrolled": true
   },
   "outputs": [
    {
     "data": {
      "text/plain": [
       "17"
      ]
     },
     "execution_count": 136,
     "metadata": {},
     "output_type": "execute_result"
    }
   ],
   "source": [
    "sum(samsung_return > 4)"
   ]
  },
  {
   "cell_type": "code",
   "execution_count": 135,
   "id": "c6c25895",
   "metadata": {
    "ExecuteTime": {
     "end_time": "2023-03-10T11:56:51.686984Z",
     "start_time": "2023-03-10T11:56:51.670760Z"
    }
   },
   "outputs": [
    {
     "data": {
      "text/plain": [
       "17"
      ]
     },
     "execution_count": 135,
     "metadata": {},
     "output_type": "execute_result"
    }
   ],
   "source": [
    "sum(samsung_return.values > 4)"
   ]
  },
  {
   "cell_type": "code",
   "execution_count": 137,
   "id": "55ba537d",
   "metadata": {
    "ExecuteTime": {
     "end_time": "2023-03-10T11:57:44.690673Z",
     "start_time": "2023-03-10T11:57:44.671693Z"
    }
   },
   "outputs": [
    {
     "data": {
      "text/plain": [
       "Date\n",
       "2018-03-06     4.026549\n",
       "2018-09-14     4.086266\n",
       "2018-11-02     4.744958\n",
       "2019-03-21     4.086266\n",
       "2020-03-20     5.704307\n",
       "2020-03-24    10.470588\n",
       "2020-04-17     4.897959\n",
       "2020-06-03     6.031128\n",
       "2020-06-16     4.408818\n",
       "2020-07-28     5.395683\n",
       "2020-11-16     4.905063\n",
       "2020-11-23     4.327666\n",
       "2020-12-24     5.277402\n",
       "2021-01-08     7.117008\n",
       "2021-02-25     4.024390\n",
       "2021-11-22     5.196629\n",
       "2021-12-01     4.347826\n",
       "Name: Close, dtype: float64"
      ]
     },
     "execution_count": 137,
     "metadata": {},
     "output_type": "execute_result"
    }
   ],
   "source": [
    "samsung_return[samsung_return.values > 4]"
   ]
  },
  {
   "cell_type": "code",
   "execution_count": 138,
   "id": "b49b5a29",
   "metadata": {
    "ExecuteTime": {
     "end_time": "2023-03-10T11:57:58.276888Z",
     "start_time": "2023-03-10T11:57:58.258939Z"
    }
   },
   "outputs": [
    {
     "data": {
      "text/plain": [
       "Index(['2018-03-06', '2018-09-14', '2018-11-02', '2019-03-21', '2020-03-20',\n",
       "       '2020-03-24', '2020-04-17', '2020-06-03', '2020-06-16', '2020-07-28',\n",
       "       '2020-11-16', '2020-11-23', '2020-12-24', '2021-01-08', '2021-02-25',\n",
       "       '2021-11-22', '2021-12-01'],\n",
       "      dtype='object', name='Date')"
      ]
     },
     "execution_count": 138,
     "metadata": {},
     "output_type": "execute_result"
    }
   ],
   "source": [
    "samsung_return.index[samsung_return.values > 4]"
   ]
  },
  {
   "cell_type": "code",
   "execution_count": 139,
   "id": "83119f3e",
   "metadata": {
    "ExecuteTime": {
     "end_time": "2023-03-10T11:58:07.736208Z",
     "start_time": "2023-03-10T11:58:07.723275Z"
    }
   },
   "outputs": [
    {
     "data": {
      "text/plain": [
       "array([ 4.02654867,  4.08626561,  4.74495848,  4.08626561,  5.70430733,\n",
       "       10.47058824,  4.89795918,  6.0311284 ,  4.40881764,  5.39568345,\n",
       "        4.90506329,  4.32766615,  5.27740189,  7.11700844,  4.02439024,\n",
       "        5.19662921,  4.34782609])"
      ]
     },
     "execution_count": 139,
     "metadata": {},
     "output_type": "execute_result"
    }
   ],
   "source": [
    "samsung_return.values[samsung_return.values > 4]"
   ]
  },
  {
   "cell_type": "code",
   "execution_count": 142,
   "id": "4962d485",
   "metadata": {
    "ExecuteTime": {
     "end_time": "2023-03-10T12:01:00.172159Z",
     "start_time": "2023-03-10T12:01:00.155194Z"
    }
   },
   "outputs": [
    {
     "data": {
      "text/plain": [
       "1.7400204708290685"
      ]
     },
     "execution_count": 142,
     "metadata": {},
     "output_type": "execute_result"
    }
   ],
   "source": [
    "over_4_ratio = sum(samsung_return.values > 4) / samsung_return.shape[0] * 100\n",
    "over_4_ratio"
   ]
  },
  {
   "cell_type": "markdown",
   "id": "7c9cf14f",
   "metadata": {},
   "source": [
    "### np.where(조건문,참일때 값,거짓일때 값)"
   ]
  },
  {
   "cell_type": "markdown",
   "id": "e4ba6d0c",
   "metadata": {},
   "source": [
    "#### Q) 삼성전자 수익률이 4% 이상를 나타내는 새로운 Series 생성해 보자 보자\n"
   ]
  },
  {
   "cell_type": "code",
   "execution_count": 146,
   "id": "d35c6fad",
   "metadata": {
    "ExecuteTime": {
     "end_time": "2023-03-10T12:04:04.013790Z",
     "start_time": "2023-03-10T12:04:03.990881Z"
    }
   },
   "outputs": [
    {
     "data": {
      "text/plain": [
       "array([0, 0, 0, 0, 0, 0, 0, 0, 0, 0, 0, 0, 0, 0, 0, 0, 0, 0, 0, 0, 0, 0,\n",
       "       0, 0, 0, 0, 0, 0, 0, 0, 0, 0, 0, 0, 0, 0, 0, 0, 0, 0, 0, 0, 1, 0,\n",
       "       0, 0, 0, 0, 0, 0, 0, 0, 0, 0, 0, 0, 0, 0, 0, 0, 0, 0, 0, 0, 0, 0,\n",
       "       0, 0, 0, 0, 0, 0, 0, 0, 0, 0, 0, 0, 0, 0, 0, 0, 0, 0, 0, 0, 0, 0,\n",
       "       0, 0, 0, 0, 0, 0, 0, 0, 0, 0, 0, 0, 0, 0, 0, 0, 0, 0, 0, 0, 0, 0,\n",
       "       0, 0, 0, 0, 0, 0, 0, 0, 0, 0, 0, 0, 0, 0, 0, 0, 0, 0, 0, 0, 0, 0,\n",
       "       0, 0, 0, 0, 0, 0, 0, 0, 0, 0, 0, 0, 0, 0, 0, 0, 0, 0, 0, 0, 0, 0,\n",
       "       0, 0, 0, 0, 0, 0, 0, 0, 0, 0, 0, 0, 0, 0, 0, 0, 0, 0, 0, 0, 1, 0,\n",
       "       0, 0, 0, 0, 0, 0, 0, 0, 0, 0, 0, 0, 0, 0, 0, 0, 0, 0, 0, 0, 0, 0,\n",
       "       0, 0, 0, 0, 0, 0, 1, 0, 0, 0, 0, 0, 0, 0, 0, 0, 0, 0, 0, 0, 0, 0,\n",
       "       0, 0, 0, 0, 0, 0, 0, 0, 0, 0, 0, 0, 0, 0, 0, 0, 0, 0, 0, 0, 0, 0,\n",
       "       0, 0, 0, 0, 0, 0, 0, 0, 0, 0, 0, 0, 0, 0, 0, 0, 0, 0, 0, 0, 0, 0,\n",
       "       0, 0, 0, 0, 0, 0, 0, 0, 0, 0, 0, 0, 0, 0, 0, 0, 0, 0, 0, 0, 0, 0,\n",
       "       0, 0, 0, 0, 0, 0, 0, 0, 0, 0, 1, 0, 0, 0, 0, 0, 0, 0, 0, 0, 0, 0,\n",
       "       0, 0, 0, 0, 0, 0, 0, 0, 0, 0, 0, 0, 0, 0, 0, 0, 0, 0, 0, 0, 0, 0,\n",
       "       0, 0, 0, 0, 0, 0, 0, 0, 0, 0, 0, 0, 0, 0, 0, 0, 0, 0, 0, 0, 0, 0,\n",
       "       0, 0, 0, 0, 0, 0, 0, 0, 0, 0, 0, 0, 0, 0, 0, 0, 0, 0, 0, 0, 0, 0,\n",
       "       0, 0, 0, 0, 0, 0, 0, 0, 0, 0, 0, 0, 0, 0, 0, 0, 0, 0, 0, 0, 0, 0,\n",
       "       0, 0, 0, 0, 0, 0, 0, 0, 0, 0, 0, 0, 0, 0, 0, 0, 0, 0, 0, 0, 0, 0,\n",
       "       0, 0, 0, 0, 0, 0, 0, 0, 0, 0, 0, 0, 0, 0, 0, 0, 0, 0, 0, 0, 0, 0,\n",
       "       0, 0, 0, 0, 0, 0, 0, 0, 0, 0, 0, 0, 0, 0, 0, 0, 0, 0, 0, 0, 0, 0,\n",
       "       0, 0, 0, 0, 0, 0, 0, 0, 0, 0, 0, 0, 0, 0, 0, 0, 0, 0, 0, 0, 0, 0,\n",
       "       0, 0, 0, 0, 0, 0, 0, 0, 0, 0, 0, 0, 0, 0, 0, 0, 0, 0, 0, 0, 0, 0,\n",
       "       0, 0, 0, 0, 0, 0, 0, 0, 0, 0, 0, 0, 0, 0, 0, 0, 0, 0, 0, 0, 0, 0,\n",
       "       0, 0, 0, 0, 0, 0, 0, 0, 0, 0, 0, 0, 0, 0, 0, 0, 1, 0, 1, 0, 0, 0,\n",
       "       0, 0, 0, 0, 0, 0, 0, 0, 0, 0, 0, 0, 0, 1, 0, 0, 0, 0, 0, 0, 0, 0,\n",
       "       0, 0, 0, 0, 0, 0, 0, 0, 0, 0, 0, 0, 0, 0, 0, 0, 0, 0, 0, 0, 0, 1,\n",
       "       0, 0, 0, 0, 0, 0, 0, 0, 1, 0, 0, 0, 0, 0, 0, 0, 0, 0, 0, 0, 0, 0,\n",
       "       0, 0, 0, 0, 0, 0, 0, 0, 0, 0, 0, 0, 0, 0, 0, 0, 1, 0, 0, 0, 0, 0,\n",
       "       0, 0, 0, 0, 0, 0, 0, 0, 0, 0, 0, 0, 0, 0, 0, 0, 0, 0, 0, 0, 0, 0,\n",
       "       0, 0, 0, 0, 0, 0, 0, 0, 0, 0, 0, 0, 0, 0, 0, 0, 0, 0, 0, 0, 0, 0,\n",
       "       0, 0, 0, 0, 0, 0, 0, 0, 0, 0, 0, 0, 0, 0, 0, 0, 0, 0, 0, 0, 0, 0,\n",
       "       0, 0, 1, 0, 0, 0, 0, 1, 0, 0, 0, 0, 0, 0, 0, 0, 0, 0, 0, 0, 0, 0,\n",
       "       0, 0, 0, 0, 0, 0, 0, 0, 1, 0, 0, 0, 0, 0, 0, 0, 1, 0, 0, 0, 0, 0,\n",
       "       0, 0, 0, 0, 0, 0, 0, 0, 0, 0, 0, 0, 0, 0, 0, 0, 0, 0, 0, 0, 0, 0,\n",
       "       0, 0, 0, 0, 1, 0, 0, 0, 0, 0, 0, 0, 0, 0, 0, 0, 0, 0, 0, 0, 0, 0,\n",
       "       0, 0, 0, 0, 0, 0, 0, 0, 0, 0, 0, 0, 0, 0, 0, 0, 0, 0, 0, 0, 0, 0,\n",
       "       0, 0, 0, 0, 0, 0, 0, 0, 0, 0, 0, 0, 0, 0, 0, 0, 0, 0, 0, 0, 0, 0,\n",
       "       0, 0, 0, 0, 0, 0, 0, 0, 0, 0, 0, 0, 0, 0, 0, 0, 0, 0, 0, 0, 0, 0,\n",
       "       0, 0, 0, 0, 0, 0, 0, 0, 0, 0, 0, 0, 0, 0, 0, 0, 0, 0, 0, 0, 0, 0,\n",
       "       0, 0, 0, 0, 0, 0, 0, 0, 0, 0, 0, 0, 0, 0, 0, 0, 0, 0, 0, 0, 0, 0,\n",
       "       0, 0, 0, 0, 0, 0, 0, 0, 0, 0, 0, 0, 0, 0, 0, 0, 0, 0, 0, 0, 0, 0,\n",
       "       0, 0, 0, 0, 0, 0, 0, 0, 0, 0, 0, 0, 0, 0, 0, 0, 0, 0, 0, 0, 0, 0,\n",
       "       0, 0, 0, 0, 0, 0, 0, 0, 0, 0, 0, 1, 0, 0, 0, 0, 0, 0, 1, 0, 0, 0,\n",
       "       0, 0, 0, 0, 0, 0, 0, 0, 0])"
      ]
     },
     "execution_count": 146,
     "metadata": {},
     "output_type": "execute_result"
    }
   ],
   "source": [
    "import numpy as np\n",
    "\n",
    "frq_over_4 = np.where(samsung_return.values >=4, 1, 0)\n",
    "frq_over_4"
   ]
  },
  {
   "cell_type": "markdown",
   "id": "e9dabf1f",
   "metadata": {},
   "source": [
    "## rolling 이동 평균 \n",
    "각 요소 일자 이전의 구간만큼의 평균"
   ]
  },
  {
   "cell_type": "markdown",
   "id": "d1e5a9a6",
   "metadata": {},
   "source": [
    "### series.rolling(window=days)  \n",
    "ref) https://pandas.pydata.org/docs/reference/api/pandas.DataFrame.rolling.html\n"
   ]
  },
  {
   "cell_type": "markdown",
   "id": "6e5058db",
   "metadata": {},
   "source": [
    "#### Q) 30일 이동 평균을 구해보자"
   ]
  },
  {
   "cell_type": "code",
   "execution_count": 147,
   "id": "5ccf9494",
   "metadata": {
    "ExecuteTime": {
     "end_time": "2023-03-10T12:13:33.576792Z",
     "start_time": "2023-03-10T12:13:33.554855Z"
    }
   },
   "outputs": [
    {
     "name": "stderr",
     "output_type": "stream",
     "text": [
      "C:\\Users\\proyj\\AppData\\Local\\Temp\\ipykernel_9764\\1281495559.py:4: FutureWarning: The squeeze argument has been deprecated and will be removed in a future version. Append .squeeze(\"columns\") to the call to squeeze.\n",
      "\n",
      "\n",
      "  samsung_price = pd.read_csv('삼성전자 종가.csv', index_col = 0, squeeze = True, header = 0)\n"
     ]
    },
    {
     "data": {
      "text/plain": [
       "Date\n",
       "2018-01-02    51020\n",
       "2018-01-03    51620\n",
       "2018-01-04    51080\n",
       "2018-01-05    52120\n",
       "2018-01-08    52020\n",
       "              ...  \n",
       "2021-12-13    76800\n",
       "2021-12-14    77000\n",
       "2021-12-15    77600\n",
       "2021-12-16    77800\n",
       "2021-12-17    78000\n",
       "Name: Close, Length: 977, dtype: int64"
      ]
     },
     "execution_count": 147,
     "metadata": {},
     "output_type": "execute_result"
    }
   ],
   "source": [
    "import pandas as pd\n",
    "import numpy as np\n",
    "\n",
    "samsung_price = pd.read_csv('삼성전자 종가.csv', index_col = 0, squeeze = True, header = 0)\n",
    "samsung_price\n"
   ]
  },
  {
   "cell_type": "code",
   "execution_count": 149,
   "id": "1fe63fc9",
   "metadata": {
    "ExecuteTime": {
     "end_time": "2023-03-10T12:13:48.140483Z",
     "start_time": "2023-03-10T12:13:48.119548Z"
    }
   },
   "outputs": [
    {
     "data": {
      "text/plain": [
       "Date\n",
       "2018-01-02             NaN\n",
       "2018-01-03             NaN\n",
       "2018-01-04             NaN\n",
       "2018-01-05             NaN\n",
       "2018-01-08             NaN\n",
       "                  ...     \n",
       "2021-12-13    73090.000000\n",
       "2021-12-14    73273.333333\n",
       "2021-12-15    73513.333333\n",
       "2021-12-16    73753.333333\n",
       "2021-12-17    74013.333333\n",
       "Name: Close, Length: 977, dtype: float64"
      ]
     },
     "execution_count": 149,
     "metadata": {},
     "output_type": "execute_result"
    }
   ],
   "source": [
    "samsung_price.rolling(window =30).mean()"
   ]
  },
  {
   "cell_type": "code",
   "execution_count": 151,
   "id": "a23ae296",
   "metadata": {
    "ExecuteTime": {
     "end_time": "2023-03-10T12:14:03.565701Z",
     "start_time": "2023-03-10T12:14:00.780464Z"
    },
    "scrolled": true
   },
   "outputs": [
    {
     "data": {
      "text/plain": [
       "<AxesSubplot:xlabel='Date'>"
      ]
     },
     "execution_count": 151,
     "metadata": {},
     "output_type": "execute_result"
    },
    {
     "data": {
      "image/png": "[encoded data removed]",
      "text/plain": [
       "<Figure size 640x480 with 1 Axes>"
      ]
     },
     "metadata": {},
     "output_type": "display_data"
    }
   ],
   "source": [
    "samsung_price.rolling(window =30).mean().plot()"
   ]
  },
  {
   "cell_type": "markdown",
   "id": "11b7439b",
   "metadata": {},
   "source": [
    "## cut, qcut 데이터 구간 나누기"
   ]
  },
  {
   "cell_type": "code",
   "execution_count": 152,
   "id": "9bf0abf4",
   "metadata": {
    "ExecuteTime": {
     "end_time": "2023-03-10T12:19:10.329466Z",
     "start_time": "2023-03-10T12:19:10.305533Z"
    }
   },
   "outputs": [
    {
     "name": "stderr",
     "output_type": "stream",
     "text": [
      "C:\\Users\\proyj\\AppData\\Local\\Temp\\ipykernel_9764\\3633567279.py:4: FutureWarning: The squeeze argument has been deprecated and will be removed in a future version. Append .squeeze(\"columns\") to the call to squeeze.\n",
      "\n",
      "\n",
      "  samsung_price = pd.read_csv('삼성전자 종가.csv', index_col = 0, squeeze = True, header = 0)\n"
     ]
    },
    {
     "data": {
      "text/plain": [
       "Date\n",
       "2018-01-02         NaN\n",
       "2018-01-03    0.011760\n",
       "2018-01-04   -0.010461\n",
       "2018-01-05    0.020360\n",
       "2018-01-08   -0.001919\n",
       "                ...   \n",
       "2021-12-13   -0.001300\n",
       "2021-12-14    0.002604\n",
       "2021-12-15    0.007792\n",
       "2021-12-16    0.002577\n",
       "2021-12-17    0.002571\n",
       "Name: Close, Length: 977, dtype: float64"
      ]
     },
     "execution_count": 152,
     "metadata": {},
     "output_type": "execute_result"
    }
   ],
   "source": [
    "import pandas as pd\n",
    "import numpy as np\n",
    "\n",
    "samsung_price = pd.read_csv('삼성전자 종가.csv', index_col = 0, squeeze = True, header = 0)\n",
    "samsung_price\n",
    "samsung_return = (samsung_price - samsung_price.shift(1))/samsung_price.shift(1)\n",
    "samsung_return"
   ]
  },
  {
   "cell_type": "markdown",
   "id": "30e1399b",
   "metadata": {},
   "source": [
    "### pd.cut(series, bins = N) N등분하기"
   ]
  },
  {
   "cell_type": "code",
   "execution_count": 153,
   "id": "f98934f6",
   "metadata": {
    "ExecuteTime": {
     "end_time": "2023-03-10T12:19:31.369008Z",
     "start_time": "2023-03-10T12:19:31.348068Z"
    }
   },
   "outputs": [
    {
     "data": {
      "text/plain": [
       "Date\n",
       "2018-01-02                   NaN\n",
       "2018-01-03     (0.00356, 0.0204]\n",
       "2018-01-04    (-0.0133, 0.00356]\n",
       "2018-01-05     (0.00356, 0.0204]\n",
       "2018-01-08    (-0.0133, 0.00356]\n",
       "                     ...        \n",
       "2021-12-13    (-0.0133, 0.00356]\n",
       "2021-12-14    (-0.0133, 0.00356]\n",
       "2021-12-15     (0.00356, 0.0204]\n",
       "2021-12-16    (-0.0133, 0.00356]\n",
       "2021-12-17    (-0.0133, 0.00356]\n",
       "Name: Close, Length: 977, dtype: category\n",
       "Categories (10, interval[float64, right]): [(-0.064, -0.047] < (-0.047, -0.0302] < (-0.0302, -0.0133] < (-0.0133, 0.00356] ... (0.0373, 0.0541] < (0.0541, 0.071] < (0.071, 0.0878] < (0.0878, 0.105]]"
      ]
     },
     "execution_count": 153,
     "metadata": {},
     "output_type": "execute_result"
    }
   ],
   "source": [
    "pd.cut(samsung_return, bins=10)"
   ]
  },
  {
   "cell_type": "code",
   "execution_count": 154,
   "id": "39b002af",
   "metadata": {
    "ExecuteTime": {
     "end_time": "2023-03-10T12:19:57.202104Z",
     "start_time": "2023-03-10T12:19:57.180162Z"
    }
   },
   "outputs": [
    {
     "data": {
      "text/plain": [
       "(-0.0133, 0.00356]    414\n",
       "(0.00356, 0.0204]     298\n",
       "(-0.0302, -0.0133]    137\n",
       "(0.0204, 0.0373]       70\n",
       "(-0.047, -0.0302]      31\n",
       "(0.0373, 0.0541]       19\n",
       "(-0.064, -0.047]        3\n",
       "(0.0541, 0.071]         2\n",
       "(0.071, 0.0878]         1\n",
       "(0.0878, 0.105]         1\n",
       "Name: Close, dtype: int64"
      ]
     },
     "execution_count": 154,
     "metadata": {},
     "output_type": "execute_result"
    }
   ],
   "source": [
    "pd.cut(samsung_return, bins=10).value_counts()"
   ]
  },
  {
   "cell_type": "markdown",
   "id": "a62d1c7c",
   "metadata": {},
   "source": [
    "### pd.qcut(series, N) N개씩 나누기\n"
   ]
  },
  {
   "cell_type": "code",
   "execution_count": 155,
   "id": "fa9b8e63",
   "metadata": {
    "ExecuteTime": {
     "end_time": "2023-03-10T12:20:13.600798Z",
     "start_time": "2023-03-10T12:20:13.583831Z"
    }
   },
   "outputs": [
    {
     "data": {
      "text/plain": [
       "Date\n",
       "2018-01-02                    NaN\n",
       "2018-01-03      (0.00753, 0.0122]\n",
       "2018-01-04    (-0.0116, -0.00702]\n",
       "2018-01-05          (0.02, 0.105]\n",
       "2018-01-08        (-0.00332, 0.0]\n",
       "                     ...         \n",
       "2021-12-13        (-0.00332, 0.0]\n",
       "2021-12-14         (0.0, 0.00358]\n",
       "2021-12-15      (0.00753, 0.0122]\n",
       "2021-12-16         (0.0, 0.00358]\n",
       "2021-12-17         (0.0, 0.00358]\n",
       "Name: Close, Length: 977, dtype: category\n",
       "Categories (10, interval[float64, right]): [(-0.0649, -0.0194] < (-0.0194, -0.0116] < (-0.0116, -0.00702] < (-0.00702, -0.00332] ... (0.00358, 0.00753] < (0.00753, 0.0122] < (0.0122, 0.02] < (0.02, 0.105]]"
      ]
     },
     "execution_count": 155,
     "metadata": {},
     "output_type": "execute_result"
    }
   ],
   "source": [
    "pd.qcut(samsung_return, 10)"
   ]
  },
  {
   "cell_type": "code",
   "execution_count": 156,
   "id": "4f1446df",
   "metadata": {
    "ExecuteTime": {
     "end_time": "2023-03-10T12:20:17.585413Z",
     "start_time": "2023-03-10T12:20:17.569456Z"
    },
    "scrolled": true
   },
   "outputs": [
    {
     "data": {
      "text/plain": [
       "(-0.00332, 0.0]         108\n",
       "(-0.0649, -0.0194]       98\n",
       "(-0.0194, -0.0116]       98\n",
       "(-0.00702, -0.00332]     98\n",
       "(0.00753, 0.0122]        98\n",
       "(0.02, 0.105]            98\n",
       "(-0.0116, -0.00702]      97\n",
       "(0.00358, 0.00753]       97\n",
       "(0.0122, 0.02]           97\n",
       "(0.0, 0.00358]           87\n",
       "Name: Close, dtype: int64"
      ]
     },
     "execution_count": 156,
     "metadata": {},
     "output_type": "execute_result"
    }
   ],
   "source": [
    "pd.qcut(samsung_return, 10).value_counts()"
   ]
  },
  {
   "cell_type": "markdown",
   "id": "ddc70a1b",
   "metadata": {},
   "source": [
    "## 크기가 다른 두 시리즈 , 연관관계\n",
    "인덱스 맞춰주는게 좋다."
   ]
  },
  {
   "cell_type": "code",
   "execution_count": 158,
   "id": "c7b8af10",
   "metadata": {
    "ExecuteTime": {
     "end_time": "2023-03-11T16:46:25.774350Z",
     "start_time": "2023-03-11T16:46:25.747422Z"
    }
   },
   "outputs": [
    {
     "name": "stderr",
     "output_type": "stream",
     "text": [
      "C:\\Users\\proyj\\AppData\\Local\\Temp\\ipykernel_9764\\3448150344.py:4: FutureWarning: The squeeze argument has been deprecated and will be removed in a future version. Append .squeeze(\"columns\") to the call to squeeze.\n",
      "\n",
      "\n",
      "  samsung = pd.read_csv('삼성전자 종가.csv', index_col = 0, squeeze = True, header = 0)\n",
      "C:\\Users\\proyj\\AppData\\Local\\Temp\\ipykernel_9764\\3448150344.py:7: FutureWarning: The squeeze argument has been deprecated and will be removed in a future version. Append .squeeze(\"columns\") to the call to squeeze.\n",
      "\n",
      "\n",
      "  kospi = pd.read_csv(\"KOSPI.csv\", index_col = 0, squeeze = True, header = 0)\n"
     ]
    },
    {
     "data": {
      "text/plain": [
       "Date\n",
       "2020-01-02    2175.17\n",
       "2020-01-03    2176.46\n",
       "2020-01-06    2155.07\n",
       "2020-01-07    2175.54\n",
       "2020-01-08    2151.31\n",
       "               ...   \n",
       "2021-12-13    3001.66\n",
       "2021-12-14    2987.95\n",
       "2021-12-15    2989.39\n",
       "2021-12-16    3006.41\n",
       "2021-12-17    3017.73\n",
       "Name: Close, Length: 477, dtype: float64"
      ]
     },
     "execution_count": 158,
     "metadata": {},
     "output_type": "execute_result"
    }
   ],
   "source": [
    "import pandas as pd\n",
    "import numpy as np\n",
    "\n",
    "samsung = pd.read_csv('삼성전자 종가.csv', index_col = 0, squeeze = True, header = 0)\n",
    "samsung\n",
    "\n",
    "kospi = pd.read_csv(\"KOSPI.csv\", index_col = 0, squeeze = True, header = 0)\n",
    "kospi"
   ]
  },
  {
   "cell_type": "code",
   "execution_count": 164,
   "id": "60a4d563",
   "metadata": {
    "ExecuteTime": {
     "end_time": "2023-03-11T16:47:35.511079Z",
     "start_time": "2023-03-11T16:47:35.504064Z"
    }
   },
   "outputs": [
    {
     "name": "stdout",
     "output_type": "stream",
     "text": [
      "(487,)\n"
     ]
    }
   ],
   "source": [
    "#print(samsung.shape)\n",
    "samsung\n",
    "samsung = samsung.loc['2020-01-02':] # 일단 갯수적당히 좀 맞춰보자\n",
    "samsung\n",
    "print(samsung.shape)"
   ]
  },
  {
   "cell_type": "code",
   "execution_count": 161,
   "id": "f502cb62",
   "metadata": {
    "ExecuteTime": {
     "end_time": "2023-03-11T16:46:41.721303Z",
     "start_time": "2023-03-11T16:46:41.709338Z"
    },
    "scrolled": true
   },
   "outputs": [
    {
     "name": "stdout",
     "output_type": "stream",
     "text": [
      "(477,)\n"
     ]
    },
    {
     "data": {
      "text/plain": [
       "Date\n",
       "2020-01-02    2175.17\n",
       "2020-01-03    2176.46\n",
       "2020-01-06    2155.07\n",
       "2020-01-07    2175.54\n",
       "2020-01-08    2151.31\n",
       "               ...   \n",
       "2021-12-13    3001.66\n",
       "2021-12-14    2987.95\n",
       "2021-12-15    2989.39\n",
       "2021-12-16    3006.41\n",
       "2021-12-17    3017.73\n",
       "Name: Close, Length: 477, dtype: float64"
      ]
     },
     "execution_count": 161,
     "metadata": {},
     "output_type": "execute_result"
    }
   ],
   "source": [
    "print(kospi.shape)\n",
    "kospi"
   ]
  },
  {
   "cell_type": "markdown",
   "id": "17da380a",
   "metadata": {},
   "source": [
    "samsung 인덱스 $\\subset$ kospi 인덱스 인경우 가능"
   ]
  },
  {
   "cell_type": "code",
   "execution_count": 162,
   "id": "5c75825b",
   "metadata": {
    "ExecuteTime": {
     "end_time": "2023-03-11T16:46:44.706127Z",
     "start_time": "2023-03-11T16:46:44.657290Z"
    }
   },
   "outputs": [
    {
     "data": {
      "text/plain": [
       "(477,)"
      ]
     },
     "execution_count": 162,
     "metadata": {},
     "output_type": "execute_result"
    }
   ],
   "source": [
    "samsung_re = samsung.loc[kospi.index] \n",
    "samsung_re.shape"
   ]
  },
  {
   "cell_type": "code",
   "execution_count": 163,
   "id": "2c723aee",
   "metadata": {
    "ExecuteTime": {
     "end_time": "2023-03-11T16:46:51.871064Z",
     "start_time": "2023-03-11T16:46:51.861057Z"
    }
   },
   "outputs": [
    {
     "data": {
      "text/plain": [
       "(477,)"
      ]
     },
     "execution_count": 163,
     "metadata": {},
     "output_type": "execute_result"
    }
   ],
   "source": [
    "samsung_re = samsung.loc[kospi.index]\n",
    "samsung_re.shape"
   ]
  },
  {
   "cell_type": "code",
   "execution_count": null,
   "id": "59735a31",
   "metadata": {},
   "outputs": [],
   "source": []
  }
 ],
 "metadata": {
  "hide_input": false,
  "kernelspec": {
   "display_name": "Python 3 (ipykernel)",
   "language": "python",
   "name": "python3"
  },
  "language_info": {
   "codemirror_mode": {
    "name": "ipython",
    "version": 3
   },
   "file_extension": ".py",
   "mimetype": "text/x-python",
   "name": "python",
   "nbconvert_exporter": "python",
   "pygments_lexer": "ipython3",
   "version": "3.9.13"
  },
  "toc": {
   "base_numbering": 1,
   "nav_menu": {},
   "number_sections": true,
   "sideBar": true,
   "skip_h1_title": false,
   "title_cell": "Table of Contents",
   "title_sidebar": "Contents",
   "toc_cell": false,
   "toc_position": {
    "height": "1544.4px",
    "left": "24px",
    "top": "71.6px",
    "width": "262.2px"
   },
   "toc_section_display": true,
   "toc_window_display": true
  },
  "varInspector": {
   "cols": {
    "lenName": 16,
    "lenType": 16,
    "lenVar": 40
   },
   "kernels_config": {
    "python": {
     "delete_cmd_postfix": "",
     "delete_cmd_prefix": "del ",
     "library": "var_list.py",
     "varRefreshCmd": "print(var_dic_list())"
    },
    "r": {
     "delete_cmd_postfix": ") ",
     "delete_cmd_prefix": "rm(",
     "library": "var_list.r",
     "varRefreshCmd": "cat(var_dic_list()) "
    }
   },
   "types_to_exclude": [
    "module",
    "function",
    "builtin_function_or_method",
    "instance",
    "_Feature"
   ],
   "window_display": false
  }
 },
 "nbformat": 4,
 "nbformat_minor": 5
}
