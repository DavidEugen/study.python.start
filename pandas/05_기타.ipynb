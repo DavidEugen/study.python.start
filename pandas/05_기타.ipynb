{
 "cells": [
  {
   "cell_type": "markdown",
   "id": "11b475cc",
   "metadata": {},
   "source": [
    "# 기타"
   ]
  },
  {
   "cell_type": "markdown",
   "id": "1d029841",
   "metadata": {},
   "source": [
    "* pd.to_datetime</br>\n",
    "* pd.date_range</br>\n",
    "* Year, Month, day 추출하는 방법</br>\n",
    "* 월별 수익률을 구하는 방법</br>"
   ]
  },
  {
   "cell_type": "markdown",
   "id": "ad6880ee",
   "metadata": {},
   "source": [
    "## 10Y Rate ㅡ 월 수익율 구하기"
   ]
  },
  {
   "cell_type": "markdown",
   "id": "0cf2f2a3",
   "metadata": {},
   "source": [
    "- 일별 데이터 주어져 있음\n",
    "- 월 말일의 값 기준으로 수익률 구하자\n",
    "    - 월 말일은 ?   \n",
    "    다음달 첫날의 하루전일 "
   ]
  },
  {
   "cell_type": "code",
   "execution_count": 12,
   "id": "ebf81491",
   "metadata": {
    "ExecuteTime": {
     "end_time": "2023-03-14T17:45:38.669120Z",
     "start_time": "2023-03-14T17:45:38.640939Z"
    }
   },
   "outputs": [
    {
     "data": {
      "text/plain": [
       "Index(['2000-10-26', '2000-10-27', '2000-10-28', '2000-10-30', '2000-11-01',\n",
       "       '2000-11-02', '2000-11-08', '2000-11-09', '2000-11-13', '2000-11-16',\n",
       "       ...\n",
       "       '2021-12-19', '2021-12-20', '2021-12-21', '2021-12-22', '2021-12-23',\n",
       "       '2021-12-24', '2021-12-25', '2021-12-26', '2021-12-27', '2021-12-28'],\n",
       "      dtype='object', name='Date', length=5582)"
      ]
     },
     "execution_count": 12,
     "metadata": {},
     "output_type": "execute_result"
    }
   ],
   "source": [
    "import pandas as pd\n",
    "\n",
    "df = pd.read_csv(\"10Y Rate.csv\", index_col = 'Date')\n",
    "df.index"
   ]
  },
  {
   "cell_type": "code",
   "execution_count": 13,
   "id": "dc66a0b3",
   "metadata": {
    "ExecuteTime": {
     "end_time": "2023-03-14T17:45:40.468742Z",
     "start_time": "2023-03-14T17:45:40.447772Z"
    }
   },
   "outputs": [
    {
     "ename": "AttributeError",
     "evalue": "'Index' object has no attribute 'year'",
     "output_type": "error",
     "traceback": [
      "\u001b[1;31m---------------------------------------------------------------------------\u001b[0m",
      "\u001b[1;31mAttributeError\u001b[0m                            Traceback (most recent call last)",
      "\u001b[1;32m~\\AppData\\Local\\Temp\\ipykernel_13080\\477248401.py\u001b[0m in \u001b[0;36m<module>\u001b[1;34m\u001b[0m\n\u001b[1;32m----> 1\u001b[1;33m \u001b[0mdf\u001b[0m\u001b[1;33m.\u001b[0m\u001b[0mindex\u001b[0m\u001b[1;33m.\u001b[0m\u001b[0myear\u001b[0m\u001b[1;33m\u001b[0m\u001b[1;33m\u001b[0m\u001b[0m\n\u001b[0m",
      "\u001b[1;31mAttributeError\u001b[0m: 'Index' object has no attribute 'year'"
     ]
    }
   ],
   "source": [
    "df.index.year"
   ]
  },
  {
   "cell_type": "code",
   "execution_count": 14,
   "id": "da3e5d9f",
   "metadata": {
    "ExecuteTime": {
     "end_time": "2023-03-14T17:45:43.440353Z",
     "start_time": "2023-03-14T17:45:43.409006Z"
    },
    "scrolled": true
   },
   "outputs": [
    {
     "data": {
      "text/html": [
       "<div>\n",
       "<style scoped>\n",
       "    .dataframe tbody tr th:only-of-type {\n",
       "        vertical-align: middle;\n",
       "    }\n",
       "\n",
       "    .dataframe tbody tr th {\n",
       "        vertical-align: top;\n",
       "    }\n",
       "\n",
       "    .dataframe thead th {\n",
       "        text-align: right;\n",
       "    }\n",
       "</style>\n",
       "<table border=\"1\" class=\"dataframe\">\n",
       "  <thead>\n",
       "    <tr style=\"text-align: right;\">\n",
       "      <th></th>\n",
       "      <th>Close</th>\n",
       "      <th>Open</th>\n",
       "      <th>High</th>\n",
       "      <th>Low</th>\n",
       "      <th>Change</th>\n",
       "    </tr>\n",
       "    <tr>\n",
       "      <th>Date</th>\n",
       "      <th></th>\n",
       "      <th></th>\n",
       "      <th></th>\n",
       "      <th></th>\n",
       "      <th></th>\n",
       "    </tr>\n",
       "  </thead>\n",
       "  <tbody>\n",
       "    <tr>\n",
       "      <th>2000-10-26</th>\n",
       "      <td>8.300</td>\n",
       "      <td>8.300</td>\n",
       "      <td>8.300</td>\n",
       "      <td>8.300</td>\n",
       "      <td>-0.0060</td>\n",
       "    </tr>\n",
       "    <tr>\n",
       "      <th>2000-10-27</th>\n",
       "      <td>8.240</td>\n",
       "      <td>8.240</td>\n",
       "      <td>8.240</td>\n",
       "      <td>8.240</td>\n",
       "      <td>-0.0072</td>\n",
       "    </tr>\n",
       "    <tr>\n",
       "      <th>2000-10-28</th>\n",
       "      <td>8.240</td>\n",
       "      <td>8.240</td>\n",
       "      <td>8.240</td>\n",
       "      <td>8.240</td>\n",
       "      <td>0.0000</td>\n",
       "    </tr>\n",
       "    <tr>\n",
       "      <th>2000-10-30</th>\n",
       "      <td>8.220</td>\n",
       "      <td>8.220</td>\n",
       "      <td>8.220</td>\n",
       "      <td>8.220</td>\n",
       "      <td>-0.0024</td>\n",
       "    </tr>\n",
       "    <tr>\n",
       "      <th>2000-11-01</th>\n",
       "      <td>8.150</td>\n",
       "      <td>8.150</td>\n",
       "      <td>8.150</td>\n",
       "      <td>8.150</td>\n",
       "      <td>-0.0085</td>\n",
       "    </tr>\n",
       "    <tr>\n",
       "      <th>...</th>\n",
       "      <td>...</td>\n",
       "      <td>...</td>\n",
       "      <td>...</td>\n",
       "      <td>...</td>\n",
       "      <td>...</td>\n",
       "    </tr>\n",
       "    <tr>\n",
       "      <th>2021-12-24</th>\n",
       "      <td>2.210</td>\n",
       "      <td>2.188</td>\n",
       "      <td>2.220</td>\n",
       "      <td>2.185</td>\n",
       "      <td>-0.0023</td>\n",
       "    </tr>\n",
       "    <tr>\n",
       "      <th>2021-12-25</th>\n",
       "      <td>2.202</td>\n",
       "      <td>2.202</td>\n",
       "      <td>2.202</td>\n",
       "      <td>2.202</td>\n",
       "      <td>-0.0036</td>\n",
       "    </tr>\n",
       "    <tr>\n",
       "      <th>2021-12-26</th>\n",
       "      <td>2.202</td>\n",
       "      <td>2.202</td>\n",
       "      <td>2.202</td>\n",
       "      <td>2.202</td>\n",
       "      <td>0.0000</td>\n",
       "    </tr>\n",
       "    <tr>\n",
       "      <th>2021-12-27</th>\n",
       "      <td>2.212</td>\n",
       "      <td>2.204</td>\n",
       "      <td>2.219</td>\n",
       "      <td>2.196</td>\n",
       "      <td>0.0045</td>\n",
       "    </tr>\n",
       "    <tr>\n",
       "      <th>2021-12-28</th>\n",
       "      <td>2.196</td>\n",
       "      <td>2.213</td>\n",
       "      <td>2.221</td>\n",
       "      <td>2.196</td>\n",
       "      <td>-0.0072</td>\n",
       "    </tr>\n",
       "  </tbody>\n",
       "</table>\n",
       "<p>5582 rows × 5 columns</p>\n",
       "</div>"
      ],
      "text/plain": [
       "            Close   Open   High    Low  Change\n",
       "Date                                          \n",
       "2000-10-26  8.300  8.300  8.300  8.300 -0.0060\n",
       "2000-10-27  8.240  8.240  8.240  8.240 -0.0072\n",
       "2000-10-28  8.240  8.240  8.240  8.240  0.0000\n",
       "2000-10-30  8.220  8.220  8.220  8.220 -0.0024\n",
       "2000-11-01  8.150  8.150  8.150  8.150 -0.0085\n",
       "...           ...    ...    ...    ...     ...\n",
       "2021-12-24  2.210  2.188  2.220  2.185 -0.0023\n",
       "2021-12-25  2.202  2.202  2.202  2.202 -0.0036\n",
       "2021-12-26  2.202  2.202  2.202  2.202  0.0000\n",
       "2021-12-27  2.212  2.204  2.219  2.196  0.0045\n",
       "2021-12-28  2.196  2.213  2.221  2.196 -0.0072\n",
       "\n",
       "[5582 rows x 5 columns]"
      ]
     },
     "execution_count": 14,
     "metadata": {},
     "output_type": "execute_result"
    }
   ],
   "source": [
    "# dateTime 타입으로 변환 \n",
    "# pd.to_datetime\n",
    "df.index = pd.to_datetime(df.index)\n",
    "df"
   ]
  },
  {
   "cell_type": "code",
   "execution_count": 15,
   "id": "cce65dd7",
   "metadata": {
    "ExecuteTime": {
     "end_time": "2023-03-14T17:45:45.314302Z",
     "start_time": "2023-03-14T17:45:45.303759Z"
    }
   },
   "outputs": [
    {
     "data": {
      "text/plain": [
       "Int64Index([2000, 2000, 2000, 2000, 2000, 2000, 2000, 2000, 2000, 2000,\n",
       "            ...\n",
       "            2021, 2021, 2021, 2021, 2021, 2021, 2021, 2021, 2021, 2021],\n",
       "           dtype='int64', name='Date', length=5582)"
      ]
     },
     "execution_count": 15,
     "metadata": {},
     "output_type": "execute_result"
    }
   ],
   "source": [
    "df.index.year"
   ]
  },
  {
   "cell_type": "code",
   "execution_count": 7,
   "id": "2c285afe",
   "metadata": {
    "ExecuteTime": {
     "end_time": "2023-03-14T17:43:29.638536Z",
     "start_time": "2023-03-14T17:43:29.622914Z"
    },
    "scrolled": true
   },
   "outputs": [
    {
     "data": {
      "text/plain": [
       "DatetimeIndex(['2000-10-26', '2000-10-27', '2000-10-28', '2000-10-29',\n",
       "               '2000-10-30', '2000-10-31', '2000-11-01', '2000-11-02',\n",
       "               '2000-11-03', '2000-11-04', '2000-11-05', '2000-11-06',\n",
       "               '2000-11-07', '2000-11-08', '2000-11-09', '2000-11-10',\n",
       "               '2000-11-11', '2000-11-12', '2000-11-13', '2000-11-14',\n",
       "               '2000-11-15', '2000-11-16', '2000-11-17', '2000-11-18',\n",
       "               '2000-11-19', '2000-11-20', '2000-11-21', '2000-11-22',\n",
       "               '2000-11-23', '2000-11-24', '2000-11-25', '2000-11-26',\n",
       "               '2000-11-27', '2000-11-28', '2000-11-29', '2000-11-30',\n",
       "               '2000-12-01', '2000-12-02', '2000-12-03', '2000-12-04',\n",
       "               '2000-12-05', '2000-12-06', '2000-12-07', '2000-12-08',\n",
       "               '2000-12-09', '2000-12-10', '2000-12-11', '2000-12-12',\n",
       "               '2000-12-13', '2000-12-14', '2000-12-15', '2000-12-16',\n",
       "               '2000-12-17', '2000-12-18', '2000-12-19', '2000-12-20',\n",
       "               '2000-12-21', '2000-12-22', '2000-12-23', '2000-12-24',\n",
       "               '2000-12-25', '2000-12-26', '2000-12-27', '2000-12-28',\n",
       "               '2000-12-29', '2000-12-30', '2000-12-31', '2001-01-01',\n",
       "               '2001-01-02', '2001-01-03', '2001-01-04', '2001-01-05',\n",
       "               '2001-01-06', '2001-01-07', '2001-01-08', '2001-01-09',\n",
       "               '2001-01-10', '2001-01-11', '2001-01-12', '2001-01-13',\n",
       "               '2001-01-14', '2001-01-15', '2001-01-16', '2001-01-17',\n",
       "               '2001-01-18', '2001-01-19', '2001-01-20', '2001-01-21',\n",
       "               '2001-01-22', '2001-01-23', '2001-01-24', '2001-01-25',\n",
       "               '2001-01-26', '2001-01-27', '2001-01-28', '2001-01-29',\n",
       "               '2001-01-30', '2001-01-31', '2001-02-01', '2001-02-02'],\n",
       "              dtype='datetime64[ns]', freq='D')"
      ]
     },
     "execution_count": 7,
     "metadata": {},
     "output_type": "execute_result"
    }
   ],
   "source": [
    "# 2000-10-26일 부터 100개를 만들어 보자\n",
    "timeSeries_index = pd.date_range(start='2000-10-26', end= None, periods= 100)\n",
    "timeSeries_index"
   ]
  },
  {
   "cell_type": "code",
   "execution_count": 17,
   "id": "4a3e3316",
   "metadata": {
    "ExecuteTime": {
     "end_time": "2023-03-14T17:46:00.272930Z",
     "start_time": "2023-03-14T17:46:00.241107Z"
    }
   },
   "outputs": [
    {
     "data": {
      "text/html": [
       "<div>\n",
       "<style scoped>\n",
       "    .dataframe tbody tr th:only-of-type {\n",
       "        vertical-align: middle;\n",
       "    }\n",
       "\n",
       "    .dataframe tbody tr th {\n",
       "        vertical-align: top;\n",
       "    }\n",
       "\n",
       "    .dataframe thead th {\n",
       "        text-align: right;\n",
       "    }\n",
       "</style>\n",
       "<table border=\"1\" class=\"dataframe\">\n",
       "  <thead>\n",
       "    <tr style=\"text-align: right;\">\n",
       "      <th></th>\n",
       "      <th>Close</th>\n",
       "      <th>Open</th>\n",
       "      <th>High</th>\n",
       "      <th>Low</th>\n",
       "      <th>Change</th>\n",
       "      <th>Year</th>\n",
       "      <th>Month</th>\n",
       "      <th>Day</th>\n",
       "    </tr>\n",
       "    <tr>\n",
       "      <th>Date</th>\n",
       "      <th></th>\n",
       "      <th></th>\n",
       "      <th></th>\n",
       "      <th></th>\n",
       "      <th></th>\n",
       "      <th></th>\n",
       "      <th></th>\n",
       "      <th></th>\n",
       "    </tr>\n",
       "  </thead>\n",
       "  <tbody>\n",
       "    <tr>\n",
       "      <th>2000-10-26</th>\n",
       "      <td>8.300</td>\n",
       "      <td>8.300</td>\n",
       "      <td>8.300</td>\n",
       "      <td>8.300</td>\n",
       "      <td>-0.0060</td>\n",
       "      <td>2000</td>\n",
       "      <td>10</td>\n",
       "      <td>26</td>\n",
       "    </tr>\n",
       "    <tr>\n",
       "      <th>2000-10-27</th>\n",
       "      <td>8.240</td>\n",
       "      <td>8.240</td>\n",
       "      <td>8.240</td>\n",
       "      <td>8.240</td>\n",
       "      <td>-0.0072</td>\n",
       "      <td>2000</td>\n",
       "      <td>10</td>\n",
       "      <td>27</td>\n",
       "    </tr>\n",
       "    <tr>\n",
       "      <th>2000-10-28</th>\n",
       "      <td>8.240</td>\n",
       "      <td>8.240</td>\n",
       "      <td>8.240</td>\n",
       "      <td>8.240</td>\n",
       "      <td>0.0000</td>\n",
       "      <td>2000</td>\n",
       "      <td>10</td>\n",
       "      <td>28</td>\n",
       "    </tr>\n",
       "    <tr>\n",
       "      <th>2000-10-30</th>\n",
       "      <td>8.220</td>\n",
       "      <td>8.220</td>\n",
       "      <td>8.220</td>\n",
       "      <td>8.220</td>\n",
       "      <td>-0.0024</td>\n",
       "      <td>2000</td>\n",
       "      <td>10</td>\n",
       "      <td>30</td>\n",
       "    </tr>\n",
       "    <tr>\n",
       "      <th>2000-11-01</th>\n",
       "      <td>8.150</td>\n",
       "      <td>8.150</td>\n",
       "      <td>8.150</td>\n",
       "      <td>8.150</td>\n",
       "      <td>-0.0085</td>\n",
       "      <td>2000</td>\n",
       "      <td>11</td>\n",
       "      <td>1</td>\n",
       "    </tr>\n",
       "    <tr>\n",
       "      <th>...</th>\n",
       "      <td>...</td>\n",
       "      <td>...</td>\n",
       "      <td>...</td>\n",
       "      <td>...</td>\n",
       "      <td>...</td>\n",
       "      <td>...</td>\n",
       "      <td>...</td>\n",
       "      <td>...</td>\n",
       "    </tr>\n",
       "    <tr>\n",
       "      <th>2021-12-24</th>\n",
       "      <td>2.210</td>\n",
       "      <td>2.188</td>\n",
       "      <td>2.220</td>\n",
       "      <td>2.185</td>\n",
       "      <td>-0.0023</td>\n",
       "      <td>2021</td>\n",
       "      <td>12</td>\n",
       "      <td>24</td>\n",
       "    </tr>\n",
       "    <tr>\n",
       "      <th>2021-12-25</th>\n",
       "      <td>2.202</td>\n",
       "      <td>2.202</td>\n",
       "      <td>2.202</td>\n",
       "      <td>2.202</td>\n",
       "      <td>-0.0036</td>\n",
       "      <td>2021</td>\n",
       "      <td>12</td>\n",
       "      <td>25</td>\n",
       "    </tr>\n",
       "    <tr>\n",
       "      <th>2021-12-26</th>\n",
       "      <td>2.202</td>\n",
       "      <td>2.202</td>\n",
       "      <td>2.202</td>\n",
       "      <td>2.202</td>\n",
       "      <td>0.0000</td>\n",
       "      <td>2021</td>\n",
       "      <td>12</td>\n",
       "      <td>26</td>\n",
       "    </tr>\n",
       "    <tr>\n",
       "      <th>2021-12-27</th>\n",
       "      <td>2.212</td>\n",
       "      <td>2.204</td>\n",
       "      <td>2.219</td>\n",
       "      <td>2.196</td>\n",
       "      <td>0.0045</td>\n",
       "      <td>2021</td>\n",
       "      <td>12</td>\n",
       "      <td>27</td>\n",
       "    </tr>\n",
       "    <tr>\n",
       "      <th>2021-12-28</th>\n",
       "      <td>2.196</td>\n",
       "      <td>2.213</td>\n",
       "      <td>2.221</td>\n",
       "      <td>2.196</td>\n",
       "      <td>-0.0072</td>\n",
       "      <td>2021</td>\n",
       "      <td>12</td>\n",
       "      <td>28</td>\n",
       "    </tr>\n",
       "  </tbody>\n",
       "</table>\n",
       "<p>5582 rows × 8 columns</p>\n",
       "</div>"
      ],
      "text/plain": [
       "            Close   Open   High    Low  Change  Year  Month  Day\n",
       "Date                                                            \n",
       "2000-10-26  8.300  8.300  8.300  8.300 -0.0060  2000     10   26\n",
       "2000-10-27  8.240  8.240  8.240  8.240 -0.0072  2000     10   27\n",
       "2000-10-28  8.240  8.240  8.240  8.240  0.0000  2000     10   28\n",
       "2000-10-30  8.220  8.220  8.220  8.220 -0.0024  2000     10   30\n",
       "2000-11-01  8.150  8.150  8.150  8.150 -0.0085  2000     11    1\n",
       "...           ...    ...    ...    ...     ...   ...    ...  ...\n",
       "2021-12-24  2.210  2.188  2.220  2.185 -0.0023  2021     12   24\n",
       "2021-12-25  2.202  2.202  2.202  2.202 -0.0036  2021     12   25\n",
       "2021-12-26  2.202  2.202  2.202  2.202  0.0000  2021     12   26\n",
       "2021-12-27  2.212  2.204  2.219  2.196  0.0045  2021     12   27\n",
       "2021-12-28  2.196  2.213  2.221  2.196 -0.0072  2021     12   28\n",
       "\n",
       "[5582 rows x 8 columns]"
      ]
     },
     "execution_count": 17,
     "metadata": {},
     "output_type": "execute_result"
    }
   ],
   "source": [
    "df['Year'] = df.index.year\n",
    "df['Month'] = df.index.month\n",
    "df['Day'] = df.index.day\n",
    "df"
   ]
  },
  {
   "cell_type": "code",
   "execution_count": null,
   "id": "950bcdab",
   "metadata": {},
   "outputs": [],
   "source": [
    "# 이제 본격적으로 구해보자\n",
    "# 일단 ....\n",
    "df['IndexNumber'] = range(df.shape[0]) # iloc 사용하기 위해 numeric index 구한다."
   ]
  },
  {
   "cell_type": "code",
   "execution_count": 22,
   "id": "d3898e32",
   "metadata": {
    "ExecuteTime": {
     "end_time": "2023-03-14T17:48:53.516873Z",
     "start_time": "2023-03-14T17:48:53.469680Z"
    },
    "scrolled": true
   },
   "outputs": [
    {
     "data": {
      "text/html": [
       "<div>\n",
       "<style scoped>\n",
       "    .dataframe tbody tr th:only-of-type {\n",
       "        vertical-align: middle;\n",
       "    }\n",
       "\n",
       "    .dataframe tbody tr th {\n",
       "        vertical-align: top;\n",
       "    }\n",
       "\n",
       "    .dataframe thead th {\n",
       "        text-align: right;\n",
       "    }\n",
       "</style>\n",
       "<table border=\"1\" class=\"dataframe\">\n",
       "  <thead>\n",
       "    <tr style=\"text-align: right;\">\n",
       "      <th></th>\n",
       "      <th>Close</th>\n",
       "      <th>Open</th>\n",
       "      <th>High</th>\n",
       "      <th>Low</th>\n",
       "      <th>Change</th>\n",
       "      <th>Year</th>\n",
       "      <th>Month</th>\n",
       "      <th>Day</th>\n",
       "    </tr>\n",
       "    <tr>\n",
       "      <th>Date</th>\n",
       "      <th></th>\n",
       "      <th></th>\n",
       "      <th></th>\n",
       "      <th></th>\n",
       "      <th></th>\n",
       "      <th></th>\n",
       "      <th></th>\n",
       "      <th></th>\n",
       "    </tr>\n",
       "  </thead>\n",
       "  <tbody>\n",
       "    <tr>\n",
       "      <th>2000-11-01</th>\n",
       "      <td>8.150</td>\n",
       "      <td>8.150</td>\n",
       "      <td>8.150</td>\n",
       "      <td>8.150</td>\n",
       "      <td>-0.0085</td>\n",
       "      <td>2000</td>\n",
       "      <td>11</td>\n",
       "      <td>1</td>\n",
       "    </tr>\n",
       "    <tr>\n",
       "      <th>2000-11-02</th>\n",
       "      <td>8.170</td>\n",
       "      <td>8.170</td>\n",
       "      <td>8.170</td>\n",
       "      <td>8.170</td>\n",
       "      <td>0.0025</td>\n",
       "      <td>2000</td>\n",
       "      <td>11</td>\n",
       "      <td>2</td>\n",
       "    </tr>\n",
       "    <tr>\n",
       "      <th>2000-11-08</th>\n",
       "      <td>8.190</td>\n",
       "      <td>8.190</td>\n",
       "      <td>8.190</td>\n",
       "      <td>8.190</td>\n",
       "      <td>0.0024</td>\n",
       "      <td>2000</td>\n",
       "      <td>11</td>\n",
       "      <td>8</td>\n",
       "    </tr>\n",
       "    <tr>\n",
       "      <th>2000-11-09</th>\n",
       "      <td>8.000</td>\n",
       "      <td>8.000</td>\n",
       "      <td>8.000</td>\n",
       "      <td>8.000</td>\n",
       "      <td>-0.0232</td>\n",
       "      <td>2000</td>\n",
       "      <td>11</td>\n",
       "      <td>9</td>\n",
       "    </tr>\n",
       "    <tr>\n",
       "      <th>2000-11-13</th>\n",
       "      <td>7.570</td>\n",
       "      <td>7.570</td>\n",
       "      <td>7.570</td>\n",
       "      <td>7.570</td>\n",
       "      <td>-0.0537</td>\n",
       "      <td>2000</td>\n",
       "      <td>11</td>\n",
       "      <td>13</td>\n",
       "    </tr>\n",
       "    <tr>\n",
       "      <th>...</th>\n",
       "      <td>...</td>\n",
       "      <td>...</td>\n",
       "      <td>...</td>\n",
       "      <td>...</td>\n",
       "      <td>...</td>\n",
       "      <td>...</td>\n",
       "      <td>...</td>\n",
       "      <td>...</td>\n",
       "    </tr>\n",
       "    <tr>\n",
       "      <th>2021-11-26</th>\n",
       "      <td>2.253</td>\n",
       "      <td>2.310</td>\n",
       "      <td>2.316</td>\n",
       "      <td>2.216</td>\n",
       "      <td>-0.0401</td>\n",
       "      <td>2021</td>\n",
       "      <td>11</td>\n",
       "      <td>26</td>\n",
       "    </tr>\n",
       "    <tr>\n",
       "      <th>2021-11-27</th>\n",
       "      <td>2.262</td>\n",
       "      <td>2.262</td>\n",
       "      <td>2.262</td>\n",
       "      <td>2.262</td>\n",
       "      <td>0.0040</td>\n",
       "      <td>2021</td>\n",
       "      <td>11</td>\n",
       "      <td>27</td>\n",
       "    </tr>\n",
       "    <tr>\n",
       "      <th>2021-11-28</th>\n",
       "      <td>2.262</td>\n",
       "      <td>2.262</td>\n",
       "      <td>2.262</td>\n",
       "      <td>2.262</td>\n",
       "      <td>0.0000</td>\n",
       "      <td>2021</td>\n",
       "      <td>11</td>\n",
       "      <td>28</td>\n",
       "    </tr>\n",
       "    <tr>\n",
       "      <th>2021-11-29</th>\n",
       "      <td>2.265</td>\n",
       "      <td>2.272</td>\n",
       "      <td>2.323</td>\n",
       "      <td>2.251</td>\n",
       "      <td>0.0013</td>\n",
       "      <td>2021</td>\n",
       "      <td>11</td>\n",
       "      <td>29</td>\n",
       "    </tr>\n",
       "    <tr>\n",
       "      <th>2021-11-30</th>\n",
       "      <td>2.218</td>\n",
       "      <td>2.248</td>\n",
       "      <td>2.283</td>\n",
       "      <td>2.174</td>\n",
       "      <td>-0.0208</td>\n",
       "      <td>2021</td>\n",
       "      <td>11</td>\n",
       "      <td>30</td>\n",
       "    </tr>\n",
       "  </tbody>\n",
       "</table>\n",
       "<p>483 rows × 8 columns</p>\n",
       "</div>"
      ],
      "text/plain": [
       "            Close   Open   High    Low  Change  Year  Month  Day\n",
       "Date                                                            \n",
       "2000-11-01  8.150  8.150  8.150  8.150 -0.0085  2000     11    1\n",
       "2000-11-02  8.170  8.170  8.170  8.170  0.0025  2000     11    2\n",
       "2000-11-08  8.190  8.190  8.190  8.190  0.0024  2000     11    8\n",
       "2000-11-09  8.000  8.000  8.000  8.000 -0.0232  2000     11    9\n",
       "2000-11-13  7.570  7.570  7.570  7.570 -0.0537  2000     11   13\n",
       "...           ...    ...    ...    ...     ...   ...    ...  ...\n",
       "2021-11-26  2.253  2.310  2.316  2.216 -0.0401  2021     11   26\n",
       "2021-11-27  2.262  2.262  2.262  2.262  0.0040  2021     11   27\n",
       "2021-11-28  2.262  2.262  2.262  2.262  0.0000  2021     11   28\n",
       "2021-11-29  2.265  2.272  2.323  2.251  0.0013  2021     11   29\n",
       "2021-11-30  2.218  2.248  2.283  2.174 -0.0208  2021     11   30\n",
       "\n",
       "[483 rows x 8 columns]"
      ]
     },
     "execution_count": 22,
     "metadata": {},
     "output_type": "execute_result"
    }
   ],
   "source": [
    "# 조건식으로 이용하기 쉽다.\n",
    "df[df['Month']==11]"
   ]
  },
  {
   "cell_type": "code",
   "execution_count": 25,
   "id": "569b400a",
   "metadata": {
    "ExecuteTime": {
     "end_time": "2023-03-14T18:01:12.684753Z",
     "start_time": "2023-03-14T18:01:12.631192Z"
    }
   },
   "outputs": [
    {
     "data": {
      "text/html": [
       "<div>\n",
       "<style scoped>\n",
       "    .dataframe tbody tr th:only-of-type {\n",
       "        vertical-align: middle;\n",
       "    }\n",
       "\n",
       "    .dataframe tbody tr th {\n",
       "        vertical-align: top;\n",
       "    }\n",
       "\n",
       "    .dataframe thead th {\n",
       "        text-align: right;\n",
       "    }\n",
       "</style>\n",
       "<table border=\"1\" class=\"dataframe\">\n",
       "  <thead>\n",
       "    <tr style=\"text-align: right;\">\n",
       "      <th></th>\n",
       "      <th>Close</th>\n",
       "      <th>Open</th>\n",
       "      <th>High</th>\n",
       "      <th>Low</th>\n",
       "      <th>Change</th>\n",
       "      <th>Year</th>\n",
       "      <th>Month</th>\n",
       "      <th>Day</th>\n",
       "      <th>Condition</th>\n",
       "      <th>IndexNumber</th>\n",
       "    </tr>\n",
       "    <tr>\n",
       "      <th>Date</th>\n",
       "      <th></th>\n",
       "      <th></th>\n",
       "      <th></th>\n",
       "      <th></th>\n",
       "      <th></th>\n",
       "      <th></th>\n",
       "      <th></th>\n",
       "      <th></th>\n",
       "      <th></th>\n",
       "      <th></th>\n",
       "    </tr>\n",
       "  </thead>\n",
       "  <tbody>\n",
       "    <tr>\n",
       "      <th>2000-10-26</th>\n",
       "      <td>8.300</td>\n",
       "      <td>8.300</td>\n",
       "      <td>8.300</td>\n",
       "      <td>8.300</td>\n",
       "      <td>-0.0060</td>\n",
       "      <td>2000</td>\n",
       "      <td>10</td>\n",
       "      <td>26</td>\n",
       "      <td>1</td>\n",
       "      <td>0</td>\n",
       "    </tr>\n",
       "    <tr>\n",
       "      <th>2000-10-27</th>\n",
       "      <td>8.240</td>\n",
       "      <td>8.240</td>\n",
       "      <td>8.240</td>\n",
       "      <td>8.240</td>\n",
       "      <td>-0.0072</td>\n",
       "      <td>2000</td>\n",
       "      <td>10</td>\n",
       "      <td>27</td>\n",
       "      <td>0</td>\n",
       "      <td>1</td>\n",
       "    </tr>\n",
       "    <tr>\n",
       "      <th>2000-10-28</th>\n",
       "      <td>8.240</td>\n",
       "      <td>8.240</td>\n",
       "      <td>8.240</td>\n",
       "      <td>8.240</td>\n",
       "      <td>0.0000</td>\n",
       "      <td>2000</td>\n",
       "      <td>10</td>\n",
       "      <td>28</td>\n",
       "      <td>0</td>\n",
       "      <td>2</td>\n",
       "    </tr>\n",
       "    <tr>\n",
       "      <th>2000-10-30</th>\n",
       "      <td>8.220</td>\n",
       "      <td>8.220</td>\n",
       "      <td>8.220</td>\n",
       "      <td>8.220</td>\n",
       "      <td>-0.0024</td>\n",
       "      <td>2000</td>\n",
       "      <td>10</td>\n",
       "      <td>30</td>\n",
       "      <td>0</td>\n",
       "      <td>3</td>\n",
       "    </tr>\n",
       "    <tr>\n",
       "      <th>2000-11-01</th>\n",
       "      <td>8.150</td>\n",
       "      <td>8.150</td>\n",
       "      <td>8.150</td>\n",
       "      <td>8.150</td>\n",
       "      <td>-0.0085</td>\n",
       "      <td>2000</td>\n",
       "      <td>11</td>\n",
       "      <td>1</td>\n",
       "      <td>1</td>\n",
       "      <td>4</td>\n",
       "    </tr>\n",
       "    <tr>\n",
       "      <th>...</th>\n",
       "      <td>...</td>\n",
       "      <td>...</td>\n",
       "      <td>...</td>\n",
       "      <td>...</td>\n",
       "      <td>...</td>\n",
       "      <td>...</td>\n",
       "      <td>...</td>\n",
       "      <td>...</td>\n",
       "      <td>...</td>\n",
       "      <td>...</td>\n",
       "    </tr>\n",
       "    <tr>\n",
       "      <th>2021-12-24</th>\n",
       "      <td>2.210</td>\n",
       "      <td>2.188</td>\n",
       "      <td>2.220</td>\n",
       "      <td>2.185</td>\n",
       "      <td>-0.0023</td>\n",
       "      <td>2021</td>\n",
       "      <td>12</td>\n",
       "      <td>24</td>\n",
       "      <td>0</td>\n",
       "      <td>5577</td>\n",
       "    </tr>\n",
       "    <tr>\n",
       "      <th>2021-12-25</th>\n",
       "      <td>2.202</td>\n",
       "      <td>2.202</td>\n",
       "      <td>2.202</td>\n",
       "      <td>2.202</td>\n",
       "      <td>-0.0036</td>\n",
       "      <td>2021</td>\n",
       "      <td>12</td>\n",
       "      <td>25</td>\n",
       "      <td>0</td>\n",
       "      <td>5578</td>\n",
       "    </tr>\n",
       "    <tr>\n",
       "      <th>2021-12-26</th>\n",
       "      <td>2.202</td>\n",
       "      <td>2.202</td>\n",
       "      <td>2.202</td>\n",
       "      <td>2.202</td>\n",
       "      <td>0.0000</td>\n",
       "      <td>2021</td>\n",
       "      <td>12</td>\n",
       "      <td>26</td>\n",
       "      <td>0</td>\n",
       "      <td>5579</td>\n",
       "    </tr>\n",
       "    <tr>\n",
       "      <th>2021-12-27</th>\n",
       "      <td>2.212</td>\n",
       "      <td>2.204</td>\n",
       "      <td>2.219</td>\n",
       "      <td>2.196</td>\n",
       "      <td>0.0045</td>\n",
       "      <td>2021</td>\n",
       "      <td>12</td>\n",
       "      <td>27</td>\n",
       "      <td>0</td>\n",
       "      <td>5580</td>\n",
       "    </tr>\n",
       "    <tr>\n",
       "      <th>2021-12-28</th>\n",
       "      <td>2.196</td>\n",
       "      <td>2.213</td>\n",
       "      <td>2.221</td>\n",
       "      <td>2.196</td>\n",
       "      <td>-0.0072</td>\n",
       "      <td>2021</td>\n",
       "      <td>12</td>\n",
       "      <td>28</td>\n",
       "      <td>0</td>\n",
       "      <td>5581</td>\n",
       "    </tr>\n",
       "  </tbody>\n",
       "</table>\n",
       "<p>5582 rows × 10 columns</p>\n",
       "</div>"
      ],
      "text/plain": [
       "            Close   Open   High    Low  Change  Year  Month  Day  Condition  \\\n",
       "Date                                                                          \n",
       "2000-10-26  8.300  8.300  8.300  8.300 -0.0060  2000     10   26          1   \n",
       "2000-10-27  8.240  8.240  8.240  8.240 -0.0072  2000     10   27          0   \n",
       "2000-10-28  8.240  8.240  8.240  8.240  0.0000  2000     10   28          0   \n",
       "2000-10-30  8.220  8.220  8.220  8.220 -0.0024  2000     10   30          0   \n",
       "2000-11-01  8.150  8.150  8.150  8.150 -0.0085  2000     11    1          1   \n",
       "...           ...    ...    ...    ...     ...   ...    ...  ...        ...   \n",
       "2021-12-24  2.210  2.188  2.220  2.185 -0.0023  2021     12   24          0   \n",
       "2021-12-25  2.202  2.202  2.202  2.202 -0.0036  2021     12   25          0   \n",
       "2021-12-26  2.202  2.202  2.202  2.202  0.0000  2021     12   26          0   \n",
       "2021-12-27  2.212  2.204  2.219  2.196  0.0045  2021     12   27          0   \n",
       "2021-12-28  2.196  2.213  2.221  2.196 -0.0072  2021     12   28          0   \n",
       "\n",
       "            IndexNumber  \n",
       "Date                     \n",
       "2000-10-26            0  \n",
       "2000-10-27            1  \n",
       "2000-10-28            2  \n",
       "2000-10-30            3  \n",
       "2000-11-01            4  \n",
       "...                 ...  \n",
       "2021-12-24         5577  \n",
       "2021-12-25         5578  \n",
       "2021-12-26         5579  \n",
       "2021-12-27         5580  \n",
       "2021-12-28         5581  \n",
       "\n",
       "[5582 rows x 10 columns]"
      ]
     },
     "execution_count": 25,
     "metadata": {},
     "output_type": "execute_result"
    }
   ],
   "source": [
    "df['Condition'] = np.where(df['Month']== df['Month'].shift(1),0,1) # 한칸씩 당긴 값이 달라지면 월이 바뀌는 인덱스\n",
    "df"
   ]
  },
  {
   "cell_type": "code",
   "execution_count": 24,
   "id": "da5ced36",
   "metadata": {
    "ExecuteTime": {
     "end_time": "2023-03-14T18:00:47.086113Z",
     "start_time": "2023-03-14T18:00:47.066067Z"
    }
   },
   "outputs": [
    {
     "data": {
      "text/plain": [
       "array([  -1,    3,   12,   27,   41,   54,   64,   72,   85,   95,  111,\n",
       "        132,  151,  165,  175,  180,  190,  196,  205,  214,  220,  225,\n",
       "        232,  234,  243,  252,  265,  271,  277,  278,  284,  296,  306,\n",
       "        317,  334,  349,  360,  372,  382,  397,  408,  423,  448,  472,\n",
       "        495,  521,  547,  573,  596,  622,  648,  674,  699,  720,  746,\n",
       "        771,  794,  815,  836,  858,  879,  899,  921,  943,  964,  984,\n",
       "       1006, 1026, 1046, 1067, 1087, 1109, 1130, 1149, 1171, 1190, 1212,\n",
       "       1231, 1252, 1273, 1294, 1314, 1335, 1357, 1374, 1396, 1418, 1436,\n",
       "       1459, 1477, 1498, 1519, 1538, 1558, 1581, 1601, 1622, 1640, 1655,\n",
       "       1674, 1692, 1710, 1731, 1753, 1770, 1792, 1815, 1836, 1858, 1879,\n",
       "       1900, 1920, 1940, 1959, 1981, 2003, 2022, 2043, 2065, 2087, 2106,\n",
       "       2127, 2149, 2171, 2192, 2209, 2231, 2252, 2272, 2293, 2314, 2336,\n",
       "       2356, 2376, 2398, 2419, 2439, 2460, 2481, 2501, 2522, 2542, 2564,\n",
       "       2586, 2608, 2629, 2652, 2673, 2697, 2718, 2739, 2761, 2783, 2805,\n",
       "       2828, 2851, 2875, 2897, 2920, 2942, 2962, 2982, 3004, 3027, 3047,\n",
       "       3067, 3094, 3118, 3139, 3163, 3190, 3219, 3244, 3267, 3293, 3322,\n",
       "       3348, 3376, 3405, 3433, 3458, 3485, 3511, 3537, 3562, 3585, 3612,\n",
       "       3638, 3664, 3691, 3718, 3745, 3771, 3796, 3822, 3847, 3871, 3895,\n",
       "       3923, 3948, 3974, 4000, 4029, 4057, 4083, 4107, 4133, 4157, 4183,\n",
       "       4206, 4233, 4261, 4289, 4319, 4350, 4381, 4411, 4442, 4470, 4500,\n",
       "       4531, 4559, 4590, 4620, 4651, 4681, 4712, 4743, 4773, 4803, 4833,\n",
       "       4864, 4895, 4922, 4953, 4983, 5014, 5044, 5074, 5105, 5134, 5165,\n",
       "       5195, 5226, 5257, 5285, 5316, 5346, 5375, 5405, 5435, 5463, 5492,\n",
       "       5523, 5553], dtype=int64)"
      ]
     },
     "execution_count": 24,
     "metadata": {},
     "output_type": "execute_result"
    }
   ],
   "source": [
    "\n",
    "df['Condition'] == 1 # 월 바뀌는 일자\n",
    "index_condition_number = df[df['Condition'] == 1]['IndexNumber'].values - 1 # 월 말일의 numeric index\n",
    "index_condition_number "
   ]
  },
  {
   "cell_type": "code",
   "execution_count": 30,
   "id": "54706799",
   "metadata": {
    "ExecuteTime": {
     "end_time": "2023-03-14T18:05:54.718596Z",
     "start_time": "2023-03-14T18:05:54.696150Z"
    }
   },
   "outputs": [
    {
     "data": {
      "text/plain": [
       "Date\n",
       "2000-10-30         NaN\n",
       "2000-11-30   -0.057178\n",
       "2000-12-29   -0.063226\n",
       "2001-01-31   -0.097796\n",
       "2001-02-28    0.045802\n",
       "                ...   \n",
       "2021-07-31   -0.107553\n",
       "2021-08-31    0.024103\n",
       "2021-09-30    0.169979\n",
       "2021-10-31    0.145731\n",
       "2021-11-30   -0.134608\n",
       "Name: Close, Length: 254, dtype: float64"
      ]
     },
     "execution_count": 30,
     "metadata": {},
     "output_type": "execute_result"
    }
   ],
   "source": [
    "index_condition_number[1:] # -1번째 같은 무의미한 값은 제거\n",
    "df_condition = df.iloc[index_condition_number[1:]] # 말일의 행들\n",
    "df_monthly_return = df_condition['Close'].pct_change() # 말일 종가들의 수익률\n",
    "df_monthly_return"
   ]
  },
  {
   "cell_type": "code",
   "execution_count": 39,
   "id": "464de8a1",
   "metadata": {
    "ExecuteTime": {
     "end_time": "2023-03-14T18:13:48.097907Z",
     "start_time": "2023-03-14T18:13:47.751151Z"
    },
    "scrolled": true
   },
   "outputs": [
    {
     "data": {
      "text/plain": [
       "<Figure size 640x480 with 0 Axes>"
      ]
     },
     "metadata": {},
     "output_type": "display_data"
    },
    {
     "data": {
      "image/png": "[encoded data removed]",
      "text/plain": [
       "<Figure size 1500x600 with 1 Axes>"
      ]
     },
     "metadata": {},
     "output_type": "display_data"
    }
   ],
   "source": [
    "import matplotlib.pyplot as plt\n",
    "\n",
    "plt.figure()\n",
    "\n",
    "fig, ax = plt.subplots()\n",
    "\n",
    "df_monthly_return.plot(kind = 'line', ax = ax, figsize = (15,6))\n",
    "\n",
    "ax.axhline(0, linestyle = '--', color = 'red')\n",
    "\n",
    "ax.set(xlabel = \"Date\", ylabel = '10y rate', title = 'time series 10y')\n",
    "\n",
    "plt.show()"
   ]
  },
  {
   "cell_type": "markdown",
   "id": "77926d18",
   "metadata": {},
   "source": [
    "## Format"
   ]
  },
  {
   "cell_type": "markdown",
   "id": "548e64eb",
   "metadata": {},
   "source": [
    "* 내가 불러온 데이터 형식이 'str'로 되어있다면?"
   ]
  },
  {
   "cell_type": "code",
   "execution_count": 41,
   "id": "e4208058",
   "metadata": {
    "ExecuteTime": {
     "end_time": "2023-03-14T18:50:03.462556Z",
     "start_time": "2023-03-14T18:50:03.385028Z"
    },
    "scrolled": true
   },
   "outputs": [
    {
     "ename": "UnicodeDecodeError",
     "evalue": "'utf-8' codec can't decode byte 0xc0 in position 0: invalid start byte",
     "output_type": "error",
     "traceback": [
      "\u001b[1;31m---------------------------------------------------------------------------\u001b[0m",
      "\u001b[1;31mUnicodeDecodeError\u001b[0m                        Traceback (most recent call last)",
      "\u001b[1;32m~\\AppData\\Local\\Temp\\ipykernel_13080\\3477112522.py\u001b[0m in \u001b[0;36m<module>\u001b[1;34m\u001b[0m\n\u001b[1;32m----> 1\u001b[1;33m \u001b[0mdf\u001b[0m \u001b[1;33m=\u001b[0m \u001b[0mpd\u001b[0m\u001b[1;33m.\u001b[0m\u001b[0mread_csv\u001b[0m\u001b[1;33m(\u001b[0m\u001b[1;34m\"data.csv\"\u001b[0m\u001b[1;33m)\u001b[0m\u001b[1;33m\u001b[0m\u001b[1;33m\u001b[0m\u001b[0m\n\u001b[0m",
      "\u001b[1;32m~\\anaconda3\\lib\\site-packages\\pandas\\util\\_decorators.py\u001b[0m in \u001b[0;36mwrapper\u001b[1;34m(*args, **kwargs)\u001b[0m\n\u001b[0;32m    309\u001b[0m                     \u001b[0mstacklevel\u001b[0m\u001b[1;33m=\u001b[0m\u001b[0mstacklevel\u001b[0m\u001b[1;33m,\u001b[0m\u001b[1;33m\u001b[0m\u001b[1;33m\u001b[0m\u001b[0m\n\u001b[0;32m    310\u001b[0m                 )\n\u001b[1;32m--> 311\u001b[1;33m             \u001b[1;32mreturn\u001b[0m \u001b[0mfunc\u001b[0m\u001b[1;33m(\u001b[0m\u001b[1;33m*\u001b[0m\u001b[0margs\u001b[0m\u001b[1;33m,\u001b[0m \u001b[1;33m**\u001b[0m\u001b[0mkwargs\u001b[0m\u001b[1;33m)\u001b[0m\u001b[1;33m\u001b[0m\u001b[1;33m\u001b[0m\u001b[0m\n\u001b[0m\u001b[0;32m    312\u001b[0m \u001b[1;33m\u001b[0m\u001b[0m\n\u001b[0;32m    313\u001b[0m         \u001b[1;32mreturn\u001b[0m \u001b[0mwrapper\u001b[0m\u001b[1;33m\u001b[0m\u001b[1;33m\u001b[0m\u001b[0m\n",
      "\u001b[1;32m~\\anaconda3\\lib\\site-packages\\pandas\\io\\parsers\\readers.py\u001b[0m in \u001b[0;36mread_csv\u001b[1;34m(filepath_or_buffer, sep, delimiter, header, names, index_col, usecols, squeeze, prefix, mangle_dupe_cols, dtype, engine, converters, true_values, false_values, skipinitialspace, skiprows, skipfooter, nrows, na_values, keep_default_na, na_filter, verbose, skip_blank_lines, parse_dates, infer_datetime_format, keep_date_col, date_parser, dayfirst, cache_dates, iterator, chunksize, compression, thousands, decimal, lineterminator, quotechar, quoting, doublequote, escapechar, comment, encoding, encoding_errors, dialect, error_bad_lines, warn_bad_lines, on_bad_lines, delim_whitespace, low_memory, memory_map, float_precision, storage_options)\u001b[0m\n\u001b[0;32m    676\u001b[0m     \u001b[0mkwds\u001b[0m\u001b[1;33m.\u001b[0m\u001b[0mupdate\u001b[0m\u001b[1;33m(\u001b[0m\u001b[0mkwds_defaults\u001b[0m\u001b[1;33m)\u001b[0m\u001b[1;33m\u001b[0m\u001b[1;33m\u001b[0m\u001b[0m\n\u001b[0;32m    677\u001b[0m \u001b[1;33m\u001b[0m\u001b[0m\n\u001b[1;32m--> 678\u001b[1;33m     \u001b[1;32mreturn\u001b[0m \u001b[0m_read\u001b[0m\u001b[1;33m(\u001b[0m\u001b[0mfilepath_or_buffer\u001b[0m\u001b[1;33m,\u001b[0m \u001b[0mkwds\u001b[0m\u001b[1;33m)\u001b[0m\u001b[1;33m\u001b[0m\u001b[1;33m\u001b[0m\u001b[0m\n\u001b[0m\u001b[0;32m    679\u001b[0m \u001b[1;33m\u001b[0m\u001b[0m\n\u001b[0;32m    680\u001b[0m \u001b[1;33m\u001b[0m\u001b[0m\n",
      "\u001b[1;32m~\\anaconda3\\lib\\site-packages\\pandas\\io\\parsers\\readers.py\u001b[0m in \u001b[0;36m_read\u001b[1;34m(filepath_or_buffer, kwds)\u001b[0m\n\u001b[0;32m    573\u001b[0m \u001b[1;33m\u001b[0m\u001b[0m\n\u001b[0;32m    574\u001b[0m     \u001b[1;31m# Create the parser.\u001b[0m\u001b[1;33m\u001b[0m\u001b[1;33m\u001b[0m\u001b[0m\n\u001b[1;32m--> 575\u001b[1;33m     \u001b[0mparser\u001b[0m \u001b[1;33m=\u001b[0m \u001b[0mTextFileReader\u001b[0m\u001b[1;33m(\u001b[0m\u001b[0mfilepath_or_buffer\u001b[0m\u001b[1;33m,\u001b[0m \u001b[1;33m**\u001b[0m\u001b[0mkwds\u001b[0m\u001b[1;33m)\u001b[0m\u001b[1;33m\u001b[0m\u001b[1;33m\u001b[0m\u001b[0m\n\u001b[0m\u001b[0;32m    576\u001b[0m \u001b[1;33m\u001b[0m\u001b[0m\n\u001b[0;32m    577\u001b[0m     \u001b[1;32mif\u001b[0m \u001b[0mchunksize\u001b[0m \u001b[1;32mor\u001b[0m \u001b[0miterator\u001b[0m\u001b[1;33m:\u001b[0m\u001b[1;33m\u001b[0m\u001b[1;33m\u001b[0m\u001b[0m\n",
      "\u001b[1;32m~\\anaconda3\\lib\\site-packages\\pandas\\io\\parsers\\readers.py\u001b[0m in \u001b[0;36m__init__\u001b[1;34m(self, f, engine, **kwds)\u001b[0m\n\u001b[0;32m    930\u001b[0m \u001b[1;33m\u001b[0m\u001b[0m\n\u001b[0;32m    931\u001b[0m         \u001b[0mself\u001b[0m\u001b[1;33m.\u001b[0m\u001b[0mhandles\u001b[0m\u001b[1;33m:\u001b[0m \u001b[0mIOHandles\u001b[0m \u001b[1;33m|\u001b[0m \u001b[1;32mNone\u001b[0m \u001b[1;33m=\u001b[0m \u001b[1;32mNone\u001b[0m\u001b[1;33m\u001b[0m\u001b[1;33m\u001b[0m\u001b[0m\n\u001b[1;32m--> 932\u001b[1;33m         \u001b[0mself\u001b[0m\u001b[1;33m.\u001b[0m\u001b[0m_engine\u001b[0m \u001b[1;33m=\u001b[0m \u001b[0mself\u001b[0m\u001b[1;33m.\u001b[0m\u001b[0m_make_engine\u001b[0m\u001b[1;33m(\u001b[0m\u001b[0mf\u001b[0m\u001b[1;33m,\u001b[0m \u001b[0mself\u001b[0m\u001b[1;33m.\u001b[0m\u001b[0mengine\u001b[0m\u001b[1;33m)\u001b[0m\u001b[1;33m\u001b[0m\u001b[1;33m\u001b[0m\u001b[0m\n\u001b[0m\u001b[0;32m    933\u001b[0m \u001b[1;33m\u001b[0m\u001b[0m\n\u001b[0;32m    934\u001b[0m     \u001b[1;32mdef\u001b[0m \u001b[0mclose\u001b[0m\u001b[1;33m(\u001b[0m\u001b[0mself\u001b[0m\u001b[1;33m)\u001b[0m\u001b[1;33m:\u001b[0m\u001b[1;33m\u001b[0m\u001b[1;33m\u001b[0m\u001b[0m\n",
      "\u001b[1;32m~\\anaconda3\\lib\\site-packages\\pandas\\io\\parsers\\readers.py\u001b[0m in \u001b[0;36m_make_engine\u001b[1;34m(self, f, engine)\u001b[0m\n\u001b[0;32m   1232\u001b[0m \u001b[1;33m\u001b[0m\u001b[0m\n\u001b[0;32m   1233\u001b[0m         \u001b[1;32mtry\u001b[0m\u001b[1;33m:\u001b[0m\u001b[1;33m\u001b[0m\u001b[1;33m\u001b[0m\u001b[0m\n\u001b[1;32m-> 1234\u001b[1;33m             \u001b[1;32mreturn\u001b[0m \u001b[0mmapping\u001b[0m\u001b[1;33m[\u001b[0m\u001b[0mengine\u001b[0m\u001b[1;33m]\u001b[0m\u001b[1;33m(\u001b[0m\u001b[0mf\u001b[0m\u001b[1;33m,\u001b[0m \u001b[1;33m**\u001b[0m\u001b[0mself\u001b[0m\u001b[1;33m.\u001b[0m\u001b[0moptions\u001b[0m\u001b[1;33m)\u001b[0m\u001b[1;33m\u001b[0m\u001b[1;33m\u001b[0m\u001b[0m\n\u001b[0m\u001b[0;32m   1235\u001b[0m         \u001b[1;32mexcept\u001b[0m \u001b[0mException\u001b[0m\u001b[1;33m:\u001b[0m\u001b[1;33m\u001b[0m\u001b[1;33m\u001b[0m\u001b[0m\n\u001b[0;32m   1236\u001b[0m             \u001b[1;32mif\u001b[0m \u001b[0mself\u001b[0m\u001b[1;33m.\u001b[0m\u001b[0mhandles\u001b[0m \u001b[1;32mis\u001b[0m \u001b[1;32mnot\u001b[0m \u001b[1;32mNone\u001b[0m\u001b[1;33m:\u001b[0m\u001b[1;33m\u001b[0m\u001b[1;33m\u001b[0m\u001b[0m\n",
      "\u001b[1;32m~\\anaconda3\\lib\\site-packages\\pandas\\io\\parsers\\c_parser_wrapper.py\u001b[0m in \u001b[0;36m__init__\u001b[1;34m(self, src, **kwds)\u001b[0m\n\u001b[0;32m     73\u001b[0m \u001b[1;33m\u001b[0m\u001b[0m\n\u001b[0;32m     74\u001b[0m         \u001b[0mkwds\u001b[0m\u001b[1;33m[\u001b[0m\u001b[1;34m\"dtype\"\u001b[0m\u001b[1;33m]\u001b[0m \u001b[1;33m=\u001b[0m \u001b[0mensure_dtype_objs\u001b[0m\u001b[1;33m(\u001b[0m\u001b[0mkwds\u001b[0m\u001b[1;33m.\u001b[0m\u001b[0mget\u001b[0m\u001b[1;33m(\u001b[0m\u001b[1;34m\"dtype\"\u001b[0m\u001b[1;33m,\u001b[0m \u001b[1;32mNone\u001b[0m\u001b[1;33m)\u001b[0m\u001b[1;33m)\u001b[0m\u001b[1;33m\u001b[0m\u001b[1;33m\u001b[0m\u001b[0m\n\u001b[1;32m---> 75\u001b[1;33m         \u001b[0mself\u001b[0m\u001b[1;33m.\u001b[0m\u001b[0m_reader\u001b[0m \u001b[1;33m=\u001b[0m \u001b[0mparsers\u001b[0m\u001b[1;33m.\u001b[0m\u001b[0mTextReader\u001b[0m\u001b[1;33m(\u001b[0m\u001b[0msrc\u001b[0m\u001b[1;33m,\u001b[0m \u001b[1;33m**\u001b[0m\u001b[0mkwds\u001b[0m\u001b[1;33m)\u001b[0m\u001b[1;33m\u001b[0m\u001b[1;33m\u001b[0m\u001b[0m\n\u001b[0m\u001b[0;32m     76\u001b[0m \u001b[1;33m\u001b[0m\u001b[0m\n\u001b[0;32m     77\u001b[0m         \u001b[0mself\u001b[0m\u001b[1;33m.\u001b[0m\u001b[0munnamed_cols\u001b[0m \u001b[1;33m=\u001b[0m \u001b[0mself\u001b[0m\u001b[1;33m.\u001b[0m\u001b[0m_reader\u001b[0m\u001b[1;33m.\u001b[0m\u001b[0munnamed_cols\u001b[0m\u001b[1;33m\u001b[0m\u001b[1;33m\u001b[0m\u001b[0m\n",
      "\u001b[1;32m~\\anaconda3\\lib\\site-packages\\pandas\\_libs\\parsers.pyx\u001b[0m in \u001b[0;36mpandas._libs.parsers.TextReader.__cinit__\u001b[1;34m()\u001b[0m\n",
      "\u001b[1;32m~\\anaconda3\\lib\\site-packages\\pandas\\_libs\\parsers.pyx\u001b[0m in \u001b[0;36mpandas._libs.parsers.TextReader._get_header\u001b[1;34m()\u001b[0m\n",
      "\u001b[1;32m~\\anaconda3\\lib\\site-packages\\pandas\\_libs\\parsers.pyx\u001b[0m in \u001b[0;36mpandas._libs.parsers.TextReader._tokenize_rows\u001b[1;34m()\u001b[0m\n",
      "\u001b[1;32m~\\anaconda3\\lib\\site-packages\\pandas\\_libs\\parsers.pyx\u001b[0m in \u001b[0;36mpandas._libs.parsers.raise_parser_error\u001b[1;34m()\u001b[0m\n",
      "\u001b[1;31mUnicodeDecodeError\u001b[0m: 'utf-8' codec can't decode byte 0xc0 in position 0: invalid start byte"
     ]
    }
   ],
   "source": [
    "df = pd.read_csv(\"data.csv\")"
   ]
  },
  {
   "cell_type": "code",
   "execution_count": 43,
   "id": "198c880e",
   "metadata": {
    "ExecuteTime": {
     "end_time": "2023-03-14T18:50:11.354384Z",
     "start_time": "2023-03-14T18:50:11.309578Z"
    },
    "scrolled": true
   },
   "outputs": [
    {
     "data": {
      "text/html": [
       "<div>\n",
       "<style scoped>\n",
       "    .dataframe tbody tr th:only-of-type {\n",
       "        vertical-align: middle;\n",
       "    }\n",
       "\n",
       "    .dataframe tbody tr th {\n",
       "        vertical-align: top;\n",
       "    }\n",
       "\n",
       "    .dataframe thead th {\n",
       "        text-align: right;\n",
       "    }\n",
       "</style>\n",
       "<table border=\"1\" class=\"dataframe\">\n",
       "  <thead>\n",
       "    <tr style=\"text-align: right;\">\n",
       "      <th></th>\n",
       "      <th>일자</th>\n",
       "      <th>종가</th>\n",
       "      <th>대비</th>\n",
       "      <th>등락률</th>\n",
       "      <th>시가</th>\n",
       "      <th>고가</th>\n",
       "      <th>저가</th>\n",
       "      <th>거래량</th>\n",
       "      <th>거래대금</th>\n",
       "      <th>가중평균</th>\n",
       "    </tr>\n",
       "  </thead>\n",
       "  <tbody>\n",
       "    <tr>\n",
       "      <th>0</th>\n",
       "      <td>2022-01-06</td>\n",
       "      <td>35,050</td>\n",
       "      <td>0</td>\n",
       "      <td>0.00</td>\n",
       "      <td>0</td>\n",
       "      <td>0</td>\n",
       "      <td>0</td>\n",
       "      <td>0</td>\n",
       "      <td>0</td>\n",
       "      <td>0</td>\n",
       "    </tr>\n",
       "    <tr>\n",
       "      <th>1</th>\n",
       "      <td>2022-01-05</td>\n",
       "      <td>35,050</td>\n",
       "      <td>-50</td>\n",
       "      <td>-0.14</td>\n",
       "      <td>35,250</td>\n",
       "      <td>35,300</td>\n",
       "      <td>35,050</td>\n",
       "      <td>8,000</td>\n",
       "      <td>281,875,000</td>\n",
       "      <td>35,234</td>\n",
       "    </tr>\n",
       "    <tr>\n",
       "      <th>2</th>\n",
       "      <td>2022-01-04</td>\n",
       "      <td>35,100</td>\n",
       "      <td>0</td>\n",
       "      <td>0.00</td>\n",
       "      <td>35,100</td>\n",
       "      <td>35,200</td>\n",
       "      <td>35,100</td>\n",
       "      <td>4,800</td>\n",
       "      <td>168,580,000</td>\n",
       "      <td>35,121</td>\n",
       "    </tr>\n",
       "    <tr>\n",
       "      <th>3</th>\n",
       "      <td>2022-01-03</td>\n",
       "      <td>35,100</td>\n",
       "      <td>0</td>\n",
       "      <td>0.00</td>\n",
       "      <td>35,100</td>\n",
       "      <td>35,100</td>\n",
       "      <td>35,100</td>\n",
       "      <td>4,200</td>\n",
       "      <td>147,420,000</td>\n",
       "      <td>35,100</td>\n",
       "    </tr>\n",
       "    <tr>\n",
       "      <th>4</th>\n",
       "      <td>2021-12-30</td>\n",
       "      <td>35,100</td>\n",
       "      <td>50</td>\n",
       "      <td>0.14</td>\n",
       "      <td>35,100</td>\n",
       "      <td>35,150</td>\n",
       "      <td>35,050</td>\n",
       "      <td>48,348</td>\n",
       "      <td>1,697,057,400</td>\n",
       "      <td>35,101</td>\n",
       "    </tr>\n",
       "    <tr>\n",
       "      <th>...</th>\n",
       "      <td>...</td>\n",
       "      <td>...</td>\n",
       "      <td>...</td>\n",
       "      <td>...</td>\n",
       "      <td>...</td>\n",
       "      <td>...</td>\n",
       "      <td>...</td>\n",
       "      <td>...</td>\n",
       "      <td>...</td>\n",
       "      <td>...</td>\n",
       "    </tr>\n",
       "    <tr>\n",
       "      <th>245</th>\n",
       "      <td>2021-01-12</td>\n",
       "      <td>19,800</td>\n",
       "      <td>0</td>\n",
       "      <td>0.00</td>\n",
       "      <td>0</td>\n",
       "      <td>0</td>\n",
       "      <td>0</td>\n",
       "      <td>0</td>\n",
       "      <td>0</td>\n",
       "      <td>0</td>\n",
       "    </tr>\n",
       "    <tr>\n",
       "      <th>246</th>\n",
       "      <td>2021-01-11</td>\n",
       "      <td>19,800</td>\n",
       "      <td>0</td>\n",
       "      <td>0.00</td>\n",
       "      <td>0</td>\n",
       "      <td>0</td>\n",
       "      <td>0</td>\n",
       "      <td>0</td>\n",
       "      <td>0</td>\n",
       "      <td>0</td>\n",
       "    </tr>\n",
       "    <tr>\n",
       "      <th>247</th>\n",
       "      <td>2021-01-08</td>\n",
       "      <td>23,000</td>\n",
       "      <td>0</td>\n",
       "      <td>0.00</td>\n",
       "      <td>0</td>\n",
       "      <td>0</td>\n",
       "      <td>0</td>\n",
       "      <td>0</td>\n",
       "      <td>0</td>\n",
       "      <td>0</td>\n",
       "    </tr>\n",
       "    <tr>\n",
       "      <th>248</th>\n",
       "      <td>2021-01-07</td>\n",
       "      <td>23,000</td>\n",
       "      <td>0</td>\n",
       "      <td>0.00</td>\n",
       "      <td>0</td>\n",
       "      <td>0</td>\n",
       "      <td>0</td>\n",
       "      <td>0</td>\n",
       "      <td>0</td>\n",
       "      <td>0</td>\n",
       "    </tr>\n",
       "    <tr>\n",
       "      <th>249</th>\n",
       "      <td>2021-01-06</td>\n",
       "      <td>23,000</td>\n",
       "      <td>0</td>\n",
       "      <td>0.00</td>\n",
       "      <td>0</td>\n",
       "      <td>0</td>\n",
       "      <td>0</td>\n",
       "      <td>0</td>\n",
       "      <td>0</td>\n",
       "      <td>0</td>\n",
       "    </tr>\n",
       "  </tbody>\n",
       "</table>\n",
       "<p>250 rows × 10 columns</p>\n",
       "</div>"
      ],
      "text/plain": [
       "             일자      종가  대비   등락률      시가      고가      저가     거래량  \\\n",
       "0    2022-01-06  35,050   0  0.00       0       0       0       0   \n",
       "1    2022-01-05  35,050 -50 -0.14  35,250  35,300  35,050   8,000   \n",
       "2    2022-01-04  35,100   0  0.00  35,100  35,200  35,100   4,800   \n",
       "3    2022-01-03  35,100   0  0.00  35,100  35,100  35,100   4,200   \n",
       "4    2021-12-30  35,100  50  0.14  35,100  35,150  35,050  48,348   \n",
       "..          ...     ...  ..   ...     ...     ...     ...     ...   \n",
       "245  2021-01-12  19,800   0  0.00       0       0       0       0   \n",
       "246  2021-01-11  19,800   0  0.00       0       0       0       0   \n",
       "247  2021-01-08  23,000   0  0.00       0       0       0       0   \n",
       "248  2021-01-07  23,000   0  0.00       0       0       0       0   \n",
       "249  2021-01-06  23,000   0  0.00       0       0       0       0   \n",
       "\n",
       "              거래대금    가중평균  \n",
       "0                0       0  \n",
       "1      281,875,000  35,234  \n",
       "2      168,580,000  35,121  \n",
       "3      147,420,000  35,100  \n",
       "4    1,697,057,400  35,101  \n",
       "..             ...     ...  \n",
       "245              0       0  \n",
       "246              0       0  \n",
       "247              0       0  \n",
       "248              0       0  \n",
       "249              0       0  \n",
       "\n",
       "[250 rows x 10 columns]"
      ]
     },
     "execution_count": 43,
     "metadata": {},
     "output_type": "execute_result"
    }
   ],
   "source": [
    "df = pd.read_csv(\"data.csv\", encoding = 'cp949')\n",
    "df"
   ]
  },
  {
   "cell_type": "markdown",
   "id": "c7b027af",
   "metadata": {},
   "source": [
    "### numeric 변환"
   ]
  },
  {
   "cell_type": "code",
   "execution_count": 45,
   "id": "2d6e62fa",
   "metadata": {
    "ExecuteTime": {
     "end_time": "2023-03-14T18:51:58.528111Z",
     "start_time": "2023-03-14T18:51:58.506035Z"
    }
   },
   "outputs": [
    {
     "ename": "TypeError",
     "evalue": "unsupported operand type(s) for +: 'int' and 'str'",
     "output_type": "error",
     "traceback": [
      "\u001b[1;31m---------------------------------------------------------------------------\u001b[0m",
      "\u001b[1;31mTypeError\u001b[0m                                 Traceback (most recent call last)",
      "\u001b[1;32m~\\AppData\\Local\\Temp\\ipykernel_13080\\4129407505.py\u001b[0m in \u001b[0;36m<module>\u001b[1;34m\u001b[0m\n\u001b[1;32m----> 1\u001b[1;33m \u001b[0msum\u001b[0m\u001b[1;33m(\u001b[0m\u001b[0mdf\u001b[0m\u001b[1;33m[\u001b[0m\u001b[1;34m'종가'\u001b[0m\u001b[1;33m]\u001b[0m\u001b[1;33m)\u001b[0m\u001b[1;33m\u001b[0m\u001b[1;33m\u001b[0m\u001b[0m\n\u001b[0m",
      "\u001b[1;31mTypeError\u001b[0m: unsupported operand type(s) for +: 'int' and 'str'"
     ]
    }
   ],
   "source": [
    "sum(df['종가']) # 잘못"
   ]
  },
  {
   "cell_type": "code",
   "execution_count": 47,
   "id": "2bfc4de3",
   "metadata": {
    "ExecuteTime": {
     "end_time": "2023-03-14T18:52:24.516271Z",
     "start_time": "2023-03-14T18:52:24.508322Z"
    }
   },
   "outputs": [
    {
     "data": {
      "text/plain": [
       "'35,05035,05035,10035,10035,10035,05035,00034,90035,00035,10035,10035,35035,25035,00034,00035,00034,90034,90034,90034,10033,30032,50032,20032,40032,40032,40033,60033,55033,40033,20032,00030,00030,10030,00031,90033,00033,60034,10033,10032,70032,10031,90031,50031,20031,00030,90030,80030,60030,40029,95030,20030,30030,10030,45030,90030,60030,65030,40030,20030,10029,60030,10030,10029,60030,00031,00031,00030,50029,75029,75029,10029,20029,00028,40028,50028,50028,20028,20028,50030,00029,00028,50028,00028,00028,00027,70028,00028,40028,20028,30029,50029,40027,00026,10027,00025,60026,00026,00026,00026,40024,00022,15022,15022,15022,15021,70021,30020,85020,70020,50020,10020,10020,10020,10020,10020,10020,10020,10020,10020,10020,10020,10020,00019,00019,45017,70019,35017,60017,75016,15016,80015,30013,95012,70011,55014,40013,10014,30015,80016,95019,70019,70019,70019,70019,70017,95016,35014,90015,00015,35017,05019,30019,25017,50017,00017,00019,10019,00019,00019,00018,00018,00017,80017,80017,60017,50017,20017,20017,20019,90019,90019,90019,90017,75017,75015,65015,65015,60015,55015,40015,40015,40015,40015,40015,40015,40015,40015,40018,00018,00018,00020,15020,15020,20020,20020,00020,00020,00020,00020,00020,00020,00020,00019,00018,90018,90018,90018,90018,90018,90018,90018,90018,90018,90018,90018,90018,90018,90018,90018,90018,90018,90018,90018,90018,90018,90018,90018,90018,90018,90022,00022,00020,10022,55022,50021,50021,00020,90017,15017,15017,15017,15017,15017,15019,80019,80019,80023,00023,00023,000'"
      ]
     },
     "execution_count": 47,
     "metadata": {},
     "output_type": "execute_result"
    }
   ],
   "source": [
    "df['종가'].sum() # String concat이 수행됨"
   ]
  },
  {
   "cell_type": "code",
   "execution_count": 48,
   "id": "ff7c794b",
   "metadata": {
    "ExecuteTime": {
     "end_time": "2023-03-14T18:52:51.847012Z",
     "start_time": "2023-03-14T18:52:51.793315Z"
    }
   },
   "outputs": [
    {
     "name": "stdout",
     "output_type": "stream",
     "text": [
      "<class 'pandas.core.frame.DataFrame'>\n",
      "RangeIndex: 250 entries, 0 to 249\n",
      "Data columns (total 10 columns):\n",
      " #   Column  Non-Null Count  Dtype  \n",
      "---  ------  --------------  -----  \n",
      " 0   일자      250 non-null    object \n",
      " 1   종가      250 non-null    object \n",
      " 2   대비      250 non-null    int64  \n",
      " 3   등락률     250 non-null    float64\n",
      " 4   시가      250 non-null    object \n",
      " 5   고가      250 non-null    object \n",
      " 6   저가      250 non-null    object \n",
      " 7   거래량     250 non-null    object \n",
      " 8   거래대금    250 non-null    object \n",
      " 9   가중평균    250 non-null    object \n",
      "dtypes: float64(1), int64(1), object(8)\n",
      "memory usage: 19.7+ KB\n"
     ]
    }
   ],
   "source": [
    "df.info()"
   ]
  },
  {
   "cell_type": "code",
   "execution_count": 50,
   "id": "237b93c6",
   "metadata": {
    "ExecuteTime": {
     "end_time": "2023-03-14T18:53:40.803858Z",
     "start_time": "2023-03-14T18:53:40.793917Z"
    }
   },
   "outputs": [
    {
     "data": {
      "text/plain": [
       "'35,050'"
      ]
     },
     "execution_count": 50,
     "metadata": {},
     "output_type": "execute_result"
    }
   ],
   "source": [
    "df['종가'][0]"
   ]
  },
  {
   "cell_type": "code",
   "execution_count": 51,
   "id": "63d0257e",
   "metadata": {
    "ExecuteTime": {
     "end_time": "2023-03-14T18:53:44.351068Z",
     "start_time": "2023-03-14T18:53:44.331153Z"
    },
    "scrolled": true
   },
   "outputs": [
    {
     "ename": "ValueError",
     "evalue": "invalid literal for int() with base 10: '35,050'",
     "output_type": "error",
     "traceback": [
      "\u001b[1;31m---------------------------------------------------------------------------\u001b[0m",
      "\u001b[1;31mValueError\u001b[0m                                Traceback (most recent call last)",
      "\u001b[1;32m~\\AppData\\Local\\Temp\\ipykernel_13080\\3944551940.py\u001b[0m in \u001b[0;36m<module>\u001b[1;34m\u001b[0m\n\u001b[1;32m----> 1\u001b[1;33m \u001b[0mint\u001b[0m\u001b[1;33m(\u001b[0m\u001b[0mdf\u001b[0m\u001b[1;33m[\u001b[0m\u001b[1;34m'종가'\u001b[0m\u001b[1;33m]\u001b[0m\u001b[1;33m[\u001b[0m\u001b[1;36m0\u001b[0m\u001b[1;33m]\u001b[0m\u001b[1;33m)\u001b[0m\u001b[1;33m\u001b[0m\u001b[1;33m\u001b[0m\u001b[0m\n\u001b[0m",
      "\u001b[1;31mValueError\u001b[0m: invalid literal for int() with base 10: '35,050'"
     ]
    }
   ],
   "source": [
    "int(df['종가'][0])"
   ]
  },
  {
   "cell_type": "markdown",
   "id": "cdf7cc1d",
   "metadata": {},
   "source": [
    "#### 함수 정의"
   ]
  },
  {
   "cell_type": "code",
   "execution_count": 54,
   "id": "d95c030c",
   "metadata": {
    "ExecuteTime": {
     "end_time": "2023-03-14T18:56:43.807100Z",
     "start_time": "2023-03-14T18:56:43.786810Z"
    }
   },
   "outputs": [
    {
     "name": "stdout",
     "output_type": "stream",
     "text": [
      "<class 'pandas.core.frame.DataFrame'>\n",
      "RangeIndex: 250 entries, 0 to 249\n",
      "Data columns (total 10 columns):\n",
      " #   Column  Non-Null Count  Dtype  \n",
      "---  ------  --------------  -----  \n",
      " 0   일자      250 non-null    object \n",
      " 1   종가      250 non-null    int64  \n",
      " 2   대비      250 non-null    int64  \n",
      " 3   등락률     250 non-null    float64\n",
      " 4   시가      250 non-null    object \n",
      " 5   고가      250 non-null    object \n",
      " 6   저가      250 non-null    object \n",
      " 7   거래량     250 non-null    object \n",
      " 8   거래대금    250 non-null    object \n",
      " 9   가중평균    250 non-null    object \n",
      "dtypes: float64(1), int64(2), object(7)\n",
      "memory usage: 19.7+ KB\n"
     ]
    }
   ],
   "source": [
    "lst = []\n",
    "\n",
    "for i in range(df.shape[0]):\n",
    "    \n",
    "    value = df['종가'][i]\n",
    "    value_change = int(value.replace(',',''))\n",
    "    lst.append(value_change)\n",
    "    \n",
    "df['종가'] = lst\n",
    "df\n",
    "df.info()"
   ]
  },
  {
   "cell_type": "markdown",
   "id": "e73185a8",
   "metadata": {},
   "source": [
    "#### inline"
   ]
  },
  {
   "cell_type": "code",
   "execution_count": 56,
   "id": "fec5fb6a",
   "metadata": {
    "ExecuteTime": {
     "end_time": "2023-03-14T18:58:10.284761Z",
     "start_time": "2023-03-14T18:58:10.253634Z"
    },
    "scrolled": true
   },
   "outputs": [
    {
     "name": "stdout",
     "output_type": "stream",
     "text": [
      "<class 'pandas.core.frame.DataFrame'>\n",
      "RangeIndex: 250 entries, 0 to 249\n",
      "Data columns (total 10 columns):\n",
      " #   Column  Non-Null Count  Dtype  \n",
      "---  ------  --------------  -----  \n",
      " 0   일자      250 non-null    object \n",
      " 1   종가      250 non-null    int64  \n",
      " 2   대비      250 non-null    int64  \n",
      " 3   등락률     250 non-null    float64\n",
      " 4   시가      250 non-null    object \n",
      " 5   고가      250 non-null    object \n",
      " 6   저가      250 non-null    object \n",
      " 7   거래량     250 non-null    object \n",
      " 8   거래대금    250 non-null    object \n",
      " 9   가중평균    250 non-null    object \n",
      "dtypes: float64(1), int64(2), object(7)\n",
      "memory usage: 19.7+ KB\n"
     ]
    }
   ],
   "source": [
    "df = pd.read_csv(\"data.csv\", encoding = 'cp949')\n",
    "df['종가'] = [int(value.replace(',','')) for value in df['종가']]\n",
    "df\n",
    "df.info()\n"
   ]
  },
  {
   "cell_type": "markdown",
   "id": "cf97d60e",
   "metadata": {},
   "source": [
    "#### read 함수에서 처리"
   ]
  },
  {
   "cell_type": "code",
   "execution_count": 58,
   "id": "60acea39",
   "metadata": {
    "ExecuteTime": {
     "end_time": "2023-03-14T19:00:18.385627Z",
     "start_time": "2023-03-14T19:00:18.358717Z"
    }
   },
   "outputs": [
    {
     "name": "stdout",
     "output_type": "stream",
     "text": [
      "<class 'pandas.core.frame.DataFrame'>\n",
      "RangeIndex: 250 entries, 0 to 249\n",
      "Data columns (total 10 columns):\n",
      " #   Column  Non-Null Count  Dtype  \n",
      "---  ------  --------------  -----  \n",
      " 0   일자      250 non-null    object \n",
      " 1   종가      250 non-null    int64  \n",
      " 2   대비      250 non-null    int64  \n",
      " 3   등락률     250 non-null    float64\n",
      " 4   시가      250 non-null    int64  \n",
      " 5   고가      250 non-null    int64  \n",
      " 6   저가      250 non-null    int64  \n",
      " 7   거래량     250 non-null    int64  \n",
      " 8   거래대금    250 non-null    int64  \n",
      " 9   가중평균    250 non-null    int64  \n",
      "dtypes: float64(1), int64(8), object(1)\n",
      "memory usage: 19.7+ KB\n"
     ]
    }
   ],
   "source": [
    "df = pd.read_csv(\"data.csv\", encoding = 'cp949', thousands = ',')\n",
    "df.info()"
   ]
  }
 ],
 "metadata": {
  "hide_input": false,
  "kernelspec": {
   "display_name": "Python 3 (ipykernel)",
   "language": "python",
   "name": "python3"
  },
  "language_info": {
   "codemirror_mode": {
    "name": "ipython",
    "version": 3
   },
   "file_extension": ".py",
   "mimetype": "text/x-python",
   "name": "python",
   "nbconvert_exporter": "python",
   "pygments_lexer": "ipython3",
   "version": "3.9.13"
  },
  "toc": {
   "base_numbering": 1,
   "nav_menu": {},
   "number_sections": true,
   "sideBar": true,
   "skip_h1_title": false,
   "title_cell": "Table of Contents",
   "title_sidebar": "Contents",
   "toc_cell": false,
   "toc_position": {},
   "toc_section_display": true,
   "toc_window_display": true
  },
  "varInspector": {
   "cols": {
    "lenName": 16,
    "lenType": 16,
    "lenVar": 40
   },
   "kernels_config": {
    "python": {
     "delete_cmd_postfix": "",
     "delete_cmd_prefix": "del ",
     "library": "var_list.py",
     "varRefreshCmd": "print(var_dic_list())"
    },
    "r": {
     "delete_cmd_postfix": ") ",
     "delete_cmd_prefix": "rm(",
     "library": "var_list.r",
     "varRefreshCmd": "cat(var_dic_list()) "
    }
   },
   "types_to_exclude": [
    "module",
    "function",
    "builtin_function_or_method",
    "instance",
    "_Feature"
   ],
   "window_display": false
  }
 },
 "nbformat": 4,
 "nbformat_minor": 5
}
